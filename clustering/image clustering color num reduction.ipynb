{
 "cells": [
  {
   "cell_type": "code",
   "execution_count": null,
   "metadata": {},
   "outputs": [],
   "source": [
    "\n",
    "from sklearn.datasetsimportload_digits\n",
    "digits=load_digits()\n",
    "fromsklearn.datasetsimportload_breast_cancer\n",
    "breast_cancer=load_breast_cancer()\n",
    "\n",
    "fromsklearn.cross_validationimportcross_val_score\n",
    "fromsklearn.naive_bayesimportBernoulliNB,MultinomialNB,GaussianNB\n",
    "\n",
    "b_NB=BernoulliNB()\n",
    "m_NB=MultinomialNB()\n",
    "g_NB=GaussianNB()\n",
    "\n",
    "printcross_val_score(b_NB,breast_cancer.data,breast_cancer.target).mean()\n",
    "printcross_val_score(m_NB,breast_cancer.data,breast_cancer.target).mean()\n",
    "printcross_val_score(g_NB,breast_cancer.data,breast_cancer.target).mean()"
   ]
  },
  {
   "cell_type": "code",
   "execution_count": null,
   "metadata": {},
   "outputs": [],
   "source": [
    "fromsklearn.datasetsimportload_breast_cancer\n",
    "breast_cancer=load_breast_cancer()"
   ]
  },
  {
   "cell_type": "code",
   "execution_count": null,
   "metadata": {},
   "outputs": [],
   "source": [
    "importsklearn\n",
    "sklearn.__version__"
   ]
  },
  {
   "cell_type": "code",
   "execution_count": 3,
   "metadata": {},
   "outputs": [
    {
     "name": "stdout",
     "output_type": "stream",
     "text": [
      "(480000, 3)\n"
     ]
    }
   ],
   "source": [
    "import numpy as np\n",
    "import matplotlib.pyplot as plt\n",
    "from sklearn.cluster import KMeans\n",
    "from sklearn.utils import shuffle\n",
    "import mahotas as mh\n",
    "\n",
    "original_img=np.array(mh.imread('1.jpeg'),dtype=np.float64)/255\n",
    "\n",
    "original_dimensions=tuple(original_img.shape)\n",
    "width,height,depth=tuple(original_img.shape)\n",
    "image_flattened=np.reshape(original_img,(width*height,depth))\n",
    "print image_flattened.shape"
   ]
  },
  {
   "cell_type": "code",
   "execution_count": 4,
   "metadata": {
    "collapsed": true
   },
   "outputs": [],
   "source": [
    "image_array_sample=shuffle(image_flattened,random_state=0)[:5000]"
   ]
  },
  {
   "cell_type": "code",
   "execution_count": 5,
   "metadata": {},
   "outputs": [
    {
     "name": "stdout",
     "output_type": "stream",
     "text": [
      "(50000, 3)\n"
     ]
    }
   ],
   "source": [
    "print image_array_sample.shape"
   ]
  },
  {
   "cell_type": "code",
   "execution_count": 31,
   "metadata": {},
   "outputs": [],
   "source": [
    "estimator=KMeans(n_clusters=6,random_state=0)\n",
    "estimator.fit(image_array_sample)\n",
    "cluster_assignments=estimator.predict(image_flattened)"
   ]
  },
  {
   "cell_type": "code",
   "execution_count": 32,
   "metadata": {},
   "outputs": [],
   "source": [
    "cluster_assignments = estimator.predict(image_flattened)\n",
    "compressed_palette = estimator.cluster_centers_\n",
    "compressed_img = np.zeros((width, height, compressed_palette.shape[1]))\n",
    "label_idx = 0\n",
    "for i in range(width):\n",
    "    for j in range(height):\n",
    "        compressed_img[i][j] = compressed_palette[cluster_assignments[label_idx]]\n",
    "        label_idx += 1\n",
    "plt.subplot(122)\n",
    "plt.title('Original Image')\n",
    "plt.imshow(original_img)\n",
    "plt.axis('off')\n",
    "plt.subplot(121)\n",
    "plt.title('Compressed Image')\n",
    "plt.imshow(compressed_img)\n",
    "plt.axis('off')\n",
    "plt.show()"
   ]
  },
  {
   "cell_type": "code",
   "execution_count": 11,
   "metadata": {},
   "outputs": [
    {
     "data": {
      "text/plain": [
       "1440000"
      ]
     },
     "execution_count": 11,
     "metadata": {},
     "output_type": "execute_result"
    }
   ],
   "source": [
    "original_img.size"
   ]
  },
  {
   "cell_type": "code",
   "execution_count": 10,
   "metadata": {},
   "outputs": [
    {
     "data": {
      "text/plain": [
       "1440000"
      ]
     },
     "execution_count": 10,
     "metadata": {},
     "output_type": "execute_result"
    }
   ],
   "source": [
    "compressed_img.size"
   ]
  }
 ],
 "metadata": {
  "kernelspec": {
   "display_name": "Python 3",
   "language": "python",
   "name": "python3"
  },
  "language_info": {
   "codemirror_mode": {
    "name": "ipython",
    "version": 3
   },
   "file_extension": ".py",
   "mimetype": "text/x-python",
   "name": "python",
   "nbconvert_exporter": "python",
   "pygments_lexer": "ipython3",
   "version": "3.6.5"
  }
 },
 "nbformat": 4,
 "nbformat_minor": 1
}
