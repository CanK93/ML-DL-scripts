{
 "cells": [
  {
   "cell_type": "code",
   "execution_count": 4,
   "metadata": {},
   "outputs": [],
   "source": [
    "import numpy as np\n",
    "np.random.seed(42)\n",
    "import tensorflow as tf\n",
    "tf.set_random_seed(42)\n",
    "from keras.models import Sequential, load_model\n",
    "from keras.layers import Dense, Activation\n",
    "from keras.layers import LSTM, Dropout\n",
    "from keras.layers import TimeDistributed\n",
    "from keras.layers.core import Dense, Activation, Dropout, RepeatVector\n",
    "from keras.optimizers import RMSprop\n",
    "import matplotlib.pyplot as plt\n",
    "import pickle\n",
    "import sys\n",
    "import heapq\n",
    "import seaborn as sns\n",
    "from pylab import rcParams\n",
    "import collections\n",
    "from keras_tqdm import TQDMNotebookCallback\n",
    "from keras.callbacks import LambdaCallback, ModelCheckpoint\n",
    "\n",
    "\n",
    "%matplotlib inline\n",
    "\n",
    "sns.set(style='whitegrid', palette='muted', font_scale=1.5)\n",
    "\n",
    "rcParams['figure.figsize'] = 12, 5"
   ]
  },
  {
   "cell_type": "raw",
   "metadata": {},
   "source": [
    "# from keras.backend.tensorflow_backend import set_session\n",
    "config = tf.ConfigProto()\n",
    "config.gpu_options.per_process_gpu_memory_fraction = 0.9\n",
    "config.gpu_options.allow_growth = True\n",
    "set_session(tf.Session(config=config))"
   ]
  },
  {
   "cell_type": "code",
   "execution_count": 5,
   "metadata": {},
   "outputs": [
    {
     "name": "stdout",
     "output_type": "stream",
     "text": [
      "Corpus length: 2775399\n"
     ]
    }
   ],
   "source": [
    "path = 'my messages.txt'\n",
    "text = open(path).read().lower()\n",
    "print('Corpus length:', len(text))"
   ]
  },
  {
   "cell_type": "code",
   "execution_count": 6,
   "metadata": {},
   "outputs": [],
   "source": [
    "text = text.replace(\"\\U0001f928\", \" \").replace(\"\\U0001f929\", \" \").replace(\"\\U0001f92b\", \" \").replace(\"\\U0001f92c\", \" \").replace(\"\\U0001f92f\", \" \")\n",
    "to_delete_chars = ['\\U0001f9d0', '\\U0001f9d4', '\\ue608', '\\ue60a', '\\uf032','\\uf0b7', '\\ufeff', '\\u2009',\n",
    "                  '\\u200b','\\u200d', '\\t', '\\uf033', '\\\\', '»', '/', '█','ӱ' ]"
   ]
  },
  {
   "cell_type": "code",
   "execution_count": 7,
   "metadata": {},
   "outputs": [
    {
     "name": "stdout",
     "output_type": "stream",
     "text": [
      "Counter({' ': 466519, 'о': 197274, 'а': 160932, 'е': 154142, 'т': 135777, 'н': 119029, 'и': 116781, 'с': 91878, 'р': 83077, 'к': 73843, 'л': 72594, 'в': 72388, '\\n': 65087, 'д': 60055, 'п': 56972, 'м': 56582, 'у': 55416, 'я': 35899, 'ь': 34055, 'б': 32590, 'ч': 31458, ',': 31440, 'з': 29073, 'ы': 28184, 'г': 27335, ')': 20122, 't': 19591, 'й': 19238, 'e': 19173, '.': 17255, 'х': 17080, 'ж': 17023, 'a': 15875, 'o': 14429, 'r': 13192, 'i': 13121, '0': 12978, 'ш': 12878, 's': 12870, '/': 12552, '-': 11800, 'ю': 11417, 'n': 10943, '1': 10574, 'd': 9476, 'p': 8656, 'u': 8433, 'l': 8381, 'c': 8196, '2': 7934, 'h': 7832, 'ц': 7603, 'ф': 7556, 'm': 7555, 'э': 7075, 'щ': 6864, '?': 6475, 'w': 5851, '5': 5803, '%': 5723, 'b': 5701, '3': 5111, '4': 4493, ':': 4135, '8': 4066, '6': 4050, 'f': 3982, 'y': 3926, 'g': 3736, '7': 3650, 'v': 3564, 'k': 3522, '9': 3416, '(': 3133, '_': 2467, '=': 2063, 'x': 1441, '\"': 1375, 'z': 1302, '️': 1230, '\\u200d': 1226, '♀': 1216, '🏃': 1214, '!': 1087, ';': 1010, '»': 997, '«': 987, '+': 919, 'ё': 890, 'j': 864, 'q': 851, '—': 711, '&': 668, '*': 664, '–': 617, 'ъ': 569, \"'\": 345, '~': 301, '>': 297, '[': 285, '\\\\': 284, ']': 279, '$': 260, '<': 246, '#': 233, '{': 122, '}': 118, '😔': 115, '@': 90, '😉': 76, '😎': 74, '█': 57, '·': 56, '\\uf0b7': 56, '…': 54, '’': 52, '|': 48, '😅': 48, '`': 46, '😊': 39, '“': 38, '\\t': 36, '”': 34, '№': 33, '^': 27, '•': 27, '₽': 25, '😰': 24, '😢': 23, '€': 22, '😪': 20, '🔥': 20, '😜': 20, '😌': 19, '💪': 18, '😱': 18, '😐': 18, '┻': 17, '┳': 17, '👍': 16, '😬': 16, '🤗': 16, '😂': 14, '🤔': 13, '🤓': 13, '∙': 12, '😴': 12, '😃': 12, '😭': 10, '😯': 10, '😄': 10, '😋': 10, '‘': 10, '💰': 9, '😲': 9, 'ә': 9, '👌': 9, '−': 8, '🤤': 8, 'җ': 7, '🤑': 7, '😦': 7, '́': 6, '😁': 6, '®': 6, '±': 6, 'ң': 5, '°': 5, '🎁': 5, '❤': 5, '😒': 5, '👊': 5, '💭': 5, '👨': 4, '„': 4, '😈': 4, '😆': 4, '\\uf032': 4, '\\uf031': 4, '☺': 4, '🍾': 4, 'ɛ': 4, '🤷': 3, '🙄': 3, '²': 3, '♂': 3, '🙈': 3, '🐓': 3, '🎩': 3, '👻': 3, '🍖': 3, '🎉': 3, '\\ufeff': 3, '😕': 3, '©': 3, 'ө': 3, '🍷': 3, '😍': 3, '🏻': 3, '✈': 3, '🎪': 3, '😵': 3, '🎄': 3, '×': 3, '🍺': 3, '\\u2009': 3, '🤝': 2, '🤦': 2, '😳': 2, '😮': 2, '\\u200b': 2, '💩': 2, 'ο': 2, 'ς': 2, '😑': 2, '\\uf033': 2, '💴': 2, '💵': 2, 'ґ': 2, '🍭': 2, '🙆': 2, '😘': 2, '🥑': 2, '🧀': 2, '海': 2, '电': 2, '视': 2, '台': 2, '🛫': 2, '🏡': 2, '¯': 2, '🙂': 2, '🎆': 2, '🎊': 2, '🐤': 2, '😨': 2, '🎈': 2, '☕': 2, 'ó': 2, '🌙': 2, '🌷': 2, '✊': 1, '💻': 1, '🥔': 1, '🍅': 1, '🥒': 1, '£': 1, '👺': 1, '👿': 1, '👽': 1, '💆': 1, 'κ': 1, 'ώ': 1, 'ν': 1, 'ὀ': 1, 'δ': 1, 'ύ': 1, '🐻': 1, '↵': 1, '↑': 1, 'ç': 1, '⊂': 1, 'ﾉ': 1, '🔨': 1, '🔫': 1, '🏦': 1, '💳': 1, '\\ue60a': 1, '\\ue608': 1, '🍃': 1, '🍀': 1, '🌿': 1, '😇': 1, 'ї': 1, 'ѕ': 1, '🏆': 1, '💥': 1, '⚽': 1, '🚌': 1, '🔐': 1, '🔑': 1, '✅': 1, '🥚': 1, '🍳': 1, '\\U0001f9d0': 1, '☠': 1, '\\U0001f9d4': 1, '参': 1, '加': 1, '这': 1, '次': 1, '运': 1, '动': 1, '会': 1, '，': 1, '你': 1, '的': 1, '目': 1, '标': 1, '是': 1, '什': 1, '么': 1, '？': 1, '（': 1, '南': 1, '口': 1, '）': 1, '🐈': 1, 'ö': 1, '焼': 1, 'き': 1, '鳥': 1, 'ı': 1, '̇': 1, 'ş': 1, '🌂': 1, '🌍': 1, '✨': 1, '🌮': 1, '😞': 1, '🌱': 1, '👏': 1, 'ツ': 1, '🎭': 1, '🐥': 1, '👈': 1, '🐝': 1, '🌽': 1, '🙉': 1, '🙊': 1, 'ä': 1, '🥞': 1, '🚙': 1, '⚕': 1, '🙃': 1, '✋': 1, '😩': 1, '👆': 1, '😓': 1, '👹': 1, '™': 1, '🍆': 1, '⚠': 1, '🗳': 1, '😖': 1, '🦆': 1, '🤙': 1, 'è': 1, 'é': 1, '🎹': 1, '🌹': 1, '🍂': 1, '☀': 1, '🐼': 1, '🙏': 1, '🌸': 1, '🎥': 1, '🎿': 1, '🍕': 1, '😏': 1, 'ӱ': 1, '∗': 1})\n"
     ]
    }
   ],
   "source": [
    "print(collections.Counter(text))"
   ]
  },
  {
   "cell_type": "code",
   "execution_count": 8,
   "metadata": {},
   "outputs": [],
   "source": [
    "dic = collections.Counter(text)\n",
    "for val in dic:\n",
    "    if dic[val] < 250: \n",
    "        to_delete_chars.append(val)"
   ]
  },
  {
   "cell_type": "code",
   "execution_count": 9,
   "metadata": {},
   "outputs": [],
   "source": [
    "for del_char in to_delete_chars:\n",
    "    text = text.replace(del_char, ' ')\n",
    "text = text.replace('\\'', '\"')"
   ]
  },
  {
   "cell_type": "code",
   "execution_count": 10,
   "metadata": {},
   "outputs": [
    {
     "name": "stdout",
     "output_type": "stream",
     "text": [
      "Unique chars: 98\n"
     ]
    }
   ],
   "source": [
    "# create mapping of unique chars to integers\n",
    "chars = sorted(list(set(text)))\n",
    "char_indices = dict((c, i) for i, c in enumerate(chars))\n",
    "indices_char = dict((i, c) for i, c in enumerate(chars))\n",
    "\n",
    "print(f'Unique chars: {len(chars)}')"
   ]
  },
  {
   "cell_type": "code",
   "execution_count": 11,
   "metadata": {},
   "outputs": [
    {
     "data": {
      "text/plain": [
       "['\\n', ' ', '!', '\"', '$', '%', '&', '(', ')', '*']"
      ]
     },
     "execution_count": 11,
     "metadata": {},
     "output_type": "execute_result"
    }
   ],
   "source": [
    "#some random chars\n",
    "chars[0:10]"
   ]
  },
  {
   "cell_type": "code",
   "execution_count": 12,
   "metadata": {},
   "outputs": [
    {
     "name": "stdout",
     "output_type": "stream",
     "text": [
      "num training examples: 925120\n"
     ]
    }
   ],
   "source": [
    "SEQUENCE_LENGTH = 40\n",
    "step = 3\n",
    "sentences = []\n",
    "next_chars = []\n",
    "for i in range(0, len(text) - SEQUENCE_LENGTH, step):\n",
    "    sentences.append(text[i: i + SEQUENCE_LENGTH])\n",
    "    next_chars.append(text[i + SEQUENCE_LENGTH])\n",
    "print(f'num training examples: {len(sentences)}')\n",
    "\n",
    "X = np.zeros((len(sentences), SEQUENCE_LENGTH, len(chars)), dtype=np.bool)\n",
    "y = np.zeros((len(sentences), len(chars)), dtype=np.bool)\n",
    "for i, sentence in enumerate(sentences):\n",
    "    for t, char in enumerate(sentence):\n",
    "        X[i, t, char_indices[char]] = 1\n",
    "    y[i, char_indices[next_chars[i]]] = 1"
   ]
  },
  {
   "cell_type": "code",
   "execution_count": 13,
   "metadata": {},
   "outputs": [],
   "source": [
    "def buildmodel():\n",
    "    model = Sequential()\n",
    "    model.add(LSTM(128, input_shape = (SEQUENCE_LENGTH, len(chars))))\n",
    "    #model.add(Dropout(0.15))\n",
    "    #model.add(LSTM(128))\n",
    "    model.add(Dropout(0.10))\n",
    "    model.add(Dense(len(chars), activation = 'softmax'))\n",
    "  \n",
    "    model.compile(loss = 'categorical_crossentropy', optimizer = RMSprop(lr=0.01), metrics=['accuracy'])\n",
    "    return model\n",
    "filepath = \"weights.hdf5\"\n",
    "checkpoint = ModelCheckpoint( filepath,\n",
    "                             monitor='loss', \n",
    "                             verbose=1, \n",
    "                             save_best_only=True, \n",
    "                             mode='min')"
   ]
  },
  {
   "cell_type": "code",
   "execution_count": 27,
   "metadata": {},
   "outputs": [],
   "source": [
    "model = buildmodel()"
   ]
  },
  {
   "cell_type": "code",
   "execution_count": 28,
   "metadata": {},
   "outputs": [
    {
     "name": "stdout",
     "output_type": "stream",
     "text": [
      "_________________________________________________________________\n",
      "Layer (type)                 Output Shape              Param #   \n",
      "=================================================================\n",
      "lstm_4 (LSTM)                (None, 128)               116224    \n",
      "_________________________________________________________________\n",
      "dropout_3 (Dropout)          (None, 128)               0         \n",
      "_________________________________________________________________\n",
      "dense_5 (Dense)              (None, 98)                12642     \n",
      "=================================================================\n",
      "Total params: 128,866\n",
      "Trainable params: 128,866\n",
      "Non-trainable params: 0\n",
      "_________________________________________________________________\n"
     ]
    }
   ],
   "source": [
    "model.summary()"
   ]
  },
  {
   "cell_type": "code",
   "execution_count": null,
   "metadata": {},
   "outputs": [
    {
     "name": "stdout",
     "output_type": "stream",
     "text": [
      "Train on 740096 samples, validate on 185024 samples\n"
     ]
    },
    {
     "data": {
      "application/vnd.jupyter.widget-view+json": {
       "model_id": "e4021d90905b4f09b4c146b0e8138065",
       "version_major": 2,
       "version_minor": 0
      },
      "text/plain": [
       "HBox(children=(IntProgress(value=0, description='Training', max=10), HTML(value='')))"
      ]
     },
     "metadata": {},
     "output_type": "display_data"
    },
    {
     "name": "stdout",
     "output_type": "stream",
     "text": [
      "Epoch 1/10\n"
     ]
    },
    {
     "data": {
      "application/vnd.jupyter.widget-view+json": {
       "model_id": "",
       "version_major": 2,
       "version_minor": 0
      },
      "text/plain": [
       "HBox(children=(IntProgress(value=0, description='Epoch 0', max=740096), HTML(value='')))"
      ]
     },
     "metadata": {},
     "output_type": "display_data"
    },
    {
     "name": "stdout",
     "output_type": "stream",
     "text": [
      " - 303s - loss: 2.2442 - acc: 0.3828 - val_loss: 2.0256 - val_acc: 0.4308\n",
      "\n",
      "Epoch 00001: loss improved from inf to 2.24416, saving model to weights.hdf5\n",
      "Epoch 2/10\n"
     ]
    },
    {
     "data": {
      "application/vnd.jupyter.widget-view+json": {
       "model_id": "",
       "version_major": 2,
       "version_minor": 0
      },
      "text/plain": [
       "HBox(children=(IntProgress(value=0, description='Epoch 1', max=740096), HTML(value='')))"
      ]
     },
     "metadata": {},
     "output_type": "display_data"
    },
    {
     "name": "stdout",
     "output_type": "stream",
     "text": [
      " - 298s - loss: 2.0531 - acc: 0.4334 - val_loss: 1.9707 - val_acc: 0.4466\n",
      "\n",
      "Epoch 00002: loss improved from 2.24416 to 2.05309, saving model to weights.hdf5\n",
      "Epoch 3/10\n"
     ]
    },
    {
     "data": {
      "application/vnd.jupyter.widget-view+json": {
       "model_id": "87d1d5abb754439a98f99807acc8dffa",
       "version_major": 2,
       "version_minor": 0
      },
      "text/plain": [
       "HBox(children=(IntProgress(value=0, description='Epoch 2', max=740096), HTML(value='')))"
      ]
     },
     "metadata": {},
     "output_type": "display_data"
    }
   ],
   "source": [
    "history = model.fit(X, y, validation_split=0.20, batch_size=128, epochs=10, shuffle=True,verbose=2, callbacks=[TQDMNotebookCallback(),checkpoint]).history"
   ]
  },
  {
   "cell_type": "code",
   "execution_count": null,
   "metadata": {},
   "outputs": [],
   "source": [
    "#ETA: 3:31 - loss: 2.0615 - acc: 0.4183"
   ]
  },
  {
   "cell_type": "code",
   "execution_count": null,
   "metadata": {},
   "outputs": [],
   "source": [
    "model.save('keras_model_doubleLSTMvk.h5')\n",
    "pickle.dump(history, open(\"history.p\", \"wb\"))"
   ]
  },
  {
   "cell_type": "code",
   "execution_count": null,
   "metadata": {},
   "outputs": [],
   "source": [
    "model = load_model('keras_model_doubleLSTMvk.h5')\n",
    "history = pickle.load(open(\"history.p\", \"rb\"))"
   ]
  },
  {
   "cell_type": "code",
   "execution_count": null,
   "metadata": {},
   "outputs": [],
   "source": [
    "plt.plot(history['acc'])\n",
    "plt.plot(history['val_acc'])\n",
    "plt.title('model accuracy')\n",
    "plt.ylabel('accuracy')\n",
    "plt.xlabel('epoch')\n",
    "plt.legend(['train', 'test'], loc='upper left');"
   ]
  },
  {
   "cell_type": "code",
   "execution_count": null,
   "metadata": {},
   "outputs": [],
   "source": [
    "plt.plot(history['loss'])\n",
    "plt.plot(history['val_loss'])\n",
    "plt.title('model loss')\n",
    "plt.ylabel('loss')\n",
    "plt.xlabel('epoch')\n",
    "plt.legend(['train', 'test'], loc='upper left');"
   ]
  },
  {
   "cell_type": "code",
   "execution_count": 3,
   "metadata": {},
   "outputs": [],
   "source": [
    "def prepare_input(text):\n",
    "    x = np.zeros((1, SEQUENCE_LENGTH, len(chars)))\n",
    "    for t, char in enumerate(text):\n",
    "        x[0, t, char_indices[char]] = 1.\n",
    "        \n",
    "    return x"
   ]
  },
  {
   "cell_type": "code",
   "execution_count": 18,
   "metadata": {},
   "outputs": [
    {
     "data": {
      "text/plain": [
       "array([[[0., 0., 0., ..., 0., 0., 0.],\n",
       "        [0., 1., 0., ..., 0., 0., 0.],\n",
       "        [0., 0., 0., ..., 0., 0., 0.],\n",
       "        ...,\n",
       "        [0., 0., 0., ..., 0., 0., 0.],\n",
       "        [0., 0., 0., ..., 0., 0., 0.],\n",
       "        [0., 0., 0., ..., 0., 0., 0.]]])"
      ]
     },
     "execution_count": 18,
     "metadata": {},
     "output_type": "execute_result"
    }
   ],
   "source": [
    "prepare_input(\"Я поеду на работу, но блин\".lower())"
   ]
  },
  {
   "cell_type": "code",
   "execution_count": 15,
   "metadata": {},
   "outputs": [],
   "source": [
    "def sample(preds, top_n=3):\n",
    "    preds = np.asarray(preds).astype('float64')\n",
    "    preds = np.log(preds)\n",
    "    exp_preds = np.exp(preds)\n",
    "    preds = exp_preds / np.sum(exp_preds)\n",
    "    \n",
    "    return heapq.nlargest(top_n, range(len(preds)), preds.take)"
   ]
  },
  {
   "cell_type": "code",
   "execution_count": 16,
   "metadata": {},
   "outputs": [],
   "source": [
    "def predict_completion(text):\n",
    "    original_text = text\n",
    "    generated = text\n",
    "    completion = ''\n",
    "    while True:\n",
    "        x = prepare_input(text)\n",
    "        preds = model.predict(x, verbose=0)[0]\n",
    "        next_index = sample(preds, top_n=1)[0]\n",
    "        next_char = indices_char[next_index]\n",
    "        text = text[1:] + next_char\n",
    "        completion += next_char\n",
    "        \n",
    "        if len(original_text + completion) + 2 > len(original_text) and next_char == ' ':\n",
    "            return completion"
   ]
  },
  {
   "cell_type": "code",
   "execution_count": 17,
   "metadata": {},
   "outputs": [],
   "source": [
    "def predict_completions(text, n=3):\n",
    "    x = prepare_input(text)\n",
    "    preds = model.predict(x, verbose=0)[0]\n",
    "    next_indices = sample(preds, n)\n",
    "    return [indices_char[idx] + predict_completion(text[1:] + indices_char[idx]) for idx in next_indices]"
   ]
  },
  {
   "cell_type": "code",
   "execution_count": 40,
   "metadata": {},
   "outputs": [],
   "source": [
    "quotes = [\n",
    "    \"Я поеду на работу, но нужно еще зайти к hr\",\n",
    "    \"select * from databases where\",\n",
    "    \"Сложная очень задача получается но это ничего не отменяет\",\n",
    "    \"Надо изучать машинку и идти к пониманию да \",\n",
    "    \"Что будешь делать, учиться учиться наверное\"\n",
    "]"
   ]
  },
  {
   "cell_type": "code",
   "execution_count": 41,
   "metadata": {},
   "outputs": [
    {
     "name": "stdout",
     "output_type": "stream",
     "text": [
      "я поеду на работу, но нужно еще зайти к \n",
      "['то ', 'получил ', 'на ', 'конечно ', 'собесторовать ']\n",
      "\n",
      "select * from databases where\n",
      "['  ', '- ', '( ', '\\n ', 'h ']\n",
      "\n",
      "сложная очень задача получается но это н\n",
      "['е ', 'а ', 'орм ', 'ужно ', 'ичего ']\n",
      "\n",
      "надо изучать машинку и идти к пониманию \n",
      "['\\n ', 'под ', 'в ', 'собестолько ', 'на ']\n",
      "\n",
      "что будешь делать, учиться учиться навер\n",
      "['ное ', 'я ', 'ино ', 'ено ', 'ю ']\n",
      "\n"
     ]
    }
   ],
   "source": [
    "for q in quotes:\n",
    "    seq = q[:40].lower()\n",
    "    print(seq)\n",
    "    print(predict_completions(seq, 5))\n",
    "    print()"
   ]
  },
  {
   "cell_type": "code",
   "execution_count": null,
   "metadata": {},
   "outputs": [],
   "source": []
  }
 ],
 "metadata": {
  "kernelspec": {
   "display_name": "Python 3",
   "language": "python",
   "name": "python3"
  },
  "language_info": {
   "codemirror_mode": {
    "name": "ipython",
    "version": 3
   },
   "file_extension": ".py",
   "mimetype": "text/x-python",
   "name": "python",
   "nbconvert_exporter": "python",
   "pygments_lexer": "ipython3",
   "version": "3.6.5"
  }
 },
 "nbformat": 4,
 "nbformat_minor": 2
}
