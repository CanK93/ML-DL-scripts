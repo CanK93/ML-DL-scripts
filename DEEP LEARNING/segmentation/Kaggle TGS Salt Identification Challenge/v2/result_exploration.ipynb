{
 "cells": [
  {
   "cell_type": "code",
   "execution_count": 1,
   "metadata": {},
   "outputs": [],
   "source": [
    "%matplotlib inline\n",
    "\n",
    "import numpy as np\n",
    "import pandas as pd\n",
    "import glob\n",
    "from PIL import Image\n",
    "import matplotlib.pyplot as plt\n",
    "import seaborn as sns\n",
    "from sklearn.externals import joblib\n",
    "from skimage.transform import resize\n",
    "from tqdm import tqdm_notebook as tqdm\n",
    "import ipywidgets as ipy\n",
    "import warnings\n",
    "import sys\n",
    "if not sys.warnoptions:\n",
    "    warnings.simplefilter(\"ignore\")\n",
    "from common_blocks.utils import plot_list, read_images\n",
    "from common_blocks.metrics import compute_eval_metric\n",
    "\n",
    "METADATA_FILEPATH = './meta/files/metadata.csv'\n",
    "OUT_OF_FOLD_TRAIN_RESULTS_FILEPATH = '/home/dex/Desktop/ml/salt/output/openSolution/experiment/out_of_fold_train_predictions.pkl'\n"
   ]
  },
  {
   "cell_type": "code",
   "execution_count": 3,
   "metadata": {},
   "outputs": [],
   "source": [
    "def load_img(path):\n",
    "    img = np.array(Image.open(path))\n",
    "    return img\n",
    "\n",
    "def filter_iout(results, iout_range):\n",
    "    iout_min, iout_max = iout_range\n",
    "    results_filtered = []\n",
    "    for tup in results:\n",
    "        if iout_min<=tup[0]<=iout_max:\n",
    "            results_filtered.append(tup)\n",
    "    return results_filtered\n",
    "\n",
    "def filter_size(results, size_range):\n",
    "    size_min, size_max = size_range\n",
    "    results_filtered = []\n",
    "    for tup in results:\n",
    "        if size_min<=tup[1]<=size_max:\n",
    "            results_filtered.append(tup)\n",
    "    return results_filtered"
   ]
  },
  {
   "cell_type": "code",
   "execution_count": 6,
   "metadata": {},
   "outputs": [
    {
     "name": "stdout",
     "output_type": "stream",
     "text": [
      " augmentations.ipynb\t     main.py\r\n",
      " auxiliary.csv\t\t     meta\r\n",
      " auxiliary_metadata.csv      modules\r\n",
      " common_blocks\t\t     offline_job.log\r\n",
      " configs\t\t    'OpenSolution results.ipynb'\r\n",
      " data_exploration.ipynb      requirements.txt\r\n",
      " depths.csv\t\t     result_exploration-Copy1.ipynb\r\n",
      " Main-folds.ipynb\t     result_exploration.ipynb\r\n",
      "'Main folds neptune.ipynb'   small_mask_generation.ipynb\r\n",
      " Main.ipynb\t\t    'Untitled 1.ods'\r\n"
     ]
    }
   ],
   "source": [
    "! ls"
   ]
  },
  {
   "cell_type": "code",
   "execution_count": 4,
   "metadata": {},
   "outputs": [],
   "source": [
    "metadata = pd.read_csv(METADATA_FILEPATH)\n",
    "\n",
    "oof_train = joblib.load(OUT_OF_FOLD_TRAIN_RESULTS_FILEPATH)\n",
    "ids = oof_train['ids']\n",
    "predictions = oof_train['images']"
   ]
  },
  {
   "cell_type": "code",
   "execution_count": 8,
   "metadata": {},
   "outputs": [
    {
     "data": {
      "application/vnd.jupyter.widget-view+json": {
       "model_id": "e55c28da05e149dab9ae51bc96bcbda6",
       "version_major": 2,
       "version_minor": 0
      },
      "text/plain": [
       "HBox(children=(IntProgress(value=1, bar_style='info', max=1), HTML(value='')))"
      ]
     },
     "metadata": {},
     "output_type": "display_data"
    },
    {
     "name": "stdout",
     "output_type": "stream",
     "text": [
      "\n"
     ]
    }
   ],
   "source": [
    "THRESHOLD = 0.45\n",
    "\n",
    "predicted_maps, predicted_masks, masks, images, depths, sizes = [],[],[],[],[],[]\n",
    "for idx, pred in tqdm(zip(ids, predictions)):\n",
    "    row = metadata[metadata['id']==idx]\n",
    "    predicted_map = resize(pred[1,:,:],(101,101),mode='constant')\n",
    "    predicted_mask = (predicted_map > THRESHOLD).astype(int)\n",
    "    image = load_img(row.file_path_image.values[0])\n",
    "    mask = (load_img(row.file_path_mask.values[0]) > 0).astype(int)\n",
    "    depth = row.z.values[0]\n",
    "    size = np.sum(mask)\n",
    "    \n",
    "    images.append(image)\n",
    "    masks.append(mask)\n",
    "    depths.append(depth)\n",
    "    predicted_maps.append(predicted_map)\n",
    "    predicted_masks.append(predicted_mask)\n",
    "    sizes.append(size)"
   ]
  },
  {
   "cell_type": "code",
   "execution_count": 9,
   "metadata": {},
   "outputs": [
    {
     "data": {
      "application/vnd.jupyter.widget-view+json": {
       "model_id": "62e93ed64ea546c1a27c4f2bb2f3291f",
       "version_major": 2,
       "version_minor": 0
      },
      "text/plain": [
       "HBox(children=(IntProgress(value=1, bar_style='info', max=1), HTML(value='')))"
      ]
     },
     "metadata": {},
     "output_type": "display_data"
    },
    {
     "name": "stdout",
     "output_type": "stream",
     "text": [
      "\n"
     ]
    }
   ],
   "source": [
    "iouts = [compute_eval_metric(gt, pred) for gt, pred in tqdm(zip(masks, predicted_masks))]\n",
    "results = list(zip(iouts, sizes, depths, images, predicted_masks, predicted_maps, masks))"
   ]
  },
  {
   "cell_type": "markdown",
   "metadata": {},
   "source": [
    "# Score by size"
   ]
  },
  {
   "cell_type": "code",
   "execution_count": 10,
   "metadata": {
    "scrolled": false
   },
   "outputs": [
    {
     "name": "stdout",
     "output_type": "stream",
     "text": [
      "IOUT 0.7074\n",
      "\n",
      "size (0, 0) | IOUT 0.9533 | sample nr 1562 | fraction 0.2846209912536443 | max gain 0.0133\n",
      "size (1, 300) | IOUT 0.3637 | sample nr 1647 | fraction 0.30010932944606417 | max gain 0.1910\n",
      "size (300, 1000) | IOUT 0.4855 | sample nr 415 | fraction 0.07561953352769679 | max gain 0.0389\n",
      "size (1000, 3000) | IOUT 0.7526 | sample nr 508 | fraction 0.09256559766763849 | max gain 0.0229\n",
      "size (3000, 9000) | IOUT 0.8974 | sample nr 1090 | fraction 0.19861516034985421 | max gain 0.0204\n",
      "size (9000, 10201) | IOUT 0.8658 | sample nr 272 | fraction 0.04956268221574344 | max gain 0.0067\n"
     ]
    }
   ],
   "source": [
    "print('IOUT {:.4f}\\n'.format(np.mean(list(zip(*results))[0])))\n",
    "for size_range in [(0,0),(1,300),(300,1000),(1000,3000),(3000,9000), (9000,10201)]:\n",
    "    results_by_size = filter_size(results, size_range)\n",
    "    iout = np.mean(list(zip(*results_by_size))[0])\n",
    "    sample_size = len(results_by_size)\n",
    "    fraction = len(results_by_size)/len(results)\n",
    "    print('size {} | IOUT {:.4f} | sample nr {} | fraction {} | max gain {:.4f}'.format(size_range, \n",
    "                                                                       iout,\n",
    "                                                                       sample_size, \n",
    "                                                                       fraction,\n",
    "                                                                       (1.0-iout) * fraction\n",
    "                                                                       ))"
   ]
  },
  {
   "cell_type": "code",
   "execution_count": null,
   "metadata": {},
   "outputs": [],
   "source": [
    "IOUT 0.7071\n",
    "\n",
    "size (0, 0) | IOUT 0.9539 | sample nr 1562 | fraction 0.2846209912536443 | max gain 0.0131\n",
    "size (1, 300) | IOUT 0.3632 | sample nr 1647 | fraction 0.30010932944606417 | max gain 0.1911\n",
    "size (300, 1000) | IOUT 0.4834 | sample nr 415 | fraction 0.07561953352769679 | max gain 0.0391\n",
    "size (1000, 3000) | IOUT 0.7516 | sample nr 508 | fraction 0.09256559766763849 | max gain 0.0230\n",
    "size (3000, 9000) | IOUT 0.8972 | sample nr 1090 | fraction 0.19861516034985421 | max gain 0.0204\n",
    "size (9000, 10201) | IOUT 0.8658 | sample nr 272 | fraction 0.04956268221574344 | max gain 0.0067"
   ]
  },
  {
   "cell_type": "code",
   "execution_count": null,
   "metadata": {},
   "outputs": [],
   "source": [
    "IOUT 0.6857 47\n",
    "\n",
    "size (0, 0) | IOUT 0.9456 | sample nr 1562 | fraction 0.2846209912536443 | max gain 0.0155\n",
    "size (1, 300) | IOUT 0.3073 | sample nr 1647 | fraction 0.30010932944606417 | max gain 0.2079\n",
    "size (300, 1000) | IOUT 0.4369 | sample nr 415 | fraction 0.07561953352769679 | max gain 0.0426\n",
    "size (1000, 3000) | IOUT 0.7551 | sample nr 508 | fraction 0.09256559766763849 | max gain 0.0227\n",
    "size (3000, 9000) | IOUT 0.8982 | sample nr 1090 | fraction 0.19861516034985421 | max gain 0.0202\n",
    "size (9000, 10201) | IOUT 0.8805 | sample nr 272 | fraction 0.04956268221574344 | max gain 0.0059\n",
    "\n",
    "IOUT 0.6856 50\n",
    "\n",
    "size (0, 0) | IOUT 0.9469 | sample nr 1562 | fraction 0.2846209912536443 | max gain 0.0151\n",
    "size (1, 300) | IOUT 0.3073 | sample nr 1647 | fraction 0.30010932944606417 | max gain 0.2079\n",
    "size (300, 1000) | IOUT 0.4342 | sample nr 415 | fraction 0.07561953352769679 | max gain 0.0428\n",
    "size (1000, 3000) | IOUT 0.7539 | sample nr 508 | fraction 0.09256559766763849 | max gain 0.0228\n",
    "size (3000, 9000) | IOUT 0.8979 | sample nr 1090 | fraction 0.19861516034985421 | max gain 0.0203\n",
    "size (9000, 10201) | IOUT 0.8801 | sample nr 272 | fraction 0.04956268221574344 | max gain 0.0059\n",
    "\n",
    "IOUT 0.6856 45\n",
    "\n",
    "size (0, 0) | IOUT 0.9443 | sample nr 1562 | fraction 0.2846209912536443 | max gain 0.0159\n",
    "size (1, 300) | IOUT 0.3077 | sample nr 1647 | fraction 0.30010932944606417 | max gain 0.2078\n",
    "size (300, 1000) | IOUT 0.4400 | sample nr 415 | fraction 0.07561953352769679 | max gain 0.0423\n",
    "size (1000, 3000) | IOUT 0.7547 | sample nr 508 | fraction 0.09256559766763849 | max gain 0.0227\n",
    "size (3000, 9000) | IOUT 0.8980 | sample nr 1090 | fraction 0.19861516034985421 | max gain 0.0203\n",
    "size (9000, 10201) | IOUT 0.8809 | sample nr 272 | fraction 0.04956268221574344 | max gain 0.0059\n",
    "\n",
    "\n",
    "IOUT 0.6850 40\n",
    "\n",
    "size (0, 0) | IOUT 0.9417 | sample nr 1562 | fraction 0.2846209912536443 | max gain 0.0166\n",
    "size (1, 300) | IOUT 0.3084 | sample nr 1647 | fraction 0.30010932944606417 | max gain 0.2075\n",
    "size (300, 1000) | IOUT 0.4407 | sample nr 415 | fraction 0.07561953352769679 | max gain 0.0423\n",
    "size (1000, 3000) | IOUT 0.7539 | sample nr 508 | fraction 0.09256559766763849 | max gain 0.0228\n",
    "size (3000, 9000) | IOUT 0.8977 | sample nr 1090 | fraction 0.19861516034985421 | max gain 0.0203\n",
    "size (9000, 10201) | IOUT 0.8809 | sample nr 272 | fraction 0.04956268221574344 | max gain 0.005"
   ]
  },
  {
   "cell_type": "markdown",
   "metadata": {},
   "source": [
    "# Predicted mask exploration"
   ]
  },
  {
   "cell_type": "code",
   "execution_count": 7,
   "metadata": {
    "scrolled": false
   },
   "outputs": [
    {
     "name": "stdout",
     "output_type": "stream",
     "text": [
      "sample nr 827 fraction 0.1506924198250729 mean IOUT 0.024667472793228534\n"
     ]
    },
    {
     "data": {
      "application/vnd.jupyter.widget-view+json": {
       "model_id": "42d74a3eee7f4f02b730ba99cd92e327",
       "version_major": 2,
       "version_minor": 0
      },
      "text/plain": [
       "interactive(children=(IntSlider(value=0, description='idx', max=826), Output()), _dom_classes=('widget-interac…"
      ]
     },
     "metadata": {},
     "output_type": "display_data"
    }
   ],
   "source": [
    "results_filtered = results.copy()\n",
    "results_filtered = filter_iout(results_filtered, iout_range=(0.0,0.2))\n",
    "results_filtered = filter_size(results_filtered, size_range=(1, 300))\n",
    "\n",
    "print('sample nr {} fraction {} mean IOUT {}'.format(len(results_filtered), \n",
    "                                                     len(results_filtered)/len(results),\n",
    "                                                     np.mean(list(zip(*results_filtered))[0])))\n",
    "\n",
    "@ipy.interact(idx = ipy.IntSlider(min=0,max=len(results_filtered)-1,value=0,step=1))\n",
    "def present(idx=idx):\n",
    "    iout, s, z, img, pred_mask, pred_map, gt = results_filtered[idx]\n",
    "    print('IOUT {}, size {}, depth {}'.format(iout, s, z))\n",
    "    plot_list(images=[img, pred_map],labels=[pred_mask, gt])"
   ]
  },
  {
   "cell_type": "code",
   "execution_count": null,
   "metadata": {},
   "outputs": [],
   "source": [
    "def rle_decode(rle_mask):\n",
    "    '''\n",
    "    rle_mask: run-length as string formated (start length)\n",
    "    shape: (height,width) of array to return \n",
    "    Returns numpy array, 1 - mask, 0 - background\n",
    "\n",
    "    '''\n",
    "    if rle_mask !=str(np.nan):\n",
    "        s = rle_mask.split()\n",
    "        starts, lengths = [np.asarray(x, dtype=int) for x in (s[0:][::2], s[1:][::2])]\n",
    "        starts -= 1\n",
    "        ends = starts + lengths\n",
    "        img = np.zeros(101*101, dtype=np.uint8)\n",
    "        for lo, hi in zip(starts, ends):\n",
    "            img[lo:hi] = 1\n",
    "        return img.reshape(101,101)"
   ]
  }
 ],
 "metadata": {
  "kernelspec": {
   "display_name": "Python 3",
   "language": "python",
   "name": "python3"
  },
  "language_info": {
   "codemirror_mode": {
    "name": "ipython",
    "version": 3
   },
   "file_extension": ".py",
   "mimetype": "text/x-python",
   "name": "python",
   "nbconvert_exporter": "python",
   "pygments_lexer": "ipython3",
   "version": "3.6.6"
  }
 },
 "nbformat": 4,
 "nbformat_minor": 2
}
