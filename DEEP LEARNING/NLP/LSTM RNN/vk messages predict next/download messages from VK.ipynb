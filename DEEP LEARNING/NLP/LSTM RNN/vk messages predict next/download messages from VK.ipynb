{
 "cells": [
  {
   "cell_type": "code",
   "execution_count": null,
   "metadata": {},
   "outputs": [],
   "source": [
    "import vk\n",
    "import time\n",
    "import re\n",
    "#https://oauth.vk.com/authorize?client_id=6628745&display=page&redirect_uri=https://oauth.vk.com/blank.html &scope=offline&response_type=token&v=5.80&state=123456 \n",
    "session = vk.Session(access_token='-----')\n",
    "vkapi = vk.API(session)\n",
    "\n",
    "SLEEP_TIME = 0.3\n",
    "SELF_ID = ****"
   ]
  },
  {
   "cell_type": "code",
   "execution_count": null,
   "metadata": {},
   "outputs": [],
   "source": [
    "friends = vkapi('friends.get',v='5.80')"
   ]
  },
  {
   "cell_type": "code",
   "execution_count": null,
   "metadata": {},
   "outputs": [],
   "source": [
    "def get_dialogs(user_id):\n",
    "\tdialogs = vkapi('messages.getDialogs', user_id=user_id, v='5.12')\n",
    "\treturn dialogs"
   ]
  },
  {
   "cell_type": "code",
   "execution_count": null,
   "metadata": {},
   "outputs": [],
   "source": [
    "get_dialogs(170153452)['count']"
   ]
  },
  {
   "cell_type": "code",
   "execution_count": null,
   "metadata": {},
   "outputs": [],
   "source": [
    "for friend in friends['items']:\n",
    "    print(friend)"
   ]
  },
  {
   "cell_type": "code",
   "execution_count": null,
   "metadata": {},
   "outputs": [],
   "source": [
    "msges = ''\n",
    "for val in a['items']:\n",
    "    if val['from_id'] == *****:\n",
    "        print (val['body'])\n",
    "        msges  += (val['body']) + ' \\n '"
   ]
  },
  {
   "cell_type": "code",
   "execution_count": null,
   "metadata": {},
   "outputs": [],
   "source": [
    "def get_history(friends, sleep_time=0.3):\n",
    "    all_history = ''\n",
    "    i = 0\n",
    "    for friend in friends['items']:\n",
    "        friend_dialog = get_dialogs(friend)\n",
    "        time.sleep(sleep_time)\n",
    "        dialog_len = friend_dialog['count']\n",
    "        friend_history = []\n",
    "        print(friend)\n",
    "        if dialog_len > 200:\n",
    "            resid = dialog_len\n",
    "            offset = 0\n",
    "            while resid > 0:\n",
    "                friend_history = vkapi('messages.getHistory', \n",
    "                    user_id=friend, \n",
    "                    count=200, \n",
    "                    offset=offset, v='5.12')['items']\n",
    "                for val in friend_history:\n",
    "                    if val['from_id'] == SELF_ID:\n",
    "                        all_history += val['body'] + ' \\n '\n",
    "                time.sleep(sleep_time)\n",
    "                resid -= 200\n",
    "                offset += 200\n",
    "                #if resid > 0:\n",
    "                    #print('--processing', friend, ':', resid, 'of', dialog_len, 'messages left')\n",
    "            #all_history += friend_history\n",
    "        i +=1\n",
    "        print('processed', i, 'friends of', len(friends))\n",
    "    return all_history"
   ]
  },
  {
   "cell_type": "code",
   "execution_count": null,
   "metadata": {},
   "outputs": [],
   "source": [
    "def get_messages_for_user(data, user_id):\n",
    "\tself_messages = []\n",
    "\tfor dialog in data:\n",
    "\t\tif type(dialog) == dict:\n",
    "\t\t\tif dialog['uid'] == user_id and dialog['from_id'] == user_id:\n",
    "\t\t\t\tm_text = re.sub(\"<br>\", \" \", dialog['body'])\n",
    "\t\t\t\tself_messages.append(m_text)\n",
    "\tprint('Extracted', len(self_messages), 'messages in total')\n",
    "\treturn self_messages\n",
    "\n",
    "def save_to_file(data, file_name='output.txt'):\n",
    "\twith open(file_name, 'w', encoding='utf-8') as f:\n",
    "\t    print(data, file=f)\n"
   ]
  },
  {
   "cell_type": "code",
   "execution_count": null,
   "metadata": {},
   "outputs": [],
   "source": [
    "all_history = get_history(friends, SLEEP_TIME)\n",
    "#save_to_file(all_history, 'raw.txt')\n",
    "\n",
    "text_file = open(\"Output.txt\", \"w\")\n",
    "text_file.write(all_history)\n",
    "text_file.close()"
   ]
  },
  {
   "cell_type": "code",
   "execution_count": null,
   "metadata": {},
   "outputs": [],
   "source": [
    "friend_dialoself_messages = get_messages_for_user(all_history, SELF_ID)\n",
    "save_to_file(self_messages, 'sm_corpus.txt')"
   ]
  }
 ],
 "metadata": {
  "kernelspec": {
   "display_name": "Python 3",
   "language": "python",
   "name": "python3"
  },
  "language_info": {
   "codemirror_mode": {
    "name": "ipython",
    "version": 3
   },
   "file_extension": ".py",
   "mimetype": "text/x-python",
   "name": "python",
   "nbconvert_exporter": "python",
   "pygments_lexer": "ipython3",
   "version": "3.6.5"
  }
 },
 "nbformat": 4,
 "nbformat_minor": 2
}
