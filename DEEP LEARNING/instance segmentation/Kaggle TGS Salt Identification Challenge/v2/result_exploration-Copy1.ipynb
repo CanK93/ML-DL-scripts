{
 "cells": [
  {
   "cell_type": "code",
   "execution_count": 1,
   "metadata": {},
   "outputs": [],
   "source": [
    "%matplotlib inline\n",
    "\n",
    "import numpy as np\n",
    "import pandas as pd\n",
    "import glob\n",
    "from PIL import Image\n",
    "import matplotlib.pyplot as plt\n",
    "import seaborn as sns\n",
    "from sklearn.externals import joblib\n",
    "from skimage.transform import resize\n",
    "from tqdm import tqdm_notebook as tqdm\n",
    "import ipywidgets as ipy\n",
    "\n",
    "from common_blocks.utils import plot_list, read_images\n",
    "from common_blocks.metrics import compute_eval_metric\n",
    "\n",
    "METADATA_FILEPATH = './meta/files/metadata.csv'\n",
    "OUT_OF_FOLD_TRAIN_RESULTS_FILEPATH = '/home/dex/Desktop/ml/salt/output/openSolution/stack all/out_of_fold_train_predictions lb825.pkl'"
   ]
  },
  {
   "cell_type": "code",
   "execution_count": 2,
   "metadata": {},
   "outputs": [],
   "source": [
    "def load_img(path):\n",
    "    img = np.array(Image.open(path))\n",
    "    return img\n",
    "\n",
    "def filter_iout(results, iout_range):\n",
    "    iout_min, iout_max = iout_range\n",
    "    results_filtered = []\n",
    "    for tup in results:\n",
    "        if iout_min<=tup[0]<=iout_max:\n",
    "            results_filtered.append(tup)\n",
    "    return results_filtered\n",
    "\n",
    "def filter_size(results, size_range):\n",
    "    size_min, size_max = size_range\n",
    "    results_filtered = []\n",
    "    for tup in results:\n",
    "        if size_min<=tup[1]<=size_max:\n",
    "            results_filtered.append(tup)\n",
    "    return results_filtered"
   ]
  },
  {
   "cell_type": "code",
   "execution_count": 3,
   "metadata": {},
   "outputs": [],
   "source": [
    "metadata = pd.read_csv(METADATA_FILEPATH)\n",
    "\n",
    "oof_train = joblib.load(OUT_OF_FOLD_TRAIN_RESULTS_FILEPATH)\n",
    "ids = oof_train['ids']\n",
    "predictions = oof_train['images']"
   ]
  },
  {
   "cell_type": "code",
   "execution_count": 10,
   "metadata": {},
   "outputs": [
    {
     "data": {
      "application/vnd.jupyter.widget-view+json": {
       "model_id": "0f5cad95b9654fdd9c5f0e4545195c82",
       "version_major": 2,
       "version_minor": 0
      },
      "text/plain": [
       "HBox(children=(IntProgress(value=1, bar_style='info', max=1), HTML(value='')))"
      ]
     },
     "metadata": {},
     "output_type": "display_data"
    },
    {
     "name": "stdout",
     "output_type": "stream",
     "text": [
      "\n"
     ]
    }
   ],
   "source": [
    "THRESHOLD = 0.48\n",
    "import warnings\n",
    "import sys\n",
    "if not sys.warnoptions:\n",
    "    warnings.simplefilter(\"ignore\")\n",
    "predicted_maps, predicted_masks, masks, images, depths, sizes = [],[],[],[],[],[]\n",
    "for idx, pred in tqdm(zip(ids, predictions)):\n",
    "    row = metadata[metadata['id']==idx]\n",
    "    predicted_map = resize(pred[1,:,:],(101,101),mode='constant')\n",
    "    predicted_mask = (predicted_map > THRESHOLD).astype(int)\n",
    "    image = load_img(row.file_path_image.values[0])\n",
    "    mask = (load_img(row.file_path_mask.values[0]) > 0).astype(int)\n",
    "    depth = row.z.values[0]\n",
    "    size = np.sum(mask)\n",
    "    \n",
    "    images.append(image)\n",
    "    masks.append(mask)\n",
    "    depths.append(depth)\n",
    "    predicted_maps.append(predicted_map)\n",
    "    predicted_masks.append(predicted_mask)\n",
    "    sizes.append(size)"
   ]
  },
  {
   "cell_type": "code",
   "execution_count": 11,
   "metadata": {},
   "outputs": [
    {
     "data": {
      "application/vnd.jupyter.widget-view+json": {
       "model_id": "2103656232ae45c69782e6bda58ac267",
       "version_major": 2,
       "version_minor": 0
      },
      "text/plain": [
       "HBox(children=(IntProgress(value=1, bar_style='info', max=1), HTML(value='')))"
      ]
     },
     "metadata": {},
     "output_type": "display_data"
    },
    {
     "name": "stdout",
     "output_type": "stream",
     "text": [
      "\n"
     ]
    }
   ],
   "source": [
    "iouts = [compute_eval_metric(gt, pred) for gt, pred in tqdm(zip(masks, predicted_masks))]\n",
    "results = list(zip(iouts, sizes, depths, images, predicted_masks, predicted_maps, masks))"
   ]
  },
  {
   "cell_type": "markdown",
   "metadata": {},
   "source": [
    "# Score by size"
   ]
  },
  {
   "cell_type": "code",
   "execution_count": 12,
   "metadata": {
    "scrolled": false
   },
   "outputs": [
    {
     "name": "stdout",
     "output_type": "stream",
     "text": [
      "IOUT 0.8220\n",
      "\n",
      "size (0, 0) | IOUT 0.9481 | sample nr 1562 | fraction 0.3905 | max gain 0.0202\n",
      "size (1, 300) | IOUT 0.1891 | sample nr 311 | fraction 0.07775 | max gain 0.0630\n",
      "size (300, 1000) | IOUT 0.5600 | sample nr 260 | fraction 0.065 | max gain 0.0286\n",
      "size (1000, 3000) | IOUT 0.7591 | sample nr 508 | fraction 0.127 | max gain 0.0306\n",
      "size (3000, 9000) | IOUT 0.8994 | sample nr 1090 | fraction 0.2725 | max gain 0.0274\n",
      "size (9000, 10201) | IOUT 0.8768 | sample nr 272 | fraction 0.068 | max gain 0.0084\n"
     ]
    }
   ],
   "source": [
    "print('IOUT {:.4f}\\n'.format(np.mean(list(zip(*results))[0])))\n",
    "for size_range in [(0,0),(1,300),(300,1000),(1000,3000),(3000,9000), (9000,10201)]:\n",
    "    results_by_size = filter_size(results, size_range)\n",
    "    iout = np.mean(list(zip(*results_by_size))[0])\n",
    "    sample_size = len(results_by_size)\n",
    "    fraction = len(results_by_size)/len(results)\n",
    "    print('size {} | IOUT {:.4f} | sample nr {} | fraction {} | max gain {:.4f}'.format(size_range, \n",
    "                                                                       iout,\n",
    "                                                                       sample_size, \n",
    "                                                                       fraction,\n",
    "                                                                       (1.0-iout) * fraction\n",
    "                                                                       ))"
   ]
  },
  {
   "cell_type": "code",
   "execution_count": null,
   "metadata": {},
   "outputs": [],
   "source": [
    "IOUT 0.8216 50\n",
    "\n",
    "size (0, 0) | IOUT 0.9481 | sample nr 1562 | fraction 0.3905 | max gain 0.0202\n",
    "size (1, 300) | IOUT 0.1897 | sample nr 311 | fraction 0.07775 | max gain 0.0630\n",
    "size (300, 1000) | IOUT 0.5573 | sample nr 260 | fraction 0.065 | max gain 0.0288\n",
    "size (1000, 3000) | IOUT 0.7579 | sample nr 508 | fraction 0.127 | max gain 0.0308\n",
    "size (3000, 9000) | IOUT 0.8989 | sample nr 1090 | fraction 0.2725 | max gain 0.0275\n",
    "size (9000, 10201) | IOUT 0.8768 | sample nr 272 | fraction 0.068 | max gain 0.0084\n",
    "\n",
    "IOUT 0.8210 45\n",
    "\n",
    "size (0, 0) | IOUT 0.9456 | sample nr 1562 | fraction 0.3905 | max gain 0.0213\n",
    "size (1, 300) | IOUT 0.1900 | sample nr 311 | fraction 0.07775 | max gain 0.0630\n",
    "size (300, 1000) | IOUT 0.5596 | sample nr 260 | fraction 0.065 | max gain 0.0286\n",
    "size (1000, 3000) | IOUT 0.7579 | sample nr 508 | fraction 0.127 | max gain 0.0308\n",
    "size (3000, 9000) | IOUT 0.8996 | sample nr 1090 | fraction 0.2725 | max gain 0.0273\n",
    "size (9000, 10201) | IOUT 0.8776 | sample nr 272 | fraction 0.068 | max gain 0.0083\n",
    "\n",
    "\n",
    "IOUT 0.8195 40\n",
    "\n",
    "size (0, 0) | IOUT 0.9411 | sample nr 1562 | fraction 0.3905 | max gain 0.0230\n",
    "size (1, 300) | IOUT 0.1916 | sample nr 311 | fraction 0.07775 | max gain 0.0629\n",
    "size (300, 1000) | IOUT 0.5581 | sample nr 260 | fraction 0.065 | max gain 0.0287\n",
    "size (1000, 3000) | IOUT 0.7583 | sample nr 508 | fraction 0.127 | max gain 0.0307\n",
    "size (3000, 9000) | IOUT 0.9002 | sample nr 1090 | fraction 0.2725 | max gain 0.0272\n",
    "size (9000, 10201) | IOUT 0.8783 | sample nr 272 | fraction 0.068 | max gain 0.0083"
   ]
  },
  {
   "cell_type": "markdown",
   "metadata": {},
   "source": [
    "# Predicted mask exploration"
   ]
  },
  {
   "cell_type": "code",
   "execution_count": 7,
   "metadata": {
    "scrolled": false
   },
   "outputs": [
    {
     "name": "stdout",
     "output_type": "stream",
     "text": [
      "sample nr 220 fraction 0.055 mean IOUT 0.01\n"
     ]
    },
    {
     "data": {
      "application/vnd.jupyter.widget-view+json": {
       "model_id": "75540f5a3fb245c383eb79713b330796",
       "version_major": 2,
       "version_minor": 0
      },
      "text/plain": [
       "interactive(children=(IntSlider(value=0, description='idx', max=219), Output()), _dom_classes=('widget-interac…"
      ]
     },
     "metadata": {},
     "output_type": "display_data"
    }
   ],
   "source": [
    "results_filtered = results.copy()\n",
    "results_filtered = filter_iout(results_filtered, iout_range=(0.0,0.2))\n",
    "results_filtered = filter_size(results_filtered, size_range=(1, 300))\n",
    "\n",
    "print('sample nr {} fraction {} mean IOUT {}'.format(len(results_filtered), \n",
    "                                                     len(results_filtered)/len(results),\n",
    "                                                     np.mean(list(zip(*results_filtered))[0])))\n",
    "\n",
    "@ipy.interact(idx = ipy.IntSlider(min=0,max=len(results_filtered)-1,value=0,step=1))\n",
    "def present(idx=idx):\n",
    "    iout, s, z, img, pred_mask, pred_map, gt = results_filtered[idx]\n",
    "    print('IOUT {}, size {}, depth {}'.format(iout, s, z))\n",
    "    plot_list(images=[img, pred_map],labels=[pred_mask, gt])"
   ]
  },
  {
   "cell_type": "code",
   "execution_count": null,
   "metadata": {},
   "outputs": [],
   "source": []
  }
 ],
 "metadata": {
  "kernelspec": {
   "display_name": "Python 3",
   "language": "python",
   "name": "python3"
  },
  "language_info": {
   "codemirror_mode": {
    "name": "ipython",
    "version": 3
   },
   "file_extension": ".py",
   "mimetype": "text/x-python",
   "name": "python",
   "nbconvert_exporter": "python",
   "pygments_lexer": "ipython3",
   "version": "3.6.6"
  }
 },
 "nbformat": 4,
 "nbformat_minor": 2
}
