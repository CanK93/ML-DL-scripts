{
 "cells": [
  {
   "cell_type": "code",
   "execution_count": 1,
   "metadata": {},
   "outputs": [
    {
     "name": "stderr",
     "output_type": "stream",
     "text": [
      "Using TensorFlow backend.\n"
     ]
    }
   ],
   "source": [
    "from sklearn.externals import joblib\n",
    "import gc\n",
    "import pandas as pd\n",
    "import numpy as np\n",
    "import matplotlib as plt\n",
    "from PIL import Image\n",
    "%matplotlib inline  \n",
    "gc.collect()\n",
    "from keras.preprocessing.image import load_img#,save_img"
   ]
  },
  {
   "cell_type": "markdown",
   "metadata": {},
   "source": [
    "oof_train  = joblib.load('./oof test/out_of_fold_test_predictions 828.pkl')\n",
    "oof_train2 = joblib.load('./oof test/out_of_fold_test_predictions 827.pkl')\n",
    "oof_train3 = joblib.load('./oof test/out_of_fold_test_predictions 825.pkl')\n",
    "oof_train4 = joblib.load('./oof test/out_of_fold_test_predictions 828 + 15epoch resnet.pkl')\n",
    "oof_train_top1  = joblib.load('./oof test/out_of_fold_test_predictions fixed pool +15.pkl')\n",
    "oof_train_top2  = joblib.load('./oof test/out_of_fold_test_predictions 835 fixed pool.pkl')\n",
    "oof_train5 = joblib.load('./oof test/out_of_fold_test_predictions resnet34 lb824.pkl') \n",
    "oof_train6 = joblib.load('./oof test/out_of_fold_test_predictions 825 isnt deconv.pkl')\n",
    "oof_train_top0 = joblib.load('./oof test/out_of_fold_test_predictions lb837 152 fixed v2 pool.pkl')\n",
    "\n",
    "oof_train['images'] = 0.30*(oof_train_top1['images']*0.4+oof_train_top2['images']*0.6) + 0.20*(oof_train['images']*0.25 + 0.20*oof_train2['images']+ 0.15*oof_train3['images']+ 0.25*oof_train4['images']+oof_train5['images']*0.15)+ 0.70*oof_train_top0['images']"
   ]
  },
  {
   "cell_type": "markdown",
   "metadata": {},
   "source": [
    "oof_train['images'] = 0.3*(oof_train_top1['images']*0.4+oof_train_top2['images']*0.6) + 0.2*(oof_train['images']*0.25 + 0.20*oof_train2['images']+ 0.15*oof_train3['images']+ 0.20*oof_train4['images']+oof_train5['images']*0.10 + oof_train6['images']*0.10)+ 0.60*oof_train_top0['images']"
   ]
  },
  {
   "cell_type": "code",
   "execution_count": 2,
   "metadata": {},
   "outputs": [
    {
     "data": {
      "text/plain": [
       "1.0"
      ]
     },
     "execution_count": 2,
     "metadata": {},
     "output_type": "execute_result"
    }
   ],
   "source": [
    "0.55+0.05+0.18+0.17+0.05"
   ]
  },
  {
   "cell_type": "code",
   "execution_count": 3,
   "metadata": {},
   "outputs": [
    {
     "data": {
      "text/plain": [
       "16"
      ]
     },
     "execution_count": 3,
     "metadata": {},
     "output_type": "execute_result"
    }
   ],
   "source": [
    "oof_train_top0  = joblib.load('offpredicts.pkl')\n",
    "oof_train_top1  = joblib.load('./oof test/oof_test_predictions srce hyper.pkl')\n",
    "oof_train_stride1 = joblib.load('./oof test/oof_test_predictions scse stride1.pkl')\n",
    "oof_train_stride1v2 = joblib.load('./oof test/oof_test_predictions scse stride1 v2.pkl')\n",
    "oof_train_stride1v3 = joblib.load('./oof test/oof_test_predictions 0.8359.pkl')\n",
    "oof_train_top0['images'] = oof_train_top0['images']*0.55 + 0.05*oof_train_top1['images'] + 0.18*oof_train_stride1['images'] + 0.17*oof_train_stride1v2['images'] + 0.05*oof_train_stride1v3['images']\n",
    "del oof_train_top1, oof_train_stride1, oof_train_stride1v2, oof_train_stride1v3\n",
    "gc.collect()"
   ]
  },
  {
   "cell_type": "code",
   "execution_count": 4,
   "metadata": {},
   "outputs": [],
   "source": [
    "train_df = pd.read_csv(\"/home/dex/Desktop/ml/salt/input/train.csv\", index_col=\"id\", usecols=[0])\n",
    "depths_df = pd.read_csv(\"/home/dex/Desktop/ml/salt/input/depths.csv\", index_col=\"id\")\n",
    "train_df = train_df.join(depths_df)\n",
    "test_df_lb866 = depths_df[~depths_df.index.isin(train_df.index)]"
   ]
  },
  {
   "cell_type": "code",
   "execution_count": 5,
   "metadata": {},
   "outputs": [
    {
     "name": "stderr",
     "output_type": "stream",
     "text": [
      "/home/dex/anaconda3/lib/python3.6/site-packages/keras_preprocessing/image.py:489: UserWarning: grayscale is deprecated. Please use color_mode = \"grayscale\"\n",
      "  warnings.warn('grayscale is deprecated. Please use '\n",
      "/home/dex/anaconda3/lib/python3.6/site-packages/ipykernel_launcher.py:1: SettingWithCopyWarning: \n",
      "A value is trying to be set on a copy of a slice from a DataFrame.\n",
      "Try using .loc[row_indexer,col_indexer] = value instead\n",
      "\n",
      "See the caveats in the documentation: http://pandas.pydata.org/pandas-docs/stable/indexing.html#indexing-view-versus-copy\n",
      "  \"\"\"Entry point for launching an IPython kernel.\n"
     ]
    },
    {
     "data": {
      "text/plain": [
       "14"
      ]
     },
     "execution_count": 5,
     "metadata": {},
     "output_type": "execute_result"
    }
   ],
   "source": [
    "test_df_lb866[\"images\"] = [np.array(load_img(\"./lb866/{}.png\".format(idx), grayscale=True)) / 255   for idx in (test_df_lb866.index)]\n",
    "test_df_lb866 = test_df_lb866.loc[oof_train_top0['ids']]\n",
    "#del oof_train\n",
    "gc.collect()"
   ]
  },
  {
   "cell_type": "code",
   "execution_count": 6,
   "metadata": {},
   "outputs": [
    {
     "data": {
      "text/html": [
       "<div>\n",
       "<style scoped>\n",
       "    .dataframe tbody tr th:only-of-type {\n",
       "        vertical-align: middle;\n",
       "    }\n",
       "\n",
       "    .dataframe tbody tr th {\n",
       "        vertical-align: top;\n",
       "    }\n",
       "\n",
       "    .dataframe thead th {\n",
       "        text-align: right;\n",
       "    }\n",
       "</style>\n",
       "<table border=\"1\" class=\"dataframe\">\n",
       "  <thead>\n",
       "    <tr style=\"text-align: right;\">\n",
       "      <th></th>\n",
       "      <th>z</th>\n",
       "      <th>images</th>\n",
       "    </tr>\n",
       "    <tr>\n",
       "      <th>id</th>\n",
       "      <th></th>\n",
       "      <th></th>\n",
       "    </tr>\n",
       "  </thead>\n",
       "  <tbody>\n",
       "    <tr>\n",
       "      <th>547bfceee8</th>\n",
       "      <td>632</td>\n",
       "      <td>[[0.0, 0.0, 0.0, 0.0, 0.0, 0.0, 0.0, 0.0, 0.0,...</td>\n",
       "    </tr>\n",
       "    <tr>\n",
       "      <th>de54a0fc4e</th>\n",
       "      <td>631</td>\n",
       "      <td>[[0.11764705882352941, 0.11372549019607843, 0....</td>\n",
       "    </tr>\n",
       "    <tr>\n",
       "      <th>81b84bb9c9</th>\n",
       "      <td>126</td>\n",
       "      <td>[[0.0, 0.0, 0.0, 0.0, 0.0, 0.0, 0.0, 0.0, 0.0,...</td>\n",
       "    </tr>\n",
       "    <tr>\n",
       "      <th>ecf1ba6ab9</th>\n",
       "      <td>804</td>\n",
       "      <td>[[0.0, 0.0, 0.0, 0.0, 0.0, 0.0, 0.0, 0.0, 0.0,...</td>\n",
       "    </tr>\n",
       "    <tr>\n",
       "      <th>ce61662084</th>\n",
       "      <td>539</td>\n",
       "      <td>[[0.0, 0.0, 0.0, 0.0, 0.0, 0.0, 0.0, 0.0, 0.0,...</td>\n",
       "    </tr>\n",
       "  </tbody>\n",
       "</table>\n",
       "</div>"
      ],
      "text/plain": [
       "              z                                             images\n",
       "id                                                                \n",
       "547bfceee8  632  [[0.0, 0.0, 0.0, 0.0, 0.0, 0.0, 0.0, 0.0, 0.0,...\n",
       "de54a0fc4e  631  [[0.11764705882352941, 0.11372549019607843, 0....\n",
       "81b84bb9c9  126  [[0.0, 0.0, 0.0, 0.0, 0.0, 0.0, 0.0, 0.0, 0.0,...\n",
       "ecf1ba6ab9  804  [[0.0, 0.0, 0.0, 0.0, 0.0, 0.0, 0.0, 0.0, 0.0,...\n",
       "ce61662084  539  [[0.0, 0.0, 0.0, 0.0, 0.0, 0.0, 0.0, 0.0, 0.0,..."
      ]
     },
     "execution_count": 6,
     "metadata": {},
     "output_type": "execute_result"
    }
   ],
   "source": [
    "test_df_lb866.head()"
   ]
  },
  {
   "cell_type": "code",
   "execution_count": 7,
   "metadata": {},
   "outputs": [
    {
     "name": "stderr",
     "output_type": "stream",
     "text": [
      "/home/dex/anaconda3/lib/python3.6/site-packages/keras_preprocessing/image.py:489: UserWarning: grayscale is deprecated. Please use color_mode = \"grayscale\"\n",
      "  warnings.warn('grayscale is deprecated. Please use '\n",
      "/home/dex/anaconda3/lib/python3.6/site-packages/ipykernel_launcher.py:6: SettingWithCopyWarning: \n",
      "A value is trying to be set on a copy of a slice from a DataFrame.\n",
      "Try using .loc[row_indexer,col_indexer] = value instead\n",
      "\n",
      "See the caveats in the documentation: http://pandas.pydata.org/pandas-docs/stable/indexing.html#indexing-view-versus-copy\n",
      "  \n"
     ]
    }
   ],
   "source": [
    "train_df = pd.read_csv(\"/home/dex/Desktop/ml/salt/input/train.csv\", index_col=\"id\", usecols=[0])\n",
    "depths_df = pd.read_csv(\"/home/dex/Desktop/ml/salt/input/depths.csv\", index_col=\"id\")\n",
    "train_df = train_df.join(depths_df)\n",
    "test_df = depths_df[~depths_df.index.isin(train_df.index)]\n",
    "\n",
    "test_df[\"images\"] = [np.array(load_img(\"./output_prev_models_p/{}.png\".format(idx), grayscale=True)) / 255   for idx in (test_df.index)]"
   ]
  },
  {
   "cell_type": "code",
   "execution_count": 8,
   "metadata": {},
   "outputs": [
    {
     "data": {
      "text/plain": [
       "14"
      ]
     },
     "execution_count": 8,
     "metadata": {},
     "output_type": "execute_result"
    }
   ],
   "source": [
    "test_df = test_df.loc[oof_train_top0['ids']]\n",
    "#del oof_train\n",
    "gc.collect()\n"
   ]
  },
  {
   "cell_type": "code",
   "execution_count": 9,
   "metadata": {},
   "outputs": [
    {
     "data": {
      "text/html": [
       "<div>\n",
       "<style scoped>\n",
       "    .dataframe tbody tr th:only-of-type {\n",
       "        vertical-align: middle;\n",
       "    }\n",
       "\n",
       "    .dataframe tbody tr th {\n",
       "        vertical-align: top;\n",
       "    }\n",
       "\n",
       "    .dataframe thead th {\n",
       "        text-align: right;\n",
       "    }\n",
       "</style>\n",
       "<table border=\"1\" class=\"dataframe\">\n",
       "  <thead>\n",
       "    <tr style=\"text-align: right;\">\n",
       "      <th></th>\n",
       "      <th>z</th>\n",
       "      <th>images</th>\n",
       "    </tr>\n",
       "    <tr>\n",
       "      <th>id</th>\n",
       "      <th></th>\n",
       "      <th></th>\n",
       "    </tr>\n",
       "  </thead>\n",
       "  <tbody>\n",
       "    <tr>\n",
       "      <th>547bfceee8</th>\n",
       "      <td>632</td>\n",
       "      <td>[[0.0, 0.0, 0.0, 0.0, 0.0, 0.0, 0.0, 0.0, 0.0,...</td>\n",
       "    </tr>\n",
       "    <tr>\n",
       "      <th>de54a0fc4e</th>\n",
       "      <td>631</td>\n",
       "      <td>[[0.0196078431372549, 0.0196078431372549, 0.01...</td>\n",
       "    </tr>\n",
       "    <tr>\n",
       "      <th>81b84bb9c9</th>\n",
       "      <td>126</td>\n",
       "      <td>[[0.0, 0.0, 0.0, 0.0, 0.0, 0.0, 0.0, 0.0, 0.0,...</td>\n",
       "    </tr>\n",
       "    <tr>\n",
       "      <th>ecf1ba6ab9</th>\n",
       "      <td>804</td>\n",
       "      <td>[[0.0, 0.0, 0.0, 0.0, 0.0, 0.0, 0.0, 0.0, 0.0,...</td>\n",
       "    </tr>\n",
       "    <tr>\n",
       "      <th>ce61662084</th>\n",
       "      <td>539</td>\n",
       "      <td>[[0.0, 0.0, 0.0, 0.0, 0.0, 0.0, 0.0, 0.0, 0.0,...</td>\n",
       "    </tr>\n",
       "  </tbody>\n",
       "</table>\n",
       "</div>"
      ],
      "text/plain": [
       "              z                                             images\n",
       "id                                                                \n",
       "547bfceee8  632  [[0.0, 0.0, 0.0, 0.0, 0.0, 0.0, 0.0, 0.0, 0.0,...\n",
       "de54a0fc4e  631  [[0.0196078431372549, 0.0196078431372549, 0.01...\n",
       "81b84bb9c9  126  [[0.0, 0.0, 0.0, 0.0, 0.0, 0.0, 0.0, 0.0, 0.0,...\n",
       "ecf1ba6ab9  804  [[0.0, 0.0, 0.0, 0.0, 0.0, 0.0, 0.0, 0.0, 0.0,...\n",
       "ce61662084  539  [[0.0, 0.0, 0.0, 0.0, 0.0, 0.0, 0.0, 0.0, 0.0,..."
      ]
     },
     "execution_count": 9,
     "metadata": {},
     "output_type": "execute_result"
    }
   ],
   "source": [
    "test_df.head()"
   ]
  },
  {
   "cell_type": "raw",
   "metadata": {},
   "source": [
    "#oof_train_top0 = joblib.load('./oof test/out_of_fold_test_predictions lb837 152 fixed v2 pool.pkl')\n",
    "oof_train_841_16f = joblib.load('./oof test/out_of_fold_test_predictions 16filter fixed poolv2 lb841.pkl')\n",
    "oof_train_838_32f = joblib.load('./oof test/out_of_fold_test_predictions 32filter fixed poolv2 lb838.pkl')\n",
    "\n",
    "resnext_835 = joblib.load('./oof test/oof_test_predictions resnext50 hyper lb835.pkl')\n",
    "resnext_838 = joblib.load('./oof test/oof_test_predictions lb838 hyper.pkl')\n",
    "resnext_846 = joblib.load('./oof test/oof_test_predictions lb846 scse.pkl')\n",
    "resnext_846v2 = joblib.load('./oof test/oof_test_predictions lb846 scse +200epoch.pkl')\n",
    "oof_train_top0['images'] = 0.35*resnext_846['images'] +0.35*resnext_846v2['images'] + 0.30*(0.25*resnext_838['images']+ oof_train_top0['images']*0.06 + oof_train_841_16f['images']*0.60 + 0.08*oof_train_838_32f['images']+0.01*resnext_835['images'])\n",
    "\n",
    "del oof_train_841_16f, oof_train_838_32f, resnext_835, resnext_838, resnext_846, resnext_846v2\n",
    "gc.collect() \n",
    "\n",
    "oof_train_top1  = joblib.load('./oof test/out_of_fold_test_predictions fixed pool +15.pkl')\n",
    "oof_train_top2  = joblib.load('./oof test/out_of_fold_test_predictions 835 fixed pool.pkl')\n",
    "oof_train_wo_aux = joblib.load('./oof test/out_of_fold_test_predictions drop0 lb827.pkl')\n",
    "oof_train_top1['images']  = (oof_train_top1['images']*0.4+oof_train_top2['images']*0.58 + 0.02*oof_train_wo_aux['images'])\n",
    "\n",
    "del oof_train_top2, oof_train_wo_aux\n",
    "gc.collect()\n",
    "\n",
    "oof_train_top0['images']  = 0.13*oof_train_top1['images']  + 0.87*oof_train_top0['images']\n",
    "del oof_train_top1\n",
    "gc.collect()"
   ]
  },
  {
   "cell_type": "markdown",
   "metadata": {},
   "source": [
    "joblib.dump(oof_train, 'offpredicts.pkl')"
   ]
  },
  {
   "cell_type": "code",
   "execution_count": 10,
   "metadata": {},
   "outputs": [],
   "source": [
    "preds1 = []\n",
    "for val in test_df['images'].values:\n",
    "    preds1.append(val)\n",
    "preds1 = np.asarray(preds1)"
   ]
  },
  {
   "cell_type": "code",
   "execution_count": 11,
   "metadata": {},
   "outputs": [
    {
     "data": {
      "text/html": [
       "<div>\n",
       "<style scoped>\n",
       "    .dataframe tbody tr th:only-of-type {\n",
       "        vertical-align: middle;\n",
       "    }\n",
       "\n",
       "    .dataframe tbody tr th {\n",
       "        vertical-align: top;\n",
       "    }\n",
       "\n",
       "    .dataframe thead th {\n",
       "        text-align: right;\n",
       "    }\n",
       "</style>\n",
       "<table border=\"1\" class=\"dataframe\">\n",
       "  <thead>\n",
       "    <tr style=\"text-align: right;\">\n",
       "      <th></th>\n",
       "      <th>z</th>\n",
       "      <th>images</th>\n",
       "    </tr>\n",
       "    <tr>\n",
       "      <th>id</th>\n",
       "      <th></th>\n",
       "      <th></th>\n",
       "    </tr>\n",
       "  </thead>\n",
       "  <tbody>\n",
       "    <tr>\n",
       "      <th>547bfceee8</th>\n",
       "      <td>632</td>\n",
       "      <td>[[0.0, 0.0, 0.0, 0.0, 0.0, 0.0, 0.0, 0.0, 0.0,...</td>\n",
       "    </tr>\n",
       "    <tr>\n",
       "      <th>de54a0fc4e</th>\n",
       "      <td>631</td>\n",
       "      <td>[[0.0196078431372549, 0.0196078431372549, 0.01...</td>\n",
       "    </tr>\n",
       "    <tr>\n",
       "      <th>81b84bb9c9</th>\n",
       "      <td>126</td>\n",
       "      <td>[[0.0, 0.0, 0.0, 0.0, 0.0, 0.0, 0.0, 0.0, 0.0,...</td>\n",
       "    </tr>\n",
       "    <tr>\n",
       "      <th>ecf1ba6ab9</th>\n",
       "      <td>804</td>\n",
       "      <td>[[0.0, 0.0, 0.0, 0.0, 0.0, 0.0, 0.0, 0.0, 0.0,...</td>\n",
       "    </tr>\n",
       "    <tr>\n",
       "      <th>ce61662084</th>\n",
       "      <td>539</td>\n",
       "      <td>[[0.0, 0.0, 0.0, 0.0, 0.0, 0.0, 0.0, 0.0, 0.0,...</td>\n",
       "    </tr>\n",
       "  </tbody>\n",
       "</table>\n",
       "</div>"
      ],
      "text/plain": [
       "              z                                             images\n",
       "id                                                                \n",
       "547bfceee8  632  [[0.0, 0.0, 0.0, 0.0, 0.0, 0.0, 0.0, 0.0, 0.0,...\n",
       "de54a0fc4e  631  [[0.0196078431372549, 0.0196078431372549, 0.01...\n",
       "81b84bb9c9  126  [[0.0, 0.0, 0.0, 0.0, 0.0, 0.0, 0.0, 0.0, 0.0,...\n",
       "ecf1ba6ab9  804  [[0.0, 0.0, 0.0, 0.0, 0.0, 0.0, 0.0, 0.0, 0.0,...\n",
       "ce61662084  539  [[0.0, 0.0, 0.0, 0.0, 0.0, 0.0, 0.0, 0.0, 0.0,..."
      ]
     },
     "execution_count": 11,
     "metadata": {},
     "output_type": "execute_result"
    }
   ],
   "source": [
    "test_df.head()"
   ]
  },
  {
   "cell_type": "code",
   "execution_count": 12,
   "metadata": {},
   "outputs": [],
   "source": [
    "preds2 = []\n",
    "for val in oof_train_top0['images']:\n",
    "    preds2.append(val[1,:,:])\n",
    "    #break\n",
    "preds2 = np.asarray(preds2)"
   ]
  },
  {
   "cell_type": "code",
   "execution_count": 13,
   "metadata": {},
   "outputs": [
    {
     "data": {
      "text/html": [
       "<div>\n",
       "<style scoped>\n",
       "    .dataframe tbody tr th:only-of-type {\n",
       "        vertical-align: middle;\n",
       "    }\n",
       "\n",
       "    .dataframe tbody tr th {\n",
       "        vertical-align: top;\n",
       "    }\n",
       "\n",
       "    .dataframe thead th {\n",
       "        text-align: right;\n",
       "    }\n",
       "</style>\n",
       "<table border=\"1\" class=\"dataframe\">\n",
       "  <thead>\n",
       "    <tr style=\"text-align: right;\">\n",
       "      <th></th>\n",
       "      <th>z</th>\n",
       "      <th>images</th>\n",
       "    </tr>\n",
       "    <tr>\n",
       "      <th>id</th>\n",
       "      <th></th>\n",
       "      <th></th>\n",
       "    </tr>\n",
       "  </thead>\n",
       "  <tbody>\n",
       "    <tr>\n",
       "      <th>547bfceee8</th>\n",
       "      <td>632</td>\n",
       "      <td>[[0.0, 0.0, 0.0, 0.0, 0.0, 0.0, 0.0, 0.0, 0.0,...</td>\n",
       "    </tr>\n",
       "    <tr>\n",
       "      <th>de54a0fc4e</th>\n",
       "      <td>631</td>\n",
       "      <td>[[0.11764705882352941, 0.11372549019607843, 0....</td>\n",
       "    </tr>\n",
       "    <tr>\n",
       "      <th>81b84bb9c9</th>\n",
       "      <td>126</td>\n",
       "      <td>[[0.0, 0.0, 0.0, 0.0, 0.0, 0.0, 0.0, 0.0, 0.0,...</td>\n",
       "    </tr>\n",
       "    <tr>\n",
       "      <th>ecf1ba6ab9</th>\n",
       "      <td>804</td>\n",
       "      <td>[[0.0, 0.0, 0.0, 0.0, 0.0, 0.0, 0.0, 0.0, 0.0,...</td>\n",
       "    </tr>\n",
       "    <tr>\n",
       "      <th>ce61662084</th>\n",
       "      <td>539</td>\n",
       "      <td>[[0.0, 0.0, 0.0, 0.0, 0.0, 0.0, 0.0, 0.0, 0.0,...</td>\n",
       "    </tr>\n",
       "  </tbody>\n",
       "</table>\n",
       "</div>"
      ],
      "text/plain": [
       "              z                                             images\n",
       "id                                                                \n",
       "547bfceee8  632  [[0.0, 0.0, 0.0, 0.0, 0.0, 0.0, 0.0, 0.0, 0.0,...\n",
       "de54a0fc4e  631  [[0.11764705882352941, 0.11372549019607843, 0....\n",
       "81b84bb9c9  126  [[0.0, 0.0, 0.0, 0.0, 0.0, 0.0, 0.0, 0.0, 0.0,...\n",
       "ecf1ba6ab9  804  [[0.0, 0.0, 0.0, 0.0, 0.0, 0.0, 0.0, 0.0, 0.0,...\n",
       "ce61662084  539  [[0.0, 0.0, 0.0, 0.0, 0.0, 0.0, 0.0, 0.0, 0.0,..."
      ]
     },
     "execution_count": 13,
     "metadata": {},
     "output_type": "execute_result"
    }
   ],
   "source": [
    "preds3_lb866 = []\n",
    "for val in test_df_lb866['images'].values:\n",
    "    preds3_lb866.append(val)\n",
    "preds3_lb866 = np.asarray(preds3_lb866)\n",
    "test_df_lb866.head()"
   ]
  },
  {
   "cell_type": "code",
   "execution_count": 14,
   "metadata": {},
   "outputs": [],
   "source": [
    "preds1 = 0.25*(0.5*preds1 + 0.5*preds2) + 0.75*preds3_lb866"
   ]
  },
  {
   "cell_type": "code",
   "execution_count": 15,
   "metadata": {},
   "outputs": [
    {
     "data": {
      "text/plain": [
       "(0.99510366, 0.9890928187791039)"
      ]
     },
     "execution_count": 15,
     "metadata": {},
     "output_type": "execute_result"
    }
   ],
   "source": [
    "preds2.max(), preds1.max()"
   ]
  },
  {
   "cell_type": "code",
   "execution_count": 16,
   "metadata": {},
   "outputs": [],
   "source": [
    "predictions = preds1\n",
    "ids = oof_train_top0['ids']"
   ]
  },
  {
   "cell_type": "code",
   "execution_count": 17,
   "metadata": {},
   "outputs": [],
   "source": [
    "def binarize_img(img_ens):\n",
    "    positive = img_ens > threshold_best\n",
    "    img_ens[positive] = 255\n",
    "    img_ens[~positive] = 0\n",
    "    return img_ens.astype('uint8')"
   ]
  },
  {
   "cell_type": "code",
   "execution_count": 18,
   "metadata": {},
   "outputs": [],
   "source": [
    "def remove_small_blobs(mask, min_size=6):\n",
    "    # find all your connected components (white blobs in your image)\n",
    "    mask = binarize_img(mask)\n",
    "    nb_components, output, stats, centroids = cv2.connectedComponentsWithStats(mask, connectivity=8)\n",
    "    # connectedComponentswithStats yields every seperated component with information on each of them, such as size\n",
    "    # the following part is just taking out the background which is also considered a component, but most of the time we don't want that.\n",
    "    sizes = stats[1:, -1]\n",
    "    nb_components = nb_components - 1\n",
    "\n",
    "    # minimum size of particles we want to keep (number of pixels)\n",
    "    # here, it's a fixed value, but you can set it as you want, eg the mean of the sizes or whatever\n",
    "\n",
    "\n",
    "    # your answer image\n",
    "    img2 = np.zeros((output.shape), dtype='uint8')\n",
    "    # for every component in the image, you keep it only if it's above min_size\n",
    "    for i in range(0, nb_components):\n",
    "        if sizes[i] >= min_size:\n",
    "            img2[output == i + 1] = 255\n",
    "    return img2\n",
    "import numpy as np\n",
    "def rle_encode(im):\n",
    "    '''\n",
    "    im: numpy array, 1 - mask, 0 - background\n",
    "    Returns run length as string formated\n",
    "    '''\n",
    "    pixels = im.flatten(order = 'F')\n",
    "    pixels = np.concatenate([[0], pixels, [0]])\n",
    "    runs = np.where(pixels[1:] != pixels[:-1])[0] + 1\n",
    "    runs[1::2] -= runs[::2]\n",
    "    return ' '.join(str(x) for x in runs)\n",
    "def filter_image(img):\n",
    "    if img.sum() < 6:\n",
    "        return np.zeros(img.shape)\n",
    "    else:\n",
    "        return img"
   ]
  },
  {
   "cell_type": "code",
   "execution_count": 21,
   "metadata": {},
   "outputs": [],
   "source": [
    "from tqdm import tqdm\n",
    "import cv2\n",
    "threshold_best = 0.43\n",
    "pred_dict = {idx: rle_encode(remove_small_blobs(pred)) for idx, pred in (zip(ids, predictions))}\n",
    "sub = pd.DataFrame.from_dict(pred_dict,orient='index')\n",
    "sub.index.names = ['id']\n",
    "sub.columns = ['rle_mask']\n",
    "sub.to_csv('remove_small_blobs(6) 0.25*(0.5*kmike_v1 + 0.5*insaf) + 0.75*lb866 thresh 43(bombanulo).csv')"
   ]
  },
  {
   "cell_type": "code",
   "execution_count": 20,
   "metadata": {},
   "outputs": [],
   "source": [
    "from tqdm import tqdm\n",
    "threshold_best = 0.41\n",
    "pred_dict = {idx: rle_encode(filter_image(pred > threshold_best)) for idx, pred in (zip(ids, predictions))}\n",
    "sub = pd.DataFrame.from_dict(pred_dict,orient='index')\n",
    "sub.index.names = ['id']\n",
    "sub.columns = ['rle_mask']\n",
    "sub.to_csv('0.2*(0.7*kmike_v1 + 0.3*insaf) + 0.8*lb866 thresh 41 filtered 6 (tryhard).csv')"
   ]
  },
  {
   "cell_type": "code",
   "execution_count": 110,
   "metadata": {},
   "outputs": [
    {
     "data": {
      "image/png": "[encoded data removed]",
      "text/plain": [
       "<Figure size 2160x1080 with 11 Axes>"
      ]
     },
     "metadata": {
      "needs_background": "light"
     },
     "output_type": "display_data"
    }
   ],
   "source": [
    "df = pd.read_csv('0.3*(0.5*kmike_v1 + 0.5*insaf) + 0.7*lb866 thresh 40 filtered 10 (tryhard).csv')\n",
    "i = 0\n",
    "j = 0\n",
    "plt.figure(figsize=(30,15))\n",
    "plt.subplots_adjust(bottom=0.2, top=0.8, hspace=0.2)  #adjust this to change vertical and horiz. spacings..\n",
    "# Visualizing the predicted outputs\n",
    "while True:\n",
    "    if str(df.loc[i,'rle_mask'])!=str(np.nan):        \n",
    "        decoded_mask = rle_decode(df.loc[i,'rle_mask'])\n",
    "        plt.subplot(1,11,j+1)\n",
    "        plt.imshow(decoded_mask)\n",
    "        plt.title('ID: '+df.loc[i,'id'])\n",
    "        j = j + 1\n",
    "        if j>10:\n",
    "            break\n",
    "    i = i + 1"
   ]
  },
  {
   "cell_type": "code",
   "execution_count": 59,
   "metadata": {},
   "outputs": [
    {
     "data": {
      "image/png": "[encoded data removed]",
      "text/plain": [
       "<Figure size 2160x1080 with 11 Axes>"
      ]
     },
     "metadata": {
      "needs_background": "light"
     },
     "output_type": "display_data"
    }
   ],
   "source": [
    "df = pd.read_csv('0.2*(0.7*kmike_v1 + 0.3*insaf_V4) + 0.8*lb866 thresh 40 filtered 6.csv')\n",
    "i = 0\n",
    "j = 0\n",
    "plt.figure(figsize=(30,15))\n",
    "plt.subplots_adjust(bottom=0.2, top=0.8, hspace=0.2)  #adjust this to change vertical and horiz. spacings..\n",
    "# Visualizing the predicted outputs\n",
    "while True:\n",
    "    if str(df.loc[i,'rle_mask'])!=str(np.nan):        \n",
    "        decoded_mask = rle_decode(df.loc[i,'rle_mask'])\n",
    "        plt.subplot(1,11,j+1)\n",
    "        plt.imshow(decoded_mask)\n",
    "        plt.title('ID: '+df.loc[i,'id'])\n",
    "        j = j + 1\n",
    "        if j>10:\n",
    "            break\n",
    "    i = i + 1"
   ]
  },
  {
   "cell_type": "code",
   "execution_count": 22,
   "metadata": {},
   "outputs": [
    {
     "data": {
      "image/png": "[encoded data removed]",
      "text/plain": [
       "<Figure size 2160x1080 with 11 Axes>"
      ]
     },
     "metadata": {
      "needs_background": "light"
     },
     "output_type": "display_data"
    }
   ],
   "source": [
    "import numpy as np\n",
    "import pydensecrf.densecrf as dcrf\n",
    "from skimage.io import imread, imsave\n",
    "from pydensecrf.utils import unary_from_labels, create_pairwise_bilateral\n",
    "from skimage.color import gray2rgb\n",
    "from skimage.color import rgb2gray\n",
    "import matplotlib.pyplot as plt\n",
    "import pandas as pd\n",
    "from tqdm import tqdm\n",
    "from pycocotools import mask as cocomask\n",
    "def binary_from_rle(rle):\n",
    "    return cocomask.decode(rle)\n",
    "%matplotlib inline\n",
    "\n",
    "def rle_decode(rle_mask):\n",
    "    '''\n",
    "    rle_mask: run-length as string formated (start length)\n",
    "    shape: (height,width) of array to return \n",
    "    Returns numpy array, 1 - mask, 0 - background\n",
    "\n",
    "    '''\n",
    "    if rle_mask !=str(np.nan):\n",
    "        s = rle_mask.split()\n",
    "        starts, lengths = [np.asarray(x, dtype=int) for x in (s[0:][::2], s[1:][::2])]\n",
    "        starts -= 1\n",
    "        ends = starts + lengths\n",
    "        img = np.zeros(101*101, dtype=np.uint8)\n",
    "        for lo, hi in zip(starts, ends):\n",
    "            img[lo:hi] = 1\n",
    "        return img.reshape(101,101)\n",
    "df = pd.read_csv('remove_small_blobs(6) 0.25*(0.5*kmike_v1 + 0.5*insaf) + 0.75*lb866 thresh 43(bombanulo).csv')\n",
    "i = 0\n",
    "j = 0\n",
    "plt.figure(figsize=(30,15))\n",
    "plt.subplots_adjust(bottom=0.2, top=0.8, hspace=0.2)  #adjust this to change vertical and horiz. spacings..\n",
    "# Visualizing the predicted outputs\n",
    "while True:\n",
    "    if str(df.loc[i,'rle_mask'])!=str(np.nan):        \n",
    "        decoded_mask = rle_decode(df.loc[i,'rle_mask'])\n",
    "        plt.subplot(1,11,j+1)\n",
    "        plt.imshow(decoded_mask)\n",
    "        plt.title('ID: '+df.loc[i,'id'])\n",
    "        j = j + 1\n",
    "        if j>10:\n",
    "            break\n",
    "    i = i + 1"
   ]
  },
  {
   "cell_type": "code",
   "execution_count": 20,
   "metadata": {},
   "outputs": [
    {
     "data": {
      "image/png": "[encoded data removed]",
      "text/plain": [
       "<Figure size 2160x1080 with 11 Axes>"
      ]
     },
     "metadata": {
      "needs_background": "light"
     },
     "output_type": "display_data"
    }
   ],
   "source": [
    "df = pd.read_csv('remove_small_blobs(9) 0.5*(0.5*kmike_v1 + 0.5*insaf) + 0.5*lb866 thresh 35(tryhard).csv')\n",
    "i = 0\n",
    "j = 0\n",
    "plt.figure(figsize=(30,15))\n",
    "plt.subplots_adjust(bottom=0.2, top=0.8, hspace=0.2)  #adjust this to change vertical and horiz. spacings..\n",
    "# Visualizing the predicted outputs\n",
    "while True:\n",
    "    if str(df.loc[i,'rle_mask'])!=str(np.nan):        \n",
    "        decoded_mask = rle_decode(df.loc[i,'rle_mask'])\n",
    "        plt.subplot(1,11,j+1)\n",
    "        plt.imshow(decoded_mask)\n",
    "        plt.title('ID: '+df.loc[i,'id'])\n",
    "        j = j + 1\n",
    "        if j>10:\n",
    "            break\n",
    "    i = i + 1"
   ]
  },
  {
   "cell_type": "code",
   "execution_count": 34,
   "metadata": {},
   "outputs": [
    {
     "data": {
      "image/png": "[encoded data removed]",
      "text/plain": [
       "<Figure size 2160x1080 with 11 Axes>"
      ]
     },
     "metadata": {
      "needs_background": "light"
     },
     "output_type": "display_data"
    }
   ],
   "source": [
    "df = pd.read_csv('0.5*kmike + 0.5*insaf  thresh 35 filtered 10.csv')\n",
    "i = 0\n",
    "j = 0\n",
    "plt.figure(figsize=(30,15))\n",
    "plt.subplots_adjust(bottom=0.2, top=0.8, hspace=0.2)  #adjust this to change vertical and horiz. spacings..\n",
    "# Visualizing the predicted outputs\n",
    "while True:\n",
    "    if str(df.loc[i,'rle_mask'])!=str(np.nan):        \n",
    "        decoded_mask = rle_decode(df.loc[i,'rle_mask'])\n",
    "        plt.subplot(1,11,j+1)\n",
    "        plt.imshow(decoded_mask)\n",
    "        plt.title('ID: '+df.loc[i,'id'])\n",
    "        j = j + 1\n",
    "        if j>10:\n",
    "            break\n",
    "    i = i + 1"
   ]
  },
  {
   "cell_type": "code",
   "execution_count": null,
   "metadata": {},
   "outputs": [],
   "source": []
  },
  {
   "cell_type": "code",
   "execution_count": 23,
   "metadata": {},
   "outputs": [
    {
     "data": {
      "image/png": "[encoded data removed]",
      "text/plain": [
       "<Figure size 2160x1080 with 11 Axes>"
      ]
     },
     "metadata": {
      "needs_background": "light"
     },
     "output_type": "display_data"
    }
   ],
   "source": [
    "df = pd.read_csv('0.2*(0.7*kmike_v1 + 0.3*insaf) + 0.8*lb866 thresh 41 filtered 6 (tryhard).csv')\n",
    "i = 0\n",
    "j = 0\n",
    "plt.figure(figsize=(30,15))\n",
    "plt.subplots_adjust(bottom=0.2, top=0.8, hspace=0.2)  #adjust this to change vertical and horiz. spacings..\n",
    "# Visualizing the predicted outputs\n",
    "while True:\n",
    "    if str(df.loc[i,'rle_mask'])!=str(np.nan):        \n",
    "        decoded_mask = rle_decode(df.loc[i,'rle_mask'])\n",
    "        plt.subplot(1,11,j+1)\n",
    "        plt.imshow(decoded_mask)\n",
    "        plt.title('ID: '+df.loc[i,'id'])\n",
    "        j = j + 1\n",
    "        if j>10:\n",
    "            break\n",
    "    i = i + 1"
   ]
  },
  {
   "cell_type": "code",
   "execution_count": null,
   "metadata": {},
   "outputs": [],
   "source": []
  }
 ],
 "metadata": {
  "kernelspec": {
   "display_name": "Python 3",
   "language": "python",
   "name": "python3"
  },
  "language_info": {
   "codemirror_mode": {
    "name": "ipython",
    "version": 3
   },
   "file_extension": ".py",
   "mimetype": "text/x-python",
   "name": "python",
   "nbconvert_exporter": "python",
   "pygments_lexer": "ipython3",
   "version": "3.6.6"
  }
 },
 "nbformat": 4,
 "nbformat_minor": 2
}
