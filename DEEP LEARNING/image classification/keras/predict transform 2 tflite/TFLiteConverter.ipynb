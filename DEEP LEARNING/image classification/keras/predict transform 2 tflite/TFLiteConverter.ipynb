{
  "nbformat": 4,
  "nbformat_minor": 0,
  "metadata": {
    "colab": {
      "name": "TFLiteConverter.ipynb",
      "version": "0.3.2",
      "provenance": [],
      "collapsed_sections": [],
      "toc_visible": true
    },
    "kernelspec": {
      "name": "python3",
      "display_name": "Python 3"
    },
    "accelerator": "GPU"
  },
  "cells": [
    {
      "cell_type": "markdown",
      "metadata": {
        "id": "uj2kevKRM9ur",
        "colab_type": "text"
      },
      "source": [
        "# Import TensorFlow Lite"
      ]
    },
    {
      "cell_type": "code",
      "metadata": {
        "id": "QSLFKa8GfDMr",
        "colab_type": "code",
        "outputId": "943f47bf-be89-43a1-c3f5-72f1294fb240",
        "colab": {
          "base_uri": "https://localhost:8080/",
          "height": 35
        }
      },
      "source": [
        "\n",
        "import tensorflow as tf\n",
        "from tensorflow.contrib import lite\n",
        "\n",
        "print( tf.VERSION )\n"
      ],
      "execution_count": 1,
      "outputs": [
        {
          "output_type": "stream",
          "text": [
            "1.13.1\n"
          ],
          "name": "stdout"
        }
      ]
    },
    {
      "cell_type": "markdown",
      "metadata": {
        "id": "q3YAVYO2NCgz",
        "colab_type": "text"
      },
      "source": [
        "# Convert the Keras model to a TensorFlow Lite model and write the .tflite file"
      ]
    },
    {
      "cell_type": "code",
      "metadata": {
        "id": "GKcV0Vmoc70h",
        "colab_type": "code",
        "colab": {
          "base_uri": "https://localhost:8080/",
          "height": 35
        },
        "outputId": "8f5f7a0c-8470-49a4-858c-6c743135e7ba"
      },
      "source": [
        "from google.colab import drive\n",
        "drive.mount('/drive/')"
      ],
      "execution_count": 2,
      "outputs": [
        {
          "output_type": "stream",
          "text": [
            "Drive already mounted at /drive/; to attempt to forcibly remount, call drive.mount(\"/drive/\", force_remount=True).\n"
          ],
          "name": "stdout"
        }
      ]
    },
    {
      "cell_type": "code",
      "metadata": {
        "id": "Zy-H3CrWdQ9j",
        "colab_type": "code",
        "colab": {
          "base_uri": "https://localhost:8080/",
          "height": 73
        },
        "outputId": "01608b45-a66e-4fef-f4fe-cdee2a671c9e"
      },
      "source": [
        "import os\n",
        "print(os.listdir(\".\"))\n",
        "print(os.listdir(\"/drive/My Drive/python\"))"
      ],
      "execution_count": 13,
      "outputs": [
        {
          "output_type": "stream",
          "text": [
            "['.config', 'model.tflite', 'sample_data']\n",
            "['Programmirovanie_na_Python_3_Podrobnoe_rukovod.pdf', 'Lutc_M._-_Izuchaem_Python_(4-e_izdanie)-_2011.pdf', 'решения', 'Использование регулярных выражений в Python для новичков.html', '2. Массивы и библиотеки_2.ipynb', '5. Регулярные выражения.ipynb', '3. Кортежи, контейнеры. Словари.ipynb', '4. Классы и функции.ipynb', '1. Начало. Функции, циклы.ipynb', 'model (1).h5', 'model.tflite']\n"
          ],
          "name": "stdout"
        }
      ]
    },
    {
      "cell_type": "code",
      "metadata": {
        "id": "go_GFH86fLHr",
        "colab_type": "code",
        "colab": {
          "base_uri": "https://localhost:8080/",
          "height": 307
        },
        "outputId": "193307d4-458b-4a1d-ad4c-898b62d715a2"
      },
      "source": [
        "\n",
        "converter = lite.TFLiteConverter.from_keras_model_file( '/drive/My Drive/python/model (1).h5' ) \n",
        "model = converter.convert()\n",
        "\n",
        "file = open( 'model.tflite' , 'wb' ) \n",
        "file.write( model )\n"
      ],
      "execution_count": 7,
      "outputs": [
        {
          "output_type": "stream",
          "text": [
            "WARNING:tensorflow:From /usr/local/lib/python3.6/dist-packages/tensorflow/python/ops/resource_variable_ops.py:435: colocate_with (from tensorflow.python.framework.ops) is deprecated and will be removed in a future version.\n",
            "Instructions for updating:\n",
            "Colocations handled automatically by placer.\n",
            "WARNING:tensorflow:From /usr/local/lib/python3.6/dist-packages/tensorflow/python/ops/math_ops.py:3066: to_int32 (from tensorflow.python.ops.math_ops) is deprecated and will be removed in a future version.\n",
            "Instructions for updating:\n",
            "Use tf.cast instead.\n",
            "WARNING:tensorflow:From /usr/local/lib/python3.6/dist-packages/tensorflow/lite/python/lite.py:591: convert_variables_to_constants (from tensorflow.python.framework.graph_util_impl) is deprecated and will be removed in a future version.\n",
            "Instructions for updating:\n",
            "Use tf.compat.v1.graph_util.convert_variables_to_constants\n",
            "WARNING:tensorflow:From /usr/local/lib/python3.6/dist-packages/tensorflow/python/framework/graph_util_impl.py:245: extract_sub_graph (from tensorflow.python.framework.graph_util_impl) is deprecated and will be removed in a future version.\n",
            "Instructions for updating:\n",
            "Use tf.compat.v1.graph_util.extract_sub_graph\n",
            "INFO:tensorflow:Froze 264 variables.\n",
            "INFO:tensorflow:Converted 264 variables to const ops.\n"
          ],
          "name": "stdout"
        },
        {
          "output_type": "execute_result",
          "data": {
            "text/plain": [
              "14125780"
            ]
          },
          "metadata": {
            "tags": []
          },
          "execution_count": 7
        }
      ]
    },
    {
      "cell_type": "code",
      "metadata": {
        "id": "KMH5eHp0e46_",
        "colab_type": "code",
        "colab": {
          "base_uri": "https://localhost:8080/",
          "height": 35
        },
        "outputId": "fcc5373a-d158-44c6-f75d-1fbfe853d0d2"
      },
      "source": [
        "file = open( '/drive/My Drive/python/model.tflite' , 'wb' ) \n",
        "file.write( model )"
      ],
      "execution_count": 12,
      "outputs": [
        {
          "output_type": "execute_result",
          "data": {
            "text/plain": [
              "14125780"
            ]
          },
          "metadata": {
            "tags": []
          },
          "execution_count": 12
        }
      ]
    },
    {
      "cell_type": "code",
      "metadata": {
        "id": "F2KgsvNbf7gl",
        "colab_type": "code",
        "colab": {}
      },
      "source": [
        "from google.colab import files\n",
        "files.download('/drive/My Drive/python/model.tflite') "
      ],
      "execution_count": 0,
      "outputs": []
    },
    {
      "cell_type": "markdown",
      "metadata": {
        "id": "cGSRGCDFvQgX",
        "colab_type": "text"
      },
      "source": [
        "# Check the output data type and shape."
      ]
    },
    {
      "cell_type": "code",
      "metadata": {
        "id": "-oow8h4znSYR",
        "colab_type": "code",
        "colab": {
          "base_uri": "https://localhost:8080/",
          "height": 89
        },
        "outputId": "7b7aafd4-ab09-45f9-89d7-ea0cc5b36b67"
      },
      "source": [
        "import tensorflow as tf\n",
        "import numpy as np\n",
        "\n",
        "interpreter = tf.contrib.lite.Interpreter(model_path=\"model.tflite\")\n",
        "interpreter.allocate_tensors()\n",
        "\n",
        "print(interpreter.get_input_details()[0]['shape'])  \n",
        "print(interpreter.get_input_details()[0]['dtype']) \n",
        "\n",
        "print(interpreter.get_output_details()[0]['shape'])  \n",
        "print(interpreter.get_output_details()[0]['dtype']) \n"
      ],
      "execution_count": 8,
      "outputs": [
        {
          "output_type": "stream",
          "text": [
            "[  1 224 224   3]\n",
            "<class 'numpy.float32'>\n",
            "[1 7]\n",
            "<class 'numpy.float32'>\n"
          ],
          "name": "stdout"
        }
      ]
    }
  ]
}