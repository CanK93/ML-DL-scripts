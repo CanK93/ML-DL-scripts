{
 "cells": [
  {
   "cell_type": "markdown",
   "metadata": {},
   "source": [
    "# Implementation of Conditional GANs\n",
    "Reference: https://arxiv.org/pdf/1411.1784.pdf\n",
    "https://github.com/Yangyangii/GAN-Tutorial/blob/master/MNIST/Conditional-GAN.ipynb"
   ]
  },
  {
   "cell_type": "code",
   "execution_count": null,
   "metadata": {
    "collapsed": true
   },
   "outputs": [],
   "source": [
    "# Run the comment below only when using Google Colab\n",
    "# !pip install torch torchvision"
   ]
  },
  {
   "cell_type": "code",
   "execution_count": 1,
   "metadata": {
    "ExecuteTime": {
     "end_time": "2020-01-19T12:09:45.805005Z",
     "start_time": "2020-01-19T12:09:44.587044Z"
    }
   },
   "outputs": [],
   "source": [
    "import torch\n",
    "import torchvision\n",
    "import torch.nn as nn\n",
    "import torch.nn.functional as F"
   ]
  },
  {
   "cell_type": "code",
   "execution_count": 2,
   "metadata": {
    "ExecuteTime": {
     "end_time": "2020-01-19T12:09:46.910709Z",
     "start_time": "2020-01-19T12:09:46.906631Z"
    }
   },
   "outputs": [],
   "source": [
    "from torch.utils.data import DataLoader\n",
    "from torchvision import datasets\n",
    "from torchvision import transforms\n",
    "from torchvision.utils import save_image"
   ]
  },
  {
   "cell_type": "code",
   "execution_count": 3,
   "metadata": {
    "ExecuteTime": {
     "end_time": "2020-01-19T12:09:47.734667Z",
     "start_time": "2020-01-19T12:09:47.730099Z"
    }
   },
   "outputs": [],
   "source": [
    "import numpy as np\n",
    "import datetime\n",
    "import os, sys"
   ]
  },
  {
   "cell_type": "code",
   "execution_count": 4,
   "metadata": {
    "ExecuteTime": {
     "end_time": "2020-01-19T12:09:49.025355Z",
     "start_time": "2020-01-19T12:09:48.745040Z"
    }
   },
   "outputs": [],
   "source": [
    "from matplotlib.pyplot import imshow, imsave\n",
    "%matplotlib inline"
   ]
  },
  {
   "cell_type": "code",
   "execution_count": 5,
   "metadata": {
    "ExecuteTime": {
     "end_time": "2020-01-19T12:09:49.777066Z",
     "start_time": "2020-01-19T12:09:49.736068Z"
    }
   },
   "outputs": [],
   "source": [
    "MODEL_NAME = 'ConditionalGAN'\n",
    "DEVICE = torch.device(\"cuda:0\" if torch.cuda.is_available() else \"cpu\")"
   ]
  },
  {
   "cell_type": "code",
   "execution_count": 6,
   "metadata": {
    "ExecuteTime": {
     "end_time": "2020-01-19T12:09:52.537096Z",
     "start_time": "2020-01-19T12:09:52.529922Z"
    }
   },
   "outputs": [],
   "source": [
    "def to_onehot(x, num_classes=10):\n",
    "    assert isinstance(x, int) or isinstance(x, (torch.LongTensor, torch.cuda.LongTensor))\n",
    "    if isinstance(x, int):\n",
    "        c = torch.zeros(1, num_classes).long()\n",
    "        c[0][x] = 1\n",
    "    else:\n",
    "        x = x.cpu()\n",
    "        c = torch.LongTensor(x.size(0), num_classes)\n",
    "        c.zero_()\n",
    "        c.scatter_(1, x, 1) # dim, index, src value\n",
    "    return c"
   ]
  },
  {
   "cell_type": "code",
   "execution_count": 7,
   "metadata": {
    "ExecuteTime": {
     "end_time": "2020-01-19T12:09:53.787181Z",
     "start_time": "2020-01-19T12:09:53.776531Z"
    }
   },
   "outputs": [],
   "source": [
    "def get_sample_image(G, n_noise=100):\n",
    "    \"\"\"\n",
    "        save sample 100 images\n",
    "    \"\"\"\n",
    "    img = np.zeros([280, 280])\n",
    "    for j in range(10):\n",
    "        c = torch.zeros([10, 10]).to(DEVICE)\n",
    "        c[:, j] = 1\n",
    "        z = torch.randn(10, n_noise).to(DEVICE)\n",
    "        y_hat = G(z,c).view(10, 28, 28)\n",
    "        result = y_hat.cpu().data.numpy()\n",
    "        img[j*28:(j+1)*28] = np.concatenate([x for x in result], axis=-1)\n",
    "    return img"
   ]
  },
  {
   "cell_type": "code",
   "execution_count": 8,
   "metadata": {
    "ExecuteTime": {
     "end_time": "2020-01-19T12:09:55.012552Z",
     "start_time": "2020-01-19T12:09:55.002073Z"
    }
   },
   "outputs": [],
   "source": [
    "class Discriminator(nn.Module):\n",
    "    \"\"\"\n",
    "        Simple Discriminator w/ MLP\n",
    "    \"\"\"\n",
    "    def __init__(self, input_size=784, condition_size=10, num_classes=1):\n",
    "        super(Discriminator, self).__init__()\n",
    "        self.layer = nn.Sequential(\n",
    "            nn.Linear(input_size+condition_size, 512),\n",
    "            nn.LeakyReLU(0.2),\n",
    "            nn.Linear(512, 256),\n",
    "            nn.LeakyReLU(0.2),\n",
    "            nn.Linear(256, num_classes),\n",
    "            nn.Sigmoid(),\n",
    "        )\n",
    "    \n",
    "    def forward(self, x, c):        \n",
    "        x, c = x.view(x.size(0), -1), c.view(c.size(0), -1).float()\n",
    "        v = torch.cat((x, c), 1) # v: [input, label] concatenated vector\n",
    "        y_ = self.layer(v)\n",
    "        return y_"
   ]
  },
  {
   "cell_type": "code",
   "execution_count": 9,
   "metadata": {
    "ExecuteTime": {
     "end_time": "2020-01-19T12:09:56.028874Z",
     "start_time": "2020-01-19T12:09:56.017874Z"
    }
   },
   "outputs": [],
   "source": [
    "class Generator(nn.Module):\n",
    "    \"\"\"\n",
    "        Simple Generator w/ MLP\n",
    "    \"\"\"\n",
    "    def __init__(self, input_size=100, condition_size=10, num_classes=784):\n",
    "        super(Generator, self).__init__()\n",
    "        self.layer = nn.Sequential(\n",
    "            nn.Linear(input_size+condition_size, 128),\n",
    "            nn.LeakyReLU(0.2),\n",
    "            nn.Linear(128, 256),\n",
    "            nn.BatchNorm1d(256),\n",
    "            nn.LeakyReLU(0.2),\n",
    "            nn.Linear(256, 512),\n",
    "            nn.BatchNorm1d(512),\n",
    "            nn.LeakyReLU(0.2),\n",
    "            nn.Linear(512, 1024),\n",
    "            nn.BatchNorm1d(1024),\n",
    "            nn.LeakyReLU(0.2),\n",
    "            nn.Linear(1024, num_classes),\n",
    "            nn.Tanh()\n",
    "        )\n",
    "        \n",
    "    def forward(self, x, c):\n",
    "        x, c = x.view(x.size(0), -1), c.view(c.size(0), -1).float()\n",
    "        v = torch.cat((x, c), 1) # v: [input, label] concatenated vector\n",
    "        y_ = self.layer(v)\n",
    "        y_ = y_.view(x.size(0), 1, 28, 28)\n",
    "        return y_"
   ]
  },
  {
   "cell_type": "code",
   "execution_count": 10,
   "metadata": {
    "ExecuteTime": {
     "end_time": "2020-01-19T12:10:00.421093Z",
     "start_time": "2020-01-19T12:09:56.848655Z"
    }
   },
   "outputs": [],
   "source": [
    "D = Discriminator().to(DEVICE)\n",
    "G = Generator().to(DEVICE)"
   ]
  },
  {
   "cell_type": "code",
   "execution_count": 11,
   "metadata": {
    "ExecuteTime": {
     "end_time": "2020-01-19T12:10:00.431021Z",
     "start_time": "2020-01-19T12:10:00.427929Z"
    }
   },
   "outputs": [],
   "source": [
    "transform = transforms.Compose([transforms.ToTensor(),\n",
    "                                transforms.Normalize(mean=[0.5],\n",
    "                                std=[0.5])]\n",
    ")"
   ]
  },
  {
   "cell_type": "code",
   "execution_count": 12,
   "metadata": {
    "ExecuteTime": {
     "end_time": "2020-01-19T12:10:06.599870Z",
     "start_time": "2020-01-19T12:10:00.440441Z"
    }
   },
   "outputs": [
    {
     "name": "stderr",
     "output_type": "stream",
     "text": [
      "\r",
      "0it [00:00, ?it/s]"
     ]
    },
    {
     "name": "stdout",
     "output_type": "stream",
     "text": [
      "Downloading http://yann.lecun.com/exdb/mnist/train-images-idx3-ubyte.gz to ../data/MNIST/raw/train-images-idx3-ubyte.gz\n"
     ]
    },
    {
     "name": "stderr",
     "output_type": "stream",
     "text": [
      "9920512it [00:03, 3121783.47it/s]                             \n"
     ]
    },
    {
     "name": "stdout",
     "output_type": "stream",
     "text": [
      "Extracting ../data/MNIST/raw/train-images-idx3-ubyte.gz to ../data/MNIST/raw\n"
     ]
    },
    {
     "name": "stderr",
     "output_type": "stream",
     "text": [
      "\r",
      "0it [00:00, ?it/s]"
     ]
    },
    {
     "name": "stdout",
     "output_type": "stream",
     "text": [
      "Downloading http://yann.lecun.com/exdb/mnist/train-labels-idx1-ubyte.gz to ../data/MNIST/raw/train-labels-idx1-ubyte.gz\n"
     ]
    },
    {
     "name": "stderr",
     "output_type": "stream",
     "text": [
      "32768it [00:00, 85005.83it/s]                            \n",
      "0it [00:00, ?it/s]"
     ]
    },
    {
     "name": "stdout",
     "output_type": "stream",
     "text": [
      "Extracting ../data/MNIST/raw/train-labels-idx1-ubyte.gz to ../data/MNIST/raw\n",
      "Downloading http://yann.lecun.com/exdb/mnist/t10k-images-idx3-ubyte.gz to ../data/MNIST/raw/t10k-images-idx3-ubyte.gz\n"
     ]
    },
    {
     "name": "stderr",
     "output_type": "stream",
     "text": [
      "1654784it [00:01, 841125.58it/s]                             \n",
      "0it [00:00, ?it/s]"
     ]
    },
    {
     "name": "stdout",
     "output_type": "stream",
     "text": [
      "Extracting ../data/MNIST/raw/t10k-images-idx3-ubyte.gz to ../data/MNIST/raw\n",
      "Downloading http://yann.lecun.com/exdb/mnist/t10k-labels-idx1-ubyte.gz to ../data/MNIST/raw/t10k-labels-idx1-ubyte.gz\n"
     ]
    },
    {
     "name": "stderr",
     "output_type": "stream",
     "text": [
      "8192it [00:00, 31311.47it/s]            "
     ]
    },
    {
     "name": "stdout",
     "output_type": "stream",
     "text": [
      "Extracting ../data/MNIST/raw/t10k-labels-idx1-ubyte.gz to ../data/MNIST/raw\n",
      "Processing...\n",
      "Done!\n"
     ]
    },
    {
     "name": "stderr",
     "output_type": "stream",
     "text": [
      "\n"
     ]
    }
   ],
   "source": [
    "mnist = datasets.MNIST(root='../data/', train=True, transform=transform, download=True)"
   ]
  },
  {
   "cell_type": "code",
   "execution_count": 13,
   "metadata": {
    "ExecuteTime": {
     "end_time": "2020-01-19T12:10:06.607547Z",
     "start_time": "2020-01-19T12:10:06.605225Z"
    }
   },
   "outputs": [],
   "source": [
    "batch_size = 64\n",
    "condition_size = 10"
   ]
  },
  {
   "cell_type": "code",
   "execution_count": 14,
   "metadata": {
    "ExecuteTime": {
     "end_time": "2020-01-19T12:10:06.618917Z",
     "start_time": "2020-01-19T12:10:06.614949Z"
    }
   },
   "outputs": [],
   "source": [
    "data_loader = DataLoader(dataset=mnist, batch_size=batch_size, shuffle=True, drop_last=True)"
   ]
  },
  {
   "cell_type": "code",
   "execution_count": 15,
   "metadata": {
    "ExecuteTime": {
     "end_time": "2020-01-19T12:10:06.632285Z",
     "start_time": "2020-01-19T12:10:06.624984Z"
    }
   },
   "outputs": [],
   "source": [
    "criterion = nn.BCELoss()\n",
    "D_opt = torch.optim.Adam(D.parameters(), lr=0.0002, betas=(0.5, 0.999))\n",
    "G_opt = torch.optim.Adam(G.parameters(), lr=0.0002, betas=(0.5, 0.999))"
   ]
  },
  {
   "cell_type": "code",
   "execution_count": 16,
   "metadata": {
    "ExecuteTime": {
     "end_time": "2020-01-19T12:10:06.649165Z",
     "start_time": "2020-01-19T12:10:06.638719Z"
    }
   },
   "outputs": [],
   "source": [
    "max_epoch = 30 # need more than 100 epochs for training generator\n",
    "step = 0\n",
    "n_critic = 1 # for training more k steps about Discriminator\n",
    "n_noise = 100"
   ]
  },
  {
   "cell_type": "code",
   "execution_count": 17,
   "metadata": {
    "ExecuteTime": {
     "end_time": "2020-01-19T12:10:06.661183Z",
     "start_time": "2020-01-19T12:10:06.656613Z"
    }
   },
   "outputs": [],
   "source": [
    "D_labels = torch.ones([batch_size, 1]).to(DEVICE) # Discriminator Label to real\n",
    "D_fakes = torch.zeros([batch_size, 1]).to(DEVICE) # Discriminator Label to fake"
   ]
  },
  {
   "cell_type": "code",
   "execution_count": 18,
   "metadata": {
    "ExecuteTime": {
     "end_time": "2020-01-19T12:10:06.718341Z",
     "start_time": "2020-01-19T12:10:06.715557Z"
    }
   },
   "outputs": [],
   "source": [
    "if not os.path.exists('samples'):\n",
    "    os.makedirs('samples')"
   ]
  },
  {
   "cell_type": "code",
   "execution_count": 19,
   "metadata": {
    "ExecuteTime": {
     "end_time": "2020-01-19T12:19:32.034717Z",
     "start_time": "2020-01-19T12:10:06.735459Z"
    },
    "scrolled": true
   },
   "outputs": [
    {
     "name": "stdout",
     "output_type": "stream",
     "text": [
      "Epoch: 0/30, Step: 0, D Loss: 1.3386130332946777, G Loss: 0.6673183441162109\n",
      "Epoch: 0/30, Step: 500, D Loss: 1.226733922958374, G Loss: 1.0447118282318115\n",
      "Epoch: 1/30, Step: 1000, D Loss: 1.2841609716415405, G Loss: 1.3442004919052124\n",
      "Epoch: 1/30, Step: 1500, D Loss: 1.1567456722259521, G Loss: 1.0902053117752075\n",
      "Epoch: 2/30, Step: 2000, D Loss: 1.1779232025146484, G Loss: 0.7738170623779297\n",
      "Epoch: 2/30, Step: 2500, D Loss: 1.1938045024871826, G Loss: 0.6492317318916321\n",
      "Epoch: 3/30, Step: 3000, D Loss: 1.366603136062622, G Loss: 0.6126097440719604\n",
      "Epoch: 3/30, Step: 3500, D Loss: 1.2633527517318726, G Loss: 0.9641944766044617\n",
      "Epoch: 4/30, Step: 4000, D Loss: 1.4932060241699219, G Loss: 1.2410306930541992\n",
      "Epoch: 4/30, Step: 4500, D Loss: 1.284212350845337, G Loss: 0.6340541839599609\n",
      "Epoch: 5/30, Step: 5000, D Loss: 1.3679509162902832, G Loss: 0.7373616695404053\n",
      "Epoch: 5/30, Step: 5500, D Loss: 1.2691547870635986, G Loss: 0.7607624530792236\n",
      "Epoch: 6/30, Step: 6000, D Loss: 1.2130460739135742, G Loss: 1.0557609796524048\n",
      "Epoch: 6/30, Step: 6500, D Loss: 1.268599510192871, G Loss: 0.9484330415725708\n",
      "Epoch: 7/30, Step: 7000, D Loss: 1.2722272872924805, G Loss: 0.7485446929931641\n",
      "Epoch: 8/30, Step: 7500, D Loss: 1.322479248046875, G Loss: 1.017751932144165\n",
      "Epoch: 8/30, Step: 8000, D Loss: 1.2534739971160889, G Loss: 0.7847582101821899\n",
      "Epoch: 9/30, Step: 8500, D Loss: 1.325660228729248, G Loss: 0.7498759031295776\n",
      "Epoch: 9/30, Step: 9000, D Loss: 1.3395730257034302, G Loss: 0.8449643850326538\n",
      "Epoch: 10/30, Step: 9500, D Loss: 1.3194828033447266, G Loss: 0.808857798576355\n",
      "Epoch: 10/30, Step: 10000, D Loss: 1.2580033540725708, G Loss: 0.7230855226516724\n",
      "Epoch: 11/30, Step: 10500, D Loss: 1.2992360591888428, G Loss: 0.9406018257141113\n",
      "Epoch: 11/30, Step: 11000, D Loss: 1.3496538400650024, G Loss: 0.8317520618438721\n",
      "Epoch: 12/30, Step: 11500, D Loss: 1.29970121383667, G Loss: 0.8660251498222351\n",
      "Epoch: 12/30, Step: 12000, D Loss: 1.369538426399231, G Loss: 0.8593135476112366\n",
      "Epoch: 13/30, Step: 12500, D Loss: 1.3299474716186523, G Loss: 0.629467785358429\n",
      "Epoch: 13/30, Step: 13000, D Loss: 1.4048683643341064, G Loss: 0.9047104120254517\n",
      "Epoch: 14/30, Step: 13500, D Loss: 1.3164982795715332, G Loss: 0.6246967315673828\n",
      "Epoch: 14/30, Step: 14000, D Loss: 1.4448298215866089, G Loss: 0.745219886302948\n",
      "Epoch: 15/30, Step: 14500, D Loss: 1.377607822418213, G Loss: 0.7260218262672424\n",
      "Epoch: 16/30, Step: 15000, D Loss: 1.3673620223999023, G Loss: 0.7419499158859253\n",
      "Epoch: 16/30, Step: 15500, D Loss: 1.3541760444641113, G Loss: 0.6930078268051147\n",
      "Epoch: 17/30, Step: 16000, D Loss: 1.3356924057006836, G Loss: 0.7001645565032959\n",
      "Epoch: 17/30, Step: 16500, D Loss: 1.3765530586242676, G Loss: 0.7033010125160217\n",
      "Epoch: 18/30, Step: 17000, D Loss: 1.3525354862213135, G Loss: 0.7800126671791077\n",
      "Epoch: 18/30, Step: 17500, D Loss: 1.3356881141662598, G Loss: 0.8058205246925354\n",
      "Epoch: 19/30, Step: 18000, D Loss: 1.3063488006591797, G Loss: 0.7357491254806519\n",
      "Epoch: 19/30, Step: 18500, D Loss: 1.3621246814727783, G Loss: 0.72300785779953\n",
      "Epoch: 20/30, Step: 19000, D Loss: 1.3669202327728271, G Loss: 0.6611883640289307\n",
      "Epoch: 20/30, Step: 19500, D Loss: 1.37847900390625, G Loss: 0.7844693660736084\n",
      "Epoch: 21/30, Step: 20000, D Loss: 1.3412177562713623, G Loss: 0.7219041585922241\n",
      "Epoch: 21/30, Step: 20500, D Loss: 1.3426015377044678, G Loss: 0.7885816097259521\n",
      "Epoch: 22/30, Step: 21000, D Loss: 1.41029953956604, G Loss: 0.7608052492141724\n",
      "Epoch: 22/30, Step: 21500, D Loss: 1.366224765777588, G Loss: 0.8049413561820984\n",
      "Epoch: 23/30, Step: 22000, D Loss: 1.369873046875, G Loss: 0.7733331322669983\n",
      "Epoch: 24/30, Step: 22500, D Loss: 1.3137474060058594, G Loss: 0.784292459487915\n",
      "Epoch: 24/30, Step: 23000, D Loss: 1.3766560554504395, G Loss: 0.704619288444519\n",
      "Epoch: 25/30, Step: 23500, D Loss: 1.4061164855957031, G Loss: 0.802922785282135\n",
      "Epoch: 25/30, Step: 24000, D Loss: 1.328977108001709, G Loss: 0.7794923782348633\n",
      "Epoch: 26/30, Step: 24500, D Loss: 1.3145077228546143, G Loss: 0.8274868726730347\n",
      "Epoch: 26/30, Step: 25000, D Loss: 1.3486220836639404, G Loss: 0.7418996691703796\n",
      "Epoch: 27/30, Step: 25500, D Loss: 1.3752871751785278, G Loss: 0.7616547346115112\n",
      "Epoch: 27/30, Step: 26000, D Loss: 1.350569725036621, G Loss: 0.8155519366264343\n",
      "Epoch: 28/30, Step: 26500, D Loss: 1.3532016277313232, G Loss: 0.7335397005081177\n",
      "Epoch: 28/30, Step: 27000, D Loss: 1.3429572582244873, G Loss: 0.7673813700675964\n",
      "Epoch: 29/30, Step: 27500, D Loss: 1.3421063423156738, G Loss: 0.7355843186378479\n",
      "Epoch: 29/30, Step: 28000, D Loss: 1.3375428915023804, G Loss: 0.8211814165115356\n"
     ]
    }
   ],
   "source": [
    "for epoch in range(max_epoch):\n",
    "    for idx, (images, labels) in enumerate(data_loader):\n",
    "        # Training Discriminator\n",
    "        x = images.to(DEVICE)\n",
    "        y = labels.view(batch_size, 1)\n",
    "        y = to_onehot(y).to(DEVICE)\n",
    "        x_outputs = D(x, y)\n",
    "        D_x_loss = criterion(x_outputs, D_labels)\n",
    "\n",
    "        z = torch.randn(batch_size, n_noise).to(DEVICE)\n",
    "        z_outputs = D(G(z, y), y)\n",
    "        D_z_loss = criterion(z_outputs, D_fakes)\n",
    "        D_loss = D_x_loss + D_z_loss\n",
    "        \n",
    "        D.zero_grad()\n",
    "        D_loss.backward()\n",
    "        D_opt.step()\n",
    "        \n",
    "        if step % n_critic == 0:\n",
    "            # Training Generator\n",
    "            z = torch.randn(batch_size, n_noise).to(DEVICE)\n",
    "            z_outputs = D(G(z, y), y)\n",
    "            G_loss = criterion(z_outputs, D_labels)\n",
    "\n",
    "            G.zero_grad()\n",
    "            G_loss.backward()\n",
    "            G_opt.step()\n",
    "        \n",
    "        if step % 500 == 0:\n",
    "            print('Epoch: {}/{}, Step: {}, D Loss: {}, G Loss: {}'.format(epoch, max_epoch, step, D_loss.item(), G_loss.item()))\n",
    "        \n",
    "        if step % 1000 == 0:\n",
    "            G.eval()\n",
    "            img = get_sample_image(G, n_noise)\n",
    "            imsave('samples/{}_step{}.jpg'.format(MODEL_NAME, str(step).zfill(3)), img, cmap='gray')\n",
    "            G.train()\n",
    "        step += 1"
   ]
  },
  {
   "cell_type": "markdown",
   "metadata": {},
   "source": [
    "## Sample"
   ]
  },
  {
   "cell_type": "code",
   "execution_count": 22,
   "metadata": {
    "ExecuteTime": {
     "end_time": "2020-01-19T13:05:42.580977Z",
     "start_time": "2020-01-19T13:05:42.467374Z"
    }
   },
   "outputs": [
    {
     "data": {
      "text/plain": [
       "<matplotlib.image.AxesImage at 0x7f950227ac50>"
      ]
     },
     "execution_count": 22,
     "metadata": {},
     "output_type": "execute_result"
    },
    {
     "data": {
      "image/png": "[encoded data removed]",
      "text/plain": [
       "<Figure size 432x288 with 1 Axes>"
      ]
     },
     "metadata": {
      "needs_background": "light"
     },
     "output_type": "display_data"
    }
   ],
   "source": [
    "# generation to image\n",
    "G.eval()\n",
    "imshow(get_sample_image(G, n_noise), cmap='gray')"
   ]
  },
  {
   "cell_type": "code",
   "execution_count": 40,
   "metadata": {
    "collapsed": true
   },
   "outputs": [],
   "source": [
    "def save_checkpoint(state, file_name='checkpoint.pth.tar'):\n",
    "    torch.save(state, file_name)"
   ]
  },
  {
   "cell_type": "code",
   "execution_count": 41,
   "metadata": {
    "collapsed": true
   },
   "outputs": [],
   "source": [
    "# Saving params.\n",
    "save_checkpoint({'epoch': epoch + 1, 'state_dict':D.state_dict(), 'optimizer' : D_opt.state_dict()}, 'D_c.pth.tar')\n",
    "save_checkpoint({'epoch': epoch + 1, 'state_dict':G.state_dict(), 'optimizer' : G_opt.state_dict()}, 'G_c.pth.tar')"
   ]
  },
  {
   "cell_type": "code",
   "execution_count": null,
   "metadata": {
    "collapsed": true
   },
   "outputs": [],
   "source": []
  }
 ],
 "metadata": {
  "kernelspec": {
   "display_name": "Python 3",
   "language": "python",
   "name": "python3"
  },
  "language_info": {
   "codemirror_mode": {
    "name": "ipython",
    "version": 3
   },
   "file_extension": ".py",
   "mimetype": "text/x-python",
   "name": "python",
   "nbconvert_exporter": "python",
   "pygments_lexer": "ipython3",
   "version": "3.7.3"
  },
  "varInspector": {
   "cols": {
    "lenName": 16,
    "lenType": 16,
    "lenVar": 40
   },
   "kernels_config": {
    "python": {
     "delete_cmd_postfix": "",
     "delete_cmd_prefix": "del ",
     "library": "var_list.py",
     "varRefreshCmd": "print(var_dic_list())"
    },
    "r": {
     "delete_cmd_postfix": ") ",
     "delete_cmd_prefix": "rm(",
     "library": "var_list.r",
     "varRefreshCmd": "cat(var_dic_list()) "
    }
   },
   "types_to_exclude": [
    "module",
    "function",
    "builtin_function_or_method",
    "instance",
    "_Feature"
   ],
   "window_display": false
  }
 },
 "nbformat": 4,
 "nbformat_minor": 2
}
