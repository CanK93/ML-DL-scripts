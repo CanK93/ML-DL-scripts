{
 "cells": [
  {
   "cell_type": "code",
   "execution_count": 1,
   "metadata": {
    "ExecuteTime": {
     "end_time": "2020-01-19T13:36:57.494628Z",
     "start_time": "2020-01-19T13:21:50.368385Z"
    }
   },
   "outputs": [
    {
     "name": "stdout",
     "output_type": "stream",
     "text": [
      "/home/dex/Desktop/ml/ML-DL-scripts/DEEP LEARNING/Autoencoders GANS/pytorch/Semi-supervised GAN/Nets.py:51: UserWarning: nn.init.xavier_uniform is now deprecated in favor of nn.init.xavier_uniform_.\n",
      "  nn.init.xavier_uniform(self.fc1.weight)\n",
      "/home/dex/Desktop/ml/ML-DL-scripts/DEEP LEARNING/Autoencoders GANS/pytorch/Semi-supervised GAN/Nets.py:52: UserWarning: nn.init.xavier_uniform is now deprecated in favor of nn.init.xavier_uniform_.\n",
      "  nn.init.xavier_uniform(self.fc2.weight)\n",
      "/home/dex/anaconda3/lib/python3.7/site-packages/torch/serialization.py:292: UserWarning: Couldn't retrieve source code for container of type Generator. It won't be checked for correctness upon loading.\n",
      "  \"type \" + obj.__name__ + \". It won't be checked \"\n",
      "/home/dex/anaconda3/lib/python3.7/site-packages/torch/serialization.py:292: UserWarning: Couldn't retrieve source code for container of type Linear. It won't be checked for correctness upon loading.\n",
      "  \"type \" + obj.__name__ + \". It won't be checked \"\n",
      "/home/dex/anaconda3/lib/python3.7/site-packages/torch/serialization.py:292: UserWarning: Couldn't retrieve source code for container of type BatchNorm1d. It won't be checked for correctness upon loading.\n",
      "  \"type \" + obj.__name__ + \". It won't be checked \"\n",
      "/home/dex/anaconda3/lib/python3.7/site-packages/torch/serialization.py:292: UserWarning: Couldn't retrieve source code for container of type LinearWeightNorm. It won't be checked for correctness upon loading.\n",
      "  \"type \" + obj.__name__ + \". It won't be checked \"\n",
      "/home/dex/anaconda3/lib/python3.7/site-packages/torch/serialization.py:292: UserWarning: Couldn't retrieve source code for container of type Discriminator. It won't be checked for correctness upon loading.\n",
      "  \"type \" + obj.__name__ + \". It won't be checked \"\n",
      "/home/dex/anaconda3/lib/python3.7/site-packages/torch/serialization.py:292: UserWarning: Couldn't retrieve source code for container of type ModuleList. It won't be checked for correctness upon loading.\n",
      "  \"type \" + obj.__name__ + \". It won't be checked \"\n",
      "Training: 100 / 600\n",
      "Training: 200 / 600\n",
      "Training: 300 / 600\n",
      "Training: 400 / 600\n",
      "Training: 500 / 600\n",
      "Training: 600 / 600\n",
      "Iteration 0, loss_supervised = 0.1632, loss_unsupervised = 0.4662, loss_gen = 0.1470 train acc = 0.9450\n",
      "Eval: correct 8105 / 10000\n",
      "Training: 100 / 600\n",
      "Training: 200 / 600\n",
      "Training: 300 / 600\n",
      "Training: 400 / 600\n",
      "Training: 500 / 600\n",
      "Training: 600 / 600\n",
      "Iteration 1, loss_supervised = 0.0107, loss_unsupervised = 0.3852, loss_gen = 0.2578 train acc = 0.9976\n",
      "Eval: correct 8490 / 10000\n",
      "Training: 100 / 600\n",
      "Training: 200 / 600\n",
      "Training: 300 / 600\n",
      "Training: 400 / 600\n",
      "Training: 500 / 600\n",
      "Training: 600 / 600\n",
      "Iteration 2, loss_supervised = 0.0070, loss_unsupervised = 0.3781, loss_gen = 0.4142 train acc = 0.9989\n",
      "Eval: correct 8778 / 10000\n",
      "Training: 100 / 600\n",
      "Training: 200 / 600\n",
      "Training: 300 / 600\n",
      "Training: 400 / 600\n",
      "Training: 500 / 600\n",
      "Training: 600 / 600\n",
      "Iteration 3, loss_supervised = 0.0053, loss_unsupervised = 0.3729, loss_gen = 0.6339 train acc = 0.9992\n",
      "Eval: correct 8986 / 10000\n",
      "Training: 100 / 600\n",
      "Training: 200 / 600\n",
      "Training: 300 / 600\n",
      "Training: 400 / 600\n",
      "Training: 500 / 600\n",
      "Training: 600 / 600\n",
      "Iteration 4, loss_supervised = 0.0043, loss_unsupervised = 0.3786, loss_gen = 0.7708 train acc = 0.9994\n",
      "Eval: correct 9227 / 10000\n",
      "Training: 100 / 600\n",
      "Training: 200 / 600\n",
      "Training: 300 / 600\n",
      "Training: 400 / 600\n",
      "Training: 500 / 600\n",
      "Training: 600 / 600\n",
      "Iteration 5, loss_supervised = 0.0032, loss_unsupervised = 0.3847, loss_gen = 0.8394 train acc = 0.9996\n",
      "Eval: correct 9308 / 10000\n",
      "Training: 100 / 600\n",
      "Training: 200 / 600\n",
      "Training: 300 / 600\n",
      "Training: 400 / 600\n",
      "Training: 500 / 600\n",
      "Training: 600 / 600\n",
      "Iteration 6, loss_supervised = 0.0030, loss_unsupervised = 0.3967, loss_gen = 0.8845 train acc = 0.9996\n",
      "Eval: correct 9408 / 10000\n",
      "Training: 100 / 600\n",
      "Training: 200 / 600\n",
      "Training: 300 / 600\n",
      "Training: 400 / 600\n",
      "Training: 500 / 600\n",
      "Training: 600 / 600\n",
      "Iteration 7, loss_supervised = 0.0025, loss_unsupervised = 0.3965, loss_gen = 0.9110 train acc = 0.9997\n",
      "Eval: correct 9445 / 10000\n",
      "^C\n",
      "Traceback (most recent call last):\n",
      "  File \"ImprovedGAN.py\", line 190, in <module>\n",
      "    gan.train()\n",
      "  File \"ImprovedGAN.py\", line 100, in train\n",
      "    unlabel2, _label2 = unlabel_loader2.next()\n",
      "  File \"/home/dex/anaconda3/lib/python3.7/site-packages/torch/utils/data/dataloader.py\", line 804, in __next__\n",
      "    idx, data = self._get_data()\n",
      "  File \"/home/dex/anaconda3/lib/python3.7/site-packages/torch/utils/data/dataloader.py\", line 771, in _get_data\n",
      "    success, data = self._try_get_data()\n",
      "  File \"/home/dex/anaconda3/lib/python3.7/site-packages/torch/utils/data/dataloader.py\", line 724, in _try_get_data\n",
      "    data = self._data_queue.get(timeout=timeout)\n",
      "  File \"/home/dex/anaconda3/lib/python3.7/multiprocessing/queues.py\", line 113, in get\n",
      "    return _ForkingPickler.loads(res)\n",
      "  File \"/home/dex/anaconda3/lib/python3.7/site-packages/torch/multiprocessing/reductions.py\", line 294, in rebuild_storage_fd\n",
      "    fd = df.detach()\n",
      "  File \"/home/dex/anaconda3/lib/python3.7/multiprocessing/resource_sharer.py\", line 57, in detach\n",
      "    with _resource_sharer.get_connection(self._id) as conn:\n",
      "  File \"/home/dex/anaconda3/lib/python3.7/multiprocessing/resource_sharer.py\", line 87, in get_connection\n",
      "    c = Client(address, authkey=process.current_process().authkey)\n",
      "  File \"/home/dex/anaconda3/lib/python3.7/multiprocessing/connection.py\", line 499, in Client\n",
      "    deliver_challenge(c, authkey)\n",
      "  File \"/home/dex/anaconda3/lib/python3.7/multiprocessing/connection.py\", line 729, in deliver_challenge\n",
      "    response = connection.recv_bytes(256)        # reject large message\n",
      "  File \"/home/dex/anaconda3/lib/python3.7/multiprocessing/connection.py\", line 216, in recv_bytes\n",
      "    buf = self._recv_bytes(maxlength)\n",
      "  File \"/home/dex/anaconda3/lib/python3.7/multiprocessing/connection.py\", line 407, in _recv_bytes\n",
      "    buf = self._recv(4)\n",
      "  File \"/home/dex/anaconda3/lib/python3.7/multiprocessing/connection.py\", line 379, in _recv\n",
      "    chunk = read(handle, remaining)\n",
      "KeyboardInterrupt\n"
     ]
    }
   ],
   "source": [
    "!python ImprovedGAN.py"
   ]
  }
 ],
 "metadata": {
  "kernelspec": {
   "display_name": "Python 3",
   "language": "python",
   "name": "python3"
  },
  "language_info": {
   "codemirror_mode": {
    "name": "ipython",
    "version": 3
   },
   "file_extension": ".py",
   "mimetype": "text/x-python",
   "name": "python",
   "nbconvert_exporter": "python",
   "pygments_lexer": "ipython3",
   "version": "3.7.3"
  },
  "varInspector": {
   "cols": {
    "lenName": 16,
    "lenType": 16,
    "lenVar": 40
   },
   "kernels_config": {
    "python": {
     "delete_cmd_postfix": "",
     "delete_cmd_prefix": "del ",
     "library": "var_list.py",
     "varRefreshCmd": "print(var_dic_list())"
    },
    "r": {
     "delete_cmd_postfix": ") ",
     "delete_cmd_prefix": "rm(",
     "library": "var_list.r",
     "varRefreshCmd": "cat(var_dic_list()) "
    }
   },
   "types_to_exclude": [
    "module",
    "function",
    "builtin_function_or_method",
    "instance",
    "_Feature"
   ],
   "window_display": false
  }
 },
 "nbformat": 4,
 "nbformat_minor": 2
}
