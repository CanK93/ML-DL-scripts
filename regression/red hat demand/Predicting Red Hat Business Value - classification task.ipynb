{
 "cells": [
  {
   "cell_type": "code",
   "execution_count": 1,
   "metadata": {
    "collapsed": false
   },
   "outputs": [],
   "source": [
    "import numpy as np\n",
    "import pandas as pd\n",
    "import matplotlib.pyplot as plt\n",
    "\n",
    "from sklearn import cross_validation\n",
    "from sklearn.linear_model import LogisticRegression\n",
    "from sklearn.naive_bayes import GaussianNB\n",
    "from sklearn.ensemble import RandomForestClassifier\n",
    "from sklearn.calibration import CalibratedClassifierCV\n",
    "from sklearn.svm import SVC\n",
    "from sklearn import grid_search\n",
    "from sklearn.metrics import log_loss\n",
    "from sklearn.cross_validation import train_test_split\n",
    "\n",
    "from sklearn.ensemble import RandomForestClassifier\n",
    "from sklearn.metrics import accuracy_score, roc_auc_score\n",
    "from sklearn.grid_search import GridSearchCV\n",
    "\n",
    "import xgboost as xgb\n",
    "\n",
    "%matplotlib inline\n",
    "\n",
    "from sklearn.cross_validation import train_test_split\n",
    "\n",
    "train = pd.read_csv('act_train.csv')\n",
    "train.drop('activity_id', axis=1, inplace = True) \n",
    "#train.drop_duplicates(inplace = True)\n",
    "\n",
    "test = pd.read_csv('act_test.csv')\n",
    "people = pd.read_csv('people.csv')"
   ]
  },
  {
   "cell_type": "code",
   "execution_count": 2,
   "metadata": {
    "collapsed": false
   },
   "outputs": [
    {
     "data": {
      "text/plain": [
       "0.5105436817225224"
      ]
     },
     "execution_count": 2,
     "metadata": {},
     "output_type": "execute_result"
    }
   ],
   "source": [
    "1.0*(people.char_1 != people.char_2).sum()/people.shape[0]"
   ]
  },
  {
   "cell_type": "code",
   "execution_count": 3,
   "metadata": {
    "collapsed": false
   },
   "outputs": [
    {
     "data": {
      "text/plain": [
       "0.1809663807781385"
      ]
     },
     "execution_count": 3,
     "metadata": {},
     "output_type": "execute_result"
    }
   ],
   "source": [
    "1.0*len(people.group_1.unique())/len(people.group_1)"
   ]
  },
  {
   "cell_type": "code",
   "execution_count": 4,
   "metadata": {
    "collapsed": false
   },
   "outputs": [],
   "source": [
    "test_ids = test['activity_id']\n",
    "target = train['outcome']\n",
    "\n",
    "train.drop('outcome', axis=1, inplace = True) \n",
    "test.drop(['activity_id'], axis=1, inplace = True) \n",
    "\n",
    "    \n",
    "## Split off _ from people_id\n",
    "train['people_id'] = train['people_id'].apply(lambda x: x.split('_')[1])\n",
    "train['people_id'] = pd.to_numeric(train['people_id']).astype(int)\n",
    "\n",
    "test['people_id'] = test['people_id'].apply(lambda x: x.split('_')[1])\n",
    "test['people_id'] = pd.to_numeric(test['people_id']).astype(int)\n",
    "    \n",
    "columns = list(train.columns)\n",
    "columns.remove(\"date\")\n",
    "    \n",
    "for col in columns[1:]:\n",
    "    train[col] = train[col].fillna(-1)\n",
    "    train[col] = train[col].apply(lambda x: x if x == -1 else x.split(' ')[1])\n",
    "    train[col] = pd.to_numeric(train[col]).astype(int)\n",
    "    \n",
    "    test[col] = test[col].fillna(-1)\n",
    "    test[col] = test[col].apply(lambda x: x if x == -1 else x.split(' ')[1])\n",
    "    test[col] = pd.to_numeric(test[col]).astype(int)"
   ]
  },
  {
   "cell_type": "code",
   "execution_count": 5,
   "metadata": {
    "collapsed": true
   },
   "outputs": [],
   "source": [
    "people['people_id'] = people['people_id'].apply(lambda x: x.split('_')[1])\n",
    "people['people_id'] = pd.to_numeric(people['people_id']).astype(int)\n",
    "    \n",
    "#  Values in the people df is Booleans and Strings    \n",
    "columns = list(people.columns)\n",
    "columns.remove(\"char_38\")\n",
    "bools = columns[12:]\n",
    "strings = columns[1:12]\n",
    "strings.remove(\"date\")\n",
    "    \n",
    "for col in bools:\n",
    "    people[col] = pd.to_numeric(people[col]).astype(int)   \n",
    "    \n",
    "for col in strings:\n",
    "    people[col] = people[col].fillna(-2)\n",
    "    people[col] = people[col].apply(lambda x: x if x == -2 else x.split(' ')[1])\n",
    "    people[col] = pd.to_numeric(people[col]).astype(int)"
   ]
  },
  {
   "cell_type": "code",
   "execution_count": 6,
   "metadata": {
    "collapsed": false
   },
   "outputs": [],
   "source": [
    "def fix_date_time(df):\n",
    "    def extract_field(_df, start, stop):\n",
    "        return _df['date'].map(lambda dt: int(dt[start:stop]))\n",
    "    df['Year'] = extract_field(df,0,4)\n",
    "    df['Month'] = extract_field(df,5,7)\n",
    "    df['Day'] = extract_field(df,8,10)\n",
    "    return df.drop(['date'], axis = 1)\n",
    "train = fix_date_time(train)\n",
    "test = fix_date_time(test)\n",
    "people = fix_date_time(people)"
   ]
  },
  {
   "cell_type": "code",
   "execution_count": 7,
   "metadata": {
    "collapsed": false
   },
   "outputs": [],
   "source": [
    "train = train.merge(people, how='left', on='people_id')\n",
    "test = test.merge(people, how='left', on='people_id')\n",
    "\n",
    "train.drop(\"people_id\", axis = 1, inplace= True)\n",
    "test.drop(\"people_id\", axis = 1, inplace= True)"
   ]
  },
  {
   "cell_type": "code",
   "execution_count": null,
   "metadata": {
    "collapsed": false
   },
   "outputs": [
    {
     "name": "stdout",
     "output_type": "stream",
     "text": [
      "# train: 1757832 (0s: 977474, 1s: 780358)\n",
      "# test:  439459 (0s: 244320, 1s: 195139)\n"
     ]
    }
   ],
   "source": [
    "X_train, X_test, y_train, y_test = train_test_split(train, target, test_size = 0.20, random_state=23)\n",
    "\n",
    "print('# train: %5d (0s: %5d, 1s: %4d)'%(len(y_train), sum(y_train==0), sum(y_train==1)))\n",
    "print('# test:  %5d (0s: %5d, 1s: %4d)'%((len(y_test), sum(y_test==0), sum(y_test==1))))"
   ]
  },
  {
   "cell_type": "code",
   "execution_count": null,
   "metadata": {
    "collapsed": false
   },
   "outputs": [],
   "source": [
    "# xgb\n",
    "clf_xgb = xgb.XGBClassifier(missing=np.nan, max_depth=10, min_child_weight = 0,\n",
    "                        n_estimators=1000, learning_rate=0.01, \n",
    "                        subsample=0.7, colsample_bytree=0.7, seed=4242,\n",
    "                           nthread = 4)\n",
    "\n",
    "# fitting\n",
    "#clf_xgb.fit(X_train, y_train, early_stopping_rounds=50,print_every_n = 10, eval_metric=\"auc\", eval_set=[(X_test, y_test)])\n",
    "clf_xgb.fit(train, target, early_stopping_rounds=50,eval_metric=\"auc\")\n",
    "\n",
    "test_proba = clf_xgb.predict_proba(test)\n",
    "test_preds = test_proba[:,1]\n",
    "\n",
    "# Format for submission\n",
    "output = pd.DataFrame({ 'activity_id' : test_ids, 'outcome': test_preds })\n",
    "output.head()\n",
    "output.to_csv('xgb.csv', index = False)"
   ]
  },
  {
   "cell_type": "code",
   "execution_count": null,
   "metadata": {
    "collapsed": false
   },
   "outputs": [],
   "source": [
    "test_proba = clf_xgb.predict_proba(test)\n",
    "test_preds = test_proba[:,1]\n",
    "\n",
    "# Format for submission\n",
    "output = pd.DataFrame({ 'activity_id' : test_ids, 'outcome': test_preds })\n",
    "output.head()\n",
    "output.to_csv('xgb.csv', index = False)"
   ]
  },
  {
   "cell_type": "code",
   "execution_count": null,
   "metadata": {
    "collapsed": false
   },
   "outputs": [],
   "source": [
    "%matplotlib qt\n",
    "xgb.plot_importance(clf_xgb)"
   ]
  },
  {
   "cell_type": "code",
   "execution_count": 11,
   "metadata": {
    "collapsed": false
   },
   "outputs": [
    {
     "ename": "NameError",
     "evalue": "name 'clf_xgb' is not defined",
     "output_type": "error",
     "traceback": [
      "\u001b[1;31m---------------------------------------------------------------------------\u001b[0m",
      "\u001b[1;31mNameError\u001b[0m                                 Traceback (most recent call last)",
      "\u001b[1;32m<ipython-input-11-c3ed417e2dc6>\u001b[0m in \u001b[0;36m<module>\u001b[1;34m()\u001b[0m\n\u001b[0;32m      1\u001b[0m \u001b[0mget_ipython\u001b[0m\u001b[1;33m(\u001b[0m\u001b[1;33m)\u001b[0m\u001b[1;33m.\u001b[0m\u001b[0mmagic\u001b[0m\u001b[1;33m(\u001b[0m\u001b[1;34mu'matplotlib qt'\u001b[0m\u001b[1;33m)\u001b[0m\u001b[1;33m\u001b[0m\u001b[0m\n\u001b[1;32m----> 2\u001b[1;33m \u001b[0mxgb\u001b[0m\u001b[1;33m.\u001b[0m\u001b[0mto_graphviz\u001b[0m\u001b[1;33m(\u001b[0m\u001b[0mclf_xgb\u001b[0m\u001b[1;33m)\u001b[0m\u001b[1;33m\u001b[0m\u001b[0m\n\u001b[0m",
      "\u001b[1;31mNameError\u001b[0m: name 'clf_xgb' is not defined"
     ]
    }
   ],
   "source": [
    "%matplotlib qt\n",
    "xgb.to_graphviz(clf_xgb)"
   ]
  },
  {
   "cell_type": "code",
   "execution_count": null,
   "metadata": {
    "collapsed": false
   },
   "outputs": [],
   "source": [
    "clfRF = RandomForestClassifier()\n",
    "clfRF.fit(X_train, y_train)"
   ]
  },
  {
   "cell_type": "code",
   "execution_count": null,
   "metadata": {
    "collapsed": false
   },
   "outputs": [],
   "source": [
    "proba = clfRF.predict_proba(X_test)\n",
    "preds = proba[:,1]\n",
    "score = roc_auc_score(y_test, preds)\n",
    "print(\"Area under ROC {0}\".format(score))"
   ]
  },
  {
   "cell_type": "code",
   "execution_count": null,
   "metadata": {
    "collapsed": true
   },
   "outputs": [],
   "source": [
    "# Test Set Predictions\n",
    "test_proba = clfRF.predict_proba(test)\n",
    "test_preds = test_proba[:,1]\n",
    "\n",
    "# Format for submission\n",
    "output = pd.DataFrame({ 'activity_id' : test_ids, 'outcome': test_preds })\n",
    "output.head()\n",
    "output.to_csv('randomForest.csv', index = False)"
   ]
  },
  {
   "cell_type": "code",
   "execution_count": null,
   "metadata": {
    "collapsed": false
   },
   "outputs": [],
   "source": [
    "plt.hist(target)"
   ]
  },
  {
   "cell_type": "code",
   "execution_count": null,
   "metadata": {
    "collapsed": false
   },
   "outputs": [],
   "source": [
    "plt.hist(test_preds)"
   ]
  },
  {
   "cell_type": "code",
   "execution_count": null,
   "metadata": {
    "collapsed": true
   },
   "outputs": [],
   "source": []
  }
 ],
 "metadata": {
  "anaconda-cloud": {},
  "kernelspec": {
   "display_name": "Python [conda root]",
   "language": "python",
   "name": "conda-root-py"
  },
  "language_info": {
   "codemirror_mode": {
    "name": "ipython",
    "version": 2
   },
   "file_extension": ".py",
   "mimetype": "text/x-python",
   "name": "python",
   "nbconvert_exporter": "python",
   "pygments_lexer": "ipython2",
   "version": "2.7.12"
  }
 },
 "nbformat": 4,
 "nbformat_minor": 0
}
