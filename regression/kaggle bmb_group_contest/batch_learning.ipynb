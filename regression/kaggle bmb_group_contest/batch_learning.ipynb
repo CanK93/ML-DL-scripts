{
 "cells": [
  {
   "cell_type": "code",
   "execution_count": 1,
   "metadata": {
    "collapsed": false
   },
   "outputs": [],
   "source": [
    "import numpy as np\n",
    "import pandas as pd\n",
    "import math\n",
    "import sklearn\n",
    "\n",
    "from sklearn.cross_validation import cross_val_score\n",
    "from subprocess import check_output\n",
    "\n",
    "from sklearn.metrics import make_scorer, mean_squared_error\n",
    "from sklearn.cross_validation import train_test_split\n",
    "from sklearn.preprocessing import normalize\n",
    "\n",
    "from sklearn.linear_model import SGDRegressor\n",
    "\n",
    "from sklearn.preprocessing import OneHotEncoder"
   ]
  },
  {
   "cell_type": "code",
   "execution_count": 2,
   "metadata": {
    "collapsed": false
   },
   "outputs": [],
   "source": [
    "enc = OneHotEncoder()\n",
    "\n",
    "def rmsle_func(actual, predicted):\n",
    "    return np.sqrt(msle(actual, predicted))\n",
    "def msle(actual, predicted):\n",
    "    return np.mean(sle(actual, predicted))\n",
    "def sle(actual, predicted):\n",
    "    return (np.power(np.log(np.array(actual)+1) - \n",
    "            np.log(np.array(predicted)+1), 2))\n",
    "            \n",
    "dtypes = {'Semana' : 'int32',\n",
    "                              'Agencia_ID' :'int32',\n",
    "                              'Canal_ID' : 'int32',\n",
    "                              'Ruta_SAK' : 'int32',\n",
    "                              'Cliente-ID' : 'int32',\n",
    "                              'Producto_ID':'int32',\n",
    "                              'Venta_hoy':'float32',\n",
    "                              'Venta_uni_hoy': 'int32',\n",
    "                              'Dev_uni_proxima':'int32',\n",
    "                              'Dev_proxima':'float32',\n",
    "                              'Demanda_uni_equil':'int32'}\n",
    "\n",
    "model = SGDRegressor(loss='squared_loss', penalty='l2', alpha=0.0001, \n",
    "                     fit_intercept=True, n_iter=10, shuffle=True, verbose=0, \n",
    "                     epsilon=0.1, learning_rate='invscaling', \n",
    "                     eta0=0.01, power_t=0.25, warm_start=True, average=False)\n",
    "\n",
    "from sklearn.feature_extraction import FeatureHasher\n",
    "h = FeatureHasher(n_features=8000, input_type = 'string')"
   ]
  },
  {
   "cell_type": "code",
   "execution_count": 13,
   "metadata": {
    "collapsed": false
   },
   "outputs": [
    {
     "name": "stdout",
     "output_type": "stream",
     "text": [
      "rmsle:  0.22022248053\n",
      "RMSE  0.610349941523\n",
      "Finished the fitting\n"
     ]
    }
   ],
   "source": [
    "# Cliente_ID: # of unique = 880604  - многовато, дропаем\n",
    "df_train = pd.read_csv('train.csv', dtype  = dtypes, usecols=[\"Semana\", \"Agencia_ID\", \"Canal_ID\", 'Ruta_SAK',\n",
    "                                                             'Producto_ID','Demanda_uni_equil'], chunksize=16000)\n",
    "\n",
    "i = 1\n",
    "num = 15\n",
    "def loc (x):\n",
    "    return math.loc(x+1)\n",
    "#pd.concat([train, pd.get_dummies(train['Semana'],sparse=True)], axis=1, join_axes=[train.index])\n",
    "for chunk in df_train:\n",
    "    if  i < num :\n",
    "        X_chunk = h.fit_transform(chunk[[\"Semana\", \"Agencia_ID\", \"Canal_ID\", 'Ruta_SAK', 'Producto_ID']].astype('string').as_matrix())\n",
    "        y_chunk = np.log(np.ravel(chunk[['Demanda_uni_equil']].as_matrix()) +1)\n",
    "        \n",
    "        model.partial_fit(X_chunk, y_chunk)\n",
    "        i = i + 1\n",
    "    elif i == num:\n",
    "        X_chunk = h.fit_transform(chunk[[\"Semana\", \"Agencia_ID\", \"Canal_ID\", 'Ruta_SAK','Producto_ID']].astype('string').values)\n",
    "        y_chunk = np.log(np.ravel(chunk[['Demanda_uni_equil']].values) + 1)\n",
    "        \n",
    "        print 'rmsle: ', rmsle_func(y_chunk, model.predict(X_chunk))\n",
    "        print 'RMSE ', math.sqrt(sklearn.metrics.mean_squared_error(y_chunk, model.predict(X_chunk)))\n",
    "        i = i + 1\n",
    "    else:\n",
    "        break\n",
    "print 'Finished the fitting'"
   ]
  },
  {
   "cell_type": "code",
   "execution_count": 14,
   "metadata": {
    "collapsed": false
   },
   "outputs": [],
   "source": [
    "# Now make predictions with trained model\n",
    "\n",
    "X_test = pd.read_csv('test.csv',dtype  = dtypes,usecols=['id', \"Semana\", \"Agencia_ID\", \"Canal_ID\", 'Ruta_SAK',\n",
    "                                                            'Producto_ID'], nrows = 1501)\n",
    "ids = X_test['id']\n",
    "X_test.drop(['id'], axis =1, inplace = True)\n",
    "y_predicted = np.exp(model.predict(h.fit_transform(X_test.astype('string').values)))-1"
   ]
  },
  {
   "cell_type": "code",
   "execution_count": null,
   "metadata": {
    "collapsed": false
   },
   "outputs": [],
   "source": [
    "submission = pd.DataFrame({\"id\":ids, \"Demanda_uni_equil\": y_predicted})\n",
    "\n",
    "def nonnegative(x):\n",
    "    if (x > 0) or (x == 0):\n",
    "        return x\n",
    "    else: \n",
    "        return 3.9\n",
    "\n",
    "y_predicted = map(nonnegative, y_predicted)\n",
    "\n",
    "submission = pd.DataFrame({\"id\":ids, \"Demanda_uni_equil\": y_predicted})\n",
    "cols = ['id',\"Demanda_uni_equil\"]\n",
    "submission = submission[cols]\n",
    "submission.to_csv(\"submission.csv\", index=False)\n",
    "\n",
    "\n",
    "print('Completed!')"
   ]
  },
  {
   "cell_type": "code",
   "execution_count": null,
   "metadata": {
    "collapsed": false
   },
   "outputs": [],
   "source": [
    "submission = pd.DataFrame({\"id\":ids, \"Demanda_uni_equil\": y_predicted})\n",
    "\n",
    "y_predicted = map(nonnegative, y_predicted)\n",
    "\n",
    "submission = pd.DataFrame({\"id\":ids, \"Demanda_uni_equil\": y_predicted})\n",
    "cols = ['id',\"Demanda_uni_equil\"]\n",
    "submission = submission[cols]\n",
    "submission.to_csv(\"submission.csv\", index=False)\n",
    "\n",
    "\n",
    "print('Completed!')"
   ]
  },
  {
   "cell_type": "code",
   "execution_count": null,
   "metadata": {
    "collapsed": false
   },
   "outputs": [],
   "source": [
    "k = submission.Demanda_uni_equil.values "
   ]
  }
 ],
 "metadata": {
  "kernelspec": {
   "display_name": "Python 2",
   "language": "python",
   "name": "python2"
  },
  "language_info": {
   "codemirror_mode": {
    "name": "ipython",
    "version": 2
   },
   "file_extension": ".py",
   "mimetype": "text/x-python",
   "name": "python",
   "nbconvert_exporter": "python",
   "pygments_lexer": "ipython2",
   "version": "2.7.12"
  }
 },
 "nbformat": 4,
 "nbformat_minor": 0
}
