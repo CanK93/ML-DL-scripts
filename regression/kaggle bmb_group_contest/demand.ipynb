{
 "cells": [
  {
   "cell_type": "code",
   "execution_count": 1,
   "metadata": {
    "collapsed": false,
    "nbpresent": {
     "id": "6c7ccfa8-854f-46ad-95ad-bab1ffe578df"
    }
   },
   "outputs": [],
   "source": [
    "import numpy as np\n",
    "import pandas as pd\n",
    "import math\n",
    "\n",
    "from sklearn.cross_validation import cross_val_score\n",
    "from subprocess import check_output\n",
    "\n",
    "from sklearn.metrics import make_scorer, mean_squared_error\n",
    "from sklearn.cross_validation import train_test_split\n",
    "from sklearn.preprocessing import normalize\n",
    "import xgboost as xgb"
   ]
  },
  {
   "cell_type": "code",
   "execution_count": 2,
   "metadata": {
    "collapsed": false,
    "nbpresent": {
     "id": "c88d8564-9d17-4bdc-9e26-88d3fb002ce0"
    }
   },
   "outputs": [],
   "source": [
    "numsToRead = 2000000\n",
    "dtypes = {'Semana' : 'int32',\n",
    "                              'Agencia_ID' :'int32',\n",
    "                              'Canal_ID' : 'int32',\n",
    "                              'Ruta_SAK' : 'int32',\n",
    "                              'Cliente-ID' : 'int32',\n",
    "                              'Producto_ID':'int32',\n",
    "                              'Venta_hoy':'float32',\n",
    "                              'Venta_uni_hoy': 'int32',\n",
    "                              'Dev_uni_proxima':'int32',\n",
    "                              'Dev_proxima':'float32',\n",
    "                              'Demanda_uni_equil':'int32'}\n",
    "\n",
    "train = pd.read_csv('train.csv', dtype  = dtypes, nrows=numsToRead)\n",
    "train.drop(['Venta_uni_hoy','Venta_hoy','Dev_uni_proxima','Dev_proxima'], axis =1, inplace = True)\n",
    "train = train.loc[train['Demanda_uni_equil'] < 85,:]\n",
    "\n",
    "#для соотсвествия функции ошибки тут и на lb\n",
    "#train.Demanda_uni_equil = train.Demanda_uni_equil.apply(lambda x: math.log(x + 1))\n",
    "#df_test = pd.read_csv('test.csv'), nrows=5000000)"
   ]
  },
  {
   "cell_type": "code",
   "execution_count": 3,
   "metadata": {
    "collapsed": false,
    "nbpresent": {
     "id": "7ff1ed34-fe0a-48f5-836d-fe8d47be35b5"
    }
   },
   "outputs": [
    {
     "name": "stdout",
     "output_type": "stream",
     "text": [
      "<class 'pandas.core.frame.DataFrame'>\n",
      "Int64Index: 1991036 entries, 0 to 1999999\n",
      "Data columns (total 7 columns):\n",
      "Semana               int32\n",
      "Agencia_ID           int32\n",
      "Canal_ID             int32\n",
      "Ruta_SAK             int32\n",
      "Cliente_ID           int64\n",
      "Producto_ID          int32\n",
      "Demanda_uni_equil    int32\n",
      "dtypes: int32(6), int64(1)\n",
      "memory usage: 76.0 MB\n"
     ]
    }
   ],
   "source": [
    "train.info()"
   ]
  },
  {
   "cell_type": "code",
   "execution_count": 4,
   "metadata": {
    "collapsed": false,
    "nbpresent": {
     "id": "b7dbe018-395c-4fe6-ad2f-84db715089ca"
    }
   },
   "outputs": [],
   "source": [
    "def rmsle_func(actual, predicted):\n",
    "    \"\"\" Computes the root mean squared log error.\n",
    "    This function computes the root mean squared log error between two lists\n",
    "    of numbers. \"\"\"  \n",
    "    return np.sqrt(msle(actual, predicted))\n",
    "def msle(actual, predicted):\n",
    "    return np.mean(sle(actual, predicted))\n",
    "def sle(actual, predicted):\n",
    "    return (np.power(np.log(np.array(actual)+1) - \n",
    "            np.log(np.array(predicted)+1), 2))"
   ]
  },
  {
   "cell_type": "code",
   "execution_count": 5,
   "metadata": {
    "collapsed": false,
    "nbpresent": {
     "id": "091d37bf-c17d-466e-8464-0dbf04dc9d94"
    }
   },
   "outputs": [
    {
     "name": "stdout",
     "output_type": "stream",
     "text": [
      "<class 'pandas.core.frame.DataFrame'>\n",
      "RangeIndex: 6999251 entries, 0 to 6999250\n",
      "Data columns (total 6 columns):\n",
      "Semana         int32\n",
      "Agencia_ID     int32\n",
      "Canal_ID       int32\n",
      "Ruta_SAK       int32\n",
      "Cliente_ID     int64\n",
      "Producto_ID    int32\n",
      "dtypes: int32(5), int64(1)\n",
      "memory usage: 186.9 MB\n",
      "None\n"
     ]
    }
   ],
   "source": [
    "test = pd.read_csv('test.csv', dtype  = dtypes) #, nrows=numsToRead)\n",
    "ids = test['id']\n",
    "test.drop(['id'], axis =1, inplace = True)\n",
    "print test.info()"
   ]
  },
  {
   "cell_type": "code",
   "execution_count": 6,
   "metadata": {
    "collapsed": false
   },
   "outputs": [
    {
     "name": "stdout",
     "output_type": "stream",
     "text": [
      "<class 'pandas.sparse.frame.SparseDataFrame'>\n",
      "RangeIndex: 1991036 entries, 0 to 1991035\n",
      "Data columns (total 15 columns):\n",
      "0     float64\n",
      "1     float64\n",
      "2     float64\n",
      "3     float64\n",
      "4     float64\n",
      "5     float64\n",
      "6     float64\n",
      "7     float64\n",
      "8     float64\n",
      "9     float64\n",
      "10    float64\n",
      "11    float64\n",
      "12    float64\n",
      "13    float64\n",
      "14    float64\n",
      "dtypes: float64(15)\n",
      "memory usage: 227.9 MB\n",
      "None\n"
     ]
    }
   ],
   "source": [
    "#get dummies variables\n",
    "#train = train[np.append(test.columns.values, 'Demanda_uni_equil')]\n",
    "train = train.loc[train['Demanda_uni_equil'] < 85,:]\n",
    "shapeTrain = train.shape[0]\n",
    "shapeTest = test.shape[0]\n",
    "\n",
    "# аппендим чтобы единые преобразования и для теста и для трейна\n",
    "train = train.append(test)\n",
    "\n",
    "#дропаем по сути коллинеарные колонки, они не нужны\n",
    "train = pd.concat([train, pd.get_dummies(train['Semana'],sparse=True)], axis=1, join_axes=[train.index])\n",
    "train.drop([11,'Semana'],axis=1, inplace = True)\n",
    "\n",
    "# train = pd.concat([train, pd.get_dummies(train['Producto_ID'],sparse=True)], axis=1, join_axes=[train.index])\n",
    "# train.drop([123,'Producto_ID'],axis=1, inplace = True)\n",
    "\n",
    "\n",
    "train = pd.concat([train, pd.get_dummies(train['Canal_ID'],sparse=True)], axis=1, join_axes=[train.index])\n",
    "train.drop([11,'Canal_ID'],axis=1, inplace = True)\n",
    "\n",
    "# train = pd.concat([train, pd.get_dummies(train['Agencia_ID'],sparse=True)], axis=1, join_axes=[train.index])\n",
    "# train.drop([1382,'Agencia_ID'],axis=1, inplace = True)\n",
    "\n",
    "#для того чтобы сделать названия колонок уникальными\n",
    "train.columns = range(train.shape[1])\n",
    "train.reset_index(drop=True, inplace= True)\n",
    "\n",
    "\n",
    "test = train[shapeTrain:shapeTrain+shapeTest]\n",
    "train = train[0:shapeTrain]\n",
    "print train.info()\n"
   ]
  },
  {
   "cell_type": "code",
   "execution_count": 7,
   "metadata": {
    "collapsed": false
   },
   "outputs": [
    {
     "data": {
      "text/plain": [
       "[]"
      ]
     },
     "execution_count": 7,
     "metadata": {},
     "output_type": "execute_result"
    }
   ],
   "source": [
    "train.index.get_duplicates()"
   ]
  },
  {
   "cell_type": "code",
   "execution_count": 8,
   "metadata": {
    "collapsed": false,
    "nbpresent": {
     "id": "64c52e4c-3869-4e58-a634-e308723e92b1"
    }
   },
   "outputs": [
    {
     "name": "stdout",
     "output_type": "stream",
     "text": [
      "((1991036, 14), (1991036,))\n",
      "((1592828, 14), (398208, 14))\n"
     ]
    }
   ],
   "source": [
    "#меньше 1% имеют значение больше 51, маска по таким значения возможно имеет смысл newdf = df[df.columns[2:4]] \n",
    "y = train[train.columns[1]]\n",
    "train.drop([1],axis=1, inplace = True)\n",
    "test.drop([1],axis=1, inplace = True)\n",
    "\n",
    "X = train[test.columns.values]\n",
    "print(X.shape, y.shape)\n",
    "\n",
    "# split into train and test\n",
    "X_train, X_test, y_train, y_test = train_test_split(X, y, test_size=0.2, random_state=777)\n",
    "print(X_train.shape, X_test.shape)"
   ]
  },
  {
   "cell_type": "code",
   "execution_count": null,
   "metadata": {
    "collapsed": false,
    "nbpresent": {
     "id": "9b9c6aad-6813-4e53-90eb-17ecbb6fba08"
    }
   },
   "outputs": [
    {
     "name": "stderr",
     "output_type": "stream",
     "text": [
      "[0]\tvalidation_0-rmse:2053305.750000\n",
      "[1]\tvalidation_0-rmse:2003695.875000\n",
      "[2]\tvalidation_0-rmse:1957720.250000\n",
      "[3]\tvalidation_0-rmse:1915332.125000\n",
      "[4]\tvalidation_0-rmse:1876247.375000\n",
      "[5]\tvalidation_0-rmse:1840094.875000\n",
      "[6]\tvalidation_0-rmse:1806735.125000\n",
      "[7]\tvalidation_0-rmse:1776083.500000\n",
      "[8]\tvalidation_0-rmse:1748319.500000\n",
      "[9]\tvalidation_0-rmse:1722845.500000\n",
      "[10]\tvalidation_0-rmse:1699517.875000\n",
      "[11]\tvalidation_0-rmse:1677487.000000\n",
      "[12]\tvalidation_0-rmse:1657396.000000\n",
      "[13]\tvalidation_0-rmse:1639166.500000\n",
      "[14]\tvalidation_0-rmse:1622670.125000\n",
      "[15]\tvalidation_0-rmse:1607295.000000\n",
      "[16]\tvalidation_0-rmse:1593513.250000\n",
      "[17]\tvalidation_0-rmse:1580330.750000\n",
      "[18]\tvalidation_0-rmse:1568860.125000\n",
      "[19]\tvalidation_0-rmse:1558259.250000\n",
      "[20]\tvalidation_0-rmse:1548567.625000\n",
      "[21]\tvalidation_0-rmse:1539986.875000\n",
      "[22]\tvalidation_0-rmse:1531203.750000\n",
      "[23]\tvalidation_0-rmse:1523606.375000\n",
      "[24]\tvalidation_0-rmse:1516943.250000\n",
      "[25]\tvalidation_0-rmse:1510747.500000\n",
      "[26]\tvalidation_0-rmse:1505212.625000\n",
      "[27]\tvalidation_0-rmse:1499894.750000\n",
      "[28]\tvalidation_0-rmse:1495159.000000\n",
      "[29]\tvalidation_0-rmse:1490787.375000\n",
      "[30]\tvalidation_0-rmse:1486972.875000\n",
      "[31]\tvalidation_0-rmse:1482968.000000\n",
      "[32]\tvalidation_0-rmse:1479554.500000\n",
      "[33]\tvalidation_0-rmse:1476313.750000\n",
      "[34]\tvalidation_0-rmse:1473500.000000\n",
      "[35]\tvalidation_0-rmse:1470690.875000\n",
      "[36]\tvalidation_0-rmse:1467570.375000\n",
      "[37]\tvalidation_0-rmse:1465201.750000\n",
      "[38]\tvalidation_0-rmse:1462628.750000\n",
      "[39]\tvalidation_0-rmse:1460755.375000\n",
      "[40]\tvalidation_0-rmse:1458995.875000\n",
      "[41]\tvalidation_0-rmse:1457398.250000\n",
      "[42]\tvalidation_0-rmse:1455325.500000\n",
      "[43]\tvalidation_0-rmse:1454010.000000\n",
      "[44]\tvalidation_0-rmse:1452344.750000\n",
      "[45]\tvalidation_0-rmse:1451220.750000\n"
     ]
    }
   ],
   "source": [
    "# воспользуемся  нашей функцией ошибки\n",
    "#rmsle  = make_scorer(rmsle_func, greater_is_better=False)\n",
    "\n",
    "xlf = xgb.XGBRegressor(objective=\"reg:linear\", seed=1729, n_estimators= 2500, learning_rate=0.05, max_depth=5, \n",
    "                      nthread=2)\n",
    "xlf.fit(X_train, y_train, eval_metric = 'rmse',eval_set = [(X_test, y_test)])\n"
   ]
  },
  {
   "cell_type": "code",
   "execution_count": null,
   "metadata": {
    "collapsed": false,
    "nbpresent": {
     "id": "da1f2815-c10f-41f4-be4d-b39f713b6f3e"
    }
   },
   "outputs": [],
   "source": [
    "preds = xlf.predict(X_test)"
   ]
  },
  {
   "cell_type": "code",
   "execution_count": null,
   "metadata": {
    "collapsed": false,
    "nbpresent": {
     "id": "43168445-2061-4d1b-ad28-b9eae3d6c7a1"
    }
   },
   "outputs": [],
   "source": [
    "def nonnegative(x):\n",
    "    if x > 0:\n",
    "        return x\n",
    "    else: \n",
    "        return 0\n",
    "    \n",
    "\n",
    "\n",
    "# submission\n",
    "test_preds = np.around(xlf.predict(test), decimals=1) # округлим до десятых\n",
    "#test_preds = xlf.predict(test)\n",
    "submission = pd.DataFrame({\"id\":ids, \"Demanda_uni_equil\": test_preds})\n",
    "\n",
    "test_preds = map(nonnegative, test_preds)\n",
    "print('rmsle: \" ', rmsle_func(y_test,preds))\n",
    "\n",
    "submission = pd.DataFrame({\"id\":ids, \"Demanda_uni_equil\": test_preds})\n",
    "cols = ['id',\"Demanda_uni_equil\"]\n",
    "submission = submission[cols]\n",
    "submission.to_csv(\"submission.csv\", index=False)\n",
    "\n",
    "\n",
    "print('Completed!')"
   ]
  },
  {
   "cell_type": "code",
   "execution_count": null,
   "metadata": {
    "collapsed": false,
    "nbpresent": {
     "id": "22328aec-8cf5-4974-9152-d44f8562be19"
    }
   },
   "outputs": [],
   "source": [
    "print test.shape, submission.shape"
   ]
  },
  {
   "cell_type": "code",
   "execution_count": null,
   "metadata": {
    "collapsed": false
   },
   "outputs": [],
   "source": [
    "submission.Demanda_uni_equil.min()"
   ]
  },
  {
   "cell_type": "code",
   "execution_count": null,
   "metadata": {
    "collapsed": true
   },
   "outputs": [],
   "source": []
  },
  {
   "cell_type": "code",
   "execution_count": null,
   "metadata": {
    "collapsed": true
   },
   "outputs": [],
   "source": []
  }
 ],
 "metadata": {
  "kernelspec": {
   "display_name": "Python 2",
   "language": "python",
   "name": "python2"
  },
  "language_info": {
   "codemirror_mode": {
    "name": "ipython",
    "version": 2
   },
   "file_extension": ".py",
   "mimetype": "text/x-python",
   "name": "python",
   "nbconvert_exporter": "python",
   "pygments_lexer": "ipython2",
   "version": "2.7.12"
  }
 },
 "nbformat": 4,
 "nbformat_minor": 0
}
