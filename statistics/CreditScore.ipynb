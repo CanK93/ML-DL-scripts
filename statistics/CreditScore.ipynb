{
 "cells": [
  {
   "cell_type": "markdown",
   "metadata": {},
   "source": [
    "# Кредитный анализ скоринга"
   ]
  },
  {
   "cell_type": "code",
   "execution_count": 7,
   "metadata": {
    "collapsed": false
   },
   "outputs": [
    {
     "name": "stdout",
     "output_type": "stream",
     "text": [
      "Populating the interactive namespace from numpy and matplotlib\n"
     ]
    },
    {
     "name": "stderr",
     "output_type": "stream",
     "text": [
      "WARNING: pylab import has clobbered these variables: ['chisquare']\n",
      "`%matplotlib` prevents importing * from pylab and numpy\n"
     ]
    }
   ],
   "source": [
    "import numpy as np\n",
    "import pandas as pd\n",
    "import math\n",
    "from scipy.stats import chisquare\n",
    "from statsmodels.stats.descriptivestats import sign_test\n",
    "\n",
    "from statsmodels.sandbox.stats.multicomp import multipletests \n",
    "\n",
    "import scipy\n",
    "import scipy as sc\n",
    "\n",
    "from statsmodels.stats.weightstats import *\n",
    "import pandas as pd\n",
    "\n",
    "import statsmodels.formula.api as smf\n",
    "import statsmodels.stats.api as sms\n",
    "\n",
    "import statsmodels.stats.multitest as smm\n",
    "\n",
    "from itertools import combinations\n",
    "\n",
    "\n",
    "import matplotlib.pyplot as plt\n",
    "%pylab inline"
   ]
  },
  {
   "cell_type": "code",
   "execution_count": 8,
   "metadata": {
    "collapsed": true
   },
   "outputs": [],
   "source": [
    "df = pd.read_csv('credit_card_default_analysis.csv')"
   ]
  },
  {
   "cell_type": "markdown",
   "metadata": {},
   "source": [
    "### 1. Анализ LIMIT_BAL"
   ]
  },
  {
   "cell_type": "markdown",
   "metadata": {},
   "source": [
    "1.\n",
    "Размер кредитного лимита (LIMIT_BAL). В двух группах, тех людей, кто вернул кредит (default = 0) и тех, кто его не вернул (default = 1) проверьте гипотезы: a) о равенстве медианных значений кредитного лимита с помощью подходящей интервальной оценки b) о равенстве распределений с помощью одного из подходящих непараметрических критериев проверки равенства средних. Значимы ли полученные результаты с практической точки зрения ?"
   ]
  },
  {
   "cell_type": "code",
   "execution_count": 9,
   "metadata": {
    "collapsed": false
   },
   "outputs": [
    {
     "data": {
      "text/html": [
       "<div>\n",
       "<table border=\"1\" class=\"dataframe\">\n",
       "  <thead>\n",
       "    <tr style=\"text-align: right;\">\n",
       "      <th></th>\n",
       "      <th>ID</th>\n",
       "      <th>LIMIT_BAL</th>\n",
       "      <th>SEX</th>\n",
       "      <th>EDUCATION</th>\n",
       "      <th>MARRIAGE</th>\n",
       "      <th>AGE</th>\n",
       "      <th>PAY_0</th>\n",
       "      <th>PAY_2</th>\n",
       "      <th>PAY_3</th>\n",
       "      <th>PAY_4</th>\n",
       "      <th>...</th>\n",
       "      <th>BILL_AMT4</th>\n",
       "      <th>BILL_AMT5</th>\n",
       "      <th>BILL_AMT6</th>\n",
       "      <th>PAY_AMT1</th>\n",
       "      <th>PAY_AMT2</th>\n",
       "      <th>PAY_AMT3</th>\n",
       "      <th>PAY_AMT4</th>\n",
       "      <th>PAY_AMT5</th>\n",
       "      <th>PAY_AMT6</th>\n",
       "      <th>default</th>\n",
       "    </tr>\n",
       "  </thead>\n",
       "  <tbody>\n",
       "    <tr>\n",
       "      <th>0</th>\n",
       "      <td>1</td>\n",
       "      <td>20000</td>\n",
       "      <td>2</td>\n",
       "      <td>2</td>\n",
       "      <td>1</td>\n",
       "      <td>24</td>\n",
       "      <td>2</td>\n",
       "      <td>2</td>\n",
       "      <td>0</td>\n",
       "      <td>0</td>\n",
       "      <td>...</td>\n",
       "      <td>0</td>\n",
       "      <td>0</td>\n",
       "      <td>0</td>\n",
       "      <td>0</td>\n",
       "      <td>689</td>\n",
       "      <td>0</td>\n",
       "      <td>0</td>\n",
       "      <td>0</td>\n",
       "      <td>0</td>\n",
       "      <td>1</td>\n",
       "    </tr>\n",
       "    <tr>\n",
       "      <th>1</th>\n",
       "      <td>2</td>\n",
       "      <td>120000</td>\n",
       "      <td>2</td>\n",
       "      <td>2</td>\n",
       "      <td>2</td>\n",
       "      <td>26</td>\n",
       "      <td>0</td>\n",
       "      <td>2</td>\n",
       "      <td>0</td>\n",
       "      <td>0</td>\n",
       "      <td>...</td>\n",
       "      <td>3272</td>\n",
       "      <td>3455</td>\n",
       "      <td>3261</td>\n",
       "      <td>0</td>\n",
       "      <td>1000</td>\n",
       "      <td>1000</td>\n",
       "      <td>1000</td>\n",
       "      <td>0</td>\n",
       "      <td>2000</td>\n",
       "      <td>1</td>\n",
       "    </tr>\n",
       "    <tr>\n",
       "      <th>2</th>\n",
       "      <td>3</td>\n",
       "      <td>90000</td>\n",
       "      <td>2</td>\n",
       "      <td>2</td>\n",
       "      <td>2</td>\n",
       "      <td>34</td>\n",
       "      <td>0</td>\n",
       "      <td>0</td>\n",
       "      <td>0</td>\n",
       "      <td>0</td>\n",
       "      <td>...</td>\n",
       "      <td>14331</td>\n",
       "      <td>14948</td>\n",
       "      <td>15549</td>\n",
       "      <td>1518</td>\n",
       "      <td>1500</td>\n",
       "      <td>1000</td>\n",
       "      <td>1000</td>\n",
       "      <td>1000</td>\n",
       "      <td>5000</td>\n",
       "      <td>0</td>\n",
       "    </tr>\n",
       "    <tr>\n",
       "      <th>3</th>\n",
       "      <td>4</td>\n",
       "      <td>50000</td>\n",
       "      <td>2</td>\n",
       "      <td>2</td>\n",
       "      <td>1</td>\n",
       "      <td>37</td>\n",
       "      <td>0</td>\n",
       "      <td>0</td>\n",
       "      <td>0</td>\n",
       "      <td>0</td>\n",
       "      <td>...</td>\n",
       "      <td>28314</td>\n",
       "      <td>28959</td>\n",
       "      <td>29547</td>\n",
       "      <td>2000</td>\n",
       "      <td>2019</td>\n",
       "      <td>1200</td>\n",
       "      <td>1100</td>\n",
       "      <td>1069</td>\n",
       "      <td>1000</td>\n",
       "      <td>0</td>\n",
       "    </tr>\n",
       "    <tr>\n",
       "      <th>4</th>\n",
       "      <td>5</td>\n",
       "      <td>50000</td>\n",
       "      <td>1</td>\n",
       "      <td>2</td>\n",
       "      <td>1</td>\n",
       "      <td>57</td>\n",
       "      <td>0</td>\n",
       "      <td>0</td>\n",
       "      <td>0</td>\n",
       "      <td>0</td>\n",
       "      <td>...</td>\n",
       "      <td>20940</td>\n",
       "      <td>19146</td>\n",
       "      <td>19131</td>\n",
       "      <td>2000</td>\n",
       "      <td>36681</td>\n",
       "      <td>10000</td>\n",
       "      <td>9000</td>\n",
       "      <td>689</td>\n",
       "      <td>679</td>\n",
       "      <td>0</td>\n",
       "    </tr>\n",
       "  </tbody>\n",
       "</table>\n",
       "<p>5 rows × 25 columns</p>\n",
       "</div>"
      ],
      "text/plain": [
       "   ID  LIMIT_BAL  SEX  EDUCATION  MARRIAGE  AGE  PAY_0  PAY_2  PAY_3  PAY_4  \\\n",
       "0   1      20000    2          2         1   24      2      2      0      0   \n",
       "1   2     120000    2          2         2   26      0      2      0      0   \n",
       "2   3      90000    2          2         2   34      0      0      0      0   \n",
       "3   4      50000    2          2         1   37      0      0      0      0   \n",
       "4   5      50000    1          2         1   57      0      0      0      0   \n",
       "\n",
       "    ...     BILL_AMT4  BILL_AMT5  BILL_AMT6  PAY_AMT1  PAY_AMT2  PAY_AMT3  \\\n",
       "0   ...             0          0          0         0       689         0   \n",
       "1   ...          3272       3455       3261         0      1000      1000   \n",
       "2   ...         14331      14948      15549      1518      1500      1000   \n",
       "3   ...         28314      28959      29547      2000      2019      1200   \n",
       "4   ...         20940      19146      19131      2000     36681     10000   \n",
       "\n",
       "   PAY_AMT4  PAY_AMT5  PAY_AMT6  default  \n",
       "0         0         0         0        1  \n",
       "1      1000         0      2000        1  \n",
       "2      1000      1000      5000        0  \n",
       "3      1100      1069      1000        0  \n",
       "4      9000       689       679        0  \n",
       "\n",
       "[5 rows x 25 columns]"
      ]
     },
     "execution_count": 9,
     "metadata": {},
     "output_type": "execute_result"
    }
   ],
   "source": [
    "#1. a)\n",
    "df.head()"
   ]
  },
  {
   "cell_type": "code",
   "execution_count": 10,
   "metadata": {
    "collapsed": false
   },
   "outputs": [
    {
     "data": {
      "image/png": "[encoded data removed]",
      "text/plain": [
       "<matplotlib.figure.Figure at 0xd512970>"
      ]
     },
     "metadata": {},
     "output_type": "display_data"
    }
   ],
   "source": [
    "#1. a)\n",
    "\n",
    "# Как видно далее на графиках, распределение отличается от нормального\n",
    "pylab.figure(figsize=(12,8))\n",
    "pylab.subplot(2,2,1)\n",
    "stats.probplot(df[df.default == 0].LIMIT_BAL, dist=\"norm\", plot=pylab)\n",
    "pylab.subplot(2,2,2)\n",
    "stats.probplot(df[df.default == 1].LIMIT_BAL, dist=\"norm\", plot=pylab)\n",
    "pylab.show()"
   ]
  },
  {
   "cell_type": "code",
   "execution_count": 11,
   "metadata": {
    "collapsed": false
   },
   "outputs": [
    {
     "data": {
      "image/png": "[encoded data removed]",
      "text/plain": [
       "<matplotlib.figure.Figure at 0x9fcc330>"
      ]
     },
     "metadata": {},
     "output_type": "display_data"
    },
    {
     "name": "stdout",
     "output_type": "stream",
     "text": [
      "Avg and median Balance (no default):  178099.726074 150000.0 Avg and median Balance (with default):  130109.65642 90000.0\n"
     ]
    }
   ],
   "source": [
    "plt.figure(figsize=(12,4))\n",
    "\n",
    "plt.subplot(1,2,1)\n",
    "plt.grid()\n",
    "plt.hist(df[df.default == 0].LIMIT_BAL, color = 'lightgreen',range = (0,650000))\n",
    "plt.xlabel('Balance (no default)')\n",
    "plt.ylabel('Number')\n",
    "\n",
    "plt.subplot(1,2,2)\n",
    "plt.grid()\n",
    "plt.hist(df[df.default == 1].LIMIT_BAL, color = 'r', range = (0,650000))\n",
    "plt.xlabel('Balance (with default)')\n",
    "\n",
    "plt.show()\n",
    "print 'Avg and median Balance (no default): ', df[df.default == 0].LIMIT_BAL.mean(), df[df.default == 0].LIMIT_BAL.median(),\\\n",
    "      'Avg and median Balance (with default): ', df[df.default == 1].LIMIT_BAL.mean(), df[df.default == 1].LIMIT_BAL.median()"
   ]
  },
  {
   "cell_type": "markdown",
   "metadata": {},
   "source": [
    "Полученные гистограммы показывают очевидную разницу в объеме выданного кредита в разрезе дефолта. Хвост(no default) более тяжелый, значительно больше кредитов с большими объемами, это и приведет к тому, что медианы будут отличаться значительно."
   ]
  },
  {
   "cell_type": "code",
   "execution_count": 12,
   "metadata": {
    "collapsed": false
   },
   "outputs": [
    {
     "name": "stdout",
     "output_type": "stream",
     "text": [
      "no_def_lim median:  150030.0\n",
      "with_def_lim median:  130158.126245\n",
      "delta  19871.8737553\n",
      "95% confidence interval for the difference between medians [ 17146.10277275  22658.393912  ]\n"
     ]
    }
   ],
   "source": [
    "#Воспользуемся бустрэпом и придем к успеху\n",
    "def get_bootstrap_samples(data, n_samples):\n",
    "    indices = np.random.randint(0, len(data), (n_samples, len(data)))\n",
    "    samples = data[indices]\n",
    "    return samples\n",
    "def stat_intervals(stat, alpha):\n",
    "    boundaries = np.percentile(stat, [100 * alpha / 2., 100 * (1 - alpha / 2.)])\n",
    "    return boundaries\n",
    "\n",
    "no_def_lim = map(np.median, get_bootstrap_samples(df[df.default == 0].LIMIT_BAL.as_matrix(), 500))\n",
    "with_def_lim = map(np.mean, get_bootstrap_samples(df[df.default == 1].LIMIT_BAL.as_matrix(), 500))\n",
    "\n",
    "print 'no_def_lim median: ', sum(no_def_lim) / float(len(no_def_lim))\n",
    "print 'with_def_lim median: ', sum(with_def_lim) / float(len(with_def_lim))\n",
    "\n",
    "delta_median_scores = map(lambda x: x[0] - x[1], zip(no_def_lim, with_def_lim))\n",
    "\n",
    "print 'delta ', sum(delta_median_scores) / float(len(delta_median_scores))\n",
    "\n",
    "print \"95% confidence interval for the difference between medians\",  stat_intervals(delta_median_scores, 0.05)"
   ]
  },
  {
   "cell_type": "markdown",
   "metadata": {},
   "source": [
    " Ответ 1.а: Медианные значения отличаются существенно. Доверительный интервал для разницы не содержит 0, разница статистически значима."
   ]
  },
  {
   "cell_type": "markdown",
   "metadata": {},
   "source": [
    "Воспользуемся Ранговым критерием Манна-Уитни"
   ]
  },
  {
   "cell_type": "code",
   "execution_count": 8,
   "metadata": {
    "collapsed": false
   },
   "outputs": [
    {
     "name": "stdout",
     "output_type": "stream",
     "text": [
      "MannwhitneyuResult(statistic=59257217.5, pvalue=6.1277429091116516e-190)\n"
     ]
    },
    {
     "name": "stderr",
     "output_type": "stream",
     "text": [
      "C:\\Users\\SBT-Ashrapov-IR\\AppData\\Local\\Continuum\\Anaconda2\\lib\\site-packages\\ipykernel\\__main__.py:13: DeprecationWarning: Calling `mannwhitneyu` without specifying `alternative` is deprecated.\n"
     ]
    }
   ],
   "source": [
    "from collections import namedtuple\n",
    "MannwhitneyuResult = namedtuple('MannwhitneyuResult', ('statistic', 'pvalue'))\n",
    "def tiecorrect(rankvals):\n",
    "    arr = np.sort(rankvals)\n",
    "    idx = np.nonzero(np.r_[True, arr[1:] != arr[:-1], True])[0]\n",
    "    cnt = np.diff(idx).astype(np.float64)\n",
    "    size = np.float64(arr.size)\n",
    "    return 1.0 if size < 2 else 1.0 - (cnt**3 - cnt).sum() / (size**3 - size)\n",
    "\n",
    "def mannwhitneyu(x, y, use_continuity=True, alternative=None):\n",
    "    if alternative is None:\n",
    "        warnings.warn(\"Calling `mannwhitneyu` without specifying \"\n",
    "                      \"`alternative` is deprecated.\", DeprecationWarning)\n",
    "\n",
    "    x = np.asarray(x)\n",
    "    y = np.asarray(y)\n",
    "    n1 = len(x)\n",
    "    n2 = len(y)\n",
    "    ranked = scipy.stats.rankdata(np.concatenate((x, y)))\n",
    "    rankx = ranked[0:n1]  # get the x-ranks\n",
    "    u1 = n1*n2 + (n1*(n1+1))/2.0 - np.sum(rankx, axis=0)  # calc U for x\n",
    "    u2 = n1*n2 - u1  # remainder is U for y\n",
    "    T = tiecorrect(ranked)\n",
    "    if T == 0:\n",
    "        raise ValueError('All numbers are identical in mannwhitneyu')\n",
    "    sd = np.sqrt(T * n1 * n2 * (n1+n2+1) / 12.0)\n",
    "\n",
    "    meanrank = n1*n2/2.0 + 0.5 * use_continuity\n",
    "    if alternative is None or alternative == 'two-sided':\n",
    "        bigu = max(u1, u2)\n",
    "    elif alternative == 'less':\n",
    "        bigu = u1\n",
    "    elif alternative == 'greater':\n",
    "        bigu = u2\n",
    "    else:\n",
    "        raise ValueError(\"alternative should be None, 'less', 'greater' \"\n",
    "                         \"or 'two-sided'\")\n",
    "    z = (bigu - meanrank) / sd\n",
    "    if alternative is None:\n",
    "        # This behavior, equal to half the size of the two-sided\n",
    "        # p-value, is deprecated.\n",
    "        p = scipy.stats.distributions.norm.sf(abs(z))\n",
    "    elif alternative == 'two-sided':\n",
    "        p = 2 * scipy.stats.distributions.norm.sf(abs(z))\n",
    "    else:\n",
    "        p = scipy.stats.distributions.norm.sf(z)\n",
    "    u = u2\n",
    "    # This behavior is deprecated.\n",
    "    if alternative is None:\n",
    "        u = min(u1, u2)\n",
    "    return MannwhitneyuResult(u, p)\n",
    "\n",
    "print mannwhitneyu(df[df.default == 0].LIMIT_BAL.values, df[df.default == 1].LIMIT_BAL.values)"
   ]
  },
  {
   "cell_type": "markdown",
   "metadata": {},
   "source": [
    "1. b) P value очень маленькое, нулевая гипотеза о равенстве распределений уверенно отклоняется. То есть другими словами кто в итоге не может вернуть деньги за кредит, обычно получает меньшую сумму денег. Это потталкивает к идее, что аналитики банков уже зная рискованность таких групп людей, выдают им меньшую сумму, в силу чего нужно осторожно использовать этот признак, есть риск возниновения переобучения."
   ]
  },
  {
   "cell_type": "markdown",
   "metadata": {},
   "source": [
    "### 2. Анализ Пола(Sex)"
   ]
  },
  {
   "cell_type": "markdown",
   "metadata": {},
   "source": [
    "Пол (SEX): Проверьте гипотезу о том, что гендерный состав группы людей вернувших и не вернувших кредит отличается. Хорошо, если вы предоставите несколько различных решений этой задачи (с помощью доверительного интервала и подходящего статистического критерия)"
   ]
  },
  {
   "cell_type": "code",
   "execution_count": 13,
   "metadata": {
    "collapsed": false
   },
   "outputs": [
    {
     "data": {
      "image/png": "[encoded data removed]",
      "text/plain": [
       "<matplotlib.figure.Figure at 0xd75beb0>"
      ]
     },
     "metadata": {},
     "output_type": "display_data"
    },
    {
     "name": "stdout",
     "output_type": "stream",
     "text": [
      "0.241672274563 0.207762809187\n"
     ]
    }
   ],
   "source": [
    "men = df[df.SEX == 1].default\n",
    "women = df[df.SEX == 2].default\n",
    "\n",
    "fig = plt.figure()\n",
    "ax = fig.add_subplot(111)\n",
    "\n",
    "N = 2\n",
    "menMeans = [men.shape[0] - men.sum(), men.sum()]\n",
    "womenMeans = [women.shape[0] -   women.sum(), women.sum()]\n",
    "\n",
    "## necessary variables\n",
    "ind = np.arange(N)                # the x locations for the groups\n",
    "width = 0.35                      # the width of the bars\n",
    "\n",
    "## the bars\n",
    "rects1 = ax.bar(ind, menMeans, width,\n",
    "                color='lightblue',\n",
    "                error_kw=dict(elinewidth=2,ecolor='red'))\n",
    "\n",
    "rects2 = ax.bar(ind+width, womenMeans, width,\n",
    "                    color='lightgreen',\n",
    "                    error_kw=dict(elinewidth=2,ecolor='black'))\n",
    "\n",
    "# axes and labels\n",
    "ax.set_xlim(-width,len(ind)+width)\n",
    "ax.set_ylim(0,women.shape[0] + 44)\n",
    "ax.set_ylabel('Number')\n",
    "ax.set_title('Default number by gender')\n",
    "xTickMarks = ['No default', \"With Default\"]\n",
    "ax.set_xticks(ind+width)\n",
    "xtickNames = ax.set_xticklabels(xTickMarks)\n",
    "plt.setp(xtickNames, rotation=0, fontsize=10)\n",
    "\n",
    "## add a legend\n",
    "ax.legend( (rects1[0], rects2[0]), ('Men', 'Women') )\n",
    "\n",
    "plt.show()\n",
    "print men.mean(), women.mean()"
   ]
  },
  {
   "cell_type": "markdown",
   "metadata": {},
   "source": [
    "Очень интересные графики, женщины чаще берут кредит и чаще его возращают (21%  женщин против 24% у мужчин, кто не вернул кредит). Проверим далее значимость этих утверждений. Воспользуемся биномиальным признаком для долей."
   ]
  },
  {
   "cell_type": "code",
   "execution_count": 14,
   "metadata": {
    "collapsed": false
   },
   "outputs": [
    {
     "name": "stdout",
     "output_type": "stream",
     "text": [
      "95% confidence interval for % of Men,  that didnt return loans: [0.234061, 0.249450]\n",
      "95% confidence interval for % of WoMen,  that didnt return loans: [0.201917, 0.213733]\n"
     ]
    }
   ],
   "source": [
    "#Применим интервальную оценку методом Вилсона для каждого значения из графика выше:\n",
    "from statsmodels.stats.proportion import proportion_confint\n",
    "print '95%% confidence interval for %% of Men,  that didnt return loans: [%f, %f]' % proportion_confint(men.sum(), \n",
    "                                            men.shape[0],\n",
    "                                            method = 'wilson')\n",
    "print '95%% confidence interval for %% of WoMen,  that didnt return loans: [%f, %f]' % proportion_confint(women.sum(), \n",
    "                                            women.shape[0],\n",
    "                                            method = 'wilson')"
   ]
  },
  {
   "cell_type": "markdown",
   "metadata": {},
   "source": [
    "Доверительные интервалы не пересекаются, очень вероятно, что различие значимо в % возращаемых кредитов в зависимости пола. Далее определимся в значимости "
   ]
  },
  {
   "cell_type": "code",
   "execution_count": 15,
   "metadata": {
    "collapsed": false
   },
   "outputs": [
    {
     "name": "stdout",
     "output_type": "stream",
     "text": [
      "95% confidence interval for a difference between proportions: [0.024207, 0.043612]\n",
      "p-value:  2.2364332608e-12\n"
     ]
    }
   ],
   "source": [
    "#Воспользуемся Z-критерий для разности долей (независимые выборки)\n",
    "def proportions_diff_confint_ind(sample1, sample2, alpha = 0.05):    \n",
    "    z = scipy.stats.norm.ppf(1 - alpha / 2.)\n",
    "    \n",
    "    p1 = float(sum(sample1)) / len(sample1)\n",
    "    p2 = float(sum(sample2)) / len(sample2)\n",
    "    \n",
    "    left_boundary = (p1 - p2) - z * np.sqrt(p1 * (1 - p1)/ len(sample1) + p2 * (1 - p2)/ len(sample2))\n",
    "    right_boundary = (p1 - p2) + z * np.sqrt(p1 * (1 - p1)/ len(sample1) + p2 * (1 - p2)/ len(sample2))\n",
    "    \n",
    "    return (left_boundary, right_boundary)\n",
    "def proportions_diff_z_stat_ind(sample1, sample2):\n",
    "    n1 = len(sample1)\n",
    "    n2 = len(sample2)\n",
    "    \n",
    "    p1 = float(sum(sample1)) / n1\n",
    "    p2 = float(sum(sample2)) / n2 \n",
    "    P = float(p1*n1 + p2*n2) / (n1 + n2)\n",
    "    \n",
    "    return (p1 - p2) / np.sqrt(P * (1 - P) * (1. / n1 + 1. / n2))\n",
    "def proportions_diff_z_test(z_stat, alternative = 'two-sided'):\n",
    "    if alternative not in ('two-sided', 'less', 'greater'):\n",
    "        raise ValueError(\"alternative not recognized\\n\"\n",
    "                         \"should be 'two-sided', 'less' or 'greater'\")\n",
    "    \n",
    "    if alternative == 'two-sided':\n",
    "        return 2 * (1 - scipy.stats.norm.cdf(np.abs(z_stat)))\n",
    "    \n",
    "    if alternative == 'less':\n",
    "        return scipy.stats.norm.cdf(z_stat)\n",
    "\n",
    "    if alternative == 'greater':\n",
    "        return 1 - scipy.stats.norm.cdf(z_stat)\n",
    "print \"95%% confidence interval for a difference between proportions: [%f, %f]\" %\\\n",
    "      proportions_diff_confint_ind(men, women)\n",
    "print \"p-value: \", proportions_diff_z_test(proportions_diff_z_stat_ind(men, women), 'greater')"
   ]
  },
  {
   "cell_type": "markdown",
   "metadata": {},
   "source": [
    "На уровне значимости 0.05 нулевая гипотеза о независимости дефолта от пола уверенно отвергается. При этом доверительный интервал для разности долей не содержит ноль, что потверждает наши рассуждения. Данные имеют практическую значимость, от есть признак пол явно имеет смысл включать в модель."
   ]
  },
  {
   "cell_type": "markdown",
   "metadata": {},
   "source": [
    "### 3. Признак EDUCATION"
   ]
  },
  {
   "cell_type": "markdown",
   "metadata": {},
   "source": [
    "Проверьте гипотезу о том, что образование не влияет на то, вернет ли человек долг. Предложите способ наглядного представления разницы в ожидаемых и наблюдаемых значениях количества человек вернувших и не вернувших долг. Например, составьте таблицу сопряженности, где значением ячейки была бы разность между количеством человек вернувших и не вернувших долг по каждому из значений образования. Похожи ли значения в этой таблице ? Как бы вы предложили модифицировать таблицу так, чтобы привести значения ячеек к одному масштабу не потеряв в интерпретируемости ? Наличие какого образования является наилучшим индикатором того, что человек отдаст долг ? наоборт, не отдаст долг ?"
   ]
  },
  {
   "cell_type": "code",
   "execution_count": 16,
   "metadata": {
    "collapsed": false
   },
   "outputs": [
    {
     "name": "stdout",
     "output_type": "stream",
     "text": [
      "0 14 14\n",
      "1 6513 10585\n",
      "2 7370 14030\n",
      "3 2443 4917\n",
      "4 109 123\n",
      "5 244 280\n",
      "6 35 51\n"
     ]
    }
   ],
   "source": [
    "diff_by_educ = np.array([])\n",
    "for educ in xrange(0,7):\n",
    "    diff = df[(df.EDUCATION == educ) & (df.default == 0)].shape[0] - df[(df.EDUCATION == educ) & (df.default == 1)].shape[0]\n",
    "    diff_by_educ = np.append(diff_by_educ, diff)\n",
    "    print educ, diff, df[(df.EDUCATION == educ) ].shape[0]\n",
    "#print diff_by_educ"
   ]
  },
  {
   "cell_type": "code",
   "execution_count": 17,
   "metadata": {
    "collapsed": false
   },
   "outputs": [
    {
     "data": {
      "image/png": "[encoded data removed]",
      "text/plain": [
       "<matplotlib.figure.Figure at 0x9f02290>"
      ]
     },
     "metadata": {},
     "output_type": "display_data"
    }
   ],
   "source": [
    "fig = plt.figure()\n",
    "ax = fig.add_subplot(111)\n",
    "\n",
    "N = 7\n",
    "menMeans = diff_by_educ\n",
    "\n",
    "## necessary variables\n",
    "ind = np.arange(N)                # the x locations for the groups\n",
    "width = 0.35                      # the width of the bars\n",
    "\n",
    "## the bars\n",
    "rects1 = ax.bar(ind, menMeans, width,\n",
    "                color='lightblue',\n",
    "                error_kw=dict(elinewidth=2,ecolor='red'))\n",
    "\n",
    "# axes and labels\n",
    "ax.set_xlim(-width,len(ind)+width)\n",
    "ax.set_ylabel('Number')\n",
    "xTickMarks = ['doc.', 'master', 'bach', 'school grad.', 'elemt', 'other', 'no data']\n",
    "ax.set_xticks(ind+width)\n",
    "xtickNames = ax.set_xticklabels(xTickMarks)\n",
    "plt.setp(xtickNames, rotation=35, fontsize=10)\n",
    "plt.show()"
   ]
  },
  {
   "cell_type": "markdown",
   "metadata": {},
   "source": [
    "Получаем, что у нас действительно неравномерное распределение по обучению, нормализуем количество, разделяя  разницу на общее кол-во людей, которое получало  кредит в рассматриваемой группе. Перестроим график."
   ]
  },
  {
   "cell_type": "code",
   "execution_count": 18,
   "metadata": {
    "collapsed": false
   },
   "outputs": [
    {
     "name": "stdout",
     "output_type": "stream",
     "text": [
      "0 1.0\n",
      "1 0.807652338214\n",
      "2 0.762651461155\n",
      "3 0.748423835672\n",
      "4 0.943089430894\n",
      "5 0.935714285714\n",
      "6 0.843137254902\n"
     ]
    },
    {
     "data": {
      "image/png": "[encoded data removed]",
      "text/plain": [
       "<matplotlib.figure.Figure at 0xd95c2b0>"
      ]
     },
     "metadata": {},
     "output_type": "display_data"
    }
   ],
   "source": [
    "diff_by_educ = np.array([])\n",
    "for educ in xrange(0,7):\n",
    "    diff = 1.*(df[(df.EDUCATION == educ) & (df.default == 0)].shape[0] ) \\\n",
    "            /df[(df.EDUCATION == educ) ].shape[0]\n",
    "    diff_by_educ = np.append(diff_by_educ, diff)\n",
    "    print educ, diff\n",
    "fig = plt.figure()\n",
    "ax = fig.add_subplot(111)\n",
    "\n",
    "N = 7\n",
    "menMeans = diff_by_educ\n",
    "\n",
    "## necessary variables\n",
    "ind = np.arange(N)                # the x locations for the groups\n",
    "width = 0.35                      # the width of the bars\n",
    "\n",
    "## the bars\n",
    "rects1 = ax.bar(ind, menMeans, width,\n",
    "                color='lightgreen',\n",
    "                error_kw=dict(elinewidth=2,ecolor='red'))\n",
    "\n",
    "# axes and labels\n",
    "ax.set_xlim(-width,len(ind)+width)\n",
    "ax.set_ylabel('Number')\n",
    "ax.set_title('Loan return number by education')\n",
    "xTickMarks = ['doc.', 'master', 'bach', 'school grad.', 'elemt', 'other', 'no data']\n",
    "ax.set_xticks(ind+width)\n",
    "xtickNames = ax.set_xticklabels(xTickMarks)\n",
    "\n",
    "threshold = 1 - df.default.mean()\n",
    "\n",
    "ax.plot([0., 6.7], [threshold, threshold], \"k--\", label='Mean value')\n",
    "plt.setp(xtickNames, rotation=35, fontsize=10)\n",
    "\n",
    "\n",
    "plt.show()"
   ]
  },
  {
   "cell_type": "markdown",
   "metadata": {},
   "source": [
    "Если отбросить 0й тип обучения, в которых слишком мало данных. То elem - наибольшая вероятность возрата долга, \"школьное образование\" наименьшая вероятность возрата.  Далее проверим значимость "
   ]
  },
  {
   "cell_type": "code",
   "execution_count": 19,
   "metadata": {
    "collapsed": false
   },
   "outputs": [
    {
     "name": "stdout",
     "output_type": "stream",
     "text": [
      "[[ 2036  3330  1237     7    18     8]\n",
      " [ 8549 10700  3680   116   262    43]]\n",
      "Cramer V:  0.0728604708741 p value:  1.4764557605e-32\n"
     ]
    }
   ],
   "source": [
    "diff_by_educ = np.array([]) \n",
    "diff1 = df[(df.EDUCATION == 1) & (df.default == 1)].shape[0] \n",
    "diff2 = df[(df.EDUCATION == 1) & (df.default == 0)].shape[0] \n",
    "diff_by_educ = (np.append(diff1, diff2)).reshape((2,1)) \n",
    "\n",
    "for educ in xrange(2,7): \n",
    "    diff1 = df[(df.EDUCATION == educ) & (df.default == 1)].shape[0] \n",
    "    diff2 = df[(df.EDUCATION == educ) & (df.default == 0)].shape[0] \n",
    "    k = (np.append(diff1, diff2)).reshape((2,1)) \n",
    "    diff_by_educ = np.concatenate((diff_by_educ, k), axis=1) \n",
    "\n",
    "print diff_by_educ\n",
    "\n",
    "def cramers_stat(confusion_matrix): \n",
    "    chi2 = scipy.stats.chi2_contingency(confusion_matrix, correction= True)[0]\n",
    "    n = confusion_matrix.sum() \n",
    "    return np.sqrt(1.*chi2 / (n*(min(confusion_matrix.shape)-1))) \n",
    "\n",
    "print \"Cramer V: \", cramers_stat(diff_by_educ), \"p value: \", scipy.stats.chi2_contingency(diff_by_educ, correction= True)[1]"
   ]
  },
  {
   "cell_type": "markdown",
   "metadata": {},
   "source": [
    "Таким образом нулевая гипотеза об отсутствии связи образования и уровня дефолта уверенно отвергается на уровне значимости 0.05. Значение V Крамера равно 0.07"
   ]
  },
  {
   "cell_type": "markdown",
   "metadata": {},
   "source": [
    "### 4. Признак MARRIAGE"
   ]
  },
  {
   "cell_type": "markdown",
   "metadata": {},
   "source": [
    "Проверьте, как связан семейный статус с индикатором дефолта: нужно предложить меру, по которой можно измерить возможную связь этих переменных и посчитать ее значение.\n",
    "\n",
    "Значения: 0 = отказываюсь отвечать; 1 = замужем/женат; 2 = холост; 3 = нет данных"
   ]
  },
  {
   "cell_type": "code",
   "execution_count": 35,
   "metadata": {
    "collapsed": false
   },
   "outputs": [
    {
     "name": "stdout",
     "output_type": "stream",
     "text": [
      "0 44 54\n",
      "1 7247 13659\n",
      "2 9282 15964\n",
      "3 155 323\n"
     ]
    }
   ],
   "source": [
    "diff_by_mar = np.array([])\n",
    "for educ in xrange(0,4):\n",
    "    diff = df[(df.MARRIAGE == educ) & (df.default == 0)].shape[0] - df[(df.MARRIAGE == educ) & (df.default == 1)].shape[0]\n",
    "    diff_by_mar = np.append(diff_by_mar, diff)\n",
    "    print educ, diff, df[(df.MARRIAGE == educ) ].shape[0]"
   ]
  },
  {
   "cell_type": "markdown",
   "metadata": {},
   "source": [
    "Применим аналогичный подход, как и в предыдущем признаке:"
   ]
  },
  {
   "cell_type": "code",
   "execution_count": 39,
   "metadata": {
    "collapsed": false
   },
   "outputs": [
    {
     "name": "stdout",
     "output_type": "stream",
     "text": [
      "0 0.907407407407\n",
      "1 0.765282963614\n",
      "2 0.790716612378\n",
      "3 0.739938080495\n"
     ]
    },
    {
     "data": {
      "image/png": "[encoded data removed]",
      "text/plain": [
       "<matplotlib.figure.Figure at 0xe41b130>"
      ]
     },
     "metadata": {},
     "output_type": "display_data"
    }
   ],
   "source": [
    "diff_by_mar = np.array([])\n",
    "for educ in xrange(0,4):\n",
    "    diff = 1.*(df[(df.MARRIAGE == educ) & (df.default == 0)].shape[0] ) \\\n",
    "            /df[(df.MARRIAGE == educ) ].shape[0]\n",
    "    diff_by_mar = np.append(diff_by_mar, diff)\n",
    "    print educ, diff\n",
    "fig = plt.figure()\n",
    "ax = fig.add_subplot(111)\n",
    "\n",
    "N = 4\n",
    "menMeans = diff_by_mar\n",
    "\n",
    "## necessary variables\n",
    "ind = np.arange(N)                # the x locations for the groups\n",
    "width = 0.35                      # the width of the bars\n",
    "\n",
    "## the bars\n",
    "rects1 = ax.bar(ind, menMeans, width,\n",
    "                color='lightgreen',\n",
    "                error_kw=dict(elinewidth=2,ecolor='red'))\n",
    "\n",
    "# axes and labels\n",
    "ax.set_xlim(-width,len(ind)+width)\n",
    "ax.set_ylabel('Number')\n",
    "ax.set_title('Loan return number by Mariage')\n",
    "xTickMarks = ['Refuse', 'Married', 'Single', 'No data']\n",
    "ax.set_xticks(ind+width)\n",
    "xtickNames = ax.set_xticklabels(xTickMarks)\n",
    "\n",
    "threshold = 1 - df.default.mean()\n",
    "\n",
    "ax.plot([0., 6.7], [threshold, threshold], \"k--\", label='Mean value')\n",
    "plt.setp(xtickNames, rotation=35, fontsize=10)\n",
    "\n",
    "\n",
    "plt.show()"
   ]
  },
  {
   "cell_type": "code",
   "execution_count": 49,
   "metadata": {
    "collapsed": false
   },
   "outputs": [
    {
     "name": "stdout",
     "output_type": "stream",
     "text": [
      "Cramer V:  30000 (2, 4)\n",
      "0.0344782036628 p value:  8.82586245758e-08\n"
     ]
    }
   ],
   "source": [
    "diff_by_mar = np.array([]) \n",
    "diff1 = df[(df.MARRIAGE == 0) & (df.default == 1)].shape[0] \n",
    "diff2 = df[(df.MARRIAGE == 0) & (df.default == 0)].shape[0] \n",
    "diff_by_mar = (np.append(diff1, diff2)).reshape((2,1)) \n",
    "\n",
    "for educ in xrange(1,4): \n",
    "    diff1 = df[(df.MARRIAGE == educ) & (df.default == 1)].shape[0] \n",
    "    diff2 = df[(df.MARRIAGE == educ) & (df.default == 0)].shape[0] \n",
    "    k = (np.append(diff1, diff2)).reshape((2,1))\n",
    "    diff_by_mar = np.concatenate((diff_by_mar, k), axis=1) \n",
    "\n",
    "\n",
    "def cramers_stat(confusion_matrix): \n",
    "    chi2 = scipy.stats.chi2_contingency(confusion_matrix, correction= True)[0]\n",
    "    n = confusion_matrix.sum() \n",
    "    print n, confusion_matrix.shape\n",
    "    return np.sqrt(1.*chi2 / (n*(min(confusion_matrix.shape)-1))) \n",
    "\n",
    "print \"Cramer V: \", cramers_stat(diff_by_mar), \"p value: \", scipy.stats.chi2_contingency(diff_by_mar, correction= True)[1]"
   ]
  },
  {
   "cell_type": "markdown",
   "metadata": {},
   "source": [
    "Таким образом нулевая гипотеза об отсутствии связи образования и уровня дефолта уверенно отвергается на уровне значимости 0.05. Значение V Крамера равно 0.034. В данном случае уровень значимости значительно меньше, но при этом сильно меньше 0.05"
   ]
  },
  {
   "cell_type": "markdown",
   "metadata": {},
   "source": [
    "5. Анализ признака Age"
   ]
  },
  {
   "cell_type": "markdown",
   "metadata": {},
   "source": [
    "Возраст (AGE): Относительно двух групп людей вернувших и не вернувших кредит проверьте следующие гипотезы: a) о равенстве медианных значений возрастов людей b) о равенстве распределений с помощью одного из подходящих непараметрических критериев проверки равенства средних. Значимы ли полученные результаты с практической точки зрения ?"
   ]
  },
  {
   "cell_type": "markdown",
   "metadata": {},
   "source": [
    "Применим аналогичные приемы, как и в пункте 1.  Я бы применил перестановочный критерий, но мой старенький комп как то плохо строит."
   ]
  },
  {
   "cell_type": "code",
   "execution_count": 3,
   "metadata": {
    "collapsed": false
   },
   "outputs": [
    {
     "data": {
      "image/png": "[encoded data removed]",
      "text/plain": [
       "<matplotlib.figure.Figure at 0x9fc36f0>"
      ]
     },
     "metadata": {},
     "output_type": "display_data"
    }
   ],
   "source": [
    "# Как видно далее на графиках, распределение отличается от нормального\n",
    "pylab.figure(figsize=(12,8))\n",
    "pylab.subplot(2,2,1)\n",
    "stats.probplot(df[df.default == 0].AGE, dist=\"norm\", plot=pylab)\n",
    "pylab.subplot(2,2,2)\n",
    "stats.probplot(df[df.default == 1].AGE, dist=\"norm\", plot=pylab)\n",
    "pylab.show()"
   ]
  },
  {
   "cell_type": "code",
   "execution_count": 4,
   "metadata": {
    "collapsed": false
   },
   "outputs": [
    {
     "name": "stdout",
     "output_type": "stream",
     "text": [
      "[[   0    0    0   14  169  247  300  302  253  313  286  313  274  229\n",
      "   225  215  231  226  254  229  194  199  187  185  185  150  162  116\n",
      "   157  120  104  119  101   88   78   74   56   57   49   27   31   21\n",
      "    23   21    7    8    9    5    7    5    1    3    2    0    1    3\n",
      "     0    1    0    0    0    0    0]\n",
      " [   0    0    0   53  391  684  827  884 1003 1164 1123 1292 1121  988\n",
      "   933  931  931  887  854  812  750  755  683  639  609  520  538  501\n",
      "   413  381  362  333  310  252  226  251  191  152  129   95   91   62\n",
      "    44   35   37   23   22   19   18   11    4   12    8    3    2    1\n",
      "     1    2    0    0    0    1    0]] (2, 63)\n"
     ]
    }
   ],
   "source": [
    "ages = np.array([]) \n",
    "age1 = df[(df.AGE == 18) & (df.default == 1)].shape[0] \n",
    "age2 = df[(df.AGE == 18) & (df.default == 0)].shape[0] \n",
    "ages = (np.append(age1, age1)).reshape((2,1)) \n",
    "\n",
    "for educ in xrange(19,81): \n",
    "    age1 = df[(df.AGE == educ) & (df.default == 1)].shape[0] \n",
    "    age2 = df[(df.AGE == educ) & (df.default == 0)].shape[0] \n",
    "    k = (np.append(age1, age2)).reshape((2,1))\n",
    "    ages = np.concatenate((ages, k), axis=1) \n",
    "print ages, ages.shape"
   ]
  },
  {
   "cell_type": "code",
   "execution_count": 11,
   "metadata": {
    "collapsed": false
   },
   "outputs": [
    {
     "name": "stdout",
     "output_type": "stream",
     "text": [
      "Populating the interactive namespace from numpy and matplotlib\n"
     ]
    },
    {
     "data": {
      "image/png": "[encoded data removed]",
      "text/plain": [
       "<matplotlib.figure.Figure at 0x106a7e10>"
      ]
     },
     "metadata": {},
     "output_type": "display_data"
    }
   ],
   "source": [
    "%pylab inline\n",
    "fig = plt.figure()\n",
    "ax = fig.gca(projection='3d')\n",
    "\n",
    "X = ages[0]\n",
    "Y = ages[1]\n",
    "xi = linspace(min(X), max(X))\n",
    "yi = linspace(min(Y), max(Y))\n",
    "\n",
    "Z = np.arange(18,81)\n",
    "zi = griddata(X, Y, Z, xi, yi, interp='linear')\n",
    "X, Y = np.meshgrid(X, Y)\n",
    "ax.contour(xi, yi, zi)\n",
    "ax.set_xlabel('No default')\n",
    "ax.set_ylabel('With default')\n",
    "ax.set_zlabel('Age')\n",
    "plt.show()"
   ]
  },
  {
   "cell_type": "code",
   "execution_count": 13,
   "metadata": {
    "collapsed": false
   },
   "outputs": [],
   "source": [
    "%matplotlib qt\n",
    "fig = plt.figure()\n",
    "ax = fig.gca(projection='3d')\n",
    "\n",
    "X = ages[0]\n",
    "Y = ages[1]\n",
    "xi = linspace(min(X), max(X))\n",
    "yi = linspace(min(Y), max(Y))\n",
    "\n",
    "Z = np.arange(18,81)\n",
    "zi = griddata(X, Y, Z, xi, yi, interp='linear')\n",
    "X, Y = np.meshgrid(X, Y)\n",
    "ax.contour(xi, yi, zi)\n",
    "\n",
    "ax.set_xlabel('No default')\n",
    "ax.set_ylabel('With default')\n",
    "ax.set_zlabel('Age')\n",
    "\n",
    "plt.show()"
   ]
  },
  {
   "cell_type": "code",
   "execution_count": 5,
   "metadata": {
    "collapsed": false
   },
   "outputs": [
    {
     "ename": "NameError",
     "evalue": "name 'mannwhitneyu' is not defined",
     "output_type": "error",
     "traceback": [
      "\u001b[1;31m---------------------------------------------------------------------------\u001b[0m",
      "\u001b[1;31mNameError\u001b[0m                                 Traceback (most recent call last)",
      "\u001b[1;32m<ipython-input-5-8f9fa5672e64>\u001b[0m in \u001b[0;36m<module>\u001b[1;34m()\u001b[0m\n\u001b[1;32m----> 1\u001b[1;33m \u001b[1;32mprint\u001b[0m \u001b[0mmannwhitneyu\u001b[0m\u001b[1;33m(\u001b[0m\u001b[0mdf\u001b[0m\u001b[1;33m[\u001b[0m\u001b[0mdf\u001b[0m\u001b[1;33m.\u001b[0m\u001b[0mdefault\u001b[0m \u001b[1;33m==\u001b[0m \u001b[1;36m0\u001b[0m\u001b[1;33m]\u001b[0m\u001b[1;33m.\u001b[0m\u001b[0mAGE\u001b[0m\u001b[1;33m.\u001b[0m\u001b[0mvalues\u001b[0m\u001b[1;33m,\u001b[0m \u001b[0mdf\u001b[0m\u001b[1;33m[\u001b[0m\u001b[0mdf\u001b[0m\u001b[1;33m.\u001b[0m\u001b[0mdefault\u001b[0m \u001b[1;33m==\u001b[0m \u001b[1;36m1\u001b[0m\u001b[1;33m]\u001b[0m\u001b[1;33m.\u001b[0m\u001b[0mAGE\u001b[0m\u001b[1;33m.\u001b[0m\u001b[0mvalues\u001b[0m\u001b[1;33m)\u001b[0m\u001b[1;33m\u001b[0m\u001b[0m\n\u001b[0m",
      "\u001b[1;31mNameError\u001b[0m: name 'mannwhitneyu' is not defined"
     ]
    }
   ],
   "source": [
    "print mannwhitneyu(df[df.default == 0].AGE.values, df[df.default == 1].AGE.values)"
   ]
  },
  {
   "cell_type": "markdown",
   "metadata": {},
   "source": [
    "Критерий Манна-Уитни на уровне значимости 0.05 нулевую гипотезу о равенстве средних не отклоняет (Я бы применил перестановочный критерий, но комп слабоват)"
   ]
  },
  {
   "cell_type": "code",
   "execution_count": 11,
   "metadata": {
    "collapsed": false
   },
   "outputs": [
    {
     "name": "stdout",
     "output_type": "stream",
     "text": [
      "Populating the interactive namespace from numpy and matplotlib\n"
     ]
    },
    {
     "data": {
      "image/png": "[encoded data removed]",
      "text/plain": [
       "<matplotlib.figure.Figure at 0xe1acd30>"
      ]
     },
     "metadata": {},
     "output_type": "display_data"
    },
    {
     "name": "stdout",
     "output_type": "stream",
     "text": [
      "Avg and median Age (no default):  35.4172658791 34.0 Avg and median Age (with default):  35.7257383966 34.0\n"
     ]
    }
   ],
   "source": [
    "%pylab inline\n",
    "plt.figure(figsize=(12,4))\n",
    "\n",
    "plt.subplot(1,2,1)\n",
    "plt.grid()\n",
    "plt.hist(df[df.default == 0].AGE, color = 'lightgreen',range = (15,85))\n",
    "plt.xlabel('Age (no default)')\n",
    "plt.ylabel('Number')\n",
    "\n",
    "plt.subplot(1,2,2)\n",
    "plt.grid()\n",
    "plt.hist(df[df.default == 1].AGE, color = 'r', range = (15,85))\n",
    "plt.xlabel('Age (with default)')\n",
    "\n",
    "plt.show()\n",
    "print 'Avg and median Age (no default): ', df[df.default == 0].AGE.mean(), df[df.default == 0].AGE.median(),\\\n",
    "      'Avg and median Age (with default): ', df[df.default == 1].AGE.mean(), df[df.default == 1].AGE.median()"
   ]
  },
  {
   "cell_type": "markdown",
   "metadata": {},
   "source": [
    "Изучим медианные значения, на нашинных данных они равны, построим доверительный интервал для него:"
   ]
  },
  {
   "cell_type": "code",
   "execution_count": 14,
   "metadata": {
    "collapsed": false
   },
   "outputs": [
    {
     "name": "stdout",
     "output_type": "stream",
     "text": [
      " no_def_age median:  34.0\n",
      "with_def_age median:  35.7215554551\n",
      "delta  -1.72155545509\n",
      "95% confidence interval for the difference between medians [-1.96829415 -1.48469711]\n"
     ]
    }
   ],
   "source": [
    "#Воспользуемся бустрэпом и придем к успеху\n",
    "def get_bootstrap_samples(data, n_samples):\n",
    "    indices = np.random.randint(0, len(data), (n_samples, len(data)))\n",
    "    samples = data[indices]\n",
    "    return samples\n",
    "def stat_intervals(stat, alpha):\n",
    "    boundaries = np.percentile(stat, [100 * alpha / 2., 100 * (1 - alpha / 2.)])\n",
    "    return boundaries\n",
    "\n",
    "no_def_age = map(np.median, get_bootstrap_samples(df[df.default == 0].AGE.as_matrix(), 500))\n",
    "with_def_age = map(np.mean, get_bootstrap_samples(df[df.default == 1].AGE.as_matrix(), 500))\n",
    "\n",
    "print 'no_def_age median: ', sum(no_def_age) / float(len(no_def_age))\n",
    "print 'with_def_age median: ', sum(with_def_age) / float(len(with_def_age))\n",
    "\n",
    "delta_median_scores = map(lambda x: x[0] - x[1], zip(no_def_age, with_def_age))\n",
    "\n",
    "print 'delta ', sum(delta_median_scores) / float(len(delta_median_scores))\n",
    "\n",
    "print \"95% confidence interval for the difference between medians\",  stat_intervals(delta_median_scores, 0.05)"
   ]
  },
  {
   "cell_type": "markdown",
   "metadata": {},
   "source": [
    "Медианные значения отличаются существенно. Доверительный интервал для разницы не содержит 0, разница статистически значима."
   ]
  },
  {
   "cell_type": "code",
   "execution_count": null,
   "metadata": {
    "collapsed": true
   },
   "outputs": [],
   "source": []
  }
 ],
 "metadata": {
  "kernelspec": {
   "display_name": "Python 2",
   "language": "python",
   "name": "python2"
  },
  "language_info": {
   "codemirror_mode": {
    "name": "ipython",
    "version": 2
   },
   "file_extension": ".py",
   "mimetype": "text/x-python",
   "name": "python",
   "nbconvert_exporter": "python",
   "pygments_lexer": "ipython2",
   "version": "2.7.11"
  }
 },
 "nbformat": 4,
 "nbformat_minor": 0
}
