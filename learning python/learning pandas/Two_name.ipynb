{
 "cells": [
  {
   "cell_type": "code",
   "execution_count": 5,
   "metadata": {},
   "outputs": [
    {
     "name": "stdout",
     "output_type": "stream",
     "text": [
      "       name   births\n",
      "292   James  5159306\n",
      "212    John  5127501\n",
      "411  Robert  4829274\n",
      "time: 0.453218\n"
     ]
    }
   ],
   "source": [
    "import pandas as pd\n",
    "import matplotlib.pyplot as plt\n",
    "import time\n",
    "\n",
    "years=range(1880,2017)\n",
    "\n",
    "pieces = []\n",
    "columns = [ 'name', 'sex', 'births' ]\n",
    "for year in years:\n",
    "    #меняем год в имени файла\n",
    "    path = 'c:/names/yob%d.txt' %year\n",
    "    #читаем файл с полями\n",
    "    frame = pd.read_csv(path, names=columns)\n",
    "    #дописываем поле года\n",
    "    frame['year'] = year\n",
    "    #собираем в единый список\n",
    "    pieces.append(frame)\n",
    "    \n",
    "#создаем DataFrame, внимание! игнорируем исходные номера строк  \n",
    "names = pd.concat(pieces,ignore_index = True)\n",
    "\n",
    "start = time.time()\n",
    "gr=names[['name','sex','births']].groupby(['name','sex'],sort=False).sum().reset_index()\n",
    "gr['dub']=gr.duplicated('name', keep=False)\n",
    "gr_dub=gr[gr.dub==True]\n",
    "max_name=gr_dub[['name','births']].groupby('name',sort=False).sum().reset_index().nlargest(3,'births')\n",
    "\n",
    "    \n",
    "    \n",
    "print (max_name)\n",
    "print ('time: %f' % (time.time() - start))\n",
    "\n"
   ]
  },
  {
   "cell_type": "code",
   "execution_count": 6,
   "metadata": {},
   "outputs": [
    {
     "name": "stdout",
     "output_type": "stream",
     "text": [
      "     name   births\n",
      "0   James  5159306\n",
      "1    John  5127501\n",
      "2  Robert  4829274\n",
      "time: 0.484462\n"
     ]
    }
   ],
   "source": [
    "import pandas as pd\n",
    "import matplotlib.pyplot as plt\n",
    "import time\n",
    "\n",
    "\n",
    "years=range(1880,2017)\n",
    "\n",
    "pieces = []\n",
    "columns = [ 'name', 'sex', 'births' ]\n",
    "for year in years:\n",
    "    #меняем год в имени файла\n",
    "    path = 'c:/names/yob%d.txt' %year\n",
    "    #читаем файл с полями\n",
    "    frame = pd.read_csv(path, names=columns)\n",
    "    #дописываем поле года\n",
    "    frame['year'] = year\n",
    "    #собираем в единый список\n",
    "    pieces.append(frame)\n",
    "\n",
    "#создаем DataFrame, внимание! игнорируем исходные номера строк  \n",
    "names = pd.concat(pieces,ignore_index = True)\n",
    "\n",
    "start = time.time()\n",
    "gr=names[['name','sex','births']].groupby(['name','sex'],sort=False).sum().reset_index()\n",
    "gr['dub']=gr.duplicated('name', keep=False)\n",
    "gr_dub=gr[gr.dub==True]\n",
    "gd_dub_name=gr_dub[['name','births']].groupby('name').sum().sort_values('births',ascending=False).reset_index()\n",
    "max_name=gd_dub_name.iloc[:3]\n",
    "\n",
    "print (max_name)\n",
    "\n",
    "print ('time: %f' % (time.time() - start))"
   ]
  },
  {
   "cell_type": "code",
   "execution_count": 8,
   "metadata": {},
   "outputs": [
    {
     "name": "stdout",
     "output_type": "stream",
     "text": [
      "0.464729824066\n",
      "0.0159315743479\n"
     ]
    }
   ],
   "source": [
    "import numpy as np\n",
    "\n",
    "t=[]\n",
    "n=range(50)\n",
    "for i in n:\n",
    "    start = time.time()\n",
    "    gr=names[['name','sex','births']].groupby(['name','sex'],sort=False).sum().reset_index()\n",
    "    gr['dub']=gr.duplicated('name', keep=False)\n",
    "    gr_dub=gr[gr.dub==True]\n",
    "    max_name=gr_dub[['name','births']].groupby('name',sort=False).sum().reset_index().nlargest(3,'births')\n",
    "    t.append((time.time() - start))\n",
    "    \n",
    "    \n",
    "print(np.mean(t)) \n",
    "print(np.std(t))"
   ]
  },
  {
   "cell_type": "code",
   "execution_count": 9,
   "metadata": {},
   "outputs": [
    {
     "name": "stdout",
     "output_type": "stream",
     "text": [
      "0.512146835327\n",
      "0.0623015044059\n"
     ]
    }
   ],
   "source": [
    "t=[]\n",
    "n=range(50)\n",
    "for i in n:\n",
    "    start = time.time()\n",
    "    gr=names[['name','sex','births']].groupby(['name','sex'],sort=False).sum().reset_index()\n",
    "    gr['dub']=gr.duplicated('name', keep=False)\n",
    "    gr_dub=gr[gr.dub==True]\n",
    "    gd_dub_name=gr_dub[['name','births']].groupby('name').sum().sort_values('births',ascending=False).reset_index()\n",
    "    max_name=gd_dub_name.iloc[:3]\n",
    "    t.append((time.time() - start))\n",
    "    \n",
    "print(np.mean(t)) \n",
    "print(np.std(t))"
   ]
  },
  {
   "cell_type": "code",
   "execution_count": null,
   "metadata": {
    "collapsed": true
   },
   "outputs": [],
   "source": []
  }
 ],
 "metadata": {
  "kernelspec": {
   "display_name": "Python 3",
   "language": "python",
   "name": "python3"
  },
  "language_info": {
   "codemirror_mode": {
    "name": "ipython",
    "version": 3
   },
   "file_extension": ".py",
   "mimetype": "text/x-python",
   "name": "python",
   "nbconvert_exporter": "python",
   "pygments_lexer": "ipython3",
   "version": "3.6.3"
  }
 },
 "nbformat": 4,
 "nbformat_minor": 2
}
