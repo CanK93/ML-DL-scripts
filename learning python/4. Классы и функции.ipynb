{
 "cells": [
  {
   "cell_type": "markdown",
   "metadata": {},
   "source": [
    "# Функции"
   ]
  },
  {
   "cell_type": "code",
   "execution_count": 1,
   "metadata": {},
   "outputs": [
    {
     "name": "stdout",
     "output_type": "stream",
     "text": [
      "72\n"
     ]
    }
   ],
   "source": [
    "# функции\n",
    "def product(*args):\n",
    "    result = 1\n",
    "    for arg in args:\n",
    "        result *= arg\n",
    "    return result\n",
    "print (product(3,4,6))"
   ]
  },
  {
   "cell_type": "code",
   "execution_count": 3,
   "metadata": {},
   "outputs": [
    {
     "name": "stdout",
     "output_type": "stream",
     "text": [
      "5184\n"
     ]
    }
   ],
   "source": [
    "def product(*args, power = 2):\n",
    "    result = 1\n",
    "    for arg in args:\n",
    "        result *= arg**power\n",
    "    return result\n",
    "print (product(3,4,6))"
   ]
  },
  {
   "cell_type": "code",
   "execution_count": 5,
   "metadata": {},
   "outputs": [
    {
     "ename": "SyntaxError",
     "evalue": "unexpected EOF while parsing (<ipython-input-5-268ee695c1f9>, line 3)",
     "output_type": "error",
     "traceback": [
      "\u001b[1;36m  File \u001b[1;32m\"<ipython-input-5-268ee695c1f9>\"\u001b[1;36m, line \u001b[1;32m3\u001b[0m\n\u001b[1;33m    def countLetters(*args, stopWords = []):\u001b[0m\n\u001b[1;37m                                            ^\u001b[0m\n\u001b[1;31mSyntaxError\u001b[0m\u001b[1;31m:\u001b[0m unexpected EOF while parsing\n"
     ]
    }
   ],
   "source": [
    "# Задача. Найти сумму длин входящих слов. Количество не определено. \n",
    "# Должны учитываться все слова, за исключением слов, который вхдят в другой список - стоп лист.\n",
    "def countLetters(*args, stopWords = []):"
   ]
  },
  {
   "cell_type": "code",
   "execution_count": null,
   "metadata": {
    "collapsed": true
   },
   "outputs": [],
   "source": [
    "# Задача1. Проверить - можно ли из набора букв сделать полиндром, обязательно нужно воспользоваться всеми буквами.\n",
    "# Полиндром, это слово которой вперед и назад читается одинаково\n",
    "\n",
    "# Задача2. А как проверить, что слово полиндром?"
   ]
  },
  {
   "cell_type": "code",
   "execution_count": null,
   "metadata": {
    "collapsed": true
   },
   "outputs": [],
   "source": [
    "# Задача. Написать функцию, которая из исходного списка, вернет только четные числа в виде отельного списка"
   ]
  },
  {
   "cell_type": "code",
   "execution_count": 10,
   "metadata": {},
   "outputs": [
    {
     "data": {
      "text/plain": [
       "4"
      ]
     },
     "execution_count": 10,
     "metadata": {},
     "output_type": "execute_result"
    }
   ],
   "source": [
    "import random\n",
    "random.randint(2, 8) # генерация случайных чисел\n",
    "\n",
    "# Напишите функцию, которая на вход получает диапозон и количество чисел. А нужно вернуть случайные числа в этом диапозоне, в заданном количестве\n",
    "# но без повторения"
   ]
  },
  {
   "cell_type": "code",
   "execution_count": null,
   "metadata": {
    "collapsed": true
   },
   "outputs": [],
   "source": [
    "# Написать функцию определения простоты числа"
   ]
  },
  {
   "cell_type": "code",
   "execution_count": null,
   "metadata": {
    "collapsed": true
   },
   "outputs": [],
   "source": []
  },
  {
   "cell_type": "markdown",
   "metadata": {
    "collapsed": true
   },
   "source": [
    "# Классы"
   ]
  },
  {
   "cell_type": "markdown",
   "metadata": {},
   "source": [
    "**Полиморфизм**  в разных объектах одна и та же операция может выполнять различные функции. Слово «полиморфизм» имеет греческую природу и означает «имеющий многие формы». Простым примером полиморфизма может служить функция count(), выполняющая одинаковое действие для различных типов обьектов: 'abc'.count('a') и [1, 2, 'a'].count('a'). Оператор плюс полиморфичен при сложении чисел и при сложении строк.\n",
    "\n",
    "**Инкапсуляция**: можно скрыть ненужные внутренние подробности работы объекта от окружающего мира. Это второй основной принцип абстракции. Он основан на использовании атрибутов внутри класса. Атрибуты могут иметь различные состояния в промежутках между вызовами методов класса, вследствие чего сам объект данного класса также получает различные состояния — state.\n",
    "\n",
    "**Наследование**: можно создавать специализированные классы на основе базовых. Это позволяет нам избегать написания повторного кода.\n"
   ]
  },
  {
   "cell_type": "code",
   "execution_count": 1,
   "metadata": {
    "collapsed": true
   },
   "outputs": [],
   "source": [
    "# объявление класса \n",
    "class Simple:\n",
    "    'Простой класс'\n",
    "    var = 87\n",
    "    def f(x):\n",
    "        return 'Hello world'"
   ]
  },
  {
   "cell_type": "code",
   "execution_count": 2,
   "metadata": {
    "collapsed": true
   },
   "outputs": [],
   "source": [
    "# Создание экземпляра класса похоже на то, как будто мы делаем вызов функций:\n",
    "smpl = Simple()"
   ]
  },
  {
   "cell_type": "raw",
   "metadata": {},
   "source": [
    "Объект класса и инстанс класса — это два разных объекта. Первый генерируется на этапе объявления класса, второй — при вызове имени класса. Объект класса может быть один, инстансов класса может быть сколько угодно.\t"
   ]
  },
  {
   "cell_type": "raw",
   "metadata": {},
   "source": [
    "Будет создан пустой объект smpl. Если мы хотим, чтобы при создании выполнялись какие-то действия, нужно определить конструктор, который будет вызываться автоматически:"
   ]
  },
  {
   "cell_type": "raw",
   "metadata": {},
   "source": [
    "Обычно первый аргумент в имени метода — self. Как говорит автор языка Гвидо Ван Россум, это не более чем соглашение: имя self не имеет абсолютно никакого специального значения."
   ]
  },
  {
   "cell_type": "code",
   "execution_count": 11,
   "metadata": {
    "collapsed": true
   },
   "outputs": [],
   "source": [
    "class Simple:\n",
    "    'Простой класс'\n",
    "    var = 87\n",
    "    def f(x):\n",
    "        return 'Hello world'\n",
    "    \n",
    "    def __init__(self, count, str):\n",
    "        self.list = []\n",
    "        self.count = count\n",
    "        self.str = str"
   ]
  },
  {
   "cell_type": "code",
   "execution_count": 12,
   "metadata": {
    "collapsed": true
   },
   "outputs": [],
   "source": [
    "s = Simple(1,'22')"
   ]
  },
  {
   "cell_type": "code",
   "execution_count": 14,
   "metadata": {},
   "outputs": [
    {
     "name": "stdout",
     "output_type": "stream",
     "text": [
      "1 22 []\n"
     ]
    }
   ],
   "source": [
    "print (s.count, s.str, s.list)"
   ]
  },
  {
   "cell_type": "markdown",
   "metadata": {},
   "source": [
    "### Инкапсуляция "
   ]
  },
  {
   "cell_type": "raw",
   "metadata": {},
   "source": [
    "Атрибут данных можно сделать приватным (private) — т.е. недоступным снаружи — для этого слева нужно поставить два символа подчеркивания: "
   ]
  },
  {
   "cell_type": "code",
   "execution_count": 25,
   "metadata": {},
   "outputs": [
    {
     "name": "stdout",
     "output_type": "stream",
     "text": [
      "20\n"
     ]
    },
    {
     "ename": "AttributeError",
     "evalue": "'Simple' object has no attribute '__private_attr'",
     "output_type": "error",
     "traceback": [
      "\u001b[1;31m---------------------------------------------------------------------------\u001b[0m",
      "\u001b[1;31mAttributeError\u001b[0m                            Traceback (most recent call last)",
      "\u001b[1;32m<ipython-input-25-c2a14938a4ae>\u001b[0m in \u001b[0;36m<module>\u001b[1;34m()\u001b[0m\n\u001b[0;32m      7\u001b[0m \u001b[1;33m\u001b[0m\u001b[0m\n\u001b[0;32m      8\u001b[0m \u001b[0ms\u001b[0m \u001b[1;33m=\u001b[0m \u001b[0mSimple\u001b[0m\u001b[1;33m(\u001b[0m\u001b[1;36m1\u001b[0m\u001b[1;33m,\u001b[0m\u001b[1;34m'22'\u001b[0m\u001b[1;33m)\u001b[0m\u001b[1;33m\u001b[0m\u001b[0m\n\u001b[1;32m----> 9\u001b[1;33m \u001b[0mprint\u001b[0m \u001b[1;33m(\u001b[0m\u001b[0ms\u001b[0m\u001b[1;33m.\u001b[0m\u001b[0m__private_attr\u001b[0m\u001b[1;33m)\u001b[0m\u001b[1;33m\u001b[0m\u001b[0m\n\u001b[0m",
      "\u001b[1;31mAttributeError\u001b[0m: 'Simple' object has no attribute '__private_attr'"
     ]
    }
   ],
   "source": [
    "class Simple:\n",
    "    u'Простой класс с приватным атрибутом'\n",
    "    __private_attr = 10\n",
    "    def __init__(self, count, str):\n",
    "        self.__private_attr = 20\n",
    "        print (self.__private_attr)\n",
    "\n",
    "s = Simple(1,'22')\n",
    "print (s.__private_attr)"
   ]
  },
  {
   "cell_type": "code",
   "execution_count": 21,
   "metadata": {},
   "outputs": [
    {
     "name": "stdout",
     "output_type": "stream",
     "text": [
      "3\n"
     ]
    }
   ],
   "source": [
    "# Методы необязательно определять внутри тела класса:\n",
    "def method_for_simple(self, x, y):\n",
    "    return x + y\n",
    "\n",
    "class Simple:\n",
    "    f = method_for_simple\n",
    " \n",
    "s = Simple()\n",
    "print (s.f(1,2))"
   ]
  },
  {
   "cell_type": "markdown",
   "metadata": {},
   "source": [
    "### Наследование "
   ]
  },
  {
   "cell_type": "markdown",
   "metadata": {},
   "source": [
    "*Person* — хранит общую информацию о людях — имя, профессия, зарплата\n",
    "\n",
    "*Manager* — специализированный производный класс\n",
    "\n",
    "В классе *Perso*n мы создадим свою версию для стандартной встроенной функции *str*, которая есть по умолчанию в любом питоновском классе — для этого она будет иметь префикс с двумя символами подчеркивания слева и справа. Когда мы попытаемся распечатать инстанс класса, будет вызвана *__str__*"
   ]
  },
  {
   "cell_type": "code",
   "execution_count": 26,
   "metadata": {
    "collapsed": true
   },
   "outputs": [],
   "source": [
    "class Person:\n",
    "\tdef __init__(self, name, job=None, pay=0):\n",
    "\t\tself.name = name\n",
    "\t\tself.job = job\n",
    "\t\tself.pay = pay\n",
    "\tdef lastName(self):\n",
    "\t\treturn self.name.split()[-1]\n",
    "\tdef giveRaise(self, percent):\n",
    "\t\tself.pay = int(self.pay * (1 + percent))\n",
    "\tdef __str__(self):\n",
    "\t\treturn '[Person: %s, %s]' % (self.name, self.pay)\n",
    "\n",
    "class Manager(Person):\n",
    "\tdef __init__(self, name, pay): \n",
    "\t\tPerson.__init__(self, name, 'mgr', pay) \n",
    "\tdef giveRaise(self, percent, bonus=100):\n",
    "\t\tPerson.giveRaise(self, percent + bonus)"
   ]
  },
  {
   "cell_type": "code",
   "execution_count": 28,
   "metadata": {},
   "outputs": [
    {
     "name": "stdout",
     "output_type": "stream",
     "text": [
      "[Person: Иван Petrov, 0]\n",
      "[Person: John Sidorov, 100000]\n"
     ]
    }
   ],
   "source": [
    "ivan = Person('Иван Petrov')\n",
    "john = Person('John Sidorov', job='dev', pay=100000)\n",
    "\n",
    "print(ivan)\n",
    "print(john)"
   ]
  },
  {
   "cell_type": "code",
   "execution_count": 30,
   "metadata": {},
   "outputs": [
    {
     "name": "stdout",
     "output_type": "stream",
     "text": [
      "[Person: John Sidorov, 121000]\n"
     ]
    }
   ],
   "source": [
    "# начисляем премиальные\n",
    "john.giveRaise(.10)\n",
    "print(john)"
   ]
  },
  {
   "cell_type": "code",
   "execution_count": 31,
   "metadata": {},
   "outputs": [
    {
     "name": "stdout",
     "output_type": "stream",
     "text": [
      "Jones\n",
      "[Person: Tom Jones, 5055000]\n"
     ]
    }
   ],
   "source": [
    "tom = Manager('Tom Jones', 50000)\n",
    "tom.giveRaise(.10)\n",
    "print(tom.lastName())\n",
    "print(tom)"
   ]
  },
  {
   "cell_type": "markdown",
   "metadata": {},
   "source": [
    "### Полиморфизм\n",
    "\n",
    "Использование полиморфизма при наследовании классов позволяет переопределять методы суперклассов их подклассами. Например, может возникнуть ситуация, когда все подклассы реализуют определенный метод из суперкласса, и лишь один подкласс должен иметь его другую реализацию. В таком случае метод переопределяется в подклассе. Пример:"
   ]
  },
  {
   "cell_type": "code",
   "execution_count": 32,
   "metadata": {},
   "outputs": [
    {
     "name": "stdout",
     "output_type": "stream",
     "text": [
      "90\n",
      "a\n",
      "b\n",
      "c\n"
     ]
    }
   ],
   "source": [
    "class Base:\n",
    "    def __init__(self,n):\n",
    "          self.numb = n\n",
    "    def out(self):\n",
    "          print (self.numb)\n",
    " \n",
    "class One(Base):\n",
    "    def multi(self,m):\n",
    "        self.numb *= m\n",
    " \n",
    "class Two(Base):\n",
    "    def inlist(self):\n",
    "          self.inlist = list(str(self.numb))\n",
    "    def out(self):\n",
    "        i = 0\n",
    "        while i < len(self.inlist):\n",
    "            print (self.inlist[i])\n",
    "            i += 1\n",
    " \n",
    "obj1 = One(45)\n",
    "obj2 = Two('abc')\n",
    " \n",
    "obj1.multi(2)\n",
    "obj1.out() # Вывод числа 90\n",
    " \n",
    "obj2.inlist()\n",
    "obj2.out() # Вывод в столбик букв a, b, c "
   ]
  },
  {
   "cell_type": "markdown",
   "metadata": {},
   "source": [
    "### Задача 1"
   ]
  },
  {
   "cell_type": "markdown",
   "metadata": {},
   "source": [
    "Напишите программу, запрашивающую у пользователя ввод числа. Если число принадлежит диапазону от -100 до 100, то создается объект одного класса, во всех остальных случаях создается объект другого класса. В обоих классах должен быть метод-конструктор __init__, который в первом классе возводит число в квадрат, а во-втором - умножает на два."
   ]
  }
 ],
 "metadata": {
  "kernelspec": {
   "display_name": "Python 3",
   "language": "python",
   "name": "python3"
  },
  "language_info": {
   "codemirror_mode": {
    "name": "ipython",
    "version": 3
   },
   "file_extension": ".py",
   "mimetype": "text/x-python",
   "name": "python",
   "nbconvert_exporter": "python",
   "pygments_lexer": "ipython3",
   "version": "3.6.1"
  }
 },
 "nbformat": 4,
 "nbformat_minor": 2
}
