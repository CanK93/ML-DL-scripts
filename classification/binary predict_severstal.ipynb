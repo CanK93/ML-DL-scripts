{
 "cells": [
  {
   "cell_type": "code",
   "execution_count": 1,
   "metadata": {},
   "outputs": [
    {
     "name": "stderr",
     "output_type": "stream",
     "text": [
      "/home/analyst/anaconda2/lib/python2.7/site-packages/sklearn/cross_validation.py:44: DeprecationWarning: This module was deprecated in version 0.18 in favor of the model_selection module into which all the refactored classes and functions are moved. Also note that the interface of the new CV iterators are different from that of this module. This module will be removed in 0.20.\n",
      "  \"This module will be removed in 0.20.\", DeprecationWarning)\n"
     ]
    }
   ],
   "source": [
    "import numpy as np\n",
    "import pandas as pd\n",
    "%matplotlib inline\n",
    "import math \n",
    "from xgboost.sklearn import XGBClassifier\n",
    "from sklearn.cross_validation import cross_val_score\n",
    "from sklearn import cross_validation\n",
    "from sklearn.metrics import roc_auc_score\n",
    "from matplotlib import pyplot"
   ]
  },
  {
   "cell_type": "code",
   "execution_count": 2,
   "metadata": {},
   "outputs": [],
   "source": [
    "train = pd.read_csv(\"xtrain.csv\")\n",
    "target = pd.read_csv(\"ytrain.csv\")\n",
    "test = pd.read_csv(\"xtest.csv\")"
   ]
  },
  {
   "cell_type": "code",
   "execution_count": 3,
   "metadata": {},
   "outputs": [
    {
     "data": {
      "text/html": [
       "<div>\n",
       "<table border=\"1\" class=\"dataframe\">\n",
       "  <thead>\n",
       "    <tr style=\"text-align: right;\">\n",
       "      <th></th>\n",
       "      <th>1</th>\n",
       "      <th>2</th>\n",
       "      <th>3</th>\n",
       "      <th>4</th>\n",
       "      <th>5</th>\n",
       "      <th>6</th>\n",
       "      <th>7</th>\n",
       "      <th>8</th>\n",
       "      <th>9</th>\n",
       "      <th>10</th>\n",
       "      <th>...</th>\n",
       "      <th>49</th>\n",
       "      <th>50</th>\n",
       "      <th>51</th>\n",
       "      <th>52</th>\n",
       "      <th>53</th>\n",
       "      <th>54</th>\n",
       "      <th>55</th>\n",
       "      <th>56</th>\n",
       "      <th>57</th>\n",
       "      <th>58</th>\n",
       "    </tr>\n",
       "  </thead>\n",
       "  <tbody>\n",
       "    <tr>\n",
       "      <th>0</th>\n",
       "      <td>-42.822536</td>\n",
       "      <td>NaN</td>\n",
       "      <td>12.0</td>\n",
       "      <td>NaN</td>\n",
       "      <td>1.0</td>\n",
       "      <td>2.0</td>\n",
       "      <td>24.0</td>\n",
       "      <td>-45.025510</td>\n",
       "      <td>NaN</td>\n",
       "      <td>1.0</td>\n",
       "      <td>...</td>\n",
       "      <td>17.871210</td>\n",
       "      <td>4.0</td>\n",
       "      <td>15.0</td>\n",
       "      <td>21.863365</td>\n",
       "      <td>-13.349394</td>\n",
       "      <td>-2.215086</td>\n",
       "      <td>-5.137377</td>\n",
       "      <td>20.904186</td>\n",
       "      <td>53.939262</td>\n",
       "      <td>-17.328346</td>\n",
       "    </tr>\n",
       "    <tr>\n",
       "      <th>1</th>\n",
       "      <td>-13.478816</td>\n",
       "      <td>13.0</td>\n",
       "      <td>12.0</td>\n",
       "      <td>75.132502</td>\n",
       "      <td>0.0</td>\n",
       "      <td>2.0</td>\n",
       "      <td>24.0</td>\n",
       "      <td>-49.213545</td>\n",
       "      <td>7.0</td>\n",
       "      <td>0.0</td>\n",
       "      <td>...</td>\n",
       "      <td>21.511019</td>\n",
       "      <td>2.0</td>\n",
       "      <td>13.0</td>\n",
       "      <td>-2.880103</td>\n",
       "      <td>21.739125</td>\n",
       "      <td>5.464161</td>\n",
       "      <td>-30.347612</td>\n",
       "      <td>23.304507</td>\n",
       "      <td>47.746225</td>\n",
       "      <td>-47.305489</td>\n",
       "    </tr>\n",
       "    <tr>\n",
       "      <th>2</th>\n",
       "      <td>51.702721</td>\n",
       "      <td>13.0</td>\n",
       "      <td>12.0</td>\n",
       "      <td>63.459270</td>\n",
       "      <td>0.0</td>\n",
       "      <td>3.0</td>\n",
       "      <td>24.0</td>\n",
       "      <td>-58.777043</td>\n",
       "      <td>8.0</td>\n",
       "      <td>0.0</td>\n",
       "      <td>...</td>\n",
       "      <td>NaN</td>\n",
       "      <td>3.0</td>\n",
       "      <td>16.0</td>\n",
       "      <td>21.851623</td>\n",
       "      <td>NaN</td>\n",
       "      <td>7.471764</td>\n",
       "      <td>-12.348314</td>\n",
       "      <td>34.406243</td>\n",
       "      <td>34.479515</td>\n",
       "      <td>-33.326172</td>\n",
       "    </tr>\n",
       "    <tr>\n",
       "      <th>3</th>\n",
       "      <td>NaN</td>\n",
       "      <td>12.0</td>\n",
       "      <td>13.0</td>\n",
       "      <td>-15.492561</td>\n",
       "      <td>1.0</td>\n",
       "      <td>1.0</td>\n",
       "      <td>23.0</td>\n",
       "      <td>0.624258</td>\n",
       "      <td>9.0</td>\n",
       "      <td>0.0</td>\n",
       "      <td>...</td>\n",
       "      <td>16.964848</td>\n",
       "      <td>2.0</td>\n",
       "      <td>15.0</td>\n",
       "      <td>-25.128119</td>\n",
       "      <td>-26.858262</td>\n",
       "      <td>54.203501</td>\n",
       "      <td>10.341217</td>\n",
       "      <td>29.080753</td>\n",
       "      <td>40.235855</td>\n",
       "      <td>-35.835956</td>\n",
       "    </tr>\n",
       "    <tr>\n",
       "      <th>4</th>\n",
       "      <td>7.633273</td>\n",
       "      <td>NaN</td>\n",
       "      <td>13.0</td>\n",
       "      <td>59.862681</td>\n",
       "      <td>0.0</td>\n",
       "      <td>3.0</td>\n",
       "      <td>NaN</td>\n",
       "      <td>-61.395319</td>\n",
       "      <td>NaN</td>\n",
       "      <td>0.0</td>\n",
       "      <td>...</td>\n",
       "      <td>8.467076</td>\n",
       "      <td>4.0</td>\n",
       "      <td>14.0</td>\n",
       "      <td>30.610006</td>\n",
       "      <td>-15.663721</td>\n",
       "      <td>38.323843</td>\n",
       "      <td>-65.561821</td>\n",
       "      <td>33.965883</td>\n",
       "      <td>50.245794</td>\n",
       "      <td>-44.018245</td>\n",
       "    </tr>\n",
       "  </tbody>\n",
       "</table>\n",
       "<p>5 rows × 58 columns</p>\n",
       "</div>"
      ],
      "text/plain": [
       "           1     2     3          4    5    6     7          8    9   10  \\\n",
       "0 -42.822536   NaN  12.0        NaN  1.0  2.0  24.0 -45.025510  NaN  1.0   \n",
       "1 -13.478816  13.0  12.0  75.132502  0.0  2.0  24.0 -49.213545  7.0  0.0   \n",
       "2  51.702721  13.0  12.0  63.459270  0.0  3.0  24.0 -58.777043  8.0  0.0   \n",
       "3        NaN  12.0  13.0 -15.492561  1.0  1.0  23.0   0.624258  9.0  0.0   \n",
       "4   7.633273   NaN  13.0  59.862681  0.0  3.0   NaN -61.395319  NaN  0.0   \n",
       "\n",
       "     ...             49   50    51         52         53         54  \\\n",
       "0    ...      17.871210  4.0  15.0  21.863365 -13.349394  -2.215086   \n",
       "1    ...      21.511019  2.0  13.0  -2.880103  21.739125   5.464161   \n",
       "2    ...            NaN  3.0  16.0  21.851623        NaN   7.471764   \n",
       "3    ...      16.964848  2.0  15.0 -25.128119 -26.858262  54.203501   \n",
       "4    ...       8.467076  4.0  14.0  30.610006 -15.663721  38.323843   \n",
       "\n",
       "          55         56         57         58  \n",
       "0  -5.137377  20.904186  53.939262 -17.328346  \n",
       "1 -30.347612  23.304507  47.746225 -47.305489  \n",
       "2 -12.348314  34.406243  34.479515 -33.326172  \n",
       "3  10.341217  29.080753  40.235855 -35.835956  \n",
       "4 -65.561821  33.965883  50.245794 -44.018245  \n",
       "\n",
       "[5 rows x 58 columns]"
      ]
     },
     "execution_count": 3,
     "metadata": {},
     "output_type": "execute_result"
    }
   ],
   "source": [
    "train.head()"
   ]
  },
  {
   "cell_type": "code",
   "execution_count": 4,
   "metadata": {},
   "outputs": [
    {
     "data": {
      "text/html": [
       "<div>\n",
       "<table border=\"1\" class=\"dataframe\">\n",
       "  <thead>\n",
       "    <tr style=\"text-align: right;\">\n",
       "      <th></th>\n",
       "      <th>1</th>\n",
       "      <th>2</th>\n",
       "      <th>3</th>\n",
       "      <th>4</th>\n",
       "      <th>5</th>\n",
       "      <th>6</th>\n",
       "      <th>7</th>\n",
       "      <th>8</th>\n",
       "      <th>9</th>\n",
       "      <th>10</th>\n",
       "      <th>...</th>\n",
       "      <th>49</th>\n",
       "      <th>50</th>\n",
       "      <th>51</th>\n",
       "      <th>52</th>\n",
       "      <th>53</th>\n",
       "      <th>54</th>\n",
       "      <th>55</th>\n",
       "      <th>56</th>\n",
       "      <th>57</th>\n",
       "      <th>58</th>\n",
       "    </tr>\n",
       "  </thead>\n",
       "  <tbody>\n",
       "    <tr>\n",
       "      <th>count</th>\n",
       "      <td>820529.000000</td>\n",
       "      <td>808921.000000</td>\n",
       "      <td>831550.000000</td>\n",
       "      <td>828051.000000</td>\n",
       "      <td>819375.000000</td>\n",
       "      <td>796632.000000</td>\n",
       "      <td>791582.000000</td>\n",
       "      <td>796405.000000</td>\n",
       "      <td>840044.000000</td>\n",
       "      <td>794046.000000</td>\n",
       "      <td>...</td>\n",
       "      <td>803958.000000</td>\n",
       "      <td>836761.000000</td>\n",
       "      <td>798606.000000</td>\n",
       "      <td>843544.000000</td>\n",
       "      <td>814017.000000</td>\n",
       "      <td>812818.000000</td>\n",
       "      <td>800856.000000</td>\n",
       "      <td>812926.000000</td>\n",
       "      <td>835366.000000</td>\n",
       "      <td>786115.000000</td>\n",
       "    </tr>\n",
       "    <tr>\n",
       "      <th>mean</th>\n",
       "      <td>11.012513</td>\n",
       "      <td>12.329729</td>\n",
       "      <td>11.344055</td>\n",
       "      <td>25.406132</td>\n",
       "      <td>0.313465</td>\n",
       "      <td>2.180648</td>\n",
       "      <td>23.222268</td>\n",
       "      <td>-46.304667</td>\n",
       "      <td>7.901558</td>\n",
       "      <td>0.269151</td>\n",
       "      <td>...</td>\n",
       "      <td>20.596154</td>\n",
       "      <td>2.982181</td>\n",
       "      <td>14.680950</td>\n",
       "      <td>24.042950</td>\n",
       "      <td>-19.295371</td>\n",
       "      <td>16.461962</td>\n",
       "      <td>-25.783931</td>\n",
       "      <td>26.158484</td>\n",
       "      <td>38.320750</td>\n",
       "      <td>-37.013222</td>\n",
       "    </tr>\n",
       "    <tr>\n",
       "      <th>std</th>\n",
       "      <td>99.986889</td>\n",
       "      <td>0.796650</td>\n",
       "      <td>1.662548</td>\n",
       "      <td>20.636810</td>\n",
       "      <td>0.536960</td>\n",
       "      <td>0.771303</td>\n",
       "      <td>0.867651</td>\n",
       "      <td>19.875120</td>\n",
       "      <td>1.286734</td>\n",
       "      <td>0.443519</td>\n",
       "      <td>...</td>\n",
       "      <td>6.409154</td>\n",
       "      <td>1.097207</td>\n",
       "      <td>2.301128</td>\n",
       "      <td>29.146244</td>\n",
       "      <td>47.647342</td>\n",
       "      <td>45.131263</td>\n",
       "      <td>23.565330</td>\n",
       "      <td>8.508795</td>\n",
       "      <td>5.995944</td>\n",
       "      <td>15.246010</td>\n",
       "    </tr>\n",
       "    <tr>\n",
       "      <th>min</th>\n",
       "      <td>-480.088690</td>\n",
       "      <td>7.000000</td>\n",
       "      <td>3.000000</td>\n",
       "      <td>-72.310070</td>\n",
       "      <td>0.000000</td>\n",
       "      <td>0.000000</td>\n",
       "      <td>17.000000</td>\n",
       "      <td>-138.181159</td>\n",
       "      <td>1.000000</td>\n",
       "      <td>0.000000</td>\n",
       "      <td>...</td>\n",
       "      <td>-11.358178</td>\n",
       "      <td>0.000000</td>\n",
       "      <td>4.000000</td>\n",
       "      <td>-115.421307</td>\n",
       "      <td>-246.217734</td>\n",
       "      <td>-197.419313</td>\n",
       "      <td>-136.146509</td>\n",
       "      <td>-14.899675</td>\n",
       "      <td>9.648201</td>\n",
       "      <td>-112.352665</td>\n",
       "    </tr>\n",
       "    <tr>\n",
       "      <th>25%</th>\n",
       "      <td>-56.357813</td>\n",
       "      <td>12.000000</td>\n",
       "      <td>10.000000</td>\n",
       "      <td>11.492726</td>\n",
       "      <td>0.000000</td>\n",
       "      <td>2.000000</td>\n",
       "      <td>23.000000</td>\n",
       "      <td>-59.736287</td>\n",
       "      <td>7.000000</td>\n",
       "      <td>0.000000</td>\n",
       "      <td>...</td>\n",
       "      <td>16.278806</td>\n",
       "      <td>2.000000</td>\n",
       "      <td>13.000000</td>\n",
       "      <td>4.395491</td>\n",
       "      <td>-51.462848</td>\n",
       "      <td>-13.974363</td>\n",
       "      <td>-41.718505</td>\n",
       "      <td>20.427519</td>\n",
       "      <td>34.264541</td>\n",
       "      <td>-47.312376</td>\n",
       "    </tr>\n",
       "    <tr>\n",
       "      <th>50%</th>\n",
       "      <td>11.029669</td>\n",
       "      <td>13.000000</td>\n",
       "      <td>11.000000</td>\n",
       "      <td>25.421574</td>\n",
       "      <td>0.000000</td>\n",
       "      <td>2.000000</td>\n",
       "      <td>23.000000</td>\n",
       "      <td>-46.305721</td>\n",
       "      <td>8.000000</td>\n",
       "      <td>0.000000</td>\n",
       "      <td>...</td>\n",
       "      <td>20.605346</td>\n",
       "      <td>3.000000</td>\n",
       "      <td>15.000000</td>\n",
       "      <td>24.050412</td>\n",
       "      <td>-19.318562</td>\n",
       "      <td>16.460499</td>\n",
       "      <td>-25.779677</td>\n",
       "      <td>26.149082</td>\n",
       "      <td>38.316862</td>\n",
       "      <td>-36.990170</td>\n",
       "    </tr>\n",
       "    <tr>\n",
       "      <th>75%</th>\n",
       "      <td>78.379658</td>\n",
       "      <td>13.000000</td>\n",
       "      <td>13.000000</td>\n",
       "      <td>39.346755</td>\n",
       "      <td>1.000000</td>\n",
       "      <td>3.000000</td>\n",
       "      <td>24.000000</td>\n",
       "      <td>-32.910540</td>\n",
       "      <td>9.000000</td>\n",
       "      <td>1.000000</td>\n",
       "      <td>...</td>\n",
       "      <td>24.915043</td>\n",
       "      <td>4.000000</td>\n",
       "      <td>16.000000</td>\n",
       "      <td>43.716637</td>\n",
       "      <td>12.907192</td>\n",
       "      <td>46.941529</td>\n",
       "      <td>-9.868830</td>\n",
       "      <td>31.893980</td>\n",
       "      <td>42.376050</td>\n",
       "      <td>-26.696559</td>\n",
       "    </tr>\n",
       "    <tr>\n",
       "      <th>max</th>\n",
       "      <td>545.896248</td>\n",
       "      <td>13.000000</td>\n",
       "      <td>15.000000</td>\n",
       "      <td>128.900592</td>\n",
       "      <td>4.000000</td>\n",
       "      <td>3.000000</td>\n",
       "      <td>24.000000</td>\n",
       "      <td>55.334255</td>\n",
       "      <td>10.000000</td>\n",
       "      <td>1.000000</td>\n",
       "      <td>...</td>\n",
       "      <td>51.729840</td>\n",
       "      <td>5.000000</td>\n",
       "      <td>23.000000</td>\n",
       "      <td>164.653264</td>\n",
       "      <td>209.925962</td>\n",
       "      <td>226.741140</td>\n",
       "      <td>81.935811</td>\n",
       "      <td>73.609990</td>\n",
       "      <td>69.557056</td>\n",
       "      <td>41.368872</td>\n",
       "    </tr>\n",
       "  </tbody>\n",
       "</table>\n",
       "<p>8 rows × 58 columns</p>\n",
       "</div>"
      ],
      "text/plain": [
       "                   1              2              3              4  \\\n",
       "count  820529.000000  808921.000000  831550.000000  828051.000000   \n",
       "mean       11.012513      12.329729      11.344055      25.406132   \n",
       "std        99.986889       0.796650       1.662548      20.636810   \n",
       "min      -480.088690       7.000000       3.000000     -72.310070   \n",
       "25%       -56.357813      12.000000      10.000000      11.492726   \n",
       "50%        11.029669      13.000000      11.000000      25.421574   \n",
       "75%        78.379658      13.000000      13.000000      39.346755   \n",
       "max       545.896248      13.000000      15.000000     128.900592   \n",
       "\n",
       "                   5              6              7              8  \\\n",
       "count  819375.000000  796632.000000  791582.000000  796405.000000   \n",
       "mean        0.313465       2.180648      23.222268     -46.304667   \n",
       "std         0.536960       0.771303       0.867651      19.875120   \n",
       "min         0.000000       0.000000      17.000000    -138.181159   \n",
       "25%         0.000000       2.000000      23.000000     -59.736287   \n",
       "50%         0.000000       2.000000      23.000000     -46.305721   \n",
       "75%         1.000000       3.000000      24.000000     -32.910540   \n",
       "max         4.000000       3.000000      24.000000      55.334255   \n",
       "\n",
       "                   9             10      ...                   49  \\\n",
       "count  840044.000000  794046.000000      ...        803958.000000   \n",
       "mean        7.901558       0.269151      ...            20.596154   \n",
       "std         1.286734       0.443519      ...             6.409154   \n",
       "min         1.000000       0.000000      ...           -11.358178   \n",
       "25%         7.000000       0.000000      ...            16.278806   \n",
       "50%         8.000000       0.000000      ...            20.605346   \n",
       "75%         9.000000       1.000000      ...            24.915043   \n",
       "max        10.000000       1.000000      ...            51.729840   \n",
       "\n",
       "                  50             51             52             53  \\\n",
       "count  836761.000000  798606.000000  843544.000000  814017.000000   \n",
       "mean        2.982181      14.680950      24.042950     -19.295371   \n",
       "std         1.097207       2.301128      29.146244      47.647342   \n",
       "min         0.000000       4.000000    -115.421307    -246.217734   \n",
       "25%         2.000000      13.000000       4.395491     -51.462848   \n",
       "50%         3.000000      15.000000      24.050412     -19.318562   \n",
       "75%         4.000000      16.000000      43.716637      12.907192   \n",
       "max         5.000000      23.000000     164.653264     209.925962   \n",
       "\n",
       "                  54             55             56             57  \\\n",
       "count  812818.000000  800856.000000  812926.000000  835366.000000   \n",
       "mean       16.461962     -25.783931      26.158484      38.320750   \n",
       "std        45.131263      23.565330       8.508795       5.995944   \n",
       "min      -197.419313    -136.146509     -14.899675       9.648201   \n",
       "25%       -13.974363     -41.718505      20.427519      34.264541   \n",
       "50%        16.460499     -25.779677      26.149082      38.316862   \n",
       "75%        46.941529      -9.868830      31.893980      42.376050   \n",
       "max       226.741140      81.935811      73.609990      69.557056   \n",
       "\n",
       "                  58  \n",
       "count  786115.000000  \n",
       "mean      -37.013222  \n",
       "std        15.246010  \n",
       "min      -112.352665  \n",
       "25%       -47.312376  \n",
       "50%       -36.990170  \n",
       "75%       -26.696559  \n",
       "max        41.368872  \n",
       "\n",
       "[8 rows x 58 columns]"
      ]
     },
     "execution_count": 4,
     "metadata": {},
     "output_type": "execute_result"
    }
   ],
   "source": [
    "train.describe()"
   ]
  },
  {
   "cell_type": "code",
   "execution_count": 5,
   "metadata": {},
   "outputs": [
    {
     "data": {
      "text/html": [
       "<div>\n",
       "<table border=\"1\" class=\"dataframe\">\n",
       "  <thead>\n",
       "    <tr style=\"text-align: right;\">\n",
       "      <th></th>\n",
       "      <th>x</th>\n",
       "    </tr>\n",
       "  </thead>\n",
       "  <tbody>\n",
       "    <tr>\n",
       "      <th>0</th>\n",
       "      <td>1</td>\n",
       "    </tr>\n",
       "    <tr>\n",
       "      <th>1</th>\n",
       "      <td>0</td>\n",
       "    </tr>\n",
       "    <tr>\n",
       "      <th>2</th>\n",
       "      <td>0</td>\n",
       "    </tr>\n",
       "    <tr>\n",
       "      <th>3</th>\n",
       "      <td>1</td>\n",
       "    </tr>\n",
       "    <tr>\n",
       "      <th>4</th>\n",
       "      <td>0</td>\n",
       "    </tr>\n",
       "  </tbody>\n",
       "</table>\n",
       "</div>"
      ],
      "text/plain": [
       "   x\n",
       "0  1\n",
       "1  0\n",
       "2  0\n",
       "3  1\n",
       "4  0"
      ]
     },
     "execution_count": 5,
     "metadata": {},
     "output_type": "execute_result"
    }
   ],
   "source": [
    "target.head()"
   ]
  },
  {
   "cell_type": "code",
   "execution_count": 6,
   "metadata": {
    "scrolled": true
   },
   "outputs": [
    {
     "name": "stdout",
     "output_type": "stream",
     "text": [
      "1 :  820530\n",
      "2 :  8\n",
      "3 :  14\n",
      "4 :  828052\n",
      "5 :  6\n",
      "6 :  5\n",
      "7 :  9\n",
      "8 :  796406\n",
      "9 :  11\n",
      "10 :  3\n",
      "11 :  792090\n",
      "12 :  822005\n",
      "13 :  801825\n",
      "14 :  822892\n",
      "15 :  14\n",
      "16 :  822113\n",
      "17 :  15\n",
      "18 :  14\n",
      "19 :  857587\n",
      "20 :  829600\n",
      "21 :  20\n",
      "22 :  14\n",
      "23 :  5\n",
      "24 :  17\n",
      "25 :  809401\n",
      "26 :  19\n",
      "27 :  23\n",
      "28 :  812096\n",
      "29 :  14\n",
      "30 :  7\n",
      "31 :  7\n",
      "32 :  11\n",
      "33 :  815736\n",
      "34 :  815944\n",
      "35 :  800967\n",
      "36 :  15\n",
      "37 :  831797\n",
      "38 :  816784\n",
      "39 :  812254\n",
      "40 :  786254\n",
      "41 :  832849\n",
      "42 :  844695\n",
      "43 :  820060\n",
      "44 :  5\n",
      "45 :  10\n",
      "46 :  820502\n",
      "47 :  3\n",
      "48 :  15\n",
      "49 :  803959\n",
      "50 :  7\n",
      "51 :  21\n",
      "52 :  843545\n",
      "53 :  814018\n",
      "54 :  812819\n",
      "55 :  800857\n",
      "56 :  812927\n",
      "57 :  835366\n",
      "58 :  786116\n"
     ]
    }
   ],
   "source": [
    "for column in train:\n",
    "    print column, \": \", len(train[column].unique())   "
   ]
  },
  {
   "cell_type": "code",
   "execution_count": 3,
   "metadata": {},
   "outputs": [],
   "source": [
    "cat_features = []\n",
    "real_features = []\n",
    "\n",
    "for column in train:\n",
    "    if len(train[column].unique()) > 21:\n",
    "        real_features.append(column)\n",
    "    else:\n",
    "        cat_features.append(column)\n",
    "    "
   ]
  },
  {
   "cell_type": "code",
   "execution_count": 8,
   "metadata": {
    "scrolled": true
   },
   "outputs": [
    {
     "data": {
      "text/plain": [
       "<matplotlib.axes._subplots.AxesSubplot at 0x7fe0125ff210>"
      ]
     },
     "execution_count": 8,
     "metadata": {},
     "output_type": "execute_result"
    },
    {
     "data": {
      "image/png": "[encoded data removed]",
      "text/plain": [
       "<matplotlib.figure.Figure at 0x7fe021232dd0>"
      ]
     },
     "metadata": {},
     "output_type": "display_data"
    },
    {
     "data": {
      "image/png": "[encoded data removed]",
      "text/plain": [
       "<matplotlib.figure.Figure at 0x7fe014b97210>"
      ]
     },
     "metadata": {},
     "output_type": "display_data"
    }
   ],
   "source": [
    "# построим гистограммы для первых 50к значений для категориальных признаков\n",
    "train[cat_features].head(50000).plot.hist(bins = 100, figsize=(20, 20))\n",
    "test[cat_features].head(50000).plot.hist(bins = 100, figsize=(20, 20))"
   ]
  },
  {
   "cell_type": "code",
   "execution_count": 9,
   "metadata": {
    "scrolled": true
   },
   "outputs": [
    {
     "data": {
      "text/plain": [
       "<matplotlib.axes._subplots.AxesSubplot at 0x7fe015bbf910>"
      ]
     },
     "execution_count": 9,
     "metadata": {},
     "output_type": "execute_result"
    },
    {
     "data": {
      "image/png": "[encoded data removed]",
      "text/plain": [
       "<matplotlib.figure.Figure at 0x7fe02d9df050>"
      ]
     },
     "metadata": {},
     "output_type": "display_data"
    },
    {
     "data": {
      "image/png": "[encoded data removed]",
      "text/plain": [
       "<matplotlib.figure.Figure at 0x7fe01d754390>"
      ]
     },
     "metadata": {},
     "output_type": "display_data"
    }
   ],
   "source": [
    "# построим гистограммы для первых 50к значений для остальных признаков\n",
    "train[real_features].head(50000).plot.hist(bins = 100, figsize=(20, 20))\n",
    "test[real_features].head(50000).plot.hist(bins = 100, figsize=(20, 20))\n",
    "\n",
    "#гистограммы для теста и обучающей выборки совпадают"
   ]
  },
  {
   "cell_type": "code",
   "execution_count": 17,
   "metadata": {},
   "outputs": [
    {
     "data": {
      "text/plain": [
       "<matplotlib.axes._subplots.AxesSubplot at 0x7fe021256990>"
      ]
     },
     "execution_count": 17,
     "metadata": {},
     "output_type": "execute_result"
    },
    {
     "data": {
      "image/png": "[encoded data removed]",
      "text/plain": [
       "<matplotlib.figure.Figure at 0x7fe016aed250>"
      ]
     },
     "metadata": {},
     "output_type": "display_data"
    }
   ],
   "source": [
    "import seaborn\n",
    "seaborn.heatmap(train[real_features].corr(), square=True)\n",
    "#числовые признаки не коррелируеют между собой"
   ]
  },
  {
   "cell_type": "code",
   "execution_count": 11,
   "metadata": {
    "scrolled": true
   },
   "outputs": [
    {
     "data": {
      "text/plain": [
       "1      79471\n",
       "2      91079\n",
       "3      68450\n",
       "4      71949\n",
       "5      80625\n",
       "6     103368\n",
       "7     108418\n",
       "8     103595\n",
       "9      59956\n",
       "10    105954\n",
       "11    107911\n",
       "12     77918\n",
       "13     98176\n",
       "14     77109\n",
       "15    114703\n",
       "16     77888\n",
       "17     95691\n",
       "18     92278\n",
       "19     42414\n",
       "20     70401\n",
       "21     96029\n",
       "22     86128\n",
       "23    131388\n",
       "24     76619\n",
       "25     90600\n",
       "26     76446\n",
       "27    107409\n",
       "28     87905\n",
       "29    113008\n",
       "30     78357\n",
       "31     72053\n",
       "32     79065\n",
       "33     84265\n",
       "34     84057\n",
       "35     99034\n",
       "36     84897\n",
       "37     68204\n",
       "38     83217\n",
       "39     87747\n",
       "40    113747\n",
       "41     67152\n",
       "42     55306\n",
       "43     79941\n",
       "44    105538\n",
       "45     93753\n",
       "46     79499\n",
       "47     86376\n",
       "48     92006\n",
       "49     96042\n",
       "50     63239\n",
       "51    101394\n",
       "52     56456\n",
       "53     85983\n",
       "54     87182\n",
       "55     99144\n",
       "56     87074\n",
       "57     64634\n",
       "58    113885\n",
       "dtype: int64"
      ]
     },
     "execution_count": 11,
     "metadata": {},
     "output_type": "execute_result"
    }
   ],
   "source": [
    "# в данных есть nan values в каждом столбце\n",
    "train.isnull().sum()"
   ]
  },
  {
   "cell_type": "code",
   "execution_count": 5,
   "metadata": {},
   "outputs": [],
   "source": [
    "#для категориальных признаков, nan значения заменим -1\n",
    "#Для действительных признаков - заменим средним значнием\n",
    "train[cat_features] = train[cat_features].fillna(-1)\n",
    "  "
   ]
  },
  {
   "cell_type": "code",
   "execution_count": 6,
   "metadata": {
    "collapsed": true
   },
   "outputs": [],
   "source": [
    "for column in train[real_features]:\n",
    "    mean_val = train[column].mean()\n",
    "    train[column] = train[column].fillna(mean_val)"
   ]
  },
  {
   "cell_type": "code",
   "execution_count": 7,
   "metadata": {},
   "outputs": [
    {
     "data": {
      "text/plain": [
       "x    0.306733\n",
       "dtype: float64"
      ]
     },
     "execution_count": 7,
     "metadata": {},
     "output_type": "execute_result"
    }
   ],
   "source": [
    "target.mean() #класса 0 больше чем 1"
   ]
  },
  {
   "cell_type": "code",
   "execution_count": null,
   "metadata": {},
   "outputs": [],
   "source": [
    "import xgboost as xgb\n",
    "from sklearn.cross_validation import train_test_split\n",
    "\n",
    "X_fit, X_eval, y_fit, y_eval= train_test_split(\n",
    "    train, target, test_size=0.20, random_state=1\n",
    ")\n",
    "\n",
    "clf = xgb.XGBClassifier(missing=np.nan, max_depth=3, \n",
    "                        n_estimators=550, learning_rate=0.05, gamma =0.3, min_child_weight = 3,\n",
    "                        subsample=0.9, colsample_bytree=0.8, seed=2000,objective= 'binary:logistic')\n",
    "\n",
    "clf.fit(X_fit, y_fit, early_stopping_rounds=40,  eval_metric=\"auc\", eval_set=[(X_eval, y_eval)])\n"
   ]
  },
  {
   "cell_type": "code",
   "execution_count": 23,
   "metadata": {},
   "outputs": [
    {
     "name": "stdout",
     "output_type": "stream",
     "text": [
      "auc_train:  0.553770758732\n",
      "auc_val:  0.552502316614\n"
     ]
    }
   ],
   "source": [
    "auc_train = roc_auc_score(y_fit.x, clf.predict(X_fit))\n",
    "auc_val = roc_auc_score(y_eval.x, clf.predict(X_eval))\n",
    "\n",
    "print 'auc_train: ', auc_train\n",
    "print 'auc_val: ', auc_val\n",
    "\n",
    "#имеет место быть переобучение"
   ]
  },
  {
   "cell_type": "code",
   "execution_count": 40,
   "metadata": {},
   "outputs": [],
   "source": [
    "eps = 1e-5\n",
    "dropped_columns = set()\n",
    "C = train.columns\n",
    "#Определим константные признаки\n",
    "for c in C:\n",
    "    if train[c].var() < eps:\n",
    "        print '.. %-30s: too low variance ... column ignored'%(c)\n",
    "        dropped_columns.add(c)\n",
    "#таких не обнаружено"
   ]
  },
  {
   "cell_type": "code",
   "execution_count": 41,
   "metadata": {
    "collapsed": true
   },
   "outputs": [],
   "source": [
    "for i, c1 in enumerate(C):\n",
    "    f1 = train[c1].values\n",
    "    for j, c2 in enumerate(C[i+1:]):\n",
    "        f2 = train[c2].values\n",
    "        if np.all(f1 == f2):\n",
    "            dropped_columns.add(c2)\n",
    "            print c2\n",
    "# одинаковых полей также нет"
   ]
  },
  {
   "cell_type": "code",
   "execution_count": 9,
   "metadata": {},
   "outputs": [
    {
     "name": "stdout",
     "output_type": "stream",
     "text": [
      "Feature ranking:\n",
      "1. feature 11 (0.018281)\n",
      "2. feature 33 (0.018268)\n",
      "3. feature 13 (0.018228)\n",
      "4. feature 40 (0.018156)\n",
      "5. feature 10 (0.018108)\n",
      "6. feature 52 (0.018095)\n",
      "7. feature 45 (0.018085)\n",
      "8. feature 41 (0.018078)\n",
      "9. feature 19 (0.018045)\n",
      "10. feature 51 (0.018021)\n",
      "11. feature 55 (0.018017)\n",
      "12. feature 32 (0.018017)\n",
      "13. feature 53 (0.018003)\n",
      "14. feature 54 (0.017998)\n",
      "15. feature 37 (0.017997)\n",
      "16. feature 34 (0.017996)\n",
      "17. feature 7 (0.017995)\n",
      "18. feature 27 (0.017994)\n",
      "19. feature 42 (0.017992)\n",
      "20. feature 18 (0.017987)\n",
      "21. feature 56 (0.017968)\n",
      "22. feature 38 (0.017966)\n",
      "23. feature 57 (0.017961)\n",
      "24. feature 3 (0.017956)\n",
      "25. feature 48 (0.017951)\n",
      "26. feature 24 (0.017942)\n",
      "27. feature 15 (0.017901)\n",
      "28. feature 0 (0.017894)\n",
      "29. feature 12 (0.017852)\n",
      "30. feature 39 (0.017843)\n",
      "31. feature 26 (0.017689)\n",
      "32. feature 21 (0.017592)\n",
      "33. feature 20 (0.017566)\n",
      "34. feature 35 (0.017560)\n",
      "35. feature 23 (0.017536)\n",
      "36. feature 28 (0.017486)\n",
      "37. feature 47 (0.017442)\n",
      "38. feature 31 (0.017387)\n",
      "39. feature 17 (0.017322)\n",
      "40. feature 50 (0.017236)\n",
      "41. feature 25 (0.017199)\n",
      "42. feature 2 (0.017032)\n",
      "43. feature 49 (0.016939)\n",
      "44. feature 36 (0.016865)\n",
      "45. feature 8 (0.016755)\n",
      "46. feature 14 (0.016686)\n",
      "47. feature 16 (0.016525)\n",
      "48. feature 22 (0.016472)\n",
      "49. feature 30 (0.016253)\n",
      "50. feature 44 (0.016195)\n",
      "51. feature 43 (0.016066)\n",
      "52. feature 1 (0.015586)\n",
      "53. feature 29 (0.015509)\n",
      "54. feature 5 (0.015104)\n",
      "55. feature 6 (0.015079)\n",
      "56. feature 4 (0.014163)\n",
      "57. feature 9 (0.013654)\n",
      "58. feature 46 (0.012509)\n"
     ]
    },
    {
     "data": {
      "image/png": "[encoded data removed]",
      "text/plain": [
       "<matplotlib.figure.Figure at 0x7f85ff803190>"
      ]
     },
     "metadata": {},
     "output_type": "display_data"
    }
   ],
   "source": [
    "from sklearn.ensemble import RandomForestClassifier\n",
    "from sklearn.ensemble import ExtraTreesClassifier\n",
    "import matplotlib.pyplot as plt\n",
    "forest = ExtraTreesClassifier(n_estimators=150,\n",
    "                              random_state=0)\n",
    "\n",
    "forest.fit(train.head(100000), target.head(100000).x)\n",
    "importances = forest.feature_importances_\n",
    "std = np.std([tree.feature_importances_ for tree in forest.estimators_],\n",
    "             axis=0)\n",
    "indices = np.argsort(importances)[::-1]\n",
    "\n",
    "# Попробуем посмотреть  какие признаки значимы с помощью деревьев\n",
    "print(\"Feature ranking:\")\n",
    "\n",
    "for f in range(train.head(100000).shape[1]):\n",
    "    print(\"%d. feature %d (%f)\" % (f + 1, indices[f], importances[indices[f]]))\n",
    "\n",
    "# Построим графики\n",
    "plt.figure()\n",
    "plt.title(\"Feature importances\")\n",
    "plt.bar(range(train.head(100000).shape[1]), importances[indices],\n",
    "       color=\"r\", yerr=std[indices], align=\"center\")\n",
    "plt.xticks(range(train.head(100000).shape[1]), indices)\n",
    "plt.xlim([-1, train.head(100000).shape[1]])\n",
    "plt.show()"
   ]
  },
  {
   "cell_type": "code",
   "execution_count": null,
   "metadata": {},
   "outputs": [],
   "source": [
    "# Явных лидеров как и аутсайдеров среди признаков не видно. Признаки анонимны, \n",
    "# еще раз обучим модель с более сложными вычислительно гиперпараметрами\n",
    "from sklearn.cross_validation import train_test_split\n",
    "import xgboost as xgb\n",
    "\n",
    "X_fit, X_eval, y_fit, y_eval= train_test_split(\n",
    "    train, target, test_size=0.20, random_state=1\n",
    ")\n",
    "\n",
    "clf = xgb.XGBClassifier(missing=np.nan, max_depth=3, \n",
    "                        n_estimators=1200, learning_rate=0.05, gamma =0.3, min_child_weight = 3,\n",
    "                        subsample=0.9, colsample_bytree=0.8, seed=2000,objective= 'binary:logistic')\n",
    "\n",
    "clf.fit(X_fit, y_fit, early_stopping_rounds=40,  eval_metric=\"auc\", eval_set=[(X_eval, y_eval)])"
   ]
  },
  {
   "cell_type": "code",
   "execution_count": 13,
   "metadata": {
    "collapsed": true
   },
   "outputs": [],
   "source": [
    "# формирование результатов\n",
    "test_target = clf.predict(test)\n",
    "submission = pd.DataFrame(test_target)\n",
    "submission.to_csv(\"test_target.csv\", index=False)"
   ]
  },
  {
   "cell_type": "code",
   "execution_count": null,
   "metadata": {
    "collapsed": true
   },
   "outputs": [],
   "source": []
  }
 ],
 "metadata": {
  "anaconda-cloud": {},
  "kernelspec": {
   "display_name": "Python 3",
   "language": "python",
   "name": "python3"
  },
  "language_info": {
   "codemirror_mode": {
    "name": "ipython",
    "version": 3
   },
   "file_extension": ".py",
   "mimetype": "text/x-python",
   "name": "python",
   "nbconvert_exporter": "python",
   "pygments_lexer": "ipython3",
   "version": "3.6.5"
  }
 },
 "nbformat": 4,
 "nbformat_minor": 2
}
