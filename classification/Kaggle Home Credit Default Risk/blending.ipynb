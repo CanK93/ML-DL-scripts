{
 "cells": [
  {
   "cell_type": "code",
   "execution_count": 1,
   "metadata": {
    "ExecuteTime": {
     "end_time": "2018-08-29T15:30:02.528741Z",
     "start_time": "2018-08-29T15:29:57.706502Z"
    }
   },
   "outputs": [
    {
     "name": "stderr",
     "output_type": "stream",
     "text": [
      "Using TensorFlow backend.\n"
     ]
    }
   ],
   "source": [
    "import os\n",
    "\n",
    "import pandas as pd\n",
    "import numpy as np\n",
    "import scipy as sp\n",
    "\n",
    "from sklearn.linear_model import LogisticRegression\n",
    "from sklearn.metrics import roc_auc_score\n",
    "from sklearn.model_selection import cross_val_score, StratifiedKFold\n",
    "from sklearn.preprocessing import LabelEncoder\n",
    "from sklearn.neighbors import KNeighborsRegressor\n",
    "import lightgbm as lgb\n",
    "\n",
    "from collections import Counter\n",
    "\n",
    "import joblib\n",
    "\n",
    "import keras\n",
    "from keras.models import Model, Sequential\n",
    "from keras.layers import InputLayer, Dense, Dropout, BatchNormalization\n",
    "\n",
    "import tflearn\n",
    "\n",
    "from tqdm import tqdm_notebook"
   ]
  },
  {
   "cell_type": "code",
   "execution_count": 54,
   "metadata": {
    "ExecuteTime": {
     "end_time": "2018-08-29T22:05:42.602257Z",
     "start_time": "2018-08-29T22:05:41.528512Z"
    }
   },
   "outputs": [],
   "source": [
    "DATA_DIR = \"../../hcdr_data/\"\n",
    "\n",
    "Y_train = pd.read_csv(DATA_DIR + 'application_train.csv', usecols=['TARGET'])['TARGET'].values\n",
    "test_idx = pd.read_csv(DATA_DIR + 'application_test.csv', usecols=['SK_ID_CURR'])"
   ]
  },
  {
   "cell_type": "code",
   "execution_count": 55,
   "metadata": {
    "ExecuteTime": {
     "end_time": "2018-08-29T22:05:42.632277Z",
     "start_time": "2018-08-29T22:05:42.607627Z"
    }
   },
   "outputs": [],
   "source": [
    "FOLDS_PATH = './folds.pkl'\n",
    "\n",
    "folds_idx = joblib.load(FOLDS_PATH)"
   ]
  },
  {
   "cell_type": "code",
   "execution_count": null,
   "metadata": {
    "ExecuteTime": {
     "end_time": "2018-08-29T22:05:43.046541Z",
     "start_time": "2018-08-29T22:05:42.637321Z"
    }
   },
   "outputs": [],
   "source": [
    "!ls ../blending/"
   ]
  },
  {
   "cell_type": "code",
   "execution_count": 57,
   "metadata": {
    "ExecuteTime": {
     "end_time": "2018-08-29T22:05:43.051454Z",
     "start_time": "2018-08-29T22:05:43.048902Z"
    }
   },
   "outputs": [],
   "source": [
    "def is_good_file(f):    \n",
    "    return True"
   ]
  },
  {
   "cell_type": "code",
   "execution_count": 111,
   "metadata": {
    "ExecuteTime": {
     "end_time": "2018-08-29T22:19:49.436630Z",
     "start_time": "2018-08-29T22:19:49.293611Z"
    }
   },
   "outputs": [],
   "source": [
    "# blend_files_names = !ls ../blending/*\n",
    "\n",
    "# blend_files_names = [f \n",
    "#                      for f in blend_files_names \n",
    "#                      if is_good_file(f)]\n",
    "\n",
    "blend_files_names = [\n",
    "'../.....pkl',\n",
    "...\n",
    "]\n",
    "\n",
    "blend_files = [joblib.load(f) \n",
    "               for f in blend_files_names]"
   ]
  },
  {
   "cell_type": "code",
   "execution_count": 112,
   "metadata": {
    "ExecuteTime": {
     "end_time": "2018-08-29T22:19:50.192462Z",
     "start_time": "2018-08-29T22:19:50.188778Z"
    }
   },
   "outputs": [
    {
     "data": {
      "text/plain": [
       "16"
      ]
     },
     "execution_count": 112,
     "metadata": {},
     "output_type": "execute_result"
    }
   ],
   "source": [
    "len(blend_files)"
   ]
  },
  {
   "cell_type": "code",
   "execution_count": null,
   "metadata": {
    "ExecuteTime": {
     "end_time": "2018-08-29T22:19:50.370254Z",
     "start_time": "2018-08-29T22:19:50.365015Z"
    }
   },
   "outputs": [],
   "source": [
    "good_names = []\n",
    "good_files = []\n",
    "\n",
    "for fname, blend_file in zip(blend_files_names, blend_files):\n",
    "    print(fname)\n",
    "        \n",
    "    try:\n",
    "        assert len(blend_file['train']) == 307511\n",
    "        assert len(blend_file['test']) == 10\n",
    "        \n",
    "        for i in range(10):\n",
    "            assert len(blend_file['test'][i]) == 48744\n",
    "            \n",
    "        blend_file['train'] = blend_file['train'].ravel()\n",
    "        for i in range(10):\n",
    "            blend_file['test'][i] = blend_file['test'][i].ravel()\n",
    "    except:\n",
    "        print(\"bad file -- {}\".format(fname))\n",
    "        continue\n",
    "        \n",
    "    good_names.append(fname)\n",
    "    good_files.append(blend_file)\n",
    "    \n",
    "blend_files_names = good_names\n",
    "blend_files = good_files"
   ]
  },
  {
   "cell_type": "code",
   "execution_count": 114,
   "metadata": {
    "ExecuteTime": {
     "end_time": "2018-08-29T22:19:50.707225Z",
     "start_time": "2018-08-29T22:19:50.569579Z"
    }
   },
   "outputs": [],
   "source": [
    "X_train = np.concatenate([blend_file['train'][:, np.newaxis]\n",
    "                          for blend_file in blend_files], axis=-1)\n",
    "\n",
    "#  + \n",
    "#                          [sp.stats.rankdata(blend_file['train'])[:, np.newaxis] / len(blend_file['train'])\n",
    "#                           for blend_file in blend_files]\n",
    "\n",
    "X_test_list = [np.concatenate([blend_file['test'][i][:, np.newaxis]\n",
    "                               for blend_file in blend_files], axis=-1)\n",
    "               for i in range(10)]\n",
    "\n",
    "#  + \n",
    "#                               [sp.stats.rankdata(blend_file['test'][i])[:, np.newaxis] / len(blend_file['test'][i])\n",
    "#                                for blend_file in blend_files]"
   ]
  },
  {
   "cell_type": "code",
   "execution_count": 115,
   "metadata": {
    "ExecuteTime": {
     "end_time": "2018-08-29T22:19:50.883397Z",
     "start_time": "2018-08-29T22:19:50.876117Z"
    }
   },
   "outputs": [],
   "source": [
    "# train_df = pd.read_csv('../../hcdr_data/artgor_ann/train_processed_new.csv')\n",
    "# test_df = pd.read_csv('../../hcdr_data/artgor_ann/test_processed_new.csv')\n",
    "\n",
    "# train_df.replace([np.inf, -np.inf], -1, inplace=True)\n",
    "# test_df.replace([np.inf, -np.inf], -1, inplace=True)\n",
    "\n",
    "# train_df.fillna(-1, inplace=True)\n",
    "# test_df.fillna(-1, inplace=True)\n",
    "\n",
    "# for i in range(len(blend_files)):\n",
    "#     train_df['pred_{}'.format(i)] = X_train[:, i]\n",
    "\n",
    "# features = [f for f in train_df.columns if f not in ['TARGET','SK_ID_CURR','SK_ID_BUREAU','SK_ID_PREV','index']]"
   ]
  },
  {
   "cell_type": "code",
   "execution_count": 116,
   "metadata": {
    "ExecuteTime": {
     "end_time": "2018-08-29T22:19:51.116790Z",
     "start_time": "2018-08-29T22:19:51.112154Z"
    }
   },
   "outputs": [],
   "source": [
    "# class MyModel:\n",
    "#     def fit(self, X_train, Y_train):\n",
    "#         n, m = X_train.shape\n",
    "        \n",
    "#         w0 = np.random.normal(size=m)\n",
    "        \n",
    "#         def fun(w):\n",
    "#             return -roc_auc_score(Y_train, X_train @ w)\n",
    "        \n",
    "#         w = sp.optimize.minimize(fun, w0)\n",
    "        \n",
    "#         self.w = w['x']\n",
    "        \n",
    "#     def predict(self, X, y=None):\n",
    "#         return X @ self.w\n",
    "    \n",
    "#     def predict_proba(self, X, y=None):\n",
    "#         return X @ self.w"
   ]
  },
  {
   "cell_type": "code",
   "execution_count": 117,
   "metadata": {
    "ExecuteTime": {
     "end_time": "2018-08-29T22:20:03.927354Z",
     "start_time": "2018-08-29T22:19:51.373932Z"
    }
   },
   "outputs": [
    {
     "data": {
      "application/vnd.jupyter.widget-view+json": {
       "model_id": "a7b4c6952b444558aa771f0b4b67ea4f",
       "version_major": 2,
       "version_minor": 0
      },
      "text/plain": [
       "HBox(children=(IntProgress(value=0, max=16), HTML(value='')))"
      ]
     },
     "metadata": {},
     "output_type": "display_data"
    },
    {
     "name": "stdout",
     "output_type": "stream",
     "text": [
      "\n"
     ]
    }
   ],
   "source": [
    "for i in tqdm_notebook(range(len(blend_files_names))):\n",
    "    for n_fold, (train_idx, valid_idx) in enumerate(folds_idx):\n",
    "        ranked_valid = sp.stats.rankdata(X_train[valid_idx, i])\n",
    "        ranked_valid -= ranked_valid.min()\n",
    "        ranked_valid /= ranked_valid.max()\n",
    "        \n",
    "        ranked_valid = np.round(ranked_valid, decimals=2)\n",
    "\n",
    "        rg = KNeighborsRegressor(n_neighbors=1)\n",
    "        rg.fit(X_train[valid_idx, i][:, np.newaxis], ranked_valid)\n",
    "        \n",
    "        X_train[valid_idx, i] = ranked_valid\n",
    "        X_test_list[n_fold][:, i] = rg.predict(X_test_list[n_fold][:, i][:, np.newaxis])"
   ]
  },
  {
   "cell_type": "code",
   "execution_count": 118,
   "metadata": {
    "ExecuteTime": {
     "end_time": "2018-08-29T22:20:03.933661Z",
     "start_time": "2018-08-29T22:20:03.929295Z"
    }
   },
   "outputs": [
    {
     "data": {
      "text/plain": [
       "array([[0.93, 0.94, 0.97, ..., 0.99, 0.99, 0.99],\n",
       "       [0.32, 0.29, 0.39, ..., 0.15, 0.11, 0.44],\n",
       "       [0.43, 0.37, 0.39, ..., 0.5 , 0.45, 0.35],\n",
       "       ...,\n",
       "       [0.36, 0.33, 0.31, ..., 0.23, 0.41, 0.49],\n",
       "       [0.57, 0.51, 0.46, ..., 0.83, 0.27, 0.49],\n",
       "       [0.64, 0.59, 0.59, ..., 0.71, 0.77, 0.7 ]])"
      ]
     },
     "execution_count": 118,
     "metadata": {},
     "output_type": "execute_result"
    }
   ],
   "source": [
    "X_train"
   ]
  },
  {
   "cell_type": "code",
   "execution_count": 119,
   "metadata": {
    "ExecuteTime": {
     "end_time": "2018-08-29T22:20:03.943838Z",
     "start_time": "2018-08-29T22:20:03.935352Z"
    }
   },
   "outputs": [],
   "source": [
    "def get_model():\n",
    "#     model = Sequential()\n",
    "#     model.add(InputLayer(input_shape=(X_train.shape[1],)))\n",
    "#     for i in range(10):\n",
    "#         model.add(Dense(32, activation='elu'))\n",
    "#     model.add(Dense(1, activation='sigmoid'))\n",
    "    \n",
    "#     model.compile('adam', 'binary_crossentropy')\n",
    "    \n",
    "    return LogisticRegression()"
   ]
  },
  {
   "cell_type": "code",
   "execution_count": 120,
   "metadata": {
    "ExecuteTime": {
     "end_time": "2018-08-29T22:30:28.913194Z",
     "start_time": "2018-08-29T22:30:28.910850Z"
    }
   },
   "outputs": [],
   "source": [
    "clf = get_model()"
   ]
  },
  {
   "cell_type": "code",
   "execution_count": 121,
   "metadata": {
    "ExecuteTime": {
     "end_time": "2018-08-29T22:30:46.137065Z",
     "start_time": "2018-08-29T22:30:29.373765Z"
    }
   },
   "outputs": [
    {
     "name": "stdout",
     "output_type": "stream",
     "text": [
      "Fold  1 AUC : 0.806093\n",
      "Fold  2 AUC : 0.791901\n",
      "Fold  3 AUC : 0.800190\n",
      "Fold  4 AUC : 0.800671\n",
      "Fold  5 AUC : 0.799603\n",
      "Fold  6 AUC : 0.798694\n",
      "Fold  7 AUC : 0.799329\n",
      "Fold  8 AUC : 0.798203\n",
      "Fold  9 AUC : 0.807155\n",
      "Fold 10 AUC : 0.794701\n",
      "\n",
      " 0.7996540089043568 0.004322292708602305 0.7996377480138576\n"
     ]
    }
   ],
   "source": [
    "# Create arrays and dataframes to store results\n",
    "oof_preds = np.zeros(len(Y_train))\n",
    "test_preds = []\n",
    "final_preds = np.zeros(len(test_idx))\n",
    "auc_scores = []\n",
    "    \n",
    "for n_fold, (train_idx, valid_idx) in enumerate(folds_idx):\n",
    "    train_x, train_y = X_train[train_idx], Y_train[train_idx]\n",
    "    valid_x, valid_y = X_train[valid_idx], Y_train[valid_idx]\n",
    "    \n",
    "    clf = get_model()\n",
    "    \n",
    "#     clf.fit(train_x, train_y, \n",
    "#             eval_set=[(train_x, train_y), (valid_x, valid_y)], \n",
    "#             eval_metric='auc', verbose=100, early_stopping_rounds=100)\n",
    "#     oof_preds[valid_idx] = clf.predict_proba(valid_x, num_iteration=clf.best_iteration_)[:, 1]\n",
    "#     y_pred = clf.predict_proba(X_test_list[n_fold], num_iteration=clf.best_iteration_)[:, 1]\n",
    "\n",
    "#    clf.fit(train_x, train_y, batch_size=128, epochs=10, validation_data=(valid_x, valid_y))\n",
    "#    oof_preds[valid_idx] = clf.predict_proba(valid_x).ravel()    \n",
    "#    y_pred = clf.predict_proba(X_test_list[n_fold]).ravel()\n",
    "\n",
    "    clf.fit(train_x, train_y)\n",
    "    oof_preds[valid_idx] = clf.predict_proba(valid_x)[:, 1]\n",
    "    y_pred = clf.predict_proba(X_test_list[n_fold])[:, 1]    \n",
    "\n",
    "    final_preds += pd.Series(y_pred).rank().values\n",
    "    test_preds.append(y_pred)\n",
    "    auc_scores.append(roc_auc_score(valid_y, oof_preds[valid_idx]))\n",
    "    \n",
    "    print('Fold %2d AUC : %.6f' % (n_fold + 1, auc_scores[-1]))\n",
    "    \n",
    "print(\"\\n\", np.mean(auc_scores), np.std(auc_scores), roc_auc_score(Y_train, oof_preds))\n",
    "\n",
    "final_preds /= final_preds.max()"
   ]
  },
  {
   "cell_type": "code",
   "execution_count": 122,
   "metadata": {
    "ExecuteTime": {
     "end_time": "2018-08-29T23:01:35.339576Z",
     "start_time": "2018-08-29T23:01:35.095900Z"
    }
   },
   "outputs": [],
   "source": [
    "sub = pd.DataFrame({'SK_ID_CURR': test_idx['SK_ID_CURR'],\n",
    "                    'TARGET': final_preds})\n",
    "\n",
    "sub.to_csv('../submit/blending_end.csv', index=None)"
   ]
  },
  {
   "cell_type": "code",
   "execution_count": 17,
   "metadata": {
    "ExecuteTime": {
     "end_time": "2018-08-29T15:47:38.652257Z",
     "start_time": "2018-08-29T15:47:34.671200Z"
    }
   },
   "outputs": [],
   "source": [
    "import scipy as sp\n",
    "\n",
    "import matplotlib.pyplot as plt\n",
    "%matplotlib inline"
   ]
  },
  {
   "cell_type": "code",
   "execution_count": 18,
   "metadata": {
    "ExecuteTime": {
     "end_time": "2018-08-29T15:47:40.708120Z",
     "start_time": "2018-08-29T15:47:38.653959Z"
    }
   },
   "outputs": [],
   "source": [
    "train_preds = list(X_train.T) + [oof_preds]\n",
    "\n",
    "test_preds = [sum((sp.stats.rankdata(X_test_list[i][:, j]) \n",
    "                   for i in range(10))) \n",
    "              for j in range(len(blend_files))] + [final_preds]"
   ]
  },
  {
   "cell_type": "code",
   "execution_count": null,
   "metadata": {
    "ExecuteTime": {
     "end_time": "2018-08-29T10:19:34.591449Z",
     "start_time": "2018-08-29T10:19:34.587908Z"
    }
   },
   "outputs": [],
   "source": [
    "train_corr = np.zeros((len(train_preds), len(train_preds)))\n",
    "test_corr = np.zeros_like(train_corr)"
   ]
  },
  {
   "cell_type": "code",
   "execution_count": null,
   "metadata": {
    "ExecuteTime": {
     "end_time": "2018-08-29T10:21:20.331391Z",
     "start_time": "2018-08-29T10:19:35.091635Z"
    }
   },
   "outputs": [],
   "source": [
    "for i in range(len(train_preds)):\n",
    "    for j in range(len(train_preds)):\n",
    "        train_corr[i, j] = sp.stats.spearmanr(train_preds[i], train_preds[j]).correlation\n",
    "        test_corr[i, j] = sp.stats.spearmanr(test_preds[i], test_preds[j]).correlation"
   ]
  },
  {
   "cell_type": "code",
   "execution_count": null,
   "metadata": {
    "ExecuteTime": {
     "end_time": "2018-08-29T10:21:20.337600Z",
     "start_time": "2018-08-29T10:21:20.334123Z"
    }
   },
   "outputs": [],
   "source": [
    "names = [f.split('/')[-1][:-4] for f in blend_files_names] + ['blend']"
   ]
  },
  {
   "cell_type": "code",
   "execution_count": null,
   "metadata": {
    "ExecuteTime": {
     "end_time": "2018-08-29T10:21:20.358172Z",
     "start_time": "2018-08-29T10:21:20.339923Z"
    }
   },
   "outputs": [],
   "source": [
    "import itertools \n",
    "\n",
    "def plot_corr_matrix(cm_train, cm_test, names,\n",
    "                     cmap=plt.cm.Blues, savefig=None):\n",
    "    def plot_cm(ax, cm, title, draw_y=True):\n",
    "        ax.imshow(cm, interpolation='nearest', cmap=cmap)\n",
    "        ax.set_title(title)\n",
    "        tick_marks = np.arange(len(names))\n",
    "        ax.set_xticks(tick_marks)\n",
    "        ax.set_xticklabels(names, rotation=80)\n",
    "        if draw_y:\n",
    "            ax.set_yticks(tick_marks)\n",
    "            ax.set_yticklabels(names)\n",
    "\n",
    "        fmt = '.2f'\n",
    "        thresh = cm.max() / 2.\n",
    "        for i, j in itertools.product(range(cm.shape[0]), range(cm.shape[1])):\n",
    "            ax.text(j, i, format(cm[i, j], fmt),\n",
    "                    horizontalalignment=\"center\",\n",
    "                    color=\"white\" if cm[i, j] > thresh else \"black\")\n",
    "            \n",
    "    fig, (ax1, ax2) = plt.subplots(nrows=1, ncols=2, figsize=(30, 15))\n",
    "            \n",
    "    plot_cm(ax1, cm_train, title='train')\n",
    "    plot_cm(ax2, cm_test, title='test', draw_y=False)\n",
    "    plt.subplots_adjust(wspace=0.05)\n",
    "    \n",
    "    if savefig is not None:\n",
    "        plt.savefig(savefig)"
   ]
  },
  {
   "cell_type": "code",
   "execution_count": null,
   "metadata": {
    "ExecuteTime": {
     "end_time": "2018-08-29T10:21:26.977887Z",
     "start_time": "2018-08-29T10:21:20.360118Z"
    },
    "scrolled": false
   },
   "outputs": [],
   "source": [
    "plot_corr_matrix(train_corr, test_corr, names, savefig='corr.svg')"
   ]
  },
  {
   "cell_type": "code",
   "execution_count": null,
   "metadata": {
    "ExecuteTime": {
     "end_time": "2018-08-29T10:21:26.983077Z",
     "start_time": "2018-08-29T10:21:26.979606Z"
    }
   },
   "outputs": [],
   "source": [
    "from IPython.display import FileLink\n",
    "FileLink('./corr.svg')"
   ]
  },
  {
   "cell_type": "code",
   "execution_count": null,
   "metadata": {},
   "outputs": [],
   "source": []
  }
 ],
 "metadata": {
  "kernelspec": {
   "display_name": "Python 3",
   "language": "python",
   "name": "python3"
  },
  "language_info": {
   "codemirror_mode": {
    "name": "ipython",
    "version": 3
   },
   "file_extension": ".py",
   "mimetype": "text/x-python",
   "name": "python",
   "nbconvert_exporter": "python",
   "pygments_lexer": "ipython3",
   "version": "3.6.5"
  },
  "latex_envs": {
   "LaTeX_envs_menu_present": true,
   "autoclose": false,
   "autocomplete": true,
   "bibliofile": "biblio.bib",
   "cite_by": "apalike",
   "current_citInitial": 1,
   "eqLabelWithNumbers": true,
   "eqNumInitial": 1,
   "hotkeys": {
    "equation": "Ctrl-E",
    "itemize": "Ctrl-I"
   },
   "labels_anchors": false,
   "latex_user_defs": false,
   "report_style_numbering": false,
   "user_envs_cfg": false
  }
 },
 "nbformat": 4,
 "nbformat_minor": 2
}
