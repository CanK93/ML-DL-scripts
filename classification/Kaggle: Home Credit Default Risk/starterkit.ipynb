{
 "cells": [
  {
   "cell_type": "code",
   "execution_count": 1,
   "metadata": {
    "ExecuteTime": {
     "end_time": "2018-07-26T14:42:38.143707Z",
     "start_time": "2018-07-26T14:42:38.136572Z"
    }
   },
   "outputs": [],
   "source": [
    "import os\n",
    "\n",
    "import pandas as pd\n",
    "import numpy as np\n",
    "\n",
    "from sklearn.metrics import roc_auc_score\n",
    "from sklearn.model_selection import cross_val_score, StratifiedKFold\n",
    "from sklearn.preprocessing import LabelEncoder\n",
    "\n",
    "import lightgbm as lgb\n",
    "\n",
    "from collections import Counter\n",
    "\n",
    "import joblib"
   ]
  },
  {
   "cell_type": "code",
   "execution_count": 2,
   "metadata": {},
   "outputs": [],
   "source": [
    "DATA_DIR = '../../hcdr_data/'\n",
    "FOLDS_PATH = './folds.pkl'"
   ]
  },
  {
   "cell_type": "code",
   "execution_count": 3,
   "metadata": {
    "ExecuteTime": {
     "end_time": "2018-07-26T14:34:27.474743Z",
     "start_time": "2018-07-26T14:33:08.051578Z"
    }
   },
   "outputs": [],
   "source": [
    "application_train = pd.read_csv(os.path.join(DATA_DIR, 'application_train.csv'))\n",
    "application_test = pd.read_csv(os.path.join(DATA_DIR, 'application_test.csv'))\n",
    "                               \n",
    "# bureau = pd.read_csv('bureau.csv')\n",
    "# bureau_balance = pd.read_csv(os.path.join(DATA_DIR, 'bureau_balance.csv'))\n",
    "# pos_cash_balance = pd.read_csv(os.path.join(DATA_DIR, 'POS_CASH_balance.csv'))\n",
    "# credit_card_balance = pd.read_csv(os.path.join(DATA_DIR, 'credit_card_balance.csv'))\n",
    "# previous_application = pd.read_csv(os.path.join(DATA_DIR, 'previous_application.csv'))\n",
    "# installments_payments = pd.read_csv(os.path.join(DATA_DIR, 'installments_payments.csv'))"
   ]
  },
  {
   "cell_type": "code",
   "execution_count": 4,
   "metadata": {},
   "outputs": [],
   "source": [
    "if FOLDS_PATH is None:\n",
    "    FOLDS_PATH = './folds.pkl'\n",
    "    \n",
    "    folds = StratifiedKFold(n_splits=10, shuffle=True, random_state=42)\n",
    "\n",
    "    folds_idx = [(train_idx, val_idx) \n",
    "                 for train_idx, val_idx in folds.split(application_train, y=application_train['TARGET'])]\n",
    "\n",
    "    joblib.dump(folds_idx, FOLDS_PATH)\n",
    "    \n",
    "folds_idx = joblib.load(FOLDS_PATH)"
   ]
  },
  {
   "cell_type": "code",
   "execution_count": 5,
   "metadata": {},
   "outputs": [],
   "source": [
    "train_df = application_train\n",
    "test_df = application_test\n",
    "\n",
    "features = [col \n",
    "            for col in train_df.columns[2:] \n",
    "            if train_df.dtypes[col] in (int, float)]"
   ]
  },
  {
   "cell_type": "code",
   "execution_count": 6,
   "metadata": {},
   "outputs": [],
   "source": [
    "def get_model():\n",
    "    return lgb.LGBMClassifier(nthread=4)"
   ]
  },
  {
   "cell_type": "code",
   "execution_count": 7,
   "metadata": {
    "ExecuteTime": {
     "end_time": "2018-07-26T14:55:59.815565Z",
     "start_time": "2018-07-26T14:55:18.033577Z"
    }
   },
   "outputs": [
    {
     "name": "stdout",
     "output_type": "stream",
     "text": [
      "Training until validation scores don't improve for 100 rounds.\n",
      "[100]\ttraining's auc: 0.792876\tvalid_1's auc: 0.753894\n",
      "Did not meet early stopping. Best iteration is:\n",
      "[100]\ttraining's auc: 0.792876\tvalid_1's auc: 0.753894\n",
      "Fold  1 AUC : 0.753894\n",
      "Training until validation scores don't improve for 100 rounds.\n",
      "[100]\ttraining's auc: 0.792793\tvalid_1's auc: 0.746623\n",
      "Did not meet early stopping. Best iteration is:\n",
      "[100]\ttraining's auc: 0.792793\tvalid_1's auc: 0.746623\n",
      "Fold  2 AUC : 0.746623\n",
      "Training until validation scores don't improve for 100 rounds.\n",
      "[100]\ttraining's auc: 0.791736\tvalid_1's auc: 0.751605\n",
      "Did not meet early stopping. Best iteration is:\n",
      "[100]\ttraining's auc: 0.791736\tvalid_1's auc: 0.751605\n",
      "Fold  3 AUC : 0.751605\n",
      "Training until validation scores don't improve for 100 rounds.\n",
      "[100]\ttraining's auc: 0.792275\tvalid_1's auc: 0.752933\n",
      "Did not meet early stopping. Best iteration is:\n",
      "[100]\ttraining's auc: 0.792275\tvalid_1's auc: 0.752933\n",
      "Fold  4 AUC : 0.752933\n",
      "Training until validation scores don't improve for 100 rounds.\n",
      "[100]\ttraining's auc: 0.792586\tvalid_1's auc: 0.752032\n",
      "Did not meet early stopping. Best iteration is:\n",
      "[100]\ttraining's auc: 0.792586\tvalid_1's auc: 0.752032\n",
      "Fold  5 AUC : 0.752032\n",
      "Training until validation scores don't improve for 100 rounds.\n",
      "[100]\ttraining's auc: 0.791195\tvalid_1's auc: 0.757011\n",
      "Did not meet early stopping. Best iteration is:\n",
      "[100]\ttraining's auc: 0.791195\tvalid_1's auc: 0.757011\n",
      "Fold  6 AUC : 0.757011\n",
      "Training until validation scores don't improve for 100 rounds.\n",
      "[100]\ttraining's auc: 0.791961\tvalid_1's auc: 0.756533\n",
      "Did not meet early stopping. Best iteration is:\n",
      "[100]\ttraining's auc: 0.791961\tvalid_1's auc: 0.756533\n",
      "Fold  7 AUC : 0.756533\n",
      "Training until validation scores don't improve for 100 rounds.\n",
      "[100]\ttraining's auc: 0.792759\tvalid_1's auc: 0.745905\n",
      "Did not meet early stopping. Best iteration is:\n",
      "[100]\ttraining's auc: 0.792759\tvalid_1's auc: 0.745905\n",
      "Fold  8 AUC : 0.745905\n",
      "Training until validation scores don't improve for 100 rounds.\n",
      "[100]\ttraining's auc: 0.79192\tvalid_1's auc: 0.757058\n",
      "Did not meet early stopping. Best iteration is:\n",
      "[100]\ttraining's auc: 0.79192\tvalid_1's auc: 0.757058\n",
      "Fold  9 AUC : 0.757058\n",
      "Training until validation scores don't improve for 100 rounds.\n",
      "[100]\ttraining's auc: 0.793092\tvalid_1's auc: 0.745861\n",
      "Did not meet early stopping. Best iteration is:\n",
      "[100]\ttraining's auc: 0.793092\tvalid_1's auc: 0.745861\n",
      "Fold 10 AUC : 0.745861\n",
      "\n",
      " 0.7519456456827782 0.004237515231585296 0.751920904144396\n"
     ]
    }
   ],
   "source": [
    "# Create arrays and dataframes to store results\n",
    "oof_preds = np.zeros(train_df.shape[0])\n",
    "test_preds = []\n",
    "final_preds = np.zeros(test_df.shape[0])\n",
    "auc_scores = []\n",
    "    \n",
    "for n_fold, (train_idx, valid_idx) in enumerate(folds_idx):\n",
    "    train_x, train_y = train_df[features].iloc[train_idx], train_df['TARGET'].iloc[train_idx]\n",
    "    valid_x, valid_y = train_df[features].iloc[valid_idx], train_df['TARGET'].iloc[valid_idx]\n",
    "    \n",
    "    clf = get_model()\n",
    "    \n",
    "    clf.fit(train_x, train_y, \n",
    "            eval_set=[(train_x, train_y), (valid_x, valid_y)], \n",
    "            eval_metric='auc', verbose=100, early_stopping_rounds=100)\n",
    "    \n",
    "    oof_preds[valid_idx] = clf.predict_proba(valid_x, num_iteration=clf.best_iteration_)[:, 1]\n",
    "    y_pred = clf.predict_proba(test_df[features], num_iteration=clf.best_iteration_)[:, 1]\n",
    "    final_preds += pd.Series(y_pred).rank().values\n",
    "    test_preds.append(y_pred)\n",
    "    auc_scores.append(roc_auc_score(valid_y, oof_preds[valid_idx]))\n",
    "    \n",
    "    print('Fold %2d AUC : %.6f' % (n_fold + 1, auc_scores[-1]))\n",
    "    \n",
    "print(\"\\n\", np.mean(auc_scores), np.std(auc_scores), roc_auc_score(train_df['TARGET'], oof_preds))\n",
    "\n",
    "final_preds /= final_preds.max()"
   ]
  },
  {
   "cell_type": "code",
   "execution_count": 10,
   "metadata": {
    "ExecuteTime": {
     "end_time": "2018-07-06T15:43:34.590555Z",
     "start_time": "2018-07-06T15:43:32.037536Z"
    }
   },
   "outputs": [
    {
     "data": {
      "text/plain": [
       "['./tenich_lgb_cv07519_std_0004.pkl']"
      ]
     },
     "execution_count": 10,
     "metadata": {},
     "output_type": "execute_result"
    }
   ],
   "source": [
    "sub = pd.DataFrame({'SK_ID_CURR': test_df['SK_ID_CURR'],\n",
    "                    'TARGET': final_preds})\n",
    "sub.to_csv('./tenich_lgb_cv07519_std_0004.csv', index=None)\n",
    "\n",
    "for_blending = {'train': oof_preds,\n",
    "                'test': test_preds}\n",
    "joblib.dump(for_blending, './tenich_lgb_cv07519_std_0004.pkl')"
   ]
  },
  {
   "cell_type": "code",
   "execution_count": 11,
   "metadata": {},
   "outputs": [
    {
     "name": "stdout",
     "output_type": "stream",
     "text": [
      "folds.pkl\t  submit.csv\t    tenich_lgb_cv07519_std_0004.csv\r\n",
      "starterkit.ipynb  tenich_lgb_07519  tenich_lgb_cv07519_std_0004.pkl\r\n"
     ]
    }
   ],
   "source": [
    "!ls"
   ]
  }
 ],
 "metadata": {
  "kernelspec": {
   "display_name": "Python 3",
   "language": "python",
   "name": "python3"
  },
  "language_info": {
   "codemirror_mode": {
    "name": "ipython",
    "version": 3
   },
   "file_extension": ".py",
   "mimetype": "text/x-python",
   "name": "python",
   "nbconvert_exporter": "python",
   "pygments_lexer": "ipython3",
   "version": "3.6.5"
  },
  "latex_envs": {
   "LaTeX_envs_menu_present": true,
   "autoclose": false,
   "autocomplete": true,
   "bibliofile": "biblio.bib",
   "cite_by": "apalike",
   "current_citInitial": 1,
   "eqLabelWithNumbers": true,
   "eqNumInitial": 1,
   "hotkeys": {
    "equation": "Ctrl-E",
    "itemize": "Ctrl-I"
   },
   "labels_anchors": false,
   "latex_user_defs": false,
   "report_style_numbering": false,
   "user_envs_cfg": false
  }
 },
 "nbformat": 4,
 "nbformat_minor": 2
}
