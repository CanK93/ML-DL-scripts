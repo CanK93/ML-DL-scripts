{
 "cells": [
  {
   "cell_type": "code",
   "execution_count": 1,
   "metadata": {
    "ExecuteTime": {
     "end_time": "2018-11-28T08:48:56.259658Z",
     "start_time": "2018-11-28T08:48:55.368745Z"
    }
   },
   "outputs": [],
   "source": [
    "import pandas as pd\n",
    "import seaborn as sns\n",
    "import matplotlib.pyplot as plt\n",
    "from tqdm import tqdm\n",
    "from sklearn.linear_model import LogisticRegression\n",
    "from sklearn.model_selection import GridSearchCV\n",
    "from sklearn.metrics import roc_auc_score\n",
    "from sklearn.preprocessing import MinMaxScaler\n",
    "import lightgbm as lgb\n",
    "import numpy as np\n",
    "import warnings\n",
    "from sklearn.model_selection import cross_val_score, StratifiedKFold\n",
    "def fxn():\n",
    "    warnings.warn(\"deprecated\", DeprecationWarning)\n",
    "with warnings.catch_warnings():\n",
    "    warnings.simplefilter(\"ignore\")\n",
    "    fxn()\n",
    "warnings.filterwarnings(\"ignore\")\n",
    "%matplotlib inline"
   ]
  },
  {
   "cell_type": "code",
   "execution_count": 2,
   "metadata": {
    "ExecuteTime": {
     "end_time": "2018-11-28T08:48:56.736896Z",
     "start_time": "2018-11-28T08:48:56.666711Z"
    }
   },
   "outputs": [],
   "source": [
    "df = pd.read_csv('train.csv', encoding = \"utf-8\", sep = '\\t', decimal = ',')\n",
    "test = pd.read_csv('test.csv', encoding = \"utf-8\", sep = '\\t', decimal = ',')\n",
    "\n",
    "for col in df.select_dtypes(include=['object']).columns:\n",
    "    if col != 'y':\n",
    "        df[col] = df[col].astype('category')\n",
    "        test[col] =  test[col].astype('category')\n",
    "        \n",
    "df['target'] = 0\n",
    "df.loc[df.y == 'yes', 'target'] = 1\n",
    "df.drop('y', axis = 1, inplace = True)\n",
    "\n",
    "feat = ['age',\n",
    " 'job',\n",
    " 'marital',\n",
    " 'education',\n",
    " 'default',\n",
    " 'housing',\n",
    " 'loan',\n",
    " 'contact',\n",
    " 'month',\n",
    " 'day_of_week',\n",
    " 'duration',\n",
    " 'campaign',\n",
    " 'pdays',\n",
    " 'previous',\n",
    " 'poutcome',\n",
    " 'emp.var.rate',\n",
    " 'cons.price.idx',\n",
    " 'cons.conf.idx',\n",
    " 'euribor3m',\n",
    " 'nr.employed']"
   ]
  },
  {
   "cell_type": "markdown",
   "metadata": {},
   "source": [
    "Обучим на 10 страт. фолдах, качество усредним"
   ]
  },
  {
   "cell_type": "code",
   "execution_count": 3,
   "metadata": {
    "ExecuteTime": {
     "end_time": "2018-11-28T08:49:01.781374Z",
     "start_time": "2018-11-28T08:49:01.761293Z"
    }
   },
   "outputs": [],
   "source": [
    "def get_model():\n",
    "    return lgb.LGBMClassifier(nthread=4, boosting_type= 'gbdt', is_unbalance= True,random_state = 42,\n",
    "            learning_rate= 0.1, max_depth= 3, reg_lambda=0.1 , reg_alpha= 0.01, min_child_samples= 20, \n",
    "            metric= 'auc', n_estimators= 5000)  \n",
    "def display_importances(feature_importance_df_):\n",
    "    cols = feature_importance_df_[[\"feature\", \"importance\"]].groupby(\"feature\").mean().sort_values(by=\"importance\", ascending=False)[:40].index\n",
    "    best_features = feature_importance_df_.loc[feature_importance_df_.feature.isin(cols)]\n",
    "    plt.figure(figsize=(8, 10))\n",
    "    sns.barplot(x=\"importance\", y=\"feature\", data=best_features.sort_values(by=\"importance\", ascending=False))\n",
    "    plt.title('LightGBM Features (avg over folds)')\n",
    "    plt.tight_layout()\n",
    "    #plt.savefig('lgbm_importances01.png')\n",
    "feature_importance_df = pd.DataFrame()\n",
    "folds = StratifiedKFold(n_splits=5, shuffle=True, random_state=42)\n",
    "folds_idx = [(train_idx, val_idx) for train_idx, val_idx in folds.split(df[feat], y=df['target'])]"
   ]
  },
  {
   "cell_type": "code",
   "execution_count": 4,
   "metadata": {
    "ExecuteTime": {
     "end_time": "2018-11-28T08:49:08.950195Z",
     "start_time": "2018-11-28T08:49:07.555489Z"
    }
   },
   "outputs": [
    {
     "name": "stdout",
     "output_type": "stream",
     "text": [
      "Fold  1 AUC : 0.947397\n",
      "Fold  2 AUC : 0.917245\n",
      "Fold  3 AUC : 0.935278\n",
      "Fold  4 AUC : 0.944007\n",
      "Fold  5 AUC : 0.933615\n",
      "AUC: 0.9355085696267202 std: 0.010495146154016767\n"
     ]
    },
    {
     "data": {
      "image/png": "[encoded data removed]",
      "text/plain": [
       "<Figure size 576x720 with 1 Axes>"
      ]
     },
     "metadata": {},
     "output_type": "display_data"
    }
   ],
   "source": [
    "auc_scores = []\n",
    "oof_preds = np.zeros(df[feat].shape[0])\n",
    "test_preds = []\n",
    "final_preds = np.zeros(test.shape[0])\n",
    "for n_fold, (train_idx, valid_idx) in enumerate(folds_idx):\n",
    "\n",
    "    train_x, train_y = df[feat].iloc[train_idx], df['target'].iloc[train_idx]\n",
    "    valid_x, valid_y = df[feat].iloc[valid_idx], df['target'].iloc[valid_idx]\n",
    "    \n",
    "    clf = get_model()\n",
    "    clf.fit(train_x, train_y, \n",
    "            eval_set=[(train_x, train_y), (valid_x, valid_y)], \n",
    "            eval_metric='auc', verbose=False, early_stopping_rounds=200)\n",
    "       \n",
    "    oof_preds[valid_idx] = clf.predict_proba(valid_x)[:, 1]   \n",
    "    auc_scores.append(roc_auc_score(valid_y, oof_preds[valid_idx]))\n",
    "    y_pred = clf.predict_proba(test[feat], num_iteration=clf.best_iteration_)[:, 1]\n",
    "    final_preds += y_pred\n",
    "    fold_importance_df = pd.DataFrame()\n",
    "    fold_importance_df[\"feature\"] = feat\n",
    "    fold_importance_df[\"importance\"] = clf.feature_importances_\n",
    "    fold_importance_df[\"fold\"] = n_fold + 1\n",
    "    \n",
    "    feature_importance_df = pd.concat([feature_importance_df, fold_importance_df], axis=0)\n",
    "    print('Fold %2d AUC : %.6f' % (n_fold + 1, auc_scores[-1]))\n",
    "print( 'AUC:', np.mean(auc_scores), 'std:', np.std(auc_scores))\n",
    "final_preds = final_preds/5\n",
    "display_importances(feature_importance_df)"
   ]
  },
  {
   "cell_type": "markdown",
   "metadata": {},
   "source": [
    "Проверим фичи с помощью null permutation test. Отберем фичи"
   ]
  },
  {
   "cell_type": "code",
   "execution_count": 5,
   "metadata": {
    "ExecuteTime": {
     "end_time": "2018-11-28T08:49:26.530091Z",
     "start_time": "2018-11-28T08:49:20.434924Z"
    }
   },
   "outputs": [
    {
     "name": "stdout",
     "output_type": "stream",
     "text": [
      "deleted:  8 , kept:  12\n"
     ]
    }
   ],
   "source": [
    "keep = 0; delet_feat = 0; num_fold = 5;\n",
    "to_refit = True\n",
    "trun_feat = feat.copy()\n",
    "for val in feat:\n",
    "    #print(val)\n",
    "    auc_scores = []; auc_scores_wo = [];\n",
    "    for n_fold, (train_idx, valid_idx) in enumerate(folds_idx):\n",
    "        train_x, train_y2 = df[trun_feat].iloc[train_idx], df['target'].iloc[train_idx]\n",
    "        valid_x, valid_y = df[trun_feat].iloc[valid_idx], df['target'].iloc[valid_idx]\n",
    "        if to_refit:\n",
    "            clf = get_model()\n",
    "            clf.fit(train_x, train_y2, \n",
    "                    eval_set=[(train_x, train_y2), (valid_x, valid_y)], \n",
    "                    eval_metric='auc', verbose=False, early_stopping_rounds=100)        \n",
    "        auc_scores.append(roc_auc_score(valid_y, clf.predict_proba(valid_x)[:, 1]))\n",
    "        valid_x_null = valid_x.copy()\n",
    "        valid_x_null[val] = np.NaN\n",
    "        if val in train_x.select_dtypes(include=['category']).columns:\n",
    "            valid_x_null[val] = valid_x_null[val].astype('category')\n",
    "        auc_scores_wo.append(roc_auc_score(valid_y, clf.predict_proba(valid_x_null)[:, 1]))\n",
    "        \n",
    "    auc_w = np.mean(auc_scores);  auc_wo = np.mean(auc_scores_wo);\n",
    "    if  auc_w - auc_wo <= 0.001:     \n",
    "        #print('Deleted feature: ', val, '. Diff AUC:', auc_w - auc_wo)\n",
    "        delet_feat +=1\n",
    "        to_refit = True\n",
    "        trun_feat.remove(val) \n",
    "    else:\n",
    "        #print( val, 'wAUC: ', auc_w, ' woAUC: ', auc_wo ,auc_w - auc_wo, \"keep\")\n",
    "        to_refit = False\n",
    "        keep += 1\n",
    "print('deleted:', delet_feat,', kept: ' , keep)"
   ]
  },
  {
   "cell_type": "markdown",
   "metadata": {
    "ExecuteTime": {
     "end_time": "2018-11-28T08:37:29.018679Z",
     "start_time": "2018-11-28T08:37:29.015703Z"
    }
   },
   "source": [
    "Добавим агрегаций по  средним показателям топ признака *duration* для топ категорий. Сделаем отбор как выше"
   ]
  },
  {
   "cell_type": "code",
   "execution_count": 6,
   "metadata": {
    "ExecuteTime": {
     "end_time": "2018-11-28T08:50:29.473089Z",
     "start_time": "2018-11-28T08:50:29.389841Z"
    }
   },
   "outputs": [],
   "source": [
    "total = df.append(test)\n",
    "agr1 = total[['duration', 'job', 'month']].groupby(['month'], as_index=False).agg(['mean']) \n",
    "agr2 = total[['duration', 'job', 'month']].groupby(['job'], as_index=False).agg(['mean']) \n",
    "agr1.columns = ['month_mean_duration']; agr2.columns = ['job_mean_duration'];\n",
    "\n",
    "df = df.merge(agr1, how = 'inner', left_on='month', right_index = True)\n",
    "test = test.merge(agr1, how = 'inner', left_on='month', right_index = True)\n",
    "df = df.merge(agr2, how = 'inner', left_on='job', right_index = True)\n",
    "test = test.merge(agr2, how = 'inner', left_on='job', right_index = True)\n",
    "\n",
    "df['durat-job_mean_duration'] = df['duration'] - df['job_mean_duration']\n",
    "df['durat-month_mean_duration'] = df['duration'] - df['month_mean_duration']\n",
    "test['durat-job_mean_duration'] = test['duration'] - test['job_mean_duration']\n",
    "test['durat-month_mean_duration'] = test['duration'] - test['month_mean_duration']\n",
    "addit_feat  = ['durat-job_mean_duration', 'month_mean_duration', 'job_mean_duration', 'month_mean_duration']\n",
    "for val in addit_feat: trun_feat.append(val)\n",
    "    \n",
    "trun_feat = ['job',\n",
    " 'contact',\n",
    " 'month',\n",
    " 'duration',\n",
    " 'pdays',\n",
    " 'emp.var.rate',\n",
    " 'euribor3m',\n",
    " 'durat-job_mean_duration']"
   ]
  },
  {
   "cell_type": "markdown",
   "metadata": {
    "ExecuteTime": {
     "end_time": "2018-11-27T16:42:26.820878Z",
     "start_time": "2018-11-27T16:42:26.816867Z"
    }
   },
   "source": [
    "Обучим модель на оставшихся признаках и сделаем предикты"
   ]
  },
  {
   "cell_type": "code",
   "execution_count": 17,
   "metadata": {
    "ExecuteTime": {
     "end_time": "2018-11-28T08:53:43.547474Z",
     "start_time": "2018-11-28T08:53:42.750360Z"
    },
    "scrolled": true
   },
   "outputs": [
    {
     "name": "stdout",
     "output_type": "stream",
     "text": [
      "Fold  1 AUC : 0.927136\n",
      "Fold  2 AUC : 0.938165\n",
      "Fold  3 AUC : 0.935679\n",
      "Fold  4 AUC : 0.942089\n",
      "Fold  5 AUC : 0.949240\n",
      "AUC: 0.9384617712956753 std: 0.007285998519244323\n"
     ]
    }
   ],
   "source": [
    "def get_model():\n",
    "    return lgb.LGBMClassifier(nthread=4, boosting_type= 'gbdt', is_unbalance= True,random_state = 42,\n",
    "            learning_rate= 0.1, max_depth= 4, reg_lambda=0.1 , reg_alpha= 0.03, min_child_samples= 20, \n",
    "            metric= 'auc', n_estimators= 5000)  \n",
    "feat = trun_feat\n",
    "feature_importance_df = pd.DataFrame()\n",
    "folds = StratifiedKFold(n_splits=5, shuffle=True, random_state=42)\n",
    "folds_idx = [(train_idx, val_idx) for train_idx, val_idx in folds.split(df[feat], y=df['target'])]\n",
    "auc_scores = []\n",
    "oof_preds = np.zeros(df[feat].shape[0])\n",
    "test_preds = []\n",
    "final_preds = np.zeros(test.shape[0])\n",
    "for n_fold, (train_idx, valid_idx) in enumerate(folds_idx):\n",
    "\n",
    "    train_x, train_y = df[feat].iloc[train_idx], df['target'].iloc[train_idx]\n",
    "    valid_x, valid_y = df[feat].iloc[valid_idx], df['target'].iloc[valid_idx]\n",
    "    \n",
    "    clf = get_model()\n",
    "    clf.fit(train_x, train_y, \n",
    "            eval_set=[(train_x, train_y), (valid_x, valid_y)], \n",
    "            eval_metric='auc', verbose=False, early_stopping_rounds=200)\n",
    "       \n",
    "    oof_preds[valid_idx] = clf.predict_proba(valid_x)[:, 1]   \n",
    "    auc_scores.append(roc_auc_score(valid_y, oof_preds[valid_idx]))\n",
    "    y_pred = clf.predict_proba(test[feat], num_iteration=clf.best_iteration_)[:, 1]\n",
    "    final_preds += y_pred\n",
    "    fold_importance_df = pd.DataFrame()\n",
    "    fold_importance_df[\"feature\"] = feat\n",
    "    fold_importance_df[\"importance\"] = clf.feature_importances_\n",
    "    fold_importance_df[\"fold\"] = n_fold + 1\n",
    "    \n",
    "    feature_importance_df = pd.concat([feature_importance_df, fold_importance_df], axis=0)\n",
    "    print('Fold %2d AUC : %.6f' % (n_fold + 1, auc_scores[-1]))\n",
    "print( 'AUC:', np.mean(auc_scores), 'std:', np.std(auc_scores))\n",
    "final_preds = final_preds/5\n",
    "#display_importances(feature_importance_df)\n",
    "\n",
    "preds = pd.DataFrame({'ID': test.index, 'y': final_preds})\n",
    "preds.to_csv('predicts.csv', index=None, decimal=',', header=True)"
   ]
  },
  {
   "cell_type": "code",
   "execution_count": null,
   "metadata": {},
   "outputs": [],
   "source": [
    "Уменьшили std, увеличили AUC"
   ]
  }
 ],
 "metadata": {
  "kernelspec": {
   "display_name": "Python 3",
   "language": "python",
   "name": "python3"
  },
  "language_info": {
   "codemirror_mode": {
    "name": "ipython",
    "version": 3
   },
   "file_extension": ".py",
   "mimetype": "text/x-python",
   "name": "python",
   "nbconvert_exporter": "python",
   "pygments_lexer": "ipython3",
   "version": "3.6.4"
  },
  "varInspector": {
   "cols": {
    "lenName": 16,
    "lenType": 16,
    "lenVar": 40
   },
   "kernels_config": {
    "python": {
     "delete_cmd_postfix": "",
     "delete_cmd_prefix": "del ",
     "library": "var_list.py",
     "varRefreshCmd": "print(var_dic_list())"
    },
    "r": {
     "delete_cmd_postfix": ") ",
     "delete_cmd_prefix": "rm(",
     "library": "var_list.r",
     "varRefreshCmd": "cat(var_dic_list()) "
    }
   },
   "types_to_exclude": [
    "module",
    "function",
    "builtin_function_or_method",
    "instance",
    "_Feature"
   ],
   "window_display": false
  }
 },
 "nbformat": 4,
 "nbformat_minor": 2
}
