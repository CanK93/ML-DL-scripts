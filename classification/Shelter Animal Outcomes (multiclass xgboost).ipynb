{
 "cells": [
  {
   "cell_type": "code",
   "execution_count": 1,
   "metadata": {},
   "outputs": [],
   "source": [
    "import numpy as np\n",
    "import pandas as pd\n",
    "import xgboost as xgb\n",
    "from sklearn.cross_validation import train_test_split"
   ]
  },
  {
   "cell_type": "code",
   "execution_count": 2,
   "metadata": {},
   "outputs": [
    {
     "data": {
      "text/html": [
       "<div>\n",
       "<table border=\"1\" class=\"dataframe\">\n",
       "  <thead>\n",
       "    <tr style=\"text-align: right;\">\n",
       "      <th></th>\n",
       "      <th>AnimalID</th>\n",
       "      <th>Name</th>\n",
       "      <th>DateTime</th>\n",
       "      <th>OutcomeType</th>\n",
       "      <th>OutcomeSubtype</th>\n",
       "      <th>AnimalType</th>\n",
       "      <th>SexuponOutcome</th>\n",
       "      <th>AgeuponOutcome</th>\n",
       "      <th>Breed</th>\n",
       "      <th>Color</th>\n",
       "    </tr>\n",
       "  </thead>\n",
       "  <tbody>\n",
       "    <tr>\n",
       "      <th>0</th>\n",
       "      <td>A671945</td>\n",
       "      <td>Hambone</td>\n",
       "      <td>2014-02-12 18:22:00</td>\n",
       "      <td>Return_to_owner</td>\n",
       "      <td>NaN</td>\n",
       "      <td>Dog</td>\n",
       "      <td>Neutered Male</td>\n",
       "      <td>1 year</td>\n",
       "      <td>Shetland Sheepdog Mix</td>\n",
       "      <td>Brown/White</td>\n",
       "    </tr>\n",
       "    <tr>\n",
       "      <th>1</th>\n",
       "      <td>A656520</td>\n",
       "      <td>Emily</td>\n",
       "      <td>2013-10-13 12:44:00</td>\n",
       "      <td>Euthanasia</td>\n",
       "      <td>Suffering</td>\n",
       "      <td>Cat</td>\n",
       "      <td>Spayed Female</td>\n",
       "      <td>1 year</td>\n",
       "      <td>Domestic Shorthair Mix</td>\n",
       "      <td>Cream Tabby</td>\n",
       "    </tr>\n",
       "    <tr>\n",
       "      <th>2</th>\n",
       "      <td>A686464</td>\n",
       "      <td>Pearce</td>\n",
       "      <td>2015-01-31 12:28:00</td>\n",
       "      <td>Adoption</td>\n",
       "      <td>Foster</td>\n",
       "      <td>Dog</td>\n",
       "      <td>Neutered Male</td>\n",
       "      <td>2 years</td>\n",
       "      <td>Pit Bull Mix</td>\n",
       "      <td>Blue/White</td>\n",
       "    </tr>\n",
       "    <tr>\n",
       "      <th>3</th>\n",
       "      <td>A683430</td>\n",
       "      <td>NaN</td>\n",
       "      <td>2014-07-11 19:09:00</td>\n",
       "      <td>Transfer</td>\n",
       "      <td>Partner</td>\n",
       "      <td>Cat</td>\n",
       "      <td>Intact Male</td>\n",
       "      <td>3 weeks</td>\n",
       "      <td>Domestic Shorthair Mix</td>\n",
       "      <td>Blue Cream</td>\n",
       "    </tr>\n",
       "    <tr>\n",
       "      <th>4</th>\n",
       "      <td>A667013</td>\n",
       "      <td>NaN</td>\n",
       "      <td>2013-11-15 12:52:00</td>\n",
       "      <td>Transfer</td>\n",
       "      <td>Partner</td>\n",
       "      <td>Dog</td>\n",
       "      <td>Neutered Male</td>\n",
       "      <td>2 years</td>\n",
       "      <td>Lhasa Apso/Miniature Poodle</td>\n",
       "      <td>Tan</td>\n",
       "    </tr>\n",
       "  </tbody>\n",
       "</table>\n",
       "</div>"
      ],
      "text/plain": [
       "  AnimalID     Name             DateTime      OutcomeType OutcomeSubtype  \\\n",
       "0  A671945  Hambone  2014-02-12 18:22:00  Return_to_owner            NaN   \n",
       "1  A656520    Emily  2013-10-13 12:44:00       Euthanasia      Suffering   \n",
       "2  A686464   Pearce  2015-01-31 12:28:00         Adoption         Foster   \n",
       "3  A683430      NaN  2014-07-11 19:09:00         Transfer        Partner   \n",
       "4  A667013      NaN  2013-11-15 12:52:00         Transfer        Partner   \n",
       "\n",
       "  AnimalType SexuponOutcome AgeuponOutcome                        Breed  \\\n",
       "0        Dog  Neutered Male         1 year        Shetland Sheepdog Mix   \n",
       "1        Cat  Spayed Female         1 year       Domestic Shorthair Mix   \n",
       "2        Dog  Neutered Male        2 years                 Pit Bull Mix   \n",
       "3        Cat    Intact Male        3 weeks       Domestic Shorthair Mix   \n",
       "4        Dog  Neutered Male        2 years  Lhasa Apso/Miniature Poodle   \n",
       "\n",
       "         Color  \n",
       "0  Brown/White  \n",
       "1  Cream Tabby  \n",
       "2   Blue/White  \n",
       "3   Blue Cream  \n",
       "4          Tan  "
      ]
     },
     "execution_count": 2,
     "metadata": {},
     "output_type": "execute_result"
    }
   ],
   "source": [
    "train = pd.read_csv(\"train.csv\")\n",
    "test = pd.read_csv(\"test.csv\")\n",
    "\n",
    "train.head(5)"
   ]
  },
  {
   "cell_type": "code",
   "execution_count": 3,
   "metadata": {},
   "outputs": [],
   "source": [
    "id_test = test['ID'].values # savind id column for later use\n",
    "test = test.drop(['ID'],axis=1)"
   ]
  },
  {
   "cell_type": "code",
   "execution_count": 4,
   "metadata": {},
   "outputs": [],
   "source": [
    "train = train.drop(['AnimalID'],axis=1)"
   ]
  },
  {
   "cell_type": "code",
   "execution_count": 5,
   "metadata": {
    "collapsed": true
   },
   "outputs": [],
   "source": [
    "# fix the DateTime column\n",
    "\n",
    "def fix_date_time(df):\n",
    "    def extract_field(_df, start, stop):\n",
    "        return _df['DateTime'].map(lambda dt: int(dt[start:stop]))\n",
    "    df['Year'] = extract_field(df,0,4)\n",
    "    df['Month'] = extract_field(df,5,7)\n",
    "    df['Day'] = extract_field(df,8,10)\n",
    "    df['Hour'] = extract_field(df,11,13)\n",
    "    df['Minute'] = extract_field(df,14,16)\n",
    "    \n",
    "    return df.drop(['DateTime'], axis = 1)\n",
    "\n",
    "train = fix_date_time(train)\n",
    "test = fix_date_time(test)"
   ]
  },
  {
   "cell_type": "code",
   "execution_count": 6,
   "metadata": {},
   "outputs": [
    {
     "name": "stdout",
     "output_type": "stream",
     "text": [
      "      Name      OutcomeType OutcomeSubtype AnimalType SexuponOutcome  \\\n",
      "0  Hambone  Return_to_owner            NaN        Dog  Neutered Male   \n",
      "1    Emily       Euthanasia      Suffering        Cat  Spayed Female   \n",
      "2   Pearce         Adoption         Foster        Dog  Neutered Male   \n",
      "3      NaN         Transfer        Partner        Cat    Intact Male   \n",
      "4      NaN         Transfer        Partner        Dog  Neutered Male   \n",
      "\n",
      "  AgeuponOutcome                        Breed        Color  Year  Month  Day  \\\n",
      "0         1 year        Shetland Sheepdog Mix  Brown/White  2014      2   12   \n",
      "1         1 year       Domestic Shorthair Mix  Cream Tabby  2013     10   13   \n",
      "2        2 years                 Pit Bull Mix   Blue/White  2015      1   31   \n",
      "3        3 weeks       Domestic Shorthair Mix   Blue Cream  2014      7   11   \n",
      "4        2 years  Lhasa Apso/Miniature Poodle          Tan  2013     11   15   \n",
      "\n",
      "   Hour  Minute  _NameFreq  \n",
      "0    18      22        6.0  \n",
      "1    12      44       25.0  \n",
      "2    12      28        2.0  \n",
      "3    19       9       -1.0  \n",
      "4    12      52       -1.0  \n",
      "<class 'pandas.core.frame.DataFrame'>\n",
      "RangeIndex: 26729 entries, 0 to 26728\n",
      "Data columns (total 14 columns):\n",
      "Name              19038 non-null object\n",
      "OutcomeType       26729 non-null object\n",
      "OutcomeSubtype    13117 non-null object\n",
      "AnimalType        26729 non-null object\n",
      "SexuponOutcome    26728 non-null object\n",
      "AgeuponOutcome    26711 non-null object\n",
      "Breed             26729 non-null object\n",
      "Color             26729 non-null object\n",
      "Year              26729 non-null int64\n",
      "Month             26729 non-null int64\n",
      "Day               26729 non-null int64\n",
      "Hour              26729 non-null int64\n",
      "Minute            26729 non-null int64\n",
      "_NameFreq         26729 non-null float64\n",
      "dtypes: float64(1), int64(5), object(8)\n",
      "memory usage: 2.9+ MB\n",
      "None\n"
     ]
    }
   ],
   "source": [
    "# add a column with a Name frequency count\n",
    "\n",
    "names = pd.concat([test['Name'], train['Name']])\n",
    "values = dict(names.value_counts())\n",
    "\n",
    "train['_NameFreq'] = train['Name'].map(values)\n",
    "test['_NameFreq'] = test['Name'].map(values)\n",
    "\n",
    "train['_NameFreq'] = train['_NameFreq'].fillna(-1)\n",
    "test['_NameFreq'] = test['_NameFreq'].fillna(-1)\n",
    "\n",
    "print train.head()\n",
    "print(train.info())"
   ]
  },
  {
   "cell_type": "code",
   "execution_count": 7,
   "metadata": {},
   "outputs": [],
   "source": [
    "# if name not null make it 1, else 0. If Dog 1, cat 0\n",
    "train['Name'] = train['Name'].apply(lambda x: 1 if x == x else 0)\n",
    "train['AnimalType'] = train['AnimalType'].apply(lambda x: 1 if x == 'Dog' else 0)\n",
    "\n",
    "test['Name'] = test['Name'].apply(lambda x: 1 if x == x else 0)\n",
    "test['AnimalType'] = test['AnimalType'].apply(lambda x: 1 if x == 'Dog' else 0)"
   ]
  },
  {
   "cell_type": "code",
   "execution_count": 8,
   "metadata": {},
   "outputs": [],
   "source": [
    "# label object types. \n",
    "\n",
    "from sklearn import preprocessing\n",
    "lbl = preprocessing.LabelEncoder()\n",
    "\n",
    "shapeTrain = train.shape[0]\n",
    "shapeTest = test.shape[0]\n",
    "train = train.append(test)\n",
    "\n",
    "toTransform = ['Breed', 'Color', 'SexuponOutcome','OutcomeSubtype']\n",
    "for f in toTransform: \n",
    "    lbl = preprocessing.LabelEncoder() \n",
    "    lbl.fit(list(train[f].values)) \n",
    "    train[f] = lbl.transform(list(train[f].values))\n",
    "   \n",
    "test = train[shapeTrain:shapeTrain+shapeTest]\n",
    "train = train[0:shapeTrain]\n",
    "\n",
    "lbl = preprocessing.LabelEncoder() \n",
    "lbl.fit(list(train['OutcomeType'].values))\n",
    "train['OutcomeType'] = lbl.transform(list(train['OutcomeType'].values))\n",
    "\n",
    "#set target columns\n",
    "target = train['OutcomeType']\n",
    "train = train.drop(['OutcomeType'],axis=1)\n",
    "test = test.drop(['OutcomeType'],axis=1)\n"
   ]
  },
  {
   "cell_type": "code",
   "execution_count": 9,
   "metadata": {},
   "outputs": [
    {
     "name": "stdout",
     "output_type": "stream",
     "text": [
      "['Adoption' 'Died' 'Euthanasia' 'Return_to_owner' 'Transfer']\n"
     ]
    }
   ],
   "source": [
    "# target labels, seems to be correct\n",
    "print lbl.inverse_transform([0, 1, 2, 3, 4])"
   ]
  },
  {
   "cell_type": "code",
   "execution_count": 10,
   "metadata": {},
   "outputs": [],
   "source": [
    "#pd.get_dummies(train['OutcomeSubtype']).head()"
   ]
  },
  {
   "cell_type": "code",
   "execution_count": 11,
   "metadata": {},
   "outputs": [],
   "source": [
    "# train = train.append(test)\n",
    "\n",
    "# train = pd.concat([train, pd.get_dummies(train['SexuponOutcome'])], axis=1, join_axes=[train.index])\n",
    "# train = train.drop(['Unknown', 'SexuponOutcome'],axis=1)\n",
    "\n",
    "# test = train[shapeTrain:shapeTrain+shapeTest]\n",
    "# train = train[0:shapeTrain]"
   ]
  },
  {
   "cell_type": "code",
   "execution_count": 12,
   "metadata": {},
   "outputs": [],
   "source": [
    "# train = train.append(test)\n",
    "\n",
    "# train = pd.concat([train, pd.get_dummies(train['OutcomeSubtype'])], axis=1, join_axes=[train.index])\n",
    "# train = train.drop(['Suffering', 'OutcomeSubtype'],axis=1)\n",
    "\n",
    "# test = train[shapeTrain:shapeTrain + shapeTest]\n",
    "# train = train[0:shapeTrain]"
   ]
  },
  {
   "cell_type": "code",
   "execution_count": 13,
   "metadata": {},
   "outputs": [],
   "source": [
    "# train = train.append(test)\n",
    "\n",
    "# train = pd.concat([train, pd.get_dummies(train['OutcomeType'])], axis=1, join_axes=[train.index])\n",
    "# train = train.drop(['Unknown', 'OutcomeType'],axis=1)\n",
    "\n",
    "# test = train[shapeTrain:shapeTrain + shapeTest]\n",
    "# train = train[0:shapeTrain]"
   ]
  },
  {
   "cell_type": "code",
   "execution_count": 14,
   "metadata": {},
   "outputs": [],
   "source": [
    "# converting   AgeuponOutcome (1 years) to days \n",
    "def age_to_days(item):\n",
    "    # convert item to list if it is one string\n",
    "    if type(item) is str:\n",
    "        item = [item]\n",
    "    if type(item) is float:\n",
    "        item = '1 day'\n",
    "        item = [item]\n",
    "    ages_in_days = np.zeros(len(item))\n",
    "    for i in range(len(item)):\n",
    "        # check if item[i] is str\n",
    "        if type(item[i]) is str:\n",
    "            if 'day' in item[i]:\n",
    "                ages_in_days[i] = int(item[i].split(' ')[0])\n",
    "            if 'week' in item[i]:\n",
    "                ages_in_days[i] = int(item[i].split(' ')[0])*7\n",
    "            if 'month' in item[i]:\n",
    "                ages_in_days[i] = int(item[i].split(' ')[0])*30\n",
    "            if 'year' in item[i]:\n",
    "                ages_in_days[i] = int(item[i].split(' ')[0])*365    \n",
    "        else:\n",
    "            # item[i] is not a string but a nan\n",
    "            ages_in_days[i] = 0\n",
    "    return ages_in_days\n",
    "\n",
    "train['AgeuponOutcome'] = train['AgeuponOutcome'].map(lambda x: age_to_days(x)[0])\n",
    "test['AgeuponOutcome'] = test['AgeuponOutcome'].map(lambda x: age_to_days(x)[0])\n"
   ]
  },
  {
   "cell_type": "code",
   "execution_count": null,
   "metadata": {},
   "outputs": [],
   "source": [
    "#splitting \n",
    "X_fit, X_eval, y_fit, y_eval= train_test_split(\n",
    "    train, target, test_size=0.15, random_state=1\n",
    ")\n",
    "#training model\n",
    "clf = xgb.XGBClassifier(max_depth=4, missing=np.NAN,\n",
    "                        n_estimators=500, learning_rate=0.05, \n",
    "                        subsample=1, colsample_bytree=0.9, seed=2100,objective= 'multi:softprob')\n",
    "\n",
    "clf.fit(X_fit, y_fit, early_stopping_rounds=35,  eval_metric=\"mlogloss\", eval_set=[(X_eval, y_eval)])\n",
    "\n",
    "\n"
   ]
  },
  {
   "cell_type": "code",
   "execution_count": 17,
   "metadata": {},
   "outputs": [],
   "source": [
    "#printing result into file\n",
    "k = clf.predict_proba(test)\n",
    "#Adoption\tDied\tEuthanasia\tReturn_to_owner\tTransfer\n",
    "submission = pd.DataFrame({\"ID\":id_test, \"Adoption\":k[:,0], \"Died\":k[:,1],\"Euthanasia\":k[:,2],\"Return_to_owner\":k[:,3],\"Transfer\":k[:,4]})\n",
    "\n",
    "cols = ['ID',\"Adoption\", \"Died\", \"Euthanasia\",\"Return_to_owner\", \"Transfer\"]\n",
    "\n",
    "submission = submission[cols]\n",
    "submission.to_csv(\"submission_cats.csv\", index=False)\n"
   ]
  }
 ],
 "metadata": {
  "kernelspec": {
   "display_name": "Python 3",
   "language": "python",
   "name": "python3"
  },
  "language_info": {
   "codemirror_mode": {
    "name": "ipython",
    "version": 3
   },
   "file_extension": ".py",
   "mimetype": "text/x-python",
   "name": "python",
   "nbconvert_exporter": "python",
   "pygments_lexer": "ipython3",
   "version": "3.6.5"
  }
 },
 "nbformat": 4,
 "nbformat_minor": 1
}
