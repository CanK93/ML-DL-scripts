{
 "cells": [
  {
   "cell_type": "code",
   "execution_count": 1,
   "metadata": {},
   "outputs": [
    {
     "name": "stderr",
     "output_type": "stream",
     "text": [
      "WARNING: Not updating worker name since `setproctitle` is not installed. Install this with `pip install setproctitle` (or ray[debug]) to enable monitoring of worker processes.\n",
      "Process STDOUT and STDERR is being redirected to /tmp/ray/session_2018-12-27_20-44-34_6234/logs.\n",
      "Waiting for redis server at 127.0.0.1:60333 to respond...\n",
      "Waiting for redis server at 127.0.0.1:17171 to respond...\n",
      "Starting the Plasma object store with 13.497912524 GB memory using /dev/shm.\n"
     ]
    }
   ],
   "source": [
    "import modin.pandas as pd\n",
    "import numpy as np\n",
    "from sys import getsizeof"
   ]
  },
  {
   "cell_type": "code",
   "execution_count": 2,
   "metadata": {},
   "outputs": [
    {
     "name": "stdout",
     "output_type": "stream",
     "text": [
      "512.0001068115234 MB\n"
     ]
    }
   ],
   "source": [
    "arr = np.random.randint(0, 999, size=(2**10, 2**16))\n",
    "print(getsizeof(arr)/1024**2 , 'MB')"
   ]
  },
  {
   "cell_type": "code",
   "execution_count": 3,
   "metadata": {},
   "outputs": [
    {
     "name": "stderr",
     "output_type": "stream",
     "text": [
      "/home/dex/anaconda3/lib/python3.6/site-packages/modin/pandas/dataframe.py:759: UserWarning: User-defined function verification with DataFrame dtypes is still under development. Should be fully functional in a future release.\n",
      "  UserWarning,\n",
      "/home/dex/anaconda3/lib/python3.6/site-packages/modin/pandas/dataframe.py:5017: UserWarning: Defaulting to Pandas implementation\n",
      "  warnings.warn(\"Defaulting to Pandas implementation\", UserWarning)\n"
     ]
    },
    {
     "name": "stdout",
     "output_type": "stream",
     "text": [
      "<class 'modin.pandas.dataframe.DataFrame'>\n",
      "RangeIndex: 1024 entries, 0 to 1023\n",
      "Columns: 65536 entries, 0 to 65535\n",
      "dtypes: int64(65536)\n",
      "memory usage: 512.0 MB\n",
      "None (4, 65536) (1024, 65536)\n",
      "512.0000991821289 Mb\n",
      "CPU times: user 33.2 s, sys: 1.73 s, total: 35 s\n",
      "Wall time: 21.6 s\n"
     ]
    }
   ],
   "source": [
    "%%time\n",
    "\n",
    "df = pd.DataFrame(arr)\n",
    "aggrs = df.agg(['min', 'max', 'std', 'median'])\n",
    "print(df.info(), aggrs.shape, df.shape)\n",
    "print(getsizeof(df)/1024**2, 'Mb')"
   ]
  },
  {
   "cell_type": "code",
   "execution_count": 4,
   "metadata": {},
   "outputs": [],
   "source": [
    "import pandas as pd\n",
    "import numpy as np\n",
    "from sys import getsizeof"
   ]
  },
  {
   "cell_type": "code",
   "execution_count": 5,
   "metadata": {},
   "outputs": [
    {
     "name": "stdout",
     "output_type": "stream",
     "text": [
      "<class 'pandas.core.frame.DataFrame'>\n",
      "RangeIndex: 1024 entries, 0 to 1023\n",
      "Columns: 65536 entries, 0 to 65535\n",
      "dtypes: int64(65536)\n",
      "memory usage: 512.0 MB\n",
      "None (4, 65536) (1024, 65536)\n",
      "512.0000991821289 Mb\n",
      "CPU times: user 1min 20s, sys: 301 ms, total: 1min 20s\n",
      "Wall time: 1min 20s\n"
     ]
    }
   ],
   "source": [
    "%%time\n",
    "\n",
    "df = pd.DataFrame(arr)\n",
    "aggrs = df.agg(['min', 'max', 'std', 'median'])\n",
    "print(df.info(), aggrs.shape, df.shape)\n",
    "print(getsizeof(df)/1024**2, 'Mb')"
   ]
  },
  {
   "cell_type": "code",
   "execution_count": null,
   "metadata": {},
   "outputs": [],
   "source": []
  }
 ],
 "metadata": {
  "kernelspec": {
   "display_name": "Python 3",
   "language": "python",
   "name": "python3"
  },
  "language_info": {
   "codemirror_mode": {
    "name": "ipython",
    "version": 3
   },
   "file_extension": ".py",
   "mimetype": "text/x-python",
   "name": "python",
   "nbconvert_exporter": "python",
   "pygments_lexer": "ipython3",
   "version": "3.6.6"
  }
 },
 "nbformat": 4,
 "nbformat_minor": 2
}
