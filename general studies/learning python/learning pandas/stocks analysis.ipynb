{
 "cells": [
  {
   "cell_type": "raw",
   "metadata": {},
   "source": [
    "Домашнее задание:\n",
    "\n",
    "1) Загрузить из сети с РАЗЛИЧНЫХ сайтов годовые данные за 2016 год: пару rub/usd &  стоимость нефти марки BRENT\n",
    "2) найти накопленный процент изменения цены пары валют и нефти\n",
    "3) построить графики\n",
    "4) найти коэффициент корреляции за период (начиная с нового года): \n",
    " год\n",
    " 6 мес\n",
    " 3 мес"
   ]
  },
  {
   "cell_type": "code",
   "execution_count": 1,
   "metadata": {},
   "outputs": [],
   "source": [
    "import matplotlib\n",
    "import numpy as np\n",
    "import pandas as pd\n",
    "import matplotlib.pyplot as plt\n",
    "import seaborn as sn\n",
    "%matplotlib inline\n",
    "import pandas_datareader.data as web\n",
    "from datetime import datetime"
   ]
  },
  {
   "cell_type": "code",
   "execution_count": 2,
   "metadata": {},
   "outputs": [],
   "source": [
    "symbol = ['RUB=X', 'BZ=F']"
   ]
  },
  {
   "cell_type": "code",
   "execution_count": 3,
   "metadata": {},
   "outputs": [
    {
     "data": {
      "text/html": [
       "<div>\n",
       "<style>\n",
       "    .dataframe thead tr:only-child th {\n",
       "        text-align: right;\n",
       "    }\n",
       "\n",
       "    .dataframe thead th {\n",
       "        text-align: left;\n",
       "    }\n",
       "\n",
       "    .dataframe tbody tr th {\n",
       "        vertical-align: top;\n",
       "    }\n",
       "</style>\n",
       "<table border=\"1\" class=\"dataframe\">\n",
       "  <thead>\n",
       "    <tr style=\"text-align: right;\">\n",
       "      <th></th>\n",
       "      <th>Дата</th>\n",
       "      <th>Цена</th>\n",
       "      <th>Откр.</th>\n",
       "      <th>Макс.</th>\n",
       "      <th>Мин.</th>\n",
       "      <th>Объём</th>\n",
       "      <th>Изм. %</th>\n",
       "    </tr>\n",
       "  </thead>\n",
       "  <tbody>\n",
       "    <tr>\n",
       "      <th>237</th>\n",
       "      <td>2016-01-02</td>\n",
       "      <td>34,24</td>\n",
       "      <td>35,85</td>\n",
       "      <td>36,25</td>\n",
       "      <td>33,92</td>\n",
       "      <td>331,87K</td>\n",
       "      <td>-1,44</td>\n",
       "    </tr>\n",
       "    <tr>\n",
       "      <th>216</th>\n",
       "      <td>2016-01-03</td>\n",
       "      <td>36,81</td>\n",
       "      <td>36,60</td>\n",
       "      <td>37,25</td>\n",
       "      <td>35,95</td>\n",
       "      <td>276,26K</td>\n",
       "      <td>2,34</td>\n",
       "    </tr>\n",
       "    <tr>\n",
       "      <th>194</th>\n",
       "      <td>2016-01-04</td>\n",
       "      <td>38,67</td>\n",
       "      <td>40,14</td>\n",
       "      <td>40,43</td>\n",
       "      <td>38,55</td>\n",
       "      <td>286,17K</td>\n",
       "      <td>-2,35</td>\n",
       "    </tr>\n",
       "    <tr>\n",
       "      <th>151</th>\n",
       "      <td>2016-01-06</td>\n",
       "      <td>49,72</td>\n",
       "      <td>49,65</td>\n",
       "      <td>50,00</td>\n",
       "      <td>48,65</td>\n",
       "      <td>266,00K</td>\n",
       "      <td>0,06</td>\n",
       "    </tr>\n",
       "    <tr>\n",
       "      <th>129</th>\n",
       "      <td>2016-01-07</td>\n",
       "      <td>50,35</td>\n",
       "      <td>49,90</td>\n",
       "      <td>50,66</td>\n",
       "      <td>49,25</td>\n",
       "      <td>248,69K</td>\n",
       "      <td>1,35</td>\n",
       "    </tr>\n",
       "  </tbody>\n",
       "</table>\n",
       "</div>"
      ],
      "text/plain": [
       "          Дата   Цена  Откр.  Макс.   Мин.    Объём Изм. %\n",
       "237 2016-01-02  34,24  35,85  36,25  33,92  331,87K  -1,44\n",
       "216 2016-01-03  36,81  36,60  37,25  35,95  276,26K   2,34\n",
       "194 2016-01-04  38,67  40,14  40,43  38,55  286,17K  -2,35\n",
       "151 2016-01-06  49,72  49,65  50,00  48,65  266,00K   0,06\n",
       "129 2016-01-07  50,35  49,90  50,66  49,25  248,69K   1,35"
      ]
     },
     "execution_count": 3,
     "metadata": {},
     "output_type": "execute_result"
    }
   ],
   "source": [
    "brent = pd.read_csv(\"brent.csv\")\n",
    "\n",
    "brent['Дата'] = pd.to_datetime(brent['Дата'])\n",
    "\n",
    "brent = brent.sort_values('Дата')                       \n",
    "brent.head()"
   ]
  },
  {
   "cell_type": "code",
   "execution_count": 4,
   "metadata": {},
   "outputs": [
    {
     "data": {
      "text/html": [
       "<div>\n",
       "<style>\n",
       "    .dataframe thead tr:only-child th {\n",
       "        text-align: right;\n",
       "    }\n",
       "\n",
       "    .dataframe thead th {\n",
       "        text-align: left;\n",
       "    }\n",
       "\n",
       "    .dataframe tbody tr th {\n",
       "        vertical-align: top;\n",
       "    }\n",
       "</style>\n",
       "<table border=\"1\" class=\"dataframe\">\n",
       "  <thead>\n",
       "    <tr style=\"text-align: right;\">\n",
       "      <th></th>\n",
       "      <th>Дата</th>\n",
       "      <th>Цена</th>\n",
       "      <th>Откр.</th>\n",
       "      <th>Макс.</th>\n",
       "      <th>Мин.</th>\n",
       "      <th>Изм. %</th>\n",
       "    </tr>\n",
       "  </thead>\n",
       "  <tbody>\n",
       "    <tr>\n",
       "      <th>254</th>\n",
       "      <td>2016-01-01</td>\n",
       "      <td>73,0000</td>\n",
       "      <td>72,8800</td>\n",
       "      <td>73,0000</td>\n",
       "      <td>72,8800</td>\n",
       "      <td>0,00</td>\n",
       "    </tr>\n",
       "    <tr>\n",
       "      <th>233</th>\n",
       "      <td>2016-01-02</td>\n",
       "      <td>77,3094</td>\n",
       "      <td>75,4644</td>\n",
       "      <td>77,4449</td>\n",
       "      <td>75,4273</td>\n",
       "      <td>2,44</td>\n",
       "    </tr>\n",
       "    <tr>\n",
       "      <th>212</th>\n",
       "      <td>2016-01-03</td>\n",
       "      <td>73,3731</td>\n",
       "      <td>75,1682</td>\n",
       "      <td>75,1682</td>\n",
       "      <td>73,1891</td>\n",
       "      <td>-2,39</td>\n",
       "    </tr>\n",
       "    <tr>\n",
       "      <th>190</th>\n",
       "      <td>2016-01-04</td>\n",
       "      <td>67,5855</td>\n",
       "      <td>67,0288</td>\n",
       "      <td>68,3415</td>\n",
       "      <td>66,9732</td>\n",
       "      <td>0,83</td>\n",
       "    </tr>\n",
       "    <tr>\n",
       "      <th>150</th>\n",
       "      <td>2016-01-06</td>\n",
       "      <td>67,1015</td>\n",
       "      <td>66,6968</td>\n",
       "      <td>67,3133</td>\n",
       "      <td>66,5300</td>\n",
       "      <td>0,61</td>\n",
       "    </tr>\n",
       "  </tbody>\n",
       "</table>\n",
       "</div>"
      ],
      "text/plain": [
       "          Дата     Цена    Откр.    Макс.     Мин. Изм. %\n",
       "254 2016-01-01  73,0000  72,8800  73,0000  72,8800   0,00\n",
       "233 2016-01-02  77,3094  75,4644  77,4449  75,4273   2,44\n",
       "212 2016-01-03  73,3731  75,1682  75,1682  73,1891  -2,39\n",
       "190 2016-01-04  67,5855  67,0288  68,3415  66,9732   0,83\n",
       "150 2016-01-06  67,1015  66,6968  67,3133  66,5300   0,61"
      ]
     },
     "execution_count": 4,
     "metadata": {},
     "output_type": "execute_result"
    }
   ],
   "source": [
    "rub = pd.read_csv(\"USD_RUB.csv\")\n",
    "rub['Дата'] = pd.to_datetime(rub['Дата'])\n",
    "rub = rub.sort_values('Дата')                       \n",
    "rub.head()"
   ]
  },
  {
   "cell_type": "markdown",
   "metadata": {},
   "source": [
    "## 2) найти накопленный процент изменения цены пары валют и нефти"
   ]
  },
  {
   "cell_type": "code",
   "execution_count": 5,
   "metadata": {},
   "outputs": [],
   "source": [
    "brent['Изм. %'] = brent['Изм. %'].str.replace(',', '.')"
   ]
  },
  {
   "cell_type": "code",
   "execution_count": 6,
   "metadata": {},
   "outputs": [],
   "source": [
    "brent['Изм. %'] = brent['Изм. %'].astype(float)"
   ]
  },
  {
   "cell_type": "code",
   "execution_count": 7,
   "metadata": {},
   "outputs": [
    {
     "name": "stdout",
     "output_type": "stream",
     "text": [
      "Brent сумма %:  52.15999999999997\n"
     ]
    }
   ],
   "source": [
    "print ('Brent сумма %: ' , brent['Изм. %'].sum())"
   ]
  },
  {
   "cell_type": "code",
   "execution_count": 8,
   "metadata": {},
   "outputs": [
    {
     "name": "stdout",
     "output_type": "stream",
     "text": [
      "USD/RUB сумма %:  -15.699999999999994\n"
     ]
    }
   ],
   "source": [
    "rub['Изм. %'] = rub['Изм. %'].str.replace(',', '.')\n",
    "rub['Изм. %'] = rub['Изм. %'].astype(float)\n",
    "print ('USD/RUB сумма %: ' , rub['Изм. %'].sum())"
   ]
  },
  {
   "cell_type": "markdown",
   "metadata": {},
   "source": [
    "## 3) построить графики"
   ]
  },
  {
   "cell_type": "code",
   "execution_count": 9,
   "metadata": {},
   "outputs": [],
   "source": [
    "brent['Цена'] = brent['Цена'].str.replace(',', '.')\n",
    "brent['Цена'] = brent['Цена'].astype(float)\n",
    "\n",
    "rub['Цена'] = rub['Цена'].str.replace(',', '.')\n",
    "rub['Цена'] = rub['Цена'].astype(float)"
   ]
  },
  {
   "cell_type": "code",
   "execution_count": 10,
   "metadata": {},
   "outputs": [],
   "source": [
    "brent = brent.reset_index()\n",
    "rub   = rub.reset_index()"
   ]
  },
  {
   "cell_type": "code",
   "execution_count": 11,
   "metadata": {},
   "outputs": [
    {
     "data": {
      "image/png": "[encoded data removed]",
      "text/plain": [
       "<matplotlib.figure.Figure at 0x7fd3afdc3dd8>"
      ]
     },
     "metadata": {},
     "output_type": "display_data"
    }
   ],
   "source": [
    "plt.plot(rub['Дата'], rub['Цена'])\n",
    "plt.plot(brent['Дата'], brent['Цена'])\n",
    " \n",
    "    \n",
    "plt.xlabel('Дата')\n",
    "plt.ylabel('Цена')\n",
    "plt.legend(['Brend', 'USD/RUB'])\n",
    "plt.show()"
   ]
  },
  {
   "cell_type": "code",
   "execution_count": 12,
   "metadata": {},
   "outputs": [
    {
     "data": {
      "image/png": "[encoded data removed]",
      "text/plain": [
       "<matplotlib.figure.Figure at 0x7fd3a9318048>"
      ]
     },
     "metadata": {},
     "output_type": "display_data"
    }
   ],
   "source": [
    "plt.plot(rub['Дата'], rub['Изм. %'])\n",
    "plt.plot(brent['Дата'], brent['Изм. %'])\n",
    " \n",
    "    \n",
    "plt.xlabel('Дата')\n",
    "plt.ylabel('% изминение')\n",
    "plt.legend(['Brend', 'USD/RUB'])\n",
    "plt.show()"
   ]
  },
  {
   "cell_type": "code",
   "execution_count": 13,
   "metadata": {},
   "outputs": [
    {
     "data": {
      "text/plain": [
       "[<matplotlib.lines.Line2D at 0x7fd3a9259a90>]"
      ]
     },
     "execution_count": 13,
     "metadata": {},
     "output_type": "execute_result"
    },
    {
     "data": {
      "image/png": "[encoded data removed]",
      "text/plain": [
       "<matplotlib.figure.Figure at 0x7fd3dc851f60>"
      ]
     },
     "metadata": {},
     "output_type": "display_data"
    }
   ],
   "source": [
    "plt.plot(rub['Дата'], rub['Изм. %'])"
   ]
  },
  {
   "cell_type": "code",
   "execution_count": 14,
   "metadata": {},
   "outputs": [
    {
     "data": {
      "text/plain": [
       "[<matplotlib.lines.Line2D at 0x7fd3a923fc88>]"
      ]
     },
     "execution_count": 14,
     "metadata": {},
     "output_type": "execute_result"
    },
    {
     "data": {
      "image/png": "[encoded data removed]",
      "text/plain": [
       "<matplotlib.figure.Figure at 0x7fd3a9294860>"
      ]
     },
     "metadata": {},
     "output_type": "display_data"
    }
   ],
   "source": [
    "plt.plot(brent['Дата'], brent['Изм. %'])"
   ]
  },
  {
   "cell_type": "markdown",
   "metadata": {},
   "source": [
    "## 4) \n",
    "найти коэффициент корреляции за период (начиная с нового года): \n",
    " год\n",
    " 6 мес\n",
    " 3 мес"
   ]
  },
  {
   "cell_type": "code",
   "execution_count": 15,
   "metadata": {},
   "outputs": [],
   "source": [
    "data = pd.DataFrame() #creates a new dataframe that's empty\n",
    "rub['usd/rub'] = rub['Цена']\n",
    "brent['brent'] = brent['Цена']\n",
    "data = pd.concat([rub.set_index('Дата'),brent.set_index('Дата')], axis=1, join='inner').reset_index() "
   ]
  },
  {
   "cell_type": "code",
   "execution_count": 16,
   "metadata": {},
   "outputs": [
    {
     "data": {
      "text/html": [
       "<div>\n",
       "<style>\n",
       "    .dataframe thead tr:only-child th {\n",
       "        text-align: right;\n",
       "    }\n",
       "\n",
       "    .dataframe thead th {\n",
       "        text-align: left;\n",
       "    }\n",
       "\n",
       "    .dataframe tbody tr th {\n",
       "        vertical-align: top;\n",
       "    }\n",
       "</style>\n",
       "<table border=\"1\" class=\"dataframe\">\n",
       "  <thead>\n",
       "    <tr style=\"text-align: right;\">\n",
       "      <th></th>\n",
       "      <th>Дата</th>\n",
       "      <th>index</th>\n",
       "      <th>Цена</th>\n",
       "      <th>Откр.</th>\n",
       "      <th>Макс.</th>\n",
       "      <th>Мин.</th>\n",
       "      <th>Изм. %</th>\n",
       "      <th>usd/rub</th>\n",
       "      <th>index</th>\n",
       "      <th>Цена</th>\n",
       "      <th>Откр.</th>\n",
       "      <th>Макс.</th>\n",
       "      <th>Мин.</th>\n",
       "      <th>Объём</th>\n",
       "      <th>Изм. %</th>\n",
       "      <th>brent</th>\n",
       "    </tr>\n",
       "  </thead>\n",
       "  <tbody>\n",
       "    <tr>\n",
       "      <th>0</th>\n",
       "      <td>2016-01-02</td>\n",
       "      <td>233</td>\n",
       "      <td>77.3094</td>\n",
       "      <td>75,4644</td>\n",
       "      <td>77,4449</td>\n",
       "      <td>75,4273</td>\n",
       "      <td>2.44</td>\n",
       "      <td>77.3094</td>\n",
       "      <td>237</td>\n",
       "      <td>34.24</td>\n",
       "      <td>35,85</td>\n",
       "      <td>36,25</td>\n",
       "      <td>33,92</td>\n",
       "      <td>331,87K</td>\n",
       "      <td>-1.44</td>\n",
       "      <td>34.24</td>\n",
       "    </tr>\n",
       "    <tr>\n",
       "      <th>1</th>\n",
       "      <td>2016-01-03</td>\n",
       "      <td>212</td>\n",
       "      <td>73.3731</td>\n",
       "      <td>75,1682</td>\n",
       "      <td>75,1682</td>\n",
       "      <td>73,1891</td>\n",
       "      <td>-2.39</td>\n",
       "      <td>73.3731</td>\n",
       "      <td>216</td>\n",
       "      <td>36.81</td>\n",
       "      <td>36,60</td>\n",
       "      <td>37,25</td>\n",
       "      <td>35,95</td>\n",
       "      <td>276,26K</td>\n",
       "      <td>2.34</td>\n",
       "      <td>36.81</td>\n",
       "    </tr>\n",
       "    <tr>\n",
       "      <th>2</th>\n",
       "      <td>2016-01-04</td>\n",
       "      <td>190</td>\n",
       "      <td>67.5855</td>\n",
       "      <td>67,0288</td>\n",
       "      <td>68,3415</td>\n",
       "      <td>66,9732</td>\n",
       "      <td>0.83</td>\n",
       "      <td>67.5855</td>\n",
       "      <td>194</td>\n",
       "      <td>38.67</td>\n",
       "      <td>40,14</td>\n",
       "      <td>40,43</td>\n",
       "      <td>38,55</td>\n",
       "      <td>286,17K</td>\n",
       "      <td>-2.35</td>\n",
       "      <td>38.67</td>\n",
       "    </tr>\n",
       "    <tr>\n",
       "      <th>3</th>\n",
       "      <td>2016-01-06</td>\n",
       "      <td>150</td>\n",
       "      <td>67.1015</td>\n",
       "      <td>66,6968</td>\n",
       "      <td>67,3133</td>\n",
       "      <td>66,5300</td>\n",
       "      <td>0.61</td>\n",
       "      <td>67.1015</td>\n",
       "      <td>151</td>\n",
       "      <td>49.72</td>\n",
       "      <td>49,65</td>\n",
       "      <td>50,00</td>\n",
       "      <td>48,65</td>\n",
       "      <td>266,00K</td>\n",
       "      <td>0.06</td>\n",
       "      <td>49.72</td>\n",
       "    </tr>\n",
       "    <tr>\n",
       "      <th>4</th>\n",
       "      <td>2016-01-07</td>\n",
       "      <td>129</td>\n",
       "      <td>63.8040</td>\n",
       "      <td>63,9731</td>\n",
       "      <td>64,2542</td>\n",
       "      <td>63,8027</td>\n",
       "      <td>-0.26</td>\n",
       "      <td>63.8040</td>\n",
       "      <td>129</td>\n",
       "      <td>50.35</td>\n",
       "      <td>49,90</td>\n",
       "      <td>50,66</td>\n",
       "      <td>49,25</td>\n",
       "      <td>248,69K</td>\n",
       "      <td>1.35</td>\n",
       "      <td>50.35</td>\n",
       "    </tr>\n",
       "  </tbody>\n",
       "</table>\n",
       "</div>"
      ],
      "text/plain": [
       "        Дата  index     Цена    Откр.    Макс.     Мин.  Изм. %  usd/rub  \\\n",
       "0 2016-01-02    233  77.3094  75,4644  77,4449  75,4273    2.44  77.3094   \n",
       "1 2016-01-03    212  73.3731  75,1682  75,1682  73,1891   -2.39  73.3731   \n",
       "2 2016-01-04    190  67.5855  67,0288  68,3415  66,9732    0.83  67.5855   \n",
       "3 2016-01-06    150  67.1015  66,6968  67,3133  66,5300    0.61  67.1015   \n",
       "4 2016-01-07    129  63.8040  63,9731  64,2542  63,8027   -0.26  63.8040   \n",
       "\n",
       "   index   Цена  Откр.  Макс.   Мин.    Объём  Изм. %  brent  \n",
       "0    237  34.24  35,85  36,25  33,92  331,87K   -1.44  34.24  \n",
       "1    216  36.81  36,60  37,25  35,95  276,26K    2.34  36.81  \n",
       "2    194  38.67  40,14  40,43  38,55  286,17K   -2.35  38.67  \n",
       "3    151  49.72  49,65  50,00  48,65  266,00K    0.06  49.72  \n",
       "4    129  50.35  49,90  50,66  49,25  248,69K    1.35  50.35  "
      ]
     },
     "execution_count": 16,
     "metadata": {},
     "output_type": "execute_result"
    }
   ],
   "source": [
    "data.head()"
   ]
  },
  {
   "cell_type": "code",
   "execution_count": 17,
   "metadata": {},
   "outputs": [
    {
     "data": {
      "text/html": [
       "<div>\n",
       "<style>\n",
       "    .dataframe thead tr:only-child th {\n",
       "        text-align: right;\n",
       "    }\n",
       "\n",
       "    .dataframe thead th {\n",
       "        text-align: left;\n",
       "    }\n",
       "\n",
       "    .dataframe tbody tr th {\n",
       "        vertical-align: top;\n",
       "    }\n",
       "</style>\n",
       "<table border=\"1\" class=\"dataframe\">\n",
       "  <thead>\n",
       "    <tr style=\"text-align: right;\">\n",
       "      <th></th>\n",
       "      <th>usd/rub</th>\n",
       "      <th>brent</th>\n",
       "    </tr>\n",
       "  </thead>\n",
       "  <tbody>\n",
       "    <tr>\n",
       "      <th>usd/rub</th>\n",
       "      <td>1.000000</td>\n",
       "      <td>-0.940713</td>\n",
       "    </tr>\n",
       "    <tr>\n",
       "      <th>brent</th>\n",
       "      <td>-0.940713</td>\n",
       "      <td>1.000000</td>\n",
       "    </tr>\n",
       "  </tbody>\n",
       "</table>\n",
       "</div>"
      ],
      "text/plain": [
       "          usd/rub     brent\n",
       "usd/rub  1.000000 -0.940713\n",
       "brent   -0.940713  1.000000"
      ]
     },
     "execution_count": 17,
     "metadata": {},
     "output_type": "execute_result"
    }
   ],
   "source": [
    "data[['usd/rub', 'brent']].corr()"
   ]
  },
  {
   "cell_type": "code",
   "execution_count": 18,
   "metadata": {},
   "outputs": [
    {
     "name": "stdout",
     "output_type": "stream",
     "text": [
      "Корреляция за 1 год : -0.940712869205\n"
     ]
    }
   ],
   "source": [
    "print ('Корреляция за 1 год :', data[['usd/rub', 'brent']].corr().brent[0])"
   ]
  },
  {
   "cell_type": "code",
   "execution_count": 19,
   "metadata": {},
   "outputs": [
    {
     "name": "stdout",
     "output_type": "stream",
     "text": [
      "Корреляция за полгода : -0.93512006676\n"
     ]
    }
   ],
   "source": [
    "print ('Корреляция за полгода :', data[data['Дата'] < '2016-07-01'][['usd/rub', 'brent']].corr().brent[0]) \n"
   ]
  },
  {
   "cell_type": "code",
   "execution_count": 20,
   "metadata": {},
   "outputs": [
    {
     "name": "stdout",
     "output_type": "stream",
     "text": [
      "Корреляция за 3 месяца : -0.930826237071\n"
     ]
    }
   ],
   "source": [
    "print ('Корреляция за 3 месяца :', data[data['Дата'] < '2016-04-01'][['usd/rub', 'brent']].corr().brent[0]) \n"
   ]
  },
  {
   "cell_type": "code",
   "execution_count": 29,
   "metadata": {},
   "outputs": [
    {
     "data": {
      "text/html": [
       "<div>\n",
       "<style>\n",
       "    .dataframe thead tr:only-child th {\n",
       "        text-align: right;\n",
       "    }\n",
       "\n",
       "    .dataframe thead th {\n",
       "        text-align: left;\n",
       "    }\n",
       "\n",
       "    .dataframe tbody tr th {\n",
       "        vertical-align: top;\n",
       "    }\n",
       "</style>\n",
       "<table border=\"1\" class=\"dataframe\">\n",
       "  <thead>\n",
       "    <tr style=\"text-align: right;\">\n",
       "      <th></th>\n",
       "      <th>&lt;TICKER&gt;</th>\n",
       "      <th>&lt;PER&gt;</th>\n",
       "      <th>&lt;DATE&gt;</th>\n",
       "      <th>&lt;TIME&gt;</th>\n",
       "      <th>&lt;OPEN&gt;</th>\n",
       "      <th>&lt;HIGH&gt;</th>\n",
       "      <th>&lt;LOW&gt;</th>\n",
       "      <th>&lt;CLOSE&gt;</th>\n",
       "      <th>&lt;VOL&gt;</th>\n",
       "    </tr>\n",
       "  </thead>\n",
       "  <tbody>\n",
       "    <tr>\n",
       "      <th>0</th>\n",
       "      <td>USD000UTSTOM</td>\n",
       "      <td>D</td>\n",
       "      <td>04/01/16</td>\n",
       "      <td>0</td>\n",
       "      <td>73.081</td>\n",
       "      <td>73.720</td>\n",
       "      <td>72.615</td>\n",
       "      <td>73.160</td>\n",
       "      <td>1557004000</td>\n",
       "    </tr>\n",
       "    <tr>\n",
       "      <th>1</th>\n",
       "      <td>USD000UTSTOM</td>\n",
       "      <td>D</td>\n",
       "      <td>05/01/16</td>\n",
       "      <td>0</td>\n",
       "      <td>72.990</td>\n",
       "      <td>73.550</td>\n",
       "      <td>72.823</td>\n",
       "      <td>73.316</td>\n",
       "      <td>969004000</td>\n",
       "    </tr>\n",
       "    <tr>\n",
       "      <th>2</th>\n",
       "      <td>USD000UTSTOM</td>\n",
       "      <td>D</td>\n",
       "      <td>06/01/16</td>\n",
       "      <td>0</td>\n",
       "      <td>73.318</td>\n",
       "      <td>75.100</td>\n",
       "      <td>73.264</td>\n",
       "      <td>74.760</td>\n",
       "      <td>1984001000</td>\n",
       "    </tr>\n",
       "    <tr>\n",
       "      <th>3</th>\n",
       "      <td>USD000UTSTOM</td>\n",
       "      <td>D</td>\n",
       "      <td>11/01/16</td>\n",
       "      <td>0</td>\n",
       "      <td>75.721</td>\n",
       "      <td>76.493</td>\n",
       "      <td>75.060</td>\n",
       "      <td>76.211</td>\n",
       "      <td>4952591000</td>\n",
       "    </tr>\n",
       "    <tr>\n",
       "      <th>4</th>\n",
       "      <td>USD000UTSTOM</td>\n",
       "      <td>D</td>\n",
       "      <td>12/01/16</td>\n",
       "      <td>0</td>\n",
       "      <td>77.000</td>\n",
       "      <td>77.244</td>\n",
       "      <td>75.901</td>\n",
       "      <td>77.065</td>\n",
       "      <td>5640143000</td>\n",
       "    </tr>\n",
       "  </tbody>\n",
       "</table>\n",
       "</div>"
      ],
      "text/plain": [
       "       <TICKER> <PER>    <DATE>  <TIME>  <OPEN>  <HIGH>   <LOW>  <CLOSE>  \\\n",
       "0  USD000UTSTOM     D  04/01/16       0  73.081  73.720  72.615   73.160   \n",
       "1  USD000UTSTOM     D  05/01/16       0  72.990  73.550  72.823   73.316   \n",
       "2  USD000UTSTOM     D  06/01/16       0  73.318  75.100  73.264   74.760   \n",
       "3  USD000UTSTOM     D  11/01/16       0  75.721  76.493  75.060   76.211   \n",
       "4  USD000UTSTOM     D  12/01/16       0  77.000  77.244  75.901   77.065   \n",
       "\n",
       "        <VOL>  \n",
       "0  1557004000  \n",
       "1   969004000  \n",
       "2  1984001000  \n",
       "3  4952591000  \n",
       "4  5640143000  "
      ]
     },
     "execution_count": 29,
     "metadata": {},
     "output_type": "execute_result"
    }
   ],
   "source": [
    "rub = pd.read_csv(\"usd2.csv\", delimiter=';')\n",
    "rub.head()"
   ]
  },
  {
   "cell_type": "code",
   "execution_count": 37,
   "metadata": {},
   "outputs": [
    {
     "data": {
      "text/plain": [
       "<TICKER>            object\n",
       "<PER>               object\n",
       "<DATE>              object\n",
       "<TIME>               int64\n",
       "<OPEN>             float64\n",
       "<HIGH>             float64\n",
       "<LOW>              float64\n",
       "<CLOSE>            float64\n",
       "<VOL>                int64\n",
       "Дата        datetime64[ns]\n",
       "dtype: object"
      ]
     },
     "execution_count": 37,
     "metadata": {},
     "output_type": "execute_result"
    }
   ],
   "source": [
    "rub.dtypes"
   ]
  },
  {
   "cell_type": "code",
   "execution_count": 36,
   "metadata": {},
   "outputs": [],
   "source": [
    "rub['Дата'] = pd.to_datetime(rub['<DATE>'])\n"
   ]
  },
  {
   "cell_type": "code",
   "execution_count": 38,
   "metadata": {},
   "outputs": [
    {
     "data": {
      "text/html": [
       "<div>\n",
       "<style>\n",
       "    .dataframe thead tr:only-child th {\n",
       "        text-align: right;\n",
       "    }\n",
       "\n",
       "    .dataframe thead th {\n",
       "        text-align: left;\n",
       "    }\n",
       "\n",
       "    .dataframe tbody tr th {\n",
       "        vertical-align: top;\n",
       "    }\n",
       "</style>\n",
       "<table border=\"1\" class=\"dataframe\">\n",
       "  <thead>\n",
       "    <tr style=\"text-align: right;\">\n",
       "      <th></th>\n",
       "      <th>&lt;TICKER&gt;</th>\n",
       "      <th>&lt;PER&gt;</th>\n",
       "      <th>&lt;DATE&gt;</th>\n",
       "      <th>&lt;TIME&gt;</th>\n",
       "      <th>&lt;OPEN&gt;</th>\n",
       "      <th>&lt;HIGH&gt;</th>\n",
       "      <th>&lt;LOW&gt;</th>\n",
       "      <th>&lt;CLOSE&gt;</th>\n",
       "      <th>&lt;VOL&gt;</th>\n",
       "      <th>Дата</th>\n",
       "    </tr>\n",
       "  </thead>\n",
       "  <tbody>\n",
       "    <tr>\n",
       "      <th>0</th>\n",
       "      <td>USD000UTSTOM</td>\n",
       "      <td>D</td>\n",
       "      <td>04/01/16</td>\n",
       "      <td>0</td>\n",
       "      <td>73.081</td>\n",
       "      <td>73.720</td>\n",
       "      <td>72.615</td>\n",
       "      <td>73.160</td>\n",
       "      <td>1557004000</td>\n",
       "      <td>2016-04-01</td>\n",
       "    </tr>\n",
       "    <tr>\n",
       "      <th>1</th>\n",
       "      <td>USD000UTSTOM</td>\n",
       "      <td>D</td>\n",
       "      <td>05/01/16</td>\n",
       "      <td>0</td>\n",
       "      <td>72.990</td>\n",
       "      <td>73.550</td>\n",
       "      <td>72.823</td>\n",
       "      <td>73.316</td>\n",
       "      <td>969004000</td>\n",
       "      <td>2016-05-01</td>\n",
       "    </tr>\n",
       "    <tr>\n",
       "      <th>2</th>\n",
       "      <td>USD000UTSTOM</td>\n",
       "      <td>D</td>\n",
       "      <td>06/01/16</td>\n",
       "      <td>0</td>\n",
       "      <td>73.318</td>\n",
       "      <td>75.100</td>\n",
       "      <td>73.264</td>\n",
       "      <td>74.760</td>\n",
       "      <td>1984001000</td>\n",
       "      <td>2016-06-01</td>\n",
       "    </tr>\n",
       "    <tr>\n",
       "      <th>3</th>\n",
       "      <td>USD000UTSTOM</td>\n",
       "      <td>D</td>\n",
       "      <td>11/01/16</td>\n",
       "      <td>0</td>\n",
       "      <td>75.721</td>\n",
       "      <td>76.493</td>\n",
       "      <td>75.060</td>\n",
       "      <td>76.211</td>\n",
       "      <td>4952591000</td>\n",
       "      <td>2016-11-01</td>\n",
       "    </tr>\n",
       "    <tr>\n",
       "      <th>4</th>\n",
       "      <td>USD000UTSTOM</td>\n",
       "      <td>D</td>\n",
       "      <td>12/01/16</td>\n",
       "      <td>0</td>\n",
       "      <td>77.000</td>\n",
       "      <td>77.244</td>\n",
       "      <td>75.901</td>\n",
       "      <td>77.065</td>\n",
       "      <td>5640143000</td>\n",
       "      <td>2016-12-01</td>\n",
       "    </tr>\n",
       "  </tbody>\n",
       "</table>\n",
       "</div>"
      ],
      "text/plain": [
       "       <TICKER> <PER>    <DATE>  <TIME>  <OPEN>  <HIGH>   <LOW>  <CLOSE>  \\\n",
       "0  USD000UTSTOM     D  04/01/16       0  73.081  73.720  72.615   73.160   \n",
       "1  USD000UTSTOM     D  05/01/16       0  72.990  73.550  72.823   73.316   \n",
       "2  USD000UTSTOM     D  06/01/16       0  73.318  75.100  73.264   74.760   \n",
       "3  USD000UTSTOM     D  11/01/16       0  75.721  76.493  75.060   76.211   \n",
       "4  USD000UTSTOM     D  12/01/16       0  77.000  77.244  75.901   77.065   \n",
       "\n",
       "        <VOL>       Дата  \n",
       "0  1557004000 2016-04-01  \n",
       "1   969004000 2016-05-01  \n",
       "2  1984001000 2016-06-01  \n",
       "3  4952591000 2016-11-01  \n",
       "4  5640143000 2016-12-01  "
      ]
     },
     "execution_count": 38,
     "metadata": {},
     "output_type": "execute_result"
    }
   ],
   "source": [
    "rub.head()"
   ]
  },
  {
   "cell_type": "code",
   "execution_count": null,
   "metadata": {
    "collapsed": true
   },
   "outputs": [],
   "source": []
  }
 ],
 "metadata": {
  "kernelspec": {
   "display_name": "Python 3",
   "language": "python",
   "name": "python3"
  },
  "language_info": {
   "codemirror_mode": {
    "name": "ipython",
    "version": 3
   },
   "file_extension": ".py",
   "mimetype": "text/x-python",
   "name": "python",
   "nbconvert_exporter": "python",
   "pygments_lexer": "ipython3",
   "version": "3.6.3"
  }
 },
 "nbformat": 4,
 "nbformat_minor": 2
}
