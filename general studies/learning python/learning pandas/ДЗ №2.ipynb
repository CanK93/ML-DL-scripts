{
 "cells": [
  {
   "cell_type": "raw",
   "metadata": {},
   "source": [
    "Средней сложности:\n",
    "Найти одинаковые имена используемые для мальчиков и девочек\n",
    "Упорядочить имена по убыванию популярности\n",
    "Построить графики для трех первых по популярности таких имен - количетво рожденных по годам для мальчиков и девочек"
   ]
  },
  {
   "cell_type": "code",
   "execution_count": 1,
   "metadata": {
    "collapsed": true
   },
   "outputs": [],
   "source": [
    "import pandas as pd\n",
    "import numpy as np\n",
    "import matplotlib.pyplot as plt\n",
    "\n",
    "years=range(1880, 2017)\n",
    "\n",
    "pieces = []\n",
    "columns = [ 'name', 'sex', 'births' ]\n",
    "for year in years:\n",
    "    path = 'C:/Users/User/Desktop/python/pandas/Pandas_Python3/names/yob%d.txt' %year\n",
    "    frame = pd.read_csv(path, names=columns)\n",
    "    frame['year'] = year\n",
    "    pieces.append(frame)\n",
    "\n",
    "names = pd.concat(pieces, ignore_index = True)"
   ]
  },
  {
   "cell_type": "code",
   "execution_count": 2,
   "metadata": {},
   "outputs": [
    {
     "data": {
      "text/html": [
       "<div>\n",
       "<table border=\"1\" class=\"dataframe\">\n",
       "  <thead>\n",
       "    <tr style=\"text-align: right;\">\n",
       "      <th></th>\n",
       "      <th>name</th>\n",
       "      <th>sex</th>\n",
       "      <th>births</th>\n",
       "      <th>year</th>\n",
       "    </tr>\n",
       "  </thead>\n",
       "  <tbody>\n",
       "    <tr>\n",
       "      <th>942</th>\n",
       "      <td>John</td>\n",
       "      <td>M</td>\n",
       "      <td>9655</td>\n",
       "      <td>1880</td>\n",
       "    </tr>\n",
       "    <tr>\n",
       "      <th>943</th>\n",
       "      <td>William</td>\n",
       "      <td>M</td>\n",
       "      <td>9532</td>\n",
       "      <td>1880</td>\n",
       "    </tr>\n",
       "    <tr>\n",
       "      <th>944</th>\n",
       "      <td>James</td>\n",
       "      <td>M</td>\n",
       "      <td>5927</td>\n",
       "      <td>1880</td>\n",
       "    </tr>\n",
       "    <tr>\n",
       "      <th>945</th>\n",
       "      <td>Charles</td>\n",
       "      <td>M</td>\n",
       "      <td>5348</td>\n",
       "      <td>1880</td>\n",
       "    </tr>\n",
       "    <tr>\n",
       "      <th>946</th>\n",
       "      <td>George</td>\n",
       "      <td>M</td>\n",
       "      <td>5126</td>\n",
       "      <td>1880</td>\n",
       "    </tr>\n",
       "  </tbody>\n",
       "</table>\n",
       "</div>"
      ],
      "text/plain": [
       "        name sex  births  year\n",
       "942     John   M    9655  1880\n",
       "943  William   M    9532  1880\n",
       "944    James   M    5927  1880\n",
       "945  Charles   M    5348  1880\n",
       "946   George   M    5126  1880"
      ]
     },
     "execution_count": 2,
     "metadata": {},
     "output_type": "execute_result"
    }
   ],
   "source": [
    "male_names  = names[names.sex == 'M']\n",
    "male_names.head()"
   ]
  },
  {
   "cell_type": "code",
   "execution_count": 3,
   "metadata": {},
   "outputs": [
    {
     "data": {
      "text/html": [
       "<div>\n",
       "<table border=\"1\" class=\"dataframe\">\n",
       "  <thead>\n",
       "    <tr style=\"text-align: right;\">\n",
       "      <th></th>\n",
       "      <th>name</th>\n",
       "      <th>sex</th>\n",
       "      <th>births</th>\n",
       "      <th>year</th>\n",
       "    </tr>\n",
       "  </thead>\n",
       "  <tbody>\n",
       "    <tr>\n",
       "      <th>0</th>\n",
       "      <td>Mary</td>\n",
       "      <td>F</td>\n",
       "      <td>7065</td>\n",
       "      <td>1880</td>\n",
       "    </tr>\n",
       "    <tr>\n",
       "      <th>1</th>\n",
       "      <td>Anna</td>\n",
       "      <td>F</td>\n",
       "      <td>2604</td>\n",
       "      <td>1880</td>\n",
       "    </tr>\n",
       "    <tr>\n",
       "      <th>2</th>\n",
       "      <td>Emma</td>\n",
       "      <td>F</td>\n",
       "      <td>2003</td>\n",
       "      <td>1880</td>\n",
       "    </tr>\n",
       "    <tr>\n",
       "      <th>3</th>\n",
       "      <td>Elizabeth</td>\n",
       "      <td>F</td>\n",
       "      <td>1939</td>\n",
       "      <td>1880</td>\n",
       "    </tr>\n",
       "    <tr>\n",
       "      <th>4</th>\n",
       "      <td>Minnie</td>\n",
       "      <td>F</td>\n",
       "      <td>1746</td>\n",
       "      <td>1880</td>\n",
       "    </tr>\n",
       "  </tbody>\n",
       "</table>\n",
       "</div>"
      ],
      "text/plain": [
       "        name sex  births  year\n",
       "0       Mary   F    7065  1880\n",
       "1       Anna   F    2604  1880\n",
       "2       Emma   F    2003  1880\n",
       "3  Elizabeth   F    1939  1880\n",
       "4     Minnie   F    1746  1880"
      ]
     },
     "execution_count": 3,
     "metadata": {},
     "output_type": "execute_result"
    }
   ],
   "source": [
    "female_names  = names[names.sex == 'F']\n",
    "female_names.head()"
   ]
  },
  {
   "cell_type": "code",
   "execution_count": 4,
   "metadata": {},
   "outputs": [
    {
     "data": {
      "text/plain": [
       "(1891894, 4)"
      ]
     },
     "execution_count": 4,
     "metadata": {},
     "output_type": "execute_result"
    }
   ],
   "source": [
    "names.shape"
   ]
  },
  {
   "cell_type": "code",
   "execution_count": 5,
   "metadata": {},
   "outputs": [
    {
     "data": {
      "text/plain": [
       "15849766"
      ]
     },
     "execution_count": 5,
     "metadata": {},
     "output_type": "execute_result"
    }
   ],
   "source": [
    "len(pd.DataFrame(male_names['name']).merge(pd.DataFrame(female_names['name'])).name)"
   ]
  },
  {
   "cell_type": "code",
   "execution_count": 6,
   "metadata": {
    "scrolled": true
   },
   "outputs": [
    {
     "data": {
      "text/plain": [
       "0              John\n",
       "1              John\n",
       "2              John\n",
       "3              John\n",
       "4              John\n",
       "5              John\n",
       "6              John\n",
       "7              John\n",
       "8              John\n",
       "9              John\n",
       "10             John\n",
       "11             John\n",
       "12             John\n",
       "13             John\n",
       "14             John\n",
       "15             John\n",
       "16             John\n",
       "17             John\n",
       "18             John\n",
       "19             John\n",
       "20             John\n",
       "21             John\n",
       "22             John\n",
       "23             John\n",
       "24             John\n",
       "25             John\n",
       "26             John\n",
       "27             John\n",
       "28             John\n",
       "29             John\n",
       "             ...   \n",
       "15849736    Yabsera\n",
       "15849737    Yabsera\n",
       "15849738     Yaqeen\n",
       "15849739     Yunuen\n",
       "15849740     Yunuen\n",
       "15849741     Yunuen\n",
       "15849742     Yunuen\n",
       "15849743     Yunuen\n",
       "15849744     Yunuen\n",
       "15849745     Yunuen\n",
       "15849746     Yunuen\n",
       "15849747     Yunuen\n",
       "15849748     Yunuen\n",
       "15849749     Yunuen\n",
       "15849750     Yunuen\n",
       "15849751     Yunuen\n",
       "15849752     Yunuen\n",
       "15849753     Yunuen\n",
       "15849754     Yunuen\n",
       "15849755     Yunuen\n",
       "15849756     Yunuen\n",
       "15849757     Yunuen\n",
       "15849758     Yunuen\n",
       "15849759     Yunuen\n",
       "15849760     Yunuen\n",
       "15849761     Yunuen\n",
       "15849762     Yunuen\n",
       "15849763     Yunuen\n",
       "15849764     Yunuen\n",
       "15849765     Yunuen\n",
       "Name: name, dtype: object"
      ]
     },
     "execution_count": 6,
     "metadata": {},
     "output_type": "execute_result"
    }
   ],
   "source": [
    "pd.DataFrame(male_names['name']).merge(pd.DataFrame(female_names['name'])).name"
   ]
  },
  {
   "cell_type": "code",
   "execution_count": 7,
   "metadata": {},
   "outputs": [
    {
     "data": {
      "text/plain": [
       "array(['John', 'William', 'James', ..., 'Yabsera', 'Yaqeen', 'Yunuen'], dtype=object)"
      ]
     },
     "execution_count": 7,
     "metadata": {},
     "output_type": "execute_result"
    }
   ],
   "source": [
    "pd.unique(pd.DataFrame(male_names['name']).merge(pd.DataFrame(female_names['name'])).name)"
   ]
  },
  {
   "cell_type": "code",
   "execution_count": 8,
   "metadata": {},
   "outputs": [
    {
     "data": {
      "text/plain": [
       "array(['John', 'William', 'James', ..., 'Yabsera', 'Yaqeen', 'Yunuen'], dtype=object)"
      ]
     },
     "execution_count": 8,
     "metadata": {},
     "output_type": "execute_result"
    }
   ],
   "source": [
    "common_names = pd.unique(pd.DataFrame(male_names['name']).merge(pd.DataFrame(female_names['name'])).name)\n",
    "common_names"
   ]
  },
  {
   "cell_type": "code",
   "execution_count": 17,
   "metadata": {},
   "outputs": [
    {
     "data": {
      "text/plain": [
       "10521"
      ]
     },
     "execution_count": 17,
     "metadata": {},
     "output_type": "execute_result"
    }
   ],
   "source": [
    "len(common_names) #колво общих уникальных имен"
   ]
  },
  {
   "cell_type": "code",
   "execution_count": 10,
   "metadata": {},
   "outputs": [],
   "source": [
    "# кол-во за каждый год отдельно\n",
    "#names_counts = names[names.isin(common_names)].groupby(['name', '']).size().reset_index(name='counts')\n",
    "names_counts = names[names['name'].isin(common_names)].drop('year',axis=1).groupby(['name']).sum().sort_values('births',ascending=False)"
   ]
  },
  {
   "cell_type": "code",
   "execution_count": 16,
   "metadata": {},
   "outputs": [
    {
     "data": {
      "image/png": "[encoded data removed]",
      "text/plain": [
       "<matplotlib.figure.Figure at 0xe12fc18>"
      ]
     },
     "metadata": {},
     "output_type": "display_data"
    }
   ],
   "source": [
    "james = names[(names.name == 'James') ]\n",
    "years = []\n",
    "births = []\n",
    "for year, subset in james.groupby('year'):\n",
    "    years.append(year)\n",
    "    births.append(subset.births.sum())\n",
    "\n",
    "    \n",
    "plt.plot(years, births)\n",
    "\n",
    "james = names[ (names.name == 'John') ]\n",
    "years = []\n",
    "births = []\n",
    "for year, subset in james.groupby('year'):\n",
    "    years.append(year)\n",
    "    births.append(subset.births.sum())\n",
    "\n",
    "    \n",
    "plt.plot(years, births)\n",
    "\n",
    "\n",
    "james = names[ (names.name == 'Robert')]\n",
    "years = []\n",
    "births = []\n",
    "for year, subset in james.groupby('year'):\n",
    "    years.append(year)\n",
    "    births.append(subset.births.sum())\n",
    "\n",
    "    \n",
    "plt.plot(years, births)\n",
    "plt.xlabel('Года')\n",
    "plt.ylabel('Кол-во рождений')\n",
    "plt.legend(['James', 'John', 'Robert'])\n",
    "plt.show()"
   ]
  },
  {
   "cell_type": "code",
   "execution_count": null,
   "metadata": {
    "collapsed": true
   },
   "outputs": [],
   "source": []
  }
 ],
 "metadata": {
  "kernelspec": {
   "display_name": "Python 3",
   "language": "python",
   "name": "python3"
  },
  "language_info": {
   "codemirror_mode": {
    "name": "ipython",
    "version": 3
   },
   "file_extension": ".py",
   "mimetype": "text/x-python",
   "name": "python",
   "nbconvert_exporter": "python",
   "pygments_lexer": "ipython3",
   "version": "3.6.3"
  }
 },
 "nbformat": 4,
 "nbformat_minor": 2
}
